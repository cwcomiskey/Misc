{
 "cells": [
  {
   "cell_type": "code",
   "execution_count": null,
   "metadata": {
    "hide_input": true
   },
   "outputs": [],
   "source": [
    "import numpy as np\n",
    "import pandas as pd\n",
    "from pandas import DataFrame, Series\n",
    "\n",
    "import multiprocessing\n",
    "\n",
    "import matplotlib.pyplot as plt\n",
    "import bokeh\n",
    "import bokeh.io\n",
    "from bokeh.plotting import figure\n",
    "from bokeh.io import output_notebook, show\n",
    "\n",
    "# init_notebook_mode()\n",
    "\n",
    "import seaborn as sns\n",
    "\n",
    "import re\n",
    "import math\n",
    "import copy\n",
    "\n",
    "from collections import defaultdict\n",
    "import csv\n",
    "import itertools\n",
    "import datetime \n",
    "from datetime import datetime\n",
    "import time\n",
    "import dateutil.parser\n",
    "import pickle\n",
    "import random\n",
    "\n",
    "import gc\n",
    "import zipfile\n",
    "import sys, getopt\n",
    "import os\n",
    "\n",
    "from IPython.core.interactiveshell import InteractiveShell\n",
    "from io import StringIO\n",
    "\n",
    "import dask.dataframe as dd\n",
    "#from chest import Chest\n",
    "\n",
    "InteractiveShell.ast_node_interactivity = \"all\"\n",
    "#InteractiveShell.ast_node_interactivity = \"last\"\n",
    "\n",
    "# Magic function to make matplotlib inline\n",
    "%matplotlib inline\n",
    "%config InlineBackend.figure_formats = {'png', 'retina'}\n",
    "\n",
    "# Set up Bokeh for inline viewing\n",
    "bokeh.io.output_notebook()\n",
    "\n",
    "import dask.dataframe as ddf\n",
    "import dask.array as da\n",
    "\n",
    "pd.set_option('max_columns', 500)\n",
    "pd.set_option('max_rows', 800)\n",
    "\n",
    "import scipy\n",
    "\n",
    "import statsmodels.api as sm\n",
    "from statsmodels.tsa.seasonal import seasonal_decompose\n",
    "from statsmodels.tsa.tsatools import detrend\n",
    "\n",
    "import datetime as dt\n",
    "\n",
    "from IPython.core.display import display, HTML\n",
    "display(HTML(\"<style>.container { width:100% !important; }</style>\"))"
   ]
  },
  {
   "cell_type": "markdown",
   "metadata": {
    "heading_collapsed": true
   },
   "source": [
    "# Introduction"
   ]
  },
  {
   "cell_type": "code",
   "execution_count": null,
   "metadata": {
    "code_folding": [
     0
    ],
    "hidden": true,
    "hide_input": false
   },
   "outputs": [],
   "source": [
    "# Modules\n",
    "\n",
    "import numpy as np\n",
    "import pandas as pd\n",
    "from pandas import DataFrame, Series\n",
    "\n",
    "import multiprocessing\n",
    "\n",
    "import matplotlib.pyplot as plt\n",
    "import bokeh\n",
    "import bokeh.io\n",
    "from bokeh.plotting import figure\n",
    "from bokeh.io import output_notebook, show\n",
    "\n",
    "# init_notebook_mode()\n",
    "\n",
    "import seaborn as sns\n",
    "\n",
    "import re\n",
    "import math\n",
    "import copy\n",
    "\n",
    "from collections import defaultdict\n",
    "import csv\n",
    "import itertools\n",
    "import datetime \n",
    "from datetime import datetime\n",
    "import time\n",
    "import dateutil.parser\n",
    "import pickle\n",
    "import random\n",
    "\n",
    "import gc\n",
    "import zipfile\n",
    "import sys, getopt\n",
    "import os\n",
    "\n",
    "from IPython.core.interactiveshell import InteractiveShell\n",
    "from io import StringIO\n",
    "\n",
    "import dask.dataframe as dd\n",
    "#from chest import Chest\n",
    "\n",
    "InteractiveShell.ast_node_interactivity = \"all\"\n",
    "#InteractiveShell.ast_node_interactivity = \"last\"\n",
    "\n",
    "# Magic function to make matplotlib inline\n",
    "%matplotlib inline\n",
    "%config InlineBackend.figure_formats = {'png', 'retina'}\n",
    "\n",
    "# Set up Bokeh for inline viewing\n",
    "bokeh.io.output_notebook()\n",
    "\n",
    "import dask.dataframe as ddf\n",
    "import dask.array as da\n",
    "\n",
    "pd.set_option('max_columns', 500)\n",
    "pd.set_option('max_rows', 800)\n",
    "\n",
    "import scipy\n",
    "\n",
    "import statsmodels.api as sm\n",
    "from statsmodels.tsa.seasonal import seasonal_decompose\n",
    "from statsmodels.tsa.tsatools import detrend\n",
    "\n",
    "import datetime as dt\n",
    "\n",
    "from IPython.core.display import display, HTML\n",
    "display(HTML(\"<style>.container { width:100% !important; }</style>\"))"
   ]
  },
  {
   "cell_type": "markdown",
   "metadata": {
    "hidden": true
   },
   "source": [
    "The KPN Group sells its products through different channels. \n",
    "* online \n",
    "* telephone \n",
    "* retail stores\n",
    "* third-party stores. "
   ]
  },
  {
   "cell_type": "markdown",
   "metadata": {
    "hidden": true
   },
   "source": [
    "The KPN formula in the streets:\n",
    "* KPN shop -- only **KPN**\n",
    "* Telfort shop (KPN subsidiary) -- only **Telfort**\n",
    "* Multibrand store -- combines the brands **KPN, Telfort and XS4ALL**,\n",
    "* KPN XL store -- combines the consumer and small business segments."
   ]
  },
  {
   "cell_type": "markdown",
   "metadata": {
    "heading_collapsed": true,
    "hidden": true
   },
   "source": [
    "## Research questions"
   ]
  },
  {
   "cell_type": "markdown",
   "metadata": {
    "hidden": true
   },
   "source": [
    "1. Which **characteristics** are most important for predicting the (contracted) revenue per store formula (Telfort, KPN, KPN XL)?\n",
    "\n",
    "Stuff I've already done\n",
    "\n",
    "2. Which **Telfort** stores should be transformed into **KPN** stores, and what is the expected (contracted) revenue after this transformation?\n",
    "\n",
    "(i) Highest sellers, or \n",
    "\n",
    "(ii) highest sellers using KPN regression model predictions\n",
    "\n",
    "3. Our budget enables the transformation of 5 **KPN** stores into **KPN XL** stores. Which KPN stores should we transform to optimize the revenue?\n",
    "\n",
    "Same as (2)\n",
    "\n",
    "4. Possibly continue with remaining questions to complete this advice."
   ]
  },
  {
   "cell_type": "markdown",
   "metadata": {
    "heading_collapsed": true,
    "hidden": true
   },
   "source": [
    "## Evaluation"
   ]
  },
  {
   "cell_type": "markdown",
   "metadata": {
    "hidden": true
   },
   "source": [
    "* We find it more important that you are able to communicate and defend your advice well, than that you build the most advanced model. \n",
    "* think about the complexity of the solution you choose in order to explain your decisions to an audience without explicit data science background. \n",
    "* We do value a solid reasoning behind the chosen data transformations, etc."
   ]
  },
  {
   "cell_type": "markdown",
   "metadata": {
    "hidden": true
   },
   "source": [
    "Please send the two files before noon the day prior to the walkthrough and presentation sessions to Tom"
   ]
  },
  {
   "cell_type": "markdown",
   "metadata": {
    "heading_collapsed": true
   },
   "source": [
    "# Case data"
   ]
  },
  {
   "cell_type": "code",
   "execution_count": null,
   "metadata": {
    "hidden": true
   },
   "outputs": [],
   "source": [
    "case = pd.read_csv('dataset_shops.csv',\n",
    "                   usecols = ['date', 'shop_id', 'committed_revenues_main_inc_vat', 'place', \n",
    "                              'shop_formula', 'dist_shop_closest_km', 'no_retail_shops', \n",
    "                              'no_companies', 'perc_owned_vs_rented_houses', \n",
    "                              'avg_value_household', 'avg_household_size', 'no_residents'])\n",
    "\n",
    "# Other columns: tons of NA, not particularly relevant to question of interest (at first pass anyway)\n",
    "\n",
    "case.date = pd.to_datetime(case.date)\n"
   ]
  },
  {
   "cell_type": "code",
   "execution_count": null,
   "metadata": {
    "hidden": true
   },
   "outputs": [],
   "source": [
    "for c in case.columns:\n",
    "    if type(case[c][0]) != np.float64:\n",
    "        print(c, len(case[c].unique()))"
   ]
  },
  {
   "cell_type": "code",
   "execution_count": null,
   "metadata": {
    "code_folding": [
     0
    ],
    "hidden": true
   },
   "outputs": [],
   "source": [
    "# NA EDA\n",
    "\n",
    "for c in [case.columns]:\n",
    "    print(case[c].isna().sum())\n",
    "\n",
    "c_subset = case[pd.isnull(case).any(axis=1)].copy()\n",
    "\n",
    "for c in ['shop_id', 'place', 'shop_formula']:\n",
    "    print(c, c_subset[c].unique())"
   ]
  },
  {
   "cell_type": "markdown",
   "metadata": {
    "heading_collapsed": true
   },
   "source": [
    "# Dummies for shop_formula"
   ]
  },
  {
   "cell_type": "code",
   "execution_count": 229,
   "metadata": {
    "hidden": true
   },
   "outputs": [
    {
     "data": {
      "text/html": [
       "<div>\n",
       "<style scoped>\n",
       "    .dataframe tbody tr th:only-of-type {\n",
       "        vertical-align: middle;\n",
       "    }\n",
       "\n",
       "    .dataframe tbody tr th {\n",
       "        vertical-align: top;\n",
       "    }\n",
       "\n",
       "    .dataframe thead th {\n",
       "        text-align: right;\n",
       "    }\n",
       "</style>\n",
       "<table border=\"1\" class=\"dataframe\">\n",
       "  <thead>\n",
       "    <tr style=\"text-align: right;\">\n",
       "      <th></th>\n",
       "      <th>committed_revenues_main_inc_vat</th>\n",
       "      <th>dist_shop_closest_km</th>\n",
       "      <th>no_residents</th>\n",
       "      <th>shop_formula_KPN XL winkel</th>\n",
       "      <th>shop_formula_KPN winkel</th>\n",
       "      <th>shop_formula_Telfort</th>\n",
       "    </tr>\n",
       "  </thead>\n",
       "  <tbody>\n",
       "    <tr>\n",
       "      <th>0</th>\n",
       "      <td>3852.0</td>\n",
       "      <td>0.200938</td>\n",
       "      <td>226868.0</td>\n",
       "      <td>0</td>\n",
       "      <td>0</td>\n",
       "      <td>1</td>\n",
       "    </tr>\n",
       "    <tr>\n",
       "      <th>1</th>\n",
       "      <td>6768.0</td>\n",
       "      <td>0.200938</td>\n",
       "      <td>226868.0</td>\n",
       "      <td>0</td>\n",
       "      <td>0</td>\n",
       "      <td>1</td>\n",
       "    </tr>\n",
       "    <tr>\n",
       "      <th>2</th>\n",
       "      <td>2664.0</td>\n",
       "      <td>0.200938</td>\n",
       "      <td>226868.0</td>\n",
       "      <td>0</td>\n",
       "      <td>0</td>\n",
       "      <td>1</td>\n",
       "    </tr>\n",
       "    <tr>\n",
       "      <th>3</th>\n",
       "      <td>3672.0</td>\n",
       "      <td>0.200938</td>\n",
       "      <td>226868.0</td>\n",
       "      <td>0</td>\n",
       "      <td>0</td>\n",
       "      <td>1</td>\n",
       "    </tr>\n",
       "    <tr>\n",
       "      <th>4</th>\n",
       "      <td>5328.0</td>\n",
       "      <td>0.200938</td>\n",
       "      <td>226868.0</td>\n",
       "      <td>0</td>\n",
       "      <td>0</td>\n",
       "      <td>1</td>\n",
       "    </tr>\n",
       "  </tbody>\n",
       "</table>\n",
       "</div>"
      ],
      "text/plain": [
       "   committed_revenues_main_inc_vat  dist_shop_closest_km  no_residents  \\\n",
       "0                           3852.0              0.200938      226868.0   \n",
       "1                           6768.0              0.200938      226868.0   \n",
       "2                           2664.0              0.200938      226868.0   \n",
       "3                           3672.0              0.200938      226868.0   \n",
       "4                           5328.0              0.200938      226868.0   \n",
       "\n",
       "   shop_formula_KPN XL winkel  shop_formula_KPN winkel  shop_formula_Telfort  \n",
       "0                           0                        0                     1  \n",
       "1                           0                        0                     1  \n",
       "2                           0                        0                     1  \n",
       "3                           0                        0                     1  \n",
       "4                           0                        0                     1  "
      ]
     },
     "execution_count": 229,
     "metadata": {},
     "output_type": "execute_result"
    }
   ],
   "source": [
    "dummies = pd.get_dummies(case[['shop_formula', 'committed_revenues_main_inc_vat', 'dist_shop_closest_km', 'no_residents']])\n",
    "\n",
    "dummies.head()"
   ]
  },
  {
   "cell_type": "code",
   "execution_count": 230,
   "metadata": {
    "hidden": true
   },
   "outputs": [
    {
     "data": {
      "text/plain": [
       "(63256, 6)"
      ]
     },
     "execution_count": 230,
     "metadata": {},
     "output_type": "execute_result"
    }
   ],
   "source": [
    "dummies.shape"
   ]
  },
  {
   "cell_type": "code",
   "execution_count": 232,
   "metadata": {
    "hidden": true
   },
   "outputs": [
    {
     "name": "stdout",
     "output_type": "stream",
     "text": [
      "\n",
      "shop_formula_KPN XL winkel\n",
      "   no_residents\n",
      "   dist_shop_closest_km\n",
      "\n",
      "shop_formula_KPN winkel\n",
      "   no_residents\n",
      "   dist_shop_closest_km\n",
      "\n",
      "shop_formula_Telfort\n",
      "   no_residents\n",
      "   dist_shop_closest_km\n"
     ]
    }
   ],
   "source": [
    "#dummies[['committed_revenues_main_inc_vat', 'no_residents']][:5]\n",
    "\n",
    "for f in ['shop_formula_KPN XL winkel', 'shop_formula_KPN winkel', 'shop_formula_Telfort']:\n",
    "    print()\n",
    "    print(f)\n",
    "    for c in ['no_residents', 'dist_shop_closest_km']:\n",
    "        print('  ', c)\n",
    "        dummies[str(f + c)] = dummies[c]*dummies[f]\n"
   ]
  },
  {
   "cell_type": "code",
   "execution_count": 234,
   "metadata": {
    "hidden": true
   },
   "outputs": [
    {
     "data": {
      "text/plain": [
       "(63256, 12)"
      ]
     },
     "execution_count": 234,
     "metadata": {},
     "output_type": "execute_result"
    },
    {
     "data": {
      "text/plain": [
       "Index(['committed_revenues_main_inc_vat', 'dist_shop_closest_km',\n",
       "       'no_residents', 'shop_formula_KPN XL winkel', 'shop_formula_KPN winkel',\n",
       "       'shop_formula_Telfort', 'shop_formula_KPN XL winkelno_residents',\n",
       "       'shop_formula_KPN XL winkeldist_shop_closest_km',\n",
       "       'shop_formula_KPN winkelno_residents',\n",
       "       'shop_formula_KPN winkeldist_shop_closest_km',\n",
       "       'shop_formula_Telfortno_residents',\n",
       "       'shop_formula_Telfortdist_shop_closest_km'],\n",
       "      dtype='object')"
      ]
     },
     "execution_count": 234,
     "metadata": {},
     "output_type": "execute_result"
    }
   ],
   "source": [
    "dummies.shape\n",
    "dummies.columns\n",
    "\n",
    "Index(['committed_revenues_main_inc_vat', \n",
    "       \n",
    "       'dist_shop_closest_km',\n",
    "       'no_residents', \n",
    "       \n",
    "       'shop_formula_KPN XL winkel', \n",
    "       'shop_formula_KPN winkel',\n",
    "       'shop_formula_Telfort', \n",
    "       \n",
    "       'shop_formula_KPN XL winkelno_residents',\n",
    "       'shop_formula_KPN XL winkeldist_shop_closest_km',\n",
    "       \n",
    "       'shop_formula_KPN winkelno_residents',\n",
    "       'shop_formula_KPN winkeldist_shop_closest_km',\n",
    "       \n",
    "       'shop_formula_Telfortno_residents',\n",
    "       'shop_formula_Telfortdist_shop_closest_km'],"
   ]
  },
  {
   "cell_type": "markdown",
   "metadata": {
    "heading_collapsed": true
   },
   "source": [
    "# KPN"
   ]
  },
  {
   "cell_type": "code",
   "execution_count": 180,
   "metadata": {
    "hidden": true
   },
   "outputs": [],
   "source": [
    "kpn = case[case.shop_formula == 'KPN winkel']"
   ]
  },
  {
   "cell_type": "code",
   "execution_count": null,
   "metadata": {
    "code_folding": [
     0
    ],
    "hidden": true
   },
   "outputs": [],
   "source": [
    "# Shops per place --> only 7 place with > 1 shops\n",
    "\n",
    "(kpn[['place', 'shop_id']].\n",
    " drop_duplicates().\n",
    " groupby('place')['shop_id'].\n",
    " count().\n",
    " sort_values(ascending = False)\n",
    ")\n",
    "\n"
   ]
  },
  {
   "cell_type": "code",
   "execution_count": 191,
   "metadata": {
    "code_folding": [],
    "hidden": true
   },
   "outputs": [],
   "source": [
    "# Aggregate to monthly, plot a few for EDA\n",
    "kpn_monthly = (kpn[['date', 'shop_id', 'committed_revenues_main_inc_vat', 'place']].\n",
    "              set_index('date').\n",
    "              groupby(['place', 'shop_id']).\n",
    "              resample('W').sum().reset_index().copy())\n",
    "\n",
    "# plt.rcParams[\"figure.figsize\"] = [20, 5]\n",
    "# places = np.random.choice(kpn.shop_id.unique(), size = 5, replace = False)\n",
    "\n",
    "# kpn_monthly_mini = kpn_monthly[kpn_monthly.shop_id.isin([places])]\n",
    "# kpn_monthly_mini = kpn_monthly[kpn_monthly.place == 'amsterdam']\n",
    "\n",
    "# kpn_plot = kpn_monthly_mini.pivot(index = 'date', columns = 'shop_id', values='committed_revenues_main_inc_vat')\n",
    "# kpn_plot.plot()"
   ]
  },
  {
   "cell_type": "markdown",
   "metadata": {
    "hidden": true
   },
   "source": [
    "* No time-varying covariates, so weekly observation completely unnecessary/incorrect (wildly violates linear regression assumptions) \n",
    "* Don’t want to penalize stores for shorter timelines or missing weeks, so weekly avg."
   ]
  },
  {
   "cell_type": "code",
   "execution_count": 192,
   "metadata": {
    "hidden": true
   },
   "outputs": [],
   "source": [
    "kpn2 = pd.merge(\n",
    "    pd.DataFrame(kpn.groupby(['shop_id'])['committed_revenues_main_inc_vat'].mean().round().reset_index()),\n",
    "    kpn[['shop_id', 'place', 'dist_shop_closest_km', 'no_retail_shops',\n",
    "       'no_companies', 'perc_owned_vs_rented_houses', 'avg_value_household',\n",
    "       'avg_household_size', 'no_residents']].drop_duplicates()\n",
    ").dropna()\n",
    "\n",
    "# kpn2[pd.isnull(kpn2).any(axis=1)]"
   ]
  },
  {
   "cell_type": "code",
   "execution_count": 193,
   "metadata": {
    "code_folding": [],
    "hidden": true
   },
   "outputs": [
    {
     "data": {
      "text/plain": [
       "<matplotlib.collections.PathCollection at 0x1c38937160>"
      ]
     },
     "execution_count": 193,
     "metadata": {},
     "output_type": "execute_result"
    },
    {
     "data": {
      "image/png": "[encoded data removed]",
      "text/plain": [
       "<Figure size 1080x360 with 1 Axes>"
      ]
     },
     "metadata": {
      "image/png": {
       "height": 304,
       "width": 892
      },
      "needs_background": "light"
     },
     "output_type": "display_data"
    }
   ],
   "source": [
    "# Make indicator w/ interaction, or quadratic\n",
    "\n",
    "plt.scatter(x = kpn2.no_residents, y = kpn2.committed_revenues_main_inc_vat)\n",
    "\n",
    "# (1) NOTHING: perc_owned_vs_rented_houses, avg_household_size, avg_value_household\n",
    "# (2) PATTERN: no_residents, no_retail_shops, no_companies\n",
    "# (3) UNCLEAR: 'dist_shop_closest_km',\n",
    "\n",
    "# Make indicator w/ interaction, or quadratic"
   ]
  },
  {
   "cell_type": "markdown",
   "metadata": {
    "hidden": true
   },
   "source": [
    "## Indicators"
   ]
  },
  {
   "cell_type": "code",
   "execution_count": null,
   "metadata": {
    "hidden": true
   },
   "outputs": [],
   "source": [
    "import statsmodels.api as sm\n",
    "from sklearn.metrics import r2_score"
   ]
  },
  {
   "cell_type": "code",
   "execution_count": 158,
   "metadata": {
    "code_folding": [],
    "hidden": true
   },
   "outputs": [
    {
     "data": {
      "text/plain": [
       "0.26"
      ]
     },
     "execution_count": 158,
     "metadata": {},
     "output_type": "execute_result"
    },
    {
     "data": {
      "text/plain": [
       "[<matplotlib.lines.Line2D at 0x1c38e1ab00>]"
      ]
     },
     "execution_count": 158,
     "metadata": {},
     "output_type": "execute_result"
    },
    {
     "data": {
      "text/plain": [
       "[<matplotlib.lines.Line2D at 0x1c390b1438>]"
      ]
     },
     "execution_count": 158,
     "metadata": {},
     "output_type": "execute_result"
    },
    {
     "data": {
      "text/plain": [
       "<matplotlib.collections.PathCollection at 0x1c38e0ff28>"
      ]
     },
     "execution_count": 158,
     "metadata": {},
     "output_type": "execute_result"
    },
    {
     "data": {
      "image/png": "[encoded data removed]",
      "text/plain": [
       "<Figure size 1080x360 with 1 Axes>"
      ]
     },
     "metadata": {
      "image/png": {
       "height": 304,
       "width": 892
      },
      "needs_background": "light"
     },
     "output_type": "display_data"
    }
   ],
   "source": [
    "# --- Just no_residents ---\n",
    "\n",
    "# Quadratic\n",
    "# kpn2.loc[:,'no_residents2'] = kpn2.no_residents**2\n",
    "# X = kpn2[['no_residents', 'no_residents2']] \n",
    "# X = sm.add_constant(X)\n",
    "\n",
    "\n",
    "# Indicators\n",
    "kpn2.loc[:,'no_residents_lt'] = np.where(kpn2.no_residents < 400000, kpn2.no_residents, 0)\n",
    "kpn2.loc[:,'no_residents_gt'] = np.where(kpn2.no_residents > 400000, kpn2.no_residents, 0)\n",
    "kpn2.loc[:, 'c_lt'] = (kpn2['no_residents_lt'] != 0)*1\n",
    "kpn2.loc[:, 'c_gt'] = (kpn2['no_residents_gt'] != 0)*1\n",
    "X = kpn2[['c_lt', 'no_residents_lt', 'c_gt', 'no_residents_gt']]\n",
    "\n",
    "\n",
    "y = kpn2['committed_revenues_main_inc_vat']\n",
    "\n",
    "\n",
    "\n",
    "\n",
    "# Regression\n",
    "mod = sm.OLS(y, X, missing='drop').fit()\n",
    "mod.rsquared.round(2)\n",
    "\n",
    "\n",
    "# ------------------------------\n",
    "\n",
    "plt.rcParams[\"figure.figsize\"] = [15, 5]\n",
    "\n",
    "# Quadratic Regression plot\n",
    "# x1 = np.arange(1, 900000, 50000)\n",
    "# x = pd.DataFrame(data = {'int': 1, 'no_res': x1, 'no_res2': x1**2})\n",
    "# plt.plot(x1, mod.predict(x))\n",
    "\n",
    "\n",
    "# Indicator Regression Plot\n",
    "x_lt = np.arange(1, 400000, 50000)\n",
    "plt.plot(x_lt, mod.predict(pd.DataFrame(data = {'c_lt': 1, 'no_res_lt': x_lt, 'c_gt': 0, 'no_res_gt': 0})))\n",
    "x_gt = np.arange(400000, 900000, 50000)\n",
    "plt.plot(x_gt, mod.predict(pd.DataFrame(data = {'c_lt': 0, 'no_res_lt': 0,    'c_gt': 1, 'no_res_gt': x_gt})))\n",
    "\n",
    "\n",
    "# Empirical Plot\n",
    "plt.scatter(kpn2.no_residents, kpn2.committed_revenues_main_inc_vat)\n",
    "\n",
    "\n",
    "\n",
    "# Indicator R^2: 0.26\n",
    "# Quadratic R^2: 0.18"
   ]
  },
  {
   "cell_type": "code",
   "execution_count": 144,
   "metadata": {
    "code_folding": [],
    "hidden": true
   },
   "outputs": [
    {
     "data": {
      "text/plain": [
       "[<matplotlib.lines.Line2D at 0x1c2c681f98>]"
      ]
     },
     "execution_count": 144,
     "metadata": {},
     "output_type": "execute_result"
    },
    {
     "data": {
      "text/plain": [
       "[<matplotlib.lines.Line2D at 0x1c2c632940>]"
      ]
     },
     "execution_count": 144,
     "metadata": {},
     "output_type": "execute_result"
    },
    {
     "data": {
      "text/plain": [
       "<matplotlib.collections.PathCollection at 0x1c2c68a748>"
      ]
     },
     "execution_count": 144,
     "metadata": {},
     "output_type": "execute_result"
    },
    {
     "data": {
      "image/png": "[encoded data removed]",
      "text/plain": [
       "<Figure size 1080x360 with 1 Axes>"
      ]
     },
     "metadata": {
      "image/png": {
       "height": 304,
       "width": 892
      },
      "needs_background": "light"
     },
     "output_type": "display_data"
    }
   ],
   "source": [
    "# --- Just no_retail_shops ---\n",
    "# kpn2.loc[:,'no_retail_shops2'] = kpn2.no_retail_shops**2\n",
    "\n",
    "kpn2.loc[:,'no_retail_shops_lt'] = np.where(kpn2.no_retail_shops < 7500, kpn2.no_retail_shops, 0)\n",
    "kpn2.loc[:,'no_retail_shops_gt'] = np.where(kpn2.no_retail_shops > 7500, kpn2.no_retail_shops, 0)\n",
    "\n",
    "y = kpn2['committed_revenues_main_inc_vat']\n",
    "X = kpn2[['no_retail_shops_lt', 'no_retail_shops_gt']] \n",
    "X = sm.add_constant(X)\n",
    "\n",
    "mod = sm.OLS(y, X, missing='drop').fit()\n",
    "mod.rsquared.round(2)\n",
    "mod.summary()\n",
    "\n",
    "x1 = np.arange(1, 22000, 1000)\n",
    "\n",
    "# x = pd.DataFrame(data = {'int': 1, 'no_res': x1, 'no_res2': x1**2})\n",
    "\n",
    "x = pd.DataFrame(data = {'int': 1, 'no_ret_shops_lt': (x1 < 7500)*x1, 'no_ret_shops_gt': (x1 > 7500)*x1})\n",
    "\n",
    "# Indicator Regression Plot\n",
    "x_lt = np.arange(1, 7500, 500)\n",
    "plt.plot(x_lt, mod.predict(pd.DataFrame(data = {'int': 1, 'no_ret_shops_lt': x_lt, 'no_ret_shops_gt': 0})))\n",
    "\n",
    "x_gt = np.arange(7500, 22000, 500)\n",
    "plt.plot(x_gt, mod.predict(pd.DataFrame(data = {'int': 1, 'no_ret_shops_lt': 0, 'no_ret_shops_gt': x_gt})))\n",
    "\n",
    "# Quadratic\n",
    "# plt.plot(x1, mod.predict(x))\n",
    "\n",
    "# Empirical\n",
    "plt.rcParams[\"figure.figsize\"] = [15, 5]\n",
    "plt.scatter(kpn2.no_retail_shops, kpn2.committed_revenues_main_inc_vat)\n",
    "\n",
    "# Conclusion: weak"
   ]
  },
  {
   "cell_type": "code",
   "execution_count": null,
   "metadata": {
    "code_folding": [],
    "hidden": true
   },
   "outputs": [],
   "source": [
    "# --- Just no_companies ---\n",
    "kpn2.loc[:,'no_companies2'] = kpn2.no_companies**2\n",
    "\n",
    "y = kpn2['committed_revenues_main_inc_vat']\n",
    "X = kpn2[['no_companies', 'no_companies2']] \n",
    "X = sm.add_constant(X)\n",
    "\n",
    "mod = sm.OLS(y, X, missing='drop').fit()\n",
    "mod.rsquared.round(2)\n",
    "mod.summary()\n",
    "\n",
    "x1 = np.arange(1, kpn2.no_companies.max(), 1000)\n",
    "x = pd.DataFrame(data = {'int': 1, 'no_res': x1, 'no_res2': x1**2})\n",
    "\n",
    "plt.rcParams[\"figure.figsize\"] = [15, 5]\n",
    "plt.plot(x1, mod.predict(x))\n",
    "plt.scatter(kpn2.no_companies, kpn2.committed_revenues_main_inc_vat)\n",
    "\n",
    "# Weak"
   ]
  },
  {
   "cell_type": "markdown",
   "metadata": {
    "heading_collapsed": true,
    "hidden": true
   },
   "source": [
    "## All covariates"
   ]
  },
  {
   "cell_type": "code",
   "execution_count": null,
   "metadata": {
    "hidden": true
   },
   "outputs": [],
   "source": [
    "y = kpn2['committed_revenues_main_inc_vat']\n",
    "X = kpn2.drop(['place', 'shop_id', 'committed_revenues_main_inc_vat'], axis = 1)\n",
    "X = sm.add_constant(X)\n",
    "\n",
    "mod = sm.OLS(y, X, missing='drop').fit()\n",
    "mod.rsquared.round(2)\n",
    "mod.summary()\n",
    "\n",
    "# no_residents most significant predictor"
   ]
  },
  {
   "cell_type": "code",
   "execution_count": null,
   "metadata": {
    "hidden": true
   },
   "outputs": [],
   "source": [
    "\n",
    "\n",
    "y = kpn2['committed_revenues_main_inc_vat']\n",
    "X = kpn2.drop(['place', 'shop_id', 'committed_revenues_main_inc_vat', 'perc_owned_vs_rented_houses'], axis = 1)\n",
    "X = sm.add_constant(X)\n",
    "\n",
    "mod = sm.OLS(y, X, missing='drop').fit()\n",
    "mod.rsquared.round(2)\n",
    "mod.summary()"
   ]
  },
  {
   "cell_type": "markdown",
   "metadata": {
    "heading_collapsed": true
   },
   "source": [
    "# Telfort "
   ]
  },
  {
   "cell_type": "code",
   "execution_count": 172,
   "metadata": {
    "hidden": true
   },
   "outputs": [],
   "source": [
    "telfort = case[case.shop_formula == 'Telfort']"
   ]
  },
  {
   "cell_type": "code",
   "execution_count": 178,
   "metadata": {
    "hidden": true
   },
   "outputs": [],
   "source": [
    "telfort2 = pd.merge(\n",
    "    pd.DataFrame(telfort.groupby(['shop_id'])['committed_revenues_main_inc_vat'].mean().round().reset_index()),\n",
    "    telfort[['shop_id', 'place', 'dist_shop_closest_km', 'no_retail_shops',\n",
    "       'no_companies', 'perc_owned_vs_rented_houses', 'avg_value_household',\n",
    "       'avg_household_size', 'no_residents']].drop_duplicates()\n",
    ").dropna()\n"
   ]
  },
  {
   "cell_type": "code",
   "execution_count": 179,
   "metadata": {
    "hidden": true
   },
   "outputs": [
    {
     "data": {
      "text/plain": [
       "<matplotlib.collections.PathCollection at 0x1c37ce5860>"
      ]
     },
     "execution_count": 179,
     "metadata": {},
     "output_type": "execute_result"
    },
    {
     "data": {
      "image/png": "[encoded data removed]",
      "text/plain": [
       "<Figure size 1080x360 with 1 Axes>"
      ]
     },
     "metadata": {
      "image/png": {
       "height": 304,
       "width": 885
      },
      "needs_background": "light"
     },
     "output_type": "display_data"
    }
   ],
   "source": [
    "plt.scatter(x = telfort2.no_residents, y = telfort2.committed_revenues_main_inc_vat)\n"
   ]
  },
  {
   "cell_type": "markdown",
   "metadata": {
    "heading_collapsed": true
   },
   "source": [
    "# Full model, with dummies "
   ]
  },
  {
   "cell_type": "code",
   "execution_count": null,
   "metadata": {
    "hidden": true
   },
   "outputs": [],
   "source": []
  },
  {
   "cell_type": "markdown",
   "metadata": {},
   "source": [
    "# Appendix"
   ]
  },
  {
   "cell_type": "code",
   "execution_count": null,
   "metadata": {
    "code_folding": [
     0
    ]
   },
   "outputs": [],
   "source": [
    "# R squared shenanigans\n",
    "\n",
    "y_true = pd.Series([3, -0.5, 2])\n",
    "y_pred = pd.Series([2.5, 0.0, 2])\n",
    "\n",
    "y_bar = y_true.mean()\n",
    "\n",
    "SSReg = ((y_pred - y_bar)**2).sum()\n",
    "SSRes = ((y_pred - y_true)**2).sum()\n",
    "SSTot = ((y_true - y_bar)**2).sum()\n",
    "\n",
    "SSReg/SSTot\n",
    "\n",
    "# --- WHY ARE THESE DIFFERENT?? ---\n",
    "\n",
    "1 - SSRes/SSTot\n",
    "\n",
    "r2_score(y_true, y_pred)  \n",
    "\n",
    "# -----------------------------------------\n",
    "\n",
    "# SSTot = ((y - y.mean())**2).sum()\n",
    "# SSRes = ((y - mod.predict(X))**2).sum()\n",
    "# SSReg = ((mod.predict(X) - y.mean())**2).sum()\n",
    "\n",
    "# (1 - SSRes/SSTot).round(3)\n",
    "# (SSReg/SSTot).round(3)\n",
    "\n",
    "# r2_score(y, mod.predict(X)).round(2)\n",
    "\n",
    "#mod.summary()"
   ]
  }
 ],
 "metadata": {
  "celltoolbar": "Raw Cell Format",
  "kernelspec": {
   "display_name": "Python 3",
   "language": "python",
   "name": "python3"
  },
  "language_info": {
   "codemirror_mode": {
    "name": "ipython",
    "version": 3
   },
   "file_extension": ".py",
   "mimetype": "text/x-python",
   "name": "python",
   "nbconvert_exporter": "python",
   "pygments_lexer": "ipython3",
   "version": "3.7.1"
  }
 },
 "nbformat": 4,
 "nbformat_minor": 2
}
