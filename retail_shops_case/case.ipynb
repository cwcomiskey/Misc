{
 "cells": [
  {
   "cell_type": "code",
   "execution_count": null,
   "metadata": {
    "hide_input": true,
    "scrolled": true
   },
   "outputs": [],
   "source": [
    "import numpy as np\n",
    "import pandas as pd\n",
    "from pandas import DataFrame, Series\n",
    "\n",
    "import multiprocessing\n",
    "\n",
    "import matplotlib.pyplot as plt\n",
    "import bokeh\n",
    "import bokeh.io\n",
    "from bokeh.plotting import figure\n",
    "from bokeh.io import output_notebook, show\n",
    "\n",
    "# init_notebook_mode()\n",
    "\n",
    "import seaborn as sns\n",
    "\n",
    "import re\n",
    "import math\n",
    "import copy\n",
    "\n",
    "from collections import defaultdict\n",
    "import csv\n",
    "import itertools\n",
    "import datetime \n",
    "from datetime import datetime\n",
    "import time\n",
    "import dateutil.parser\n",
    "import pickle\n",
    "import random\n",
    "\n",
    "import gc\n",
    "import zipfile\n",
    "import sys, getopt\n",
    "import os\n",
    "\n",
    "from IPython.core.interactiveshell import InteractiveShell\n",
    "from io import StringIO\n",
    "\n",
    "import dask.dataframe as dd\n",
    "#from chest import Chest\n",
    "\n",
    "InteractiveShell.ast_node_interactivity = \"all\"\n",
    "#InteractiveShell.ast_node_interactivity = \"last\"\n",
    "\n",
    "# Magic function to make matplotlib inline\n",
    "%matplotlib inline\n",
    "%config InlineBackend.figure_formats = {'png', 'retina'}\n",
    "\n",
    "# Set up Bokeh for inline viewing\n",
    "bokeh.io.output_notebook()\n",
    "\n",
    "import dask.dataframe as ddf\n",
    "import dask.array as da\n",
    "\n",
    "pd.set_option('max_columns', 500)\n",
    "pd.set_option('max_rows', 800)\n",
    "\n",
    "import scipy\n",
    "\n",
    "import statsmodels.api as sm\n",
    "from statsmodels.tsa.seasonal import seasonal_decompose\n",
    "from statsmodels.tsa.tsatools import detrend\n",
    "\n",
    "import datetime as dt\n",
    "\n",
    "from IPython.core.display import display, HTML\n",
    "display(HTML(\"<style>.container { width:100% !important; }</style>\"))"
   ]
  },
  {
   "cell_type": "markdown",
   "metadata": {
    "heading_collapsed": true
   },
   "source": [
    "# Modules"
   ]
  },
  {
   "cell_type": "code",
   "execution_count": null,
   "metadata": {
    "code_folding": [],
    "hidden": true,
    "hide_input": false,
    "scrolled": true
   },
   "outputs": [],
   "source": [
    "# Modules -- \n",
    "import numpy as np\n",
    "import pandas as pd\n",
    "from pandas import DataFrame, Series\n",
    "\n",
    "import matplotlib.pyplot as plt\n",
    "import bokeh\n",
    "import bokeh.io\n",
    "from bokeh.plotting import figure\n",
    "from bokeh.io import output_notebook, show\n",
    "\n",
    "import datetime \n",
    "from datetime import datetime\n",
    "import time\n",
    "import dateutil.parser\n",
    "import random\n",
    "\n",
    "from IPython.core.interactiveshell import InteractiveShell\n",
    "from io import StringIO\n",
    "\n",
    "InteractiveShell.ast_node_interactivity = \"all\"\n",
    "\n",
    "%matplotlib inline\n",
    "%config InlineBackend.figure_formats = {'png', 'retina'}\n",
    "\n",
    "bokeh.io.output_notebook()\n",
    "\n",
    "pd.set_option('max_columns', 500)\n",
    "\n",
    "import scipy\n",
    "import statsmodels.api as sm\n",
    "import datetime as dt\n",
    "from sklearn.metrics import r2_score\n",
    "\n",
    "from IPython.core.display import display, HTML\n",
    "display(HTML(\"<style>.container { width:100% !important; }</style>\"))"
   ]
  },
  {
   "cell_type": "markdown",
   "metadata": {
    "heading_collapsed": true
   },
   "source": [
    "# Data, Wrangling, Preliminaries"
   ]
  },
  {
   "cell_type": "code",
   "execution_count": null,
   "metadata": {
    "code_folding": [],
    "hidden": true,
    "scrolled": true
   },
   "outputs": [],
   "source": [
    "# Load data -- \n",
    "\n",
    "case0 = pd.read_csv('dataset_shops.csv',\n",
    "                   usecols = ['date', 'shop_id', 'committed_revenues_main_inc_vat', 'place', \n",
    "                              'shop_formula', 'dist_shop_closest_km', 'no_retail_shops', \n",
    "                              'no_companies', 'perc_owned_vs_rented_houses', \n",
    "                              'avg_value_household', 'avg_household_size', 'no_residents'])\n",
    "\n",
    "# Other columns: tons of NA, not particularly relevant to question of interest (at first pass anyway)\n",
    "\n",
    "case0.date = pd.to_datetime(case0.date)\n",
    "\n",
    "# Levels of categoricals -- \n",
    "# for c in case.columns:\n",
    "#     if type(case[c][0]) != np.float64:\n",
    "#         print(c, len(case[c].unique()))"
   ]
  },
  {
   "cell_type": "code",
   "execution_count": null,
   "metadata": {
    "code_folding": [],
    "hidden": true,
    "scrolled": true
   },
   "outputs": [],
   "source": [
    "# NA EDA --- \n",
    "\n",
    "# for c in [case0.columns]:\n",
    "#     print(case0[c].isna().sum())\n",
    "\n",
    "c_subset = case0[pd.isnull(case0).any(axis=1)].copy()\n",
    "print()\n",
    "for c in ['shop_id', 'place', 'shop_formula']:\n",
    "    print(c, c_subset[c].unique())\n",
    "    \n",
    "# All NAs in four KPN shop/places"
   ]
  },
  {
   "cell_type": "markdown",
   "metadata": {
    "hidden": true
   },
   "source": [
    "* **No time-varying covariates**, so weekly observation completely unnecessary/incorrect (wildly violates linear regression assumptions) \n",
    "* Don’t want to penalize stores for shorter timelines, missing weeks, etc. \n",
    "* **Aggregate to averages**"
   ]
  },
  {
   "cell_type": "code",
   "execution_count": null,
   "metadata": {
    "code_folding": [],
    "hidden": true,
    "scrolled": true
   },
   "outputs": [],
   "source": [
    "# Aggregate to weekly means \n",
    "case0 = pd.merge(\n",
    "    pd.DataFrame(case0.groupby(['shop_id'])['committed_revenues_main_inc_vat'].mean().round().reset_index()), # **\n",
    "    case0[['shop_formula', 'shop_id', 'place', 'dist_shop_closest_km', 'no_retail_shops',\n",
    "          'no_companies', 'perc_owned_vs_rented_houses', 'avg_value_household',\n",
    "          'avg_household_size', 'no_residents']].drop_duplicates()).dropna()\n",
    "\n",
    "# Add formula dummies, rename some columns -- \n",
    "case0 = (pd.get_dummies(case0, columns = ['shop_formula']).\n",
    "         rename(\n",
    "             columns = {\n",
    "                 'committed_revenues_main_inc_vat': 'committed_rev',\n",
    "                 'avg_value_household': 'avg_house_value',\n",
    "                 'perc_owned_vs_rented_houses': 'pct_own_v_rent',\n",
    "                 'shop_formula_KPN XL winkel': 'KPN_XL',\n",
    "                 'shop_formula_KPN winkel': 'KPN',\n",
    "                 'shop_formula_Telfort': 'Telfort'}\n",
    "         )\n",
    "        )"
   ]
  },
  {
   "cell_type": "code",
   "execution_count": null,
   "metadata": {
    "hidden": true
   },
   "outputs": [],
   "source": [
    "case0[['KPN_XL', 'KPN', 'Telfort']].sum()\n",
    "case0.shape\n",
    "\n",
    "# Unlikely to draw any solid conclusions from KPN_XL"
   ]
  },
  {
   "cell_type": "markdown",
   "metadata": {
    "heading_collapsed": true
   },
   "source": [
    "# Analysis, Model Selection"
   ]
  },
  {
   "cell_type": "code",
   "execution_count": null,
   "metadata": {
    "hidden": true
   },
   "outputs": [],
   "source": [
    "case = case0.copy()"
   ]
  },
  {
   "cell_type": "code",
   "execution_count": null,
   "metadata": {
    "code_folding": [
     0
    ],
    "hidden": true
   },
   "outputs": [],
   "source": [
    "# Function to add formula specific intercept and covariates -- \n",
    "\n",
    "def add_interactions(df):\n",
    "    for form in ['KPN_XL', 'KPN', 'Telfort']:\n",
    "        for feat in ['dist_shop_closest_km', 'no_retail_shops', 'no_companies', 'pct_own_v_rent', \n",
    "                     'avg_house_value', 'avg_household_size', 'no_residents']:\n",
    "            df[str(form + '_' + feat)] = df[form]*df[feat]\n",
    "        \n",
    "    # Drop original covariates (not shop specific)\n",
    "    df = df.drop(['dist_shop_closest_km', 'no_retail_shops', 'no_companies', 'pct_own_v_rent', \n",
    "                        'avg_house_value', 'avg_household_size', 'no_residents'], axis = 1)\n",
    "    return df\n",
    "    "
   ]
  },
  {
   "cell_type": "code",
   "execution_count": null,
   "metadata": {
    "hidden": true
   },
   "outputs": [],
   "source": [
    "case = add_interactions(case)"
   ]
  },
  {
   "cell_type": "markdown",
   "metadata": {
    "hidden": true
   },
   "source": [
    "#### Response variable\n",
    "* committed_rev\n",
    "\n",
    "#### Covariates (initially):\n",
    "* Three formulas: KPN, KPN_XL, Telfort\n",
    "* Eight covariates per formula:\n",
    "    * intercept\n",
    "    * dist_shop_closest_km\n",
    "    * no_retail_shops\n",
    "    * no_companies\n",
    "    * pct_own_v_rent\n",
    "    * avg_house_value \n",
    "    * avg_household_size \n",
    "    * no_residents"
   ]
  },
  {
   "cell_type": "code",
   "execution_count": null,
   "metadata": {
    "hidden": true,
    "scrolled": true
   },
   "outputs": [],
   "source": [
    "y = case['committed_rev']\n",
    "X = case.drop(['committed_rev', 'shop_id', 'place'], axis = 1) \n",
    "\n",
    "mod = sm.OLS(y, X, missing='drop').fit()\n",
    "mod.rsquared.round(2)\n",
    "\n",
    "# mod.summary().tables[0]\n",
    "# mod.summary().tables[1]\n",
    "\n",
    "# mod.pvalues.round(3)"
   ]
  },
  {
   "cell_type": "markdown",
   "metadata": {
    "hidden": true,
    "scrolled": true
   },
   "source": [
    "* Statistically significant model: huge F-statistic\n",
    "\n",
    "* Quite high $R^2$\n",
    "\n"
   ]
  },
  {
   "cell_type": "code",
   "execution_count": null,
   "metadata": {
    "hidden": true
   },
   "outputs": [],
   "source": [
    "# Drop weakest covariates per formula, refit\n",
    "\n",
    "X = X.drop(['KPN_no_retail_shops', 'KPN_avg_house_value', 'KPN_pct_own_v_rent',                 # KPN\n",
    "            'KPN_XL_no_residents', 'KPN_XL_pct_own_v_rent', 'KPN_XL_dist_shop_closest_km',      # XL\n",
    "            'Telfort_avg_house_value', 'Telfort_no_companies', 'Telfort_dist_shop_closest_km'], # TELFORT \n",
    "             axis = 1) \n",
    "\n",
    "mod = sm.OLS(y, X, missing='drop').fit()\n",
    "mod.rsquared.round(2)\n",
    "\n",
    "# mod.summary().tables[0]\n",
    "# mod.summary().tables[1]\n",
    "\n",
    "# mod.pvalues.round(3)"
   ]
  },
  {
   "cell_type": "markdown",
   "metadata": {
    "hidden": true
   },
   "source": [
    "$R^2$  virtually unchanged, model still extremely significant"
   ]
  },
  {
   "cell_type": "code",
   "execution_count": null,
   "metadata": {
    "hidden": true
   },
   "outputs": [],
   "source": [
    "# Drop addt'l weak covariates, refit\n",
    "\n",
    "X = X.drop(['KPN_avg_household_size', 'KPN_XL_avg_household_size',\n",
    "                'Telfort_avg_household_size', 'Telfort_pct_own_v_rent'], axis = 1)\n",
    "\n",
    "mod = sm.OLS(y, X, missing='drop').fit()\n",
    "mod.rsquared.round(2)\n",
    "\n",
    "# mod.summary().tables[0]\n",
    "mod.summary().tables[1]"
   ]
  },
  {
   "cell_type": "markdown",
   "metadata": {
    "hidden": true
   },
   "source": [
    "Model $R^2$  is virtually unchanged, and the model still extremely significant. As expected (smaller sample size), the KPN_XL and Telfort shops show weaker covariate significance, so for them my criteria for inclusion is weaker. Call this the 'final' model."
   ]
  },
  {
   "cell_type": "markdown",
   "metadata": {
    "hidden": true
   },
   "source": [
    "## 'Final' Model\n",
    "\n",
    "**Response variable**\n",
    "* committed_rev\n",
    "\n",
    "**Covariates**\n",
    "* KPN\n",
    "    * KPN shop mean (intercept)\n",
    "    * dist_shop_closest_km\n",
    "    * no_companies\n",
    "    * no_residents\n",
    "\n",
    "    \n",
    "* KPN_XL\n",
    "    * no_retail_shops\n",
    "    * no_companies\n",
    "    * avg_house_value\n",
    "    \n",
    "    \n",
    "* Telfort\n",
    "    * Telfort shop mean (intercept)\n",
    "    * no_retail_shops\n",
    "    * no_residents"
   ]
  },
  {
   "cell_type": "markdown",
   "metadata": {
    "hidden": true
   },
   "source": [
    "## Telfort to KPN "
   ]
  },
  {
   "cell_type": "code",
   "execution_count": null,
   "metadata": {
    "hidden": true
   },
   "outputs": [],
   "source": [
    "# Predict Telfort converted to KPN\n",
    "convert = case0.copy()\n",
    "\n",
    "# Filter to only Telfort shops\n",
    "convert = convert[convert.Telfort == 1] \n",
    "# convert[:2]\n",
    "\n",
    "# Convert from Telfort shop... to KPN shop\n",
    "convert.loc[:,'Telfort'] = 0 \n",
    "convert.loc[:, 'KPN'] = 1    \n",
    "# convert[:2]\n",
    "\n",
    "convert = add_interactions(convert)\n",
    "\n",
    "# Predict using model w/ KPN covariates\n",
    "convert['as_KPN_preds'] = mod.predict(convert[X.columns]).round()\n",
    "convert['change'] = convert['as_KPN_preds'] - convert['committed_rev']\n",
    "\n",
    "\n",
    "# View new predictions, sorted: increases; and empirical committed rev\n",
    "convert[['shop_id', 'place', 'committed_rev', 'as_KPN_preds', 'change']].sort_values('change', ascending = False)[:5]\n",
    "convert[['shop_id', 'place', 'committed_rev', 'as_KPN_preds', 'change']].sort_values('committed_rev', ascending = False)[:5]\n"
   ]
  },
  {
   "cell_type": "markdown",
   "metadata": {
    "hidden": true
   },
   "source": [
    "## KPN to KPN_XL"
   ]
  },
  {
   "cell_type": "code",
   "execution_count": null,
   "metadata": {
    "hidden": true
   },
   "outputs": [],
   "source": [
    "# Predict KPN converted to KPN_XL\n",
    "convert2 = case0.copy()\n",
    "\n",
    "# Filter to only Telfort shops\n",
    "convert2 = convert2[convert2.KPN_XL == 1] \n",
    "\n",
    "# Convert from KPN shop... to KPN_XL shop\n",
    "convert2.loc[:,'KPN'] = 0 \n",
    "convert2.loc[:, 'KPN_XL'] = 1    \n",
    "\n",
    "convert2 = add_interactions(convert2)\n",
    "\n",
    "# Predict using model w/ KPN_XL covariates\n",
    "convert2['as_KPN_XL_preds'] = mod.predict(convert2[X.columns]).round()\n",
    "convert2['change'] = convert2['as_KPN_XL_preds'] - convert2['committed_rev']\n",
    "\n",
    "\n",
    "# View new predictions, sorted by change in avg weekly profit\n",
    "convert2[['shop_id', 'place', 'committed_rev', 'as_KPN_XL_preds', 'change']].sort_values('change', ascending = False)"
   ]
  },
  {
   "cell_type": "markdown",
   "metadata": {
    "heading_collapsed": true
   },
   "source": [
    "# Research questions"
   ]
  },
  {
   "cell_type": "markdown",
   "metadata": {
    "hidden": true
   },
   "source": [
    "### 1. Which **characteristics** are most important for predicting the (contracted) revenue per store formula (Telfort, KPN, KPN XL)?\n",
    "\n",
    "\n",
    "* KPN\n",
    "    * KPN shop mean (intercept)\n",
    "    * dist_shop_closest_km\n",
    "    * no_companies\n",
    "    * no_residents\n",
    "\n",
    "    \n",
    "* KPN_XL\n",
    "    * no_retail_shops\n",
    "    * no_companies\n",
    "    * avg_house_value\n",
    "    \n",
    "    \n",
    "* Telfort\n",
    "    * Telfort shop mean (intercept)\n",
    "    * no_retail_shops\n",
    "    * no_residents\n",
    "    \n",
    "    "
   ]
  },
  {
   "cell_type": "markdown",
   "metadata": {
    "hidden": true
   },
   "source": [
    "### 2. Which **TELFORT** stores should be transformed into **KPN** stores, and what is the expected (contracted) revenue after this transformation?"
   ]
  },
  {
   "cell_type": "code",
   "execution_count": null,
   "metadata": {
    "hidden": true
   },
   "outputs": [],
   "source": [
    "# Sort by current committed revenues\n",
    "convert[['shop_id', 'place', 'committed_rev']].sort_values('committed_rev', ascending = False)[:5]\n",
    "\n",
    "# Sort by increase\n",
    "convert[['shop_id', 'place', 'committed_rev', 'as_KPN_preds', 'change']].sort_values('change', ascending = False)[:5]\n"
   ]
  },
  {
   "cell_type": "markdown",
   "metadata": {
    "hidden": true
   },
   "source": [
    "Confounding is a cause for concern. In short, this approach to estimating converted-to-KPN committed revenues is an oversimplication. I would recommend further analysis; if an immediate recommendation is necessary, I would recommend converting stores with greatest committed revenues (empirically). I think, with what we have here, and other things being equal, observed results are more reliable."
   ]
  },
  {
   "cell_type": "markdown",
   "metadata": {
    "hidden": true
   },
   "source": [
    "### 3. Our budget enables the transformation of 5 **KPN** stores into **KPN XL** stores. Which KPN stores should we transform to optimize the revenue?"
   ]
  },
  {
   "cell_type": "code",
   "execution_count": null,
   "metadata": {
    "hidden": true
   },
   "outputs": [],
   "source": [
    "convert2[['shop_id', 'place', 'committed_rev', 'as_KPN_XL_preds', 'change']].sort_values('change', ascending = False)[:5]"
   ]
  },
  {
   "cell_type": "markdown",
   "metadata": {
    "hidden": true
   },
   "source": [
    "Same thinking as before: confounding is a concern, and this data and approach oversimplies the situation -- so I would recommend further analysis. If a recommendation is required immmediately, I would simply convert the stores with highest committed revenues."
   ]
  },
  {
   "cell_type": "markdown",
   "metadata": {
    "hidden": true
   },
   "source": [
    "### 4. Additional thoughts"
   ]
  },
  {
   "cell_type": "markdown",
   "metadata": {
    "hidden": true
   },
   "source": [
    "There are many considerations in converting stores; I would want to understand more of the dynamics involved before making impactful recommendations. The key question in the context of the case as presented is: do we accept the alternate sets of covariates as validly predicting revenues after conversion? There are model concerns that would need to be addressed, such multicollinearity and linear regression diagnostics. However, I suspect these will be less impactful than business and other considerations---lurking variables not included in the model, that determine store profitability."
   ]
  },
  {
   "cell_type": "markdown",
   "metadata": {
    "heading_collapsed": true
   },
   "source": [
    "# EDA: food for thought"
   ]
  },
  {
   "cell_type": "code",
   "execution_count": null,
   "metadata": {
    "code_folding": [],
    "hidden": true
   },
   "outputs": [],
   "source": [
    "# Aggregate to monthly, plot a few for EDA\n",
    "\n",
    "case00 = pd.read_csv('dataset_shops.csv', usecols = ['date', 'shop_id', 'committed_revenues_main_inc_vat', 'place'])\n",
    "case00.date = pd.to_datetime(case00.date)\n",
    "\n",
    "kpn_monthly = (case00.\n",
    "              set_index('date').\n",
    "              groupby(['place', 'shop_id']).\n",
    "              resample('W').mean().reset_index().copy())\n",
    "\n",
    "places = np.random.choice(kpn_monthly.shop_id.unique(), size = 5, replace = False)\n",
    "\n",
    "\n",
    "kpn_monthly_mini = kpn_monthly[kpn_monthly.shop_id.isin(places)]\n",
    "#kpn_monthly_mini = kpn_monthly[kpn_monthly.place == 'amsterdam']\n",
    "\n",
    "plt.rcParams[\"figure.figsize\"] = [15, 5]\n",
    "\n",
    "kpn_plot = kpn_monthly_mini.pivot(index = 'date', columns = 'shop_id', values='committed_revenues_main_inc_vat')\n",
    "kpn_plot.plot(legend = False, fontsize = 15)\n",
    "\n",
    "plt.suptitle('Shop Revenues Over Time', fontsize=20)\n",
    "plt.xlabel('')\n",
    "plt.ylabel('Committed Revenues', fontsize=12)\n",
    "\n",
    "pass;"
   ]
  },
  {
   "cell_type": "code",
   "execution_count": null,
   "metadata": {
    "code_folding": [],
    "hidden": true,
    "scrolled": true
   },
   "outputs": [],
   "source": [
    "kpn = case0[case0.KPN == 1]\n",
    "\n",
    "kpn2 = pd.merge(\n",
    "    pd.DataFrame(kpn.groupby(['shop_id'])['committed_rev'].mean().round().reset_index()),\n",
    "    kpn[['shop_id', 'place', 'dist_shop_closest_km', 'no_retail_shops',\n",
    "       'no_companies', 'avg_household_size', 'no_residents']].drop_duplicates()\n",
    ").dropna()\n",
    "\n",
    "# kpn2[pd.isnull(kpn2).any(axis=1)]\n",
    "\n",
    "# Make indicator w/ interaction, or quadratic\n",
    "\n",
    "plt.rcParams[\"figure.figsize\"] = [15, 5]\n",
    "plt.scatter(x = kpn2.no_residents, y = kpn2.committed_rev) # *****\n",
    "plt.xlabel('no_residents', size = 30)\n",
    "plt.ylabel('committed_rev', size = 20)\n",
    "\n",
    "# (1) NOTHING: perc_owned_vs_rented_houses, avg_household_size, avg_value_household\n",
    "# (2) THIS PATTERN: no_residents, no_retail_shops, no_companies\n",
    "# (3) UNCLEAR: 'dist_shop_closest_km',\n",
    "\n",
    "pass;"
   ]
  },
  {
   "cell_type": "code",
   "execution_count": null,
   "metadata": {
    "code_folding": [],
    "hidden": true,
    "scrolled": false
   },
   "outputs": [],
   "source": [
    "# Feature engineering: no_residents -- \n",
    "\n",
    "# Quadratic\n",
    "# kpn2.loc[:,'no_residents2'] = kpn2.no_residents**2\n",
    "# X = kpn2[['no_residents', 'no_residents2']] \n",
    "# X = sm.add_constant(X)\n",
    "\n",
    "# Indicators\n",
    "kpn2.loc[:,'no_residents_lt'] = np.where(kpn2.no_residents < 400000, kpn2.no_residents, 0)\n",
    "kpn2.loc[:,'no_residents_gt'] = np.where(kpn2.no_residents > 400000, kpn2.no_residents, 0)\n",
    "kpn2.loc[:, 'c_lt'] = (kpn2['no_residents_lt'] != 0)*1\n",
    "kpn2.loc[:, 'c_gt'] = (kpn2['no_residents_gt'] != 0)*1\n",
    "X = kpn2[['c_lt', 'no_residents_lt', 'c_gt', 'no_residents_gt']]\n",
    "\n",
    "y = kpn2['committed_rev']\n",
    "\n",
    "# Regression\n",
    "mod = sm.OLS(y, X, missing='drop').fit()\n",
    "mod.rsquared.round(2)\n",
    "\n",
    "# ------------------------------\n",
    "\n",
    "plt.rcParams[\"figure.figsize\"] = [15, 5]\n",
    "\n",
    "# Quadratic Regression plot\n",
    "# x1 = np.arange(1, 900000, 50000)\n",
    "# x = pd.DataFrame(data = {'int': 1, 'no_res': x1, 'no_res2': x1**2})\n",
    "# plt.plot(x1, mod.predict(x))\n",
    "\n",
    "# Indicator Regression Plot\n",
    "x_lt = np.arange(1, 400000, 50000)\n",
    "plt.plot(x_lt, mod.predict(pd.DataFrame(data = {'c_lt': 1, 'no_res_lt': x_lt, 'c_gt': 0, 'no_res_gt': 0})), linewidth = 4)\n",
    "x_gt = np.arange(400000, 900000, 50000)\n",
    "plt.plot(x_gt, mod.predict(pd.DataFrame(data = {'c_lt': 0, 'no_res_lt': 0,    'c_gt': 1, 'no_res_gt': x_gt})), linewidth = 4)\n",
    "\n",
    "\n",
    "# Empirical Plot\n",
    "plt.scatter(kpn2.no_residents, kpn2.committed_rev)\n",
    "\n",
    "plt.suptitle('Shop Revenues and Residents', fontsize=20)\n",
    "plt.xlabel('Number of Residents', fontsize = 15)\n",
    "plt.ylabel('Committed Revenues', fontsize=15)\n",
    "\n",
    "pass;"
   ]
  },
  {
   "cell_type": "markdown",
   "metadata": {
    "heading_collapsed": true
   },
   "source": [
    "# Appendix"
   ]
  },
  {
   "cell_type": "code",
   "execution_count": null,
   "metadata": {
    "code_folding": [
     0
    ],
    "hidden": true,
    "scrolled": true
   },
   "outputs": [],
   "source": [
    "# Also calculate R^2 Manually (Sanity check) -- \n",
    "\n",
    "# from sklearn.metrics import r2_score\n",
    "\n",
    "# y_true = y\n",
    "# y_pred = mod.predict(X)\n",
    "\n",
    "# y_bar = y_true.mean()\n",
    "\n",
    "# SSReg = ((y_pred - y_bar)**2).sum()\n",
    "# SSRes = ((y_pred - y_true)**2).sum()\n",
    "# SSTot = ((y_true - y_bar)**2).sum()\n",
    "\n",
    "# # Model\n",
    "# mod.rsquared.round(2)\n",
    "\n",
    "# # Manually\n",
    "# (1 - SSRes/SSTot).round(2)\n",
    "\n",
    "# # sklearn \n",
    "# (r2_score(y_true, y_pred)).round(2)"
   ]
  },
  {
   "cell_type": "code",
   "execution_count": null,
   "metadata": {
    "code_folding": [],
    "hidden": true,
    "scrolled": true
   },
   "outputs": [],
   "source": [
    "kpn = case0[case0.KPN == 1]\n",
    "\n",
    "# Shops per place --> only 7 places with > 1 shops\n",
    "(kpn[['place', 'shop_id']].\n",
    " drop_duplicates().\n",
    " groupby('place')['shop_id'].\n",
    " count().\n",
    " sort_values(ascending = False)\n",
    ")[:15]\n"
   ]
  }
 ],
 "metadata": {
  "celltoolbar": "Raw Cell Format",
  "kernelspec": {
   "display_name": "Python 3",
   "language": "python",
   "name": "python3"
  },
  "language_info": {
   "codemirror_mode": {
    "name": "ipython",
    "version": 3
   },
   "file_extension": ".py",
   "mimetype": "text/x-python",
   "name": "python",
   "nbconvert_exporter": "python",
   "pygments_lexer": "ipython3",
   "version": "3.7.1"
  }
 },
 "nbformat": 4,
 "nbformat_minor": 2
}
