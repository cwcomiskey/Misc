{
 "cells": [
  {
   "cell_type": "code",
   "execution_count": null,
   "metadata": {},
   "outputs": [],
   "source": [
    "import numpy as np\n",
    "import pandas as pd\n",
    "from pandas import DataFrame, Series\n",
    "\n",
    "import multiprocessing\n",
    "\n",
    "import matplotlib.pyplot as plt\n",
    "import bokeh\n",
    "import bokeh.io\n",
    "from bokeh.plotting import figure\n",
    "from bokeh.io import output_notebook, show\n",
    "\n",
    "# init_notebook_mode()\n",
    "\n",
    "import seaborn as sns\n",
    "\n",
    "import re\n",
    "import math\n",
    "import copy\n",
    "\n",
    "from collections import defaultdict\n",
    "import csv\n",
    "import itertools\n",
    "import datetime \n",
    "from datetime import datetime\n",
    "import time\n",
    "import dateutil.parser\n",
    "import pickle\n",
    "import random\n",
    "\n",
    "import gc\n",
    "import zipfile\n",
    "import sys, getopt\n",
    "import os\n",
    "\n",
    "from IPython.core.interactiveshell import InteractiveShell\n",
    "from io import StringIO\n",
    "\n",
    "import dask.dataframe as dd\n",
    "#from chest import Chest\n",
    "\n",
    "InteractiveShell.ast_node_interactivity = \"all\"\n",
    "#InteractiveShell.ast_node_interactivity = \"last\"\n",
    "\n",
    "# Magic function to make matplotlib inline\n",
    "%matplotlib inline\n",
    "%config InlineBackend.figure_formats = {'png', 'retina'}\n",
    "\n",
    "# Set up Bokeh for inline viewing\n",
    "bokeh.io.output_notebook()\n",
    "\n",
    "import dask.dataframe as ddf\n",
    "import dask.array as da\n",
    "\n",
    "pd.set_option('max_columns', 500)\n",
    "pd.set_option('max_rows', 800)\n",
    "\n",
    "import scipy\n",
    "\n",
    "import statsmodels.api as sm\n",
    "from statsmodels.tsa.seasonal import seasonal_decompose\n",
    "from statsmodels.tsa.tsatools import detrend\n",
    "\n",
    "import datetime as dt\n",
    "\n",
    "from IPython.core.display import display, HTML\n",
    "display(HTML(\"<style>.container { width:100% !important; }</style>\"))"
   ]
  },
  {
   "cell_type": "markdown",
   "metadata": {},
   "source": [
    "The KPN Group sells its products through different channels. \n",
    "* online \n",
    "* telephone \n",
    "* retail stores\n",
    "* third-party stores. "
   ]
  },
  {
   "cell_type": "markdown",
   "metadata": {},
   "source": [
    "The KPN formula in the streets:\n",
    "* KPN shop -- only KPN\n",
    "* Telfort shop (KPN subsidiary) -- only Telfort\n",
    "* Multibrand store -- combines the brands KPN, Telfort and XS4ALL,\n",
    "* KPN XL store -- combines the consumer and small business segments."
   ]
  },
  {
   "cell_type": "markdown",
   "metadata": {},
   "source": [
    "## Research questions:\n",
    "1. Which characteristics are most important for predicting the (contracted)\n",
    "revenue per store formula (Telfort, KPN, KPN XL)?\n",
    "2. Which Telfort stores should be transformed into KPN stores, and what is\n",
    "the expected (contracted) revenue after this transformation?\n",
    "3. Our budget enables the transformation of 5 KPN stores into KPN XL stores.\n",
    "Which KPN stores should we transform to optimize the revenue?\n",
    "4. Possibly continue with remaining questions to complete this advice."
   ]
  },
  {
   "cell_type": "markdown",
   "metadata": {},
   "source": [
    "## Evaluation\n",
    "We find it more important that you are able to communicate and defend your advice well, than that you build the most advanced model. Therefore you should think about the complexity of the solution you choose in order to explain your decisions to an audience without explicit data science background. We do value a solid reasoning behind the chosen data transformations, etc."
   ]
  },
  {
   "cell_type": "markdown",
   "metadata": {},
   "source": [
    "Please send the two files before noon the day prior to the walkthrough and presentation sessions to Tom"
   ]
  },
  {
   "cell_type": "markdown",
   "metadata": {},
   "source": [
    "## Case"
   ]
  },
  {
   "cell_type": "code",
   "execution_count": 66,
   "metadata": {},
   "outputs": [],
   "source": [
    "case = pd.read_csv('dataset_shops.csv',\n",
    "                   usecols = ['date', 'shop_id', 'committed_revenues_main_inc_vat', 'place', \n",
    "                              'shop_formula', 'dist_shop_closest_km', 'no_retail_shops', \n",
    "                              'no_companies', 'perc_owned_vs_rented_houses', \n",
    "                              'avg_value_household', 'avg_household_size', 'no_residents'])\n",
    "\n",
    "# Other columns: tons of NA, not particularly relevant to question of interest (at first pass anyway)\n",
    "\n",
    "case.date = pd.to_datetime(case.date)\n"
   ]
  },
  {
   "cell_type": "code",
   "execution_count": 65,
   "metadata": {},
   "outputs": [
    {
     "data": {
      "text/plain": [
       "Index(['date', 'shop_id', 'committed_revenues_main_inc_vat', 'place',\n",
       "       'shop_formula', 'dist_shop_closest_km', 'no_retail_shops',\n",
       "       'no_companies', 'perc_owned_vs_rented_houses', 'avg_value_household',\n",
       "       'avg_household_size', 'no_residents'],\n",
       "      dtype='object')"
      ]
     },
     "execution_count": 65,
     "metadata": {},
     "output_type": "execute_result"
    },
    {
     "data": {
      "text/plain": [
       "(63256, 12)"
      ]
     },
     "execution_count": 65,
     "metadata": {},
     "output_type": "execute_result"
    },
    {
     "data": {
      "text/html": [
       "<div>\n",
       "<style scoped>\n",
       "    .dataframe tbody tr th:only-of-type {\n",
       "        vertical-align: middle;\n",
       "    }\n",
       "\n",
       "    .dataframe tbody tr th {\n",
       "        vertical-align: top;\n",
       "    }\n",
       "\n",
       "    .dataframe thead th {\n",
       "        text-align: right;\n",
       "    }\n",
       "</style>\n",
       "<table border=\"1\" class=\"dataframe\">\n",
       "  <thead>\n",
       "    <tr style=\"text-align: right;\">\n",
       "      <th></th>\n",
       "      <th>date</th>\n",
       "      <th>shop_id</th>\n",
       "      <th>committed_revenues_main_inc_vat</th>\n",
       "      <th>place</th>\n",
       "      <th>shop_formula</th>\n",
       "      <th>dist_shop_closest_km</th>\n",
       "      <th>no_retail_shops</th>\n",
       "      <th>no_companies</th>\n",
       "      <th>perc_owned_vs_rented_houses</th>\n",
       "      <th>avg_value_household</th>\n",
       "      <th>avg_household_size</th>\n",
       "      <th>no_residents</th>\n",
       "    </tr>\n",
       "  </thead>\n",
       "  <tbody>\n",
       "    <tr>\n",
       "      <th>0</th>\n",
       "      <td>2017-01-02</td>\n",
       "      <td>2002001001</td>\n",
       "      <td>3852.0</td>\n",
       "      <td>eindhoven</td>\n",
       "      <td>Telfort</td>\n",
       "      <td>0.200938</td>\n",
       "      <td>4265.0</td>\n",
       "      <td>19605.0</td>\n",
       "      <td>45.0</td>\n",
       "      <td>211.0</td>\n",
       "      <td>1.9</td>\n",
       "      <td>226868.0</td>\n",
       "    </tr>\n",
       "    <tr>\n",
       "      <th>1</th>\n",
       "      <td>2017-01-03</td>\n",
       "      <td>2002001001</td>\n",
       "      <td>6768.0</td>\n",
       "      <td>eindhoven</td>\n",
       "      <td>Telfort</td>\n",
       "      <td>0.200938</td>\n",
       "      <td>4265.0</td>\n",
       "      <td>19605.0</td>\n",
       "      <td>45.0</td>\n",
       "      <td>211.0</td>\n",
       "      <td>1.9</td>\n",
       "      <td>226868.0</td>\n",
       "    </tr>\n",
       "    <tr>\n",
       "      <th>2</th>\n",
       "      <td>2017-01-04</td>\n",
       "      <td>2002001001</td>\n",
       "      <td>2664.0</td>\n",
       "      <td>eindhoven</td>\n",
       "      <td>Telfort</td>\n",
       "      <td>0.200938</td>\n",
       "      <td>4265.0</td>\n",
       "      <td>19605.0</td>\n",
       "      <td>45.0</td>\n",
       "      <td>211.0</td>\n",
       "      <td>1.9</td>\n",
       "      <td>226868.0</td>\n",
       "    </tr>\n",
       "    <tr>\n",
       "      <th>3</th>\n",
       "      <td>2017-01-05</td>\n",
       "      <td>2002001001</td>\n",
       "      <td>3672.0</td>\n",
       "      <td>eindhoven</td>\n",
       "      <td>Telfort</td>\n",
       "      <td>0.200938</td>\n",
       "      <td>4265.0</td>\n",
       "      <td>19605.0</td>\n",
       "      <td>45.0</td>\n",
       "      <td>211.0</td>\n",
       "      <td>1.9</td>\n",
       "      <td>226868.0</td>\n",
       "    </tr>\n",
       "    <tr>\n",
       "      <th>4</th>\n",
       "      <td>2017-01-06</td>\n",
       "      <td>2002001001</td>\n",
       "      <td>5328.0</td>\n",
       "      <td>eindhoven</td>\n",
       "      <td>Telfort</td>\n",
       "      <td>0.200938</td>\n",
       "      <td>4265.0</td>\n",
       "      <td>19605.0</td>\n",
       "      <td>45.0</td>\n",
       "      <td>211.0</td>\n",
       "      <td>1.9</td>\n",
       "      <td>226868.0</td>\n",
       "    </tr>\n",
       "  </tbody>\n",
       "</table>\n",
       "</div>"
      ],
      "text/plain": [
       "         date     shop_id  committed_revenues_main_inc_vat      place  \\\n",
       "0  2017-01-02  2002001001                           3852.0  eindhoven   \n",
       "1  2017-01-03  2002001001                           6768.0  eindhoven   \n",
       "2  2017-01-04  2002001001                           2664.0  eindhoven   \n",
       "3  2017-01-05  2002001001                           3672.0  eindhoven   \n",
       "4  2017-01-06  2002001001                           5328.0  eindhoven   \n",
       "\n",
       "  shop_formula  dist_shop_closest_km  no_retail_shops  no_companies  \\\n",
       "0      Telfort              0.200938           4265.0       19605.0   \n",
       "1      Telfort              0.200938           4265.0       19605.0   \n",
       "2      Telfort              0.200938           4265.0       19605.0   \n",
       "3      Telfort              0.200938           4265.0       19605.0   \n",
       "4      Telfort              0.200938           4265.0       19605.0   \n",
       "\n",
       "   perc_owned_vs_rented_houses  avg_value_household  avg_household_size  \\\n",
       "0                         45.0                211.0                 1.9   \n",
       "1                         45.0                211.0                 1.9   \n",
       "2                         45.0                211.0                 1.9   \n",
       "3                         45.0                211.0                 1.9   \n",
       "4                         45.0                211.0                 1.9   \n",
       "\n",
       "   no_residents  \n",
       "0      226868.0  \n",
       "1      226868.0  \n",
       "2      226868.0  \n",
       "3      226868.0  \n",
       "4      226868.0  "
      ]
     },
     "execution_count": 65,
     "metadata": {},
     "output_type": "execute_result"
    }
   ],
   "source": [
    "case.columns\n",
    "case.shape\n",
    "case.head()\n",
    "# case.info()"
   ]
  },
  {
   "cell_type": "code",
   "execution_count": null,
   "metadata": {},
   "outputs": [],
   "source": [
    "for c in [case.columns]:\n",
    "    if type(case[c][0]) != np.float64:\n",
    "        print(c, len(case[c].unique()))"
   ]
  },
  {
   "cell_type": "code",
   "execution_count": 53,
   "metadata": {},
   "outputs": [
    {
     "data": {
      "text/plain": [
       "(63256, 25)"
      ]
     },
     "execution_count": 53,
     "metadata": {},
     "output_type": "execute_result"
    },
    {
     "name": "stdout",
     "output_type": "stream",
     "text": [
      "date                                   0\n",
      "shop_id                                0\n",
      "committed_revenues_main_inc_vat        0\n",
      "sales_count_simonly                 4634\n",
      "sales_count_alcatel                63185\n",
      "sales_count_apple                  14754\n",
      "sales_count_blackberry             63245\n",
      "sales_count_doro                   62842\n",
      "sales_count_emporia                62431\n",
      "sales_count_fairphone              63207\n",
      "sales_count_htc                    61603\n",
      "sales_count_huawei                 54834\n",
      "sales_count_lg                     60213\n",
      "sales_count_nokia                  59053\n",
      "sales_count_samsung                 9517\n",
      "sales_count_xperia                 57322\n",
      "place                                  0\n",
      "shop_formula                           0\n",
      "dist_shop_closest_km                   0\n",
      "no_retail_shops                      899\n",
      "no_companies                         899\n",
      "perc_owned_vs_rented_houses          899\n",
      "avg_value_household                 1849\n",
      "avg_household_size                   899\n",
      "no_residents                         899\n",
      "dtype: int64\n"
     ]
    }
   ],
   "source": [
    "case.shape\n",
    "\n",
    "for c in [case.columns]:\n",
    "    print(case[c].isna().sum())\n"
   ]
  },
  {
   "cell_type": "code",
   "execution_count": 47,
   "metadata": {},
   "outputs": [
    {
     "data": {
      "text/plain": [
       "array(['Telfort', 'KPN winkel', 'KPN XL winkel'], dtype=object)"
      ]
     },
     "execution_count": 47,
     "metadata": {},
     "output_type": "execute_result"
    },
    {
     "data": {
      "text/plain": [
       "array(['eindhoven', 'den bosch', 'arnhem', 'zwolle', 'rotterdam',\n",
       "       'haarlem', 'alkmaar', 'amsterdam', 'den haag', 'groningen',\n",
       "       'tilburg', 'apeldoorn', 'utrecht', 'almelo', 'enschede',\n",
       "       'zoetermeer', 'almere', 'zaandam', 'hilversum', 'helmond',\n",
       "       'nijmegen', 'maastricht', 'leeuwarden', 'breda', 'leiden',\n",
       "       'doetinchem', 'veenendaal', 'amstelveen', 'purmerend',\n",
       "       'middelburg', 'terneuzen', 'goes', 'roosendaal', 'bergen op zoom',\n",
       "       'oosterhout', 'etten leur', 'alphen aan den rijn', 'ede',\n",
       "       'oldenzaal', 'veldhoven', 'oss', 'heerhugowaard', 'oud-beijerland',\n",
       "       'zwijndrecht', 'nieuwegein', 'sneek', 'assen', 'emmen',\n",
       "       'winschoten', 'delft', 'rijswijk', 'leidschendam', 'naaldwijk',\n",
       "       'hengelo', 'winterswijk', 'hoorn', 'den helder', 'beverwijk',\n",
       "       'hoofddorp', 'weert', 'uden', 'waalwijk', 'drachten', 'heerenveen',\n",
       "       'heerlen', 'roermond', 'sittard', 'venlo', 'beek', 'dordrecht',\n",
       "       'gouda', 'spijkenisse', 'vlaardingen', 'barendrecht', 'gorinchem',\n",
       "       'schiedam', 'amersfoort', 'lelystad', 'tiel', 'zeist',\n",
       "       'harderwijk', 'bussum', 'deventer', 'emmeloord', 'hoogeveen',\n",
       "       'zutphen', 'meppel'], dtype=object)"
      ]
     },
     "execution_count": 47,
     "metadata": {},
     "output_type": "execute_result"
    }
   ],
   "source": [
    "case.shop_formula.unique()\n",
    "case.place.unique()\n"
   ]
  },
  {
   "cell_type": "code",
   "execution_count": null,
   "metadata": {},
   "outputs": [],
   "source": []
  }
 ],
 "metadata": {
  "kernelspec": {
   "display_name": "Python 3",
   "language": "python",
   "name": "python3"
  },
  "language_info": {
   "codemirror_mode": {
    "name": "ipython",
    "version": 3
   },
   "file_extension": ".py",
   "mimetype": "text/x-python",
   "name": "python",
   "nbconvert_exporter": "python",
   "pygments_lexer": "ipython3",
   "version": "3.7.1"
  }
 },
 "nbformat": 4,
 "nbformat_minor": 2
}
