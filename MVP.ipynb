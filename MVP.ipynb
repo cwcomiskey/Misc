{
 "cells": [
  {
   "cell_type": "code",
   "execution_count": null,
   "metadata": {
    "hideCode": false,
    "hidePrompt": false,
    "scrolled": false
   },
   "outputs": [],
   "source": [
    "import numpy as np\n",
    "import pandas as pd\n",
    "import multiprocessing\n",
    "\n",
    "import matplotlib.pyplot as plt\n",
    "import bokeh\n",
    "import bokeh.io\n",
    "from bokeh.plotting import figure\n",
    "from bokeh.io import output_notebook, show\n",
    "\n",
    "import seaborn as sns\n",
    "\n",
    "import re\n",
    "import math\n",
    "import copy\n",
    "\n",
    "from collections import defaultdict\n",
    "import csv\n",
    "import itertools\n",
    "import datetime \n",
    "from datetime import datetime\n",
    "import time\n",
    "import dateutil.parser\n",
    "import pickle\n",
    "import random\n",
    "\n",
    "import gc\n",
    "import zipfile\n",
    "import sys, getopt\n",
    "import os\n",
    "\n",
    "from IPython.core.interactiveshell import InteractiveShell\n",
    "from io import StringIO\n",
    "\n",
    "import dask.dataframe as dd\n",
    "\n",
    "InteractiveShell.ast_node_interactivity = \"all\"\n",
    "\n",
    "%matplotlib inline\n",
    "%config InlineBackend.figure_formats = {'png', 'retina'}\n",
    "\n",
    "# Set up Bokeh for inline viewing\n",
    "bokeh.io.output_notebook()\n",
    "\n",
    "import dask.dataframe as ddf\n",
    "import dask.array as da\n",
    "\n",
    "pd.set_option('max_columns', 500)\n",
    "pd.set_option('max_rows', 800)"
   ]
  },
  {
   "cell_type": "markdown",
   "metadata": {
    "hideCode": false,
    "hidePrompt": false
   },
   "source": [
    "# GAS Model"
   ]
  },
  {
   "cell_type": "code",
   "execution_count": null,
   "metadata": {
    "hideCode": false,
    "hidePrompt": false,
    "scrolled": false
   },
   "outputs": [],
   "source": [
    "# del x0, x, y, x1, f_est\n",
    "%whos ndarray DataFrame\n"
   ]
  },
  {
   "cell_type": "code",
   "execution_count": null,
   "metadata": {
    "hideCode": false,
    "hidePrompt": false,
    "scrolled": false
   },
   "outputs": [],
   "source": [
    "dat0 = pd.read_csv('ch4k_df_eu.csv', low_memory = False, index_col = 0)"
   ]
  },
  {
   "cell_type": "code",
   "execution_count": null,
   "metadata": {
    "hideCode": false,
    "hidePrompt": false,
    "scrolled": false
   },
   "outputs": [],
   "source": [
    "dat0.reset_index(inplace = True)\n",
    "dat0.head()\n"
   ]
  },
  {
   "cell_type": "code",
   "execution_count": null,
   "metadata": {
    "hideCode": false,
    "hidePrompt": false,
    "scrolled": false
   },
   "outputs": [],
   "source": [
    "def initialize_parameters(par = np.array([0.5, 0.9, 0, 1, 0])):\n",
    "    # np.random.seed(3)\n",
    "    parameters = {}\n",
    "\n",
    "    parameters['alpha'] = par[0]\n",
    "    parameters['beta'] = par[1]\n",
    "    parameters['omega'] = par[2]* (1-par[1])    # one way to choose that is omega/(1-beta) = unconditional mean \n",
    "    parameters['sigma'] = par[3]\n",
    "    parameters['f0'] = par[4]                   # one way to choose is unconditional mean \n",
    "\n",
    "    return parameters\n",
    "\n",
    "def loglik(y, f, x, sigma):\n",
    "    ll = -1/2*np.log(2*np.pi ) - 1/2*np.log(sigma) - 1/(2*sigma)*(y - x*f)**2 \n",
    "    return ll\n",
    "\n",
    "\n",
    "def score_compute(y, f, x, parameters, epsilon = 1e-7 ):\n",
    "    alpha = parameters[\"alpha\"]\n",
    "    beta = parameters[\"beta\"]\n",
    "    omega = parameters['omega']\n",
    "    sigma = parameters[\"sigma\"]\n",
    "    f0 = parameters[\"f0\"]\n",
    "    \n",
    "    score = (y - x*f)/sigma\n",
    "    \n",
    "    return score\n",
    "\n",
    "def filterGAS(y, x, parameters):\n",
    "    \n",
    "    alpha = parameters[\"alpha\"]\n",
    "    beta = parameters[\"beta\"]\n",
    "    omega = parameters['omega']\n",
    "    sigma = parameters[\"sigma\"]\n",
    "    f0 = parameters[\"f0\"]\n",
    "    score0 = score_compute(y[0,:],  f0, x[0,:], parameters, epsilon = 1e-7) \n",
    "    f = np.zeros((len(y),1))\n",
    "    \n",
    "    f[0,:] = f0\n",
    "    for t in range(1,len(y)):\n",
    "        scoret = score_compute(y[t-1,:], f[t-1,:], x[t-1,:], parameters, epsilon = 1e-7) \n",
    "        f[t,:] = omega + alpha*scoret + beta*f[t-1,:] \n",
    "\n",
    "    return f\n",
    "\n",
    "def loglikest(par, y, x):\n",
    "    parameters = initialize_parameters(par)\n",
    "    alpha = parameters[\"alpha\"]\n",
    "    beta = parameters[\"beta\"]\n",
    "    sigma = parameters[\"sigma\"]\n",
    "    # f0 = parameters[\"f0\"]\n",
    "    \n",
    "    if  (alpha>0) and (sigma>0) and (beta>alpha) :\n",
    "        f = filterGAS(y, x, parameters) \n",
    "        ll = np.zeros((len(y), 1))\n",
    "        m=len(y)\n",
    "        \n",
    "        for t in range(0, len(y)):\n",
    "             ll[t,:] = loglik(y[t,:], f[t,:], x[t,:], sigma)\n",
    "        loglik_res = -(np.sum(ll))/m\n",
    "        \n",
    "    else:\n",
    "        loglik_res=10**9\n",
    "\n",
    "    return loglik_res"
   ]
  },
  {
   "cell_type": "markdown",
   "metadata": {
    "hideCode": false,
    "hidePrompt": false
   },
   "source": [
    "### Estimate a GAS model"
   ]
  },
  {
   "cell_type": "code",
   "execution_count": null,
   "metadata": {
    "hideCode": false,
    "hidePrompt": false,
    "scrolled": false
   },
   "outputs": [],
   "source": [
    "y = dat.net_qty.values # observed demand -- basically the response variable\n",
    "x = dat.buy_availability.values # basically the explanatory variable\n",
    "\n",
    "y = y.reshape((len(y),1)) \n",
    "x = x.reshape((len(y),1))"
   ]
  },
  {
   "cell_type": "code",
   "execution_count": null,
   "metadata": {
    "hideCode": false,
    "hidePrompt": false,
    "scrolled": false
   },
   "outputs": [],
   "source": [
    "import scipy\n",
    "\n",
    "x0 = np.array([0.8, 0.9, np.mean(y), 1, np.mean(y)]) # starting value for optimisation\n",
    "            # alpha, beta, omega, sigma, f0\n",
    "            # See initialize_parameters for ordering\n",
    "\n",
    "res = scipy.optimize.minimize(loglikest, # function to minimize log likelihood of observed values given parameters\n",
    "                              x0,        # initial parameter values (starting)\n",
    "                              args=(y, x), \n",
    "                                  # y1: obs demand\n",
    "                                  # x: buy_availability\n",
    "                              options ={'eps':1e-09},\n",
    "                              method='L-BFGS-B', \n",
    "                              bounds=((0,  1),                # alpha\n",
    "                                      (-0.99, 0.99),          # beta\n",
    "                                      (0.001, np.mean(y)*2), # omega \n",
    "                                      (0.001, 1),             # sigma\n",
    "                                      (0.001, np.mean(y)*2)  # f\n",
    "                                     )\n",
    "                             ) #restrictions in parameter space\n",
    "\n",
    "x1 = res.x # numpy.ndarray, (5,)\n"
   ]
  },
  {
   "cell_type": "code",
   "execution_count": null,
   "metadata": {
    "hideCode": false,
    "hidePrompt": false,
    "scrolled": false
   },
   "outputs": [],
   "source": [
    "# Get estimated parameters and filter out the demand\n",
    "\n",
    "x1par = initialize_parameters(res.x)\n",
    "f_est = filterGAS(y, x, x1par)"
   ]
  },
  {
   "cell_type": "code",
   "execution_count": null,
   "metadata": {
    "hideCode": false,
    "hidePrompt": false,
    "scrolled": false
   },
   "outputs": [],
   "source": [
    "d = pd.DataFrame({'Obs_demand': y[:,0], 'Est_true_demand': f_est[:,0]})\n",
    "\n",
    "# total real demand\n",
    "round(np.sum(f_est))\n",
    "\n",
    "# total observed demand\n",
    "np.sum(y)\n",
    "\n",
    "pd.DataFrame(data = d).plot(linewidth = 4)\n",
    "# plt.ylim(0, 1200)\n",
    "plt.title('Observed & Estimated Gross Demand Quantity')\n",
    "\n",
    "pd.DataFrame(x).plot(linewidth = 4)\n",
    "plt.title('Buy Availability')\n",
    "#plt.ylabel('Real Data')\n"
   ]
  },
  {
   "cell_type": "markdown",
   "metadata": {
    "hideCode": false,
    "hidePrompt": false
   },
   "source": [
    "# Applied"
   ]
  },
  {
   "cell_type": "code",
   "execution_count": null,
   "metadata": {
    "hideCode": false,
    "hidePrompt": false,
    "scrolled": false
   },
   "outputs": [],
   "source": [
    "def GAS_est(y, x):\n",
    "    # y: observed demand\n",
    "    # x: buy_availability\n",
    "    \n",
    "    y = y.values\n",
    "    x = x.values\n",
    "    \n",
    "    y = y.reshape((len(y),1)) \n",
    "    x = x.reshape((len(y),1))\n",
    "    \n",
    "    x0 = np.array([0.8, 0.9, np.mean(y), 1, np.mean(y)]) # # initial parameter values (starting)\n",
    "    \n",
    "    res = scipy.optimize.minimize(\n",
    "        loglikest, # function to minimize (log likelihood y|x,theta)\n",
    "        x0,        \n",
    "        args=(y, x), \n",
    "        # y1: obs demand\n",
    "        # x: buy_availability\n",
    "        options ={'eps':1e-09},\n",
    "        method='L-BFGS-B', \n",
    "        bounds=((0,  1),                # alpha\n",
    "                (-0.99, 0.99),          # beta\n",
    "                (0.001, np.mean(y)*2),  # omega \n",
    "                (0.001, 1),             # sigma\n",
    "                (0.001, np.mean(y)*2)   # f\n",
    "               )\n",
    "    )\n",
    "    \n",
    "    x1par = initialize_parameters(res.x) \n",
    "    f_est = filterGAS(y, x, x1par)\n",
    "    \n",
    "    return f_est[:,0]\n",
    "    "
   ]
  },
  {
   "cell_type": "code",
   "execution_count": null,
   "metadata": {
    "scrolled": true
   },
   "outputs": [],
   "source": [
    "dat = dat0.copy()\n",
    "dat = dat[(dat.season == 'SS19') & (dat.country == 'EU')]\n",
    "\n",
    "dat.sort_values(['article_number', 'year', 'month', 'week'], inplace = True)\n",
    "dat.set_index('article_number', inplace = True)"
   ]
  },
  {
   "cell_type": "code",
   "execution_count": null,
   "metadata": {
    "hideCode": false,
    "hidePrompt": false,
    "scrolled": false
   },
   "outputs": [],
   "source": [
    "dat_samp1 = dat.loc[np.random.choice(dat.index, size = 1),:]\n",
    "f_est1 = GAS_est(dat_samp1.net_qty, dat_samp1.buy_availability) # numpy.ndarray, (27, 1)"
   ]
  },
  {
   "cell_type": "code",
   "execution_count": null,
   "metadata": {},
   "outputs": [],
   "source": [
    "f_est1.shape\n",
    "type(f_est)"
   ]
  },
  {
   "cell_type": "code",
   "execution_count": null,
   "metadata": {
    "hideCode": false,
    "hidePrompt": false,
    "scrolled": true
   },
   "outputs": [],
   "source": [
    "dictEst = {}"
   ]
  },
  {
   "cell_type": "code",
   "execution_count": null,
   "metadata": {
    "hideCode": false,
    "hidePrompt": false,
    "scrolled": true
   },
   "outputs": [],
   "source": [
    "dictEst[np.random.choice(dat.index, size = 1).item()] = f_est1.reshape(f_est1.shape[0],).tolist()"
   ]
  },
  {
   "cell_type": "code",
   "execution_count": null,
   "metadata": {
    "hideCode": false,
    "hidePrompt": false,
    "scrolled": true
   },
   "outputs": [],
   "source": [
    "dictEst\n",
    "\n",
    "pd.DataFrame(dictEst)"
   ]
  },
  {
   "cell_type": "code",
   "execution_count": 518,
   "metadata": {
    "hideCode": false,
    "hidePrompt": false,
    "scrolled": true
   },
   "outputs": [
    {
     "name": "stdout",
     "output_type": "stream",
     "text": [
      "CPU times: user 7.77 s, sys: 102 ms, total: 7.87 s\n",
      "Wall time: 7.82 s\n"
     ]
    }
   ],
   "source": [
    "%%time\n",
    "\n",
    "dat_samp2 = dat.loc[np.random.choice(dat.index, size = 50),:]\n",
    "a = dat_samp2.groupby(dat_samp2.index).apply(lambda df: GAS_est(df['net_qty'], df['buy_availability']))"
   ]
  },
  {
   "cell_type": "code",
   "execution_count": 519,
   "metadata": {
    "hideCode": false,
    "hidePrompt": false
   },
   "outputs": [],
   "source": [
    "d = a.to_dict()\n",
    "wtf = pd.DataFrame()\n",
    "\n",
    "for k in d.keys():\n",
    "    df = pd.DataFrame(data = d[k], index = [k] * d[k].shape[0], columns = ['f_est'])\n",
    "    wtf = wtf.append(df)"
   ]
  },
  {
   "cell_type": "code",
   "execution_count": 521,
   "metadata": {},
   "outputs": [],
   "source": [
    "# dat_samp2.groupby(dat_samp2.index)['net_qty'].count()\n",
    "# wtf.groupby(wtf.index)['f_est'].count()"
   ]
  },
  {
   "cell_type": "code",
   "execution_count": 522,
   "metadata": {},
   "outputs": [
    {
     "name": "stderr",
     "output_type": "stream",
     "text": [
      "/usr/local/anaconda3/lib/python3.7/site-packages/ipykernel_launcher.py:1: SettingWithCopyWarning: \n",
      "A value is trying to be set on a copy of a slice from a DataFrame\n",
      "\n",
      "See the caveats in the documentation: http://pandas.pydata.org/pandas-docs/stable/indexing.html#indexing-view-versus-copy\n",
      "  \"\"\"Entry point for launching an IPython kernel.\n"
     ]
    }
   ],
   "source": [
    "dat_samp2.sort_index(inplace = True)\n",
    "wtf.sort_index(inplace = True)\n",
    "fme = pd.concat([dat_samp2, wtf], axis = 1)"
   ]
  },
  {
   "cell_type": "code",
   "execution_count": 536,
   "metadata": {},
   "outputs": [
    {
     "data": {
      "text/plain": [
       "<matplotlib.axes._subplots.AxesSubplot at 0x1c30d24240>"
      ]
     },
     "execution_count": 536,
     "metadata": {},
     "output_type": "execute_result"
    },
    {
     "data": {
      "text/plain": [
       "<matplotlib.axes._subplots.AxesSubplot at 0x1c30df5a20>"
      ]
     },
     "execution_count": 536,
     "metadata": {},
     "output_type": "execute_result"
    },
    {
     "data": {
      "image/png": "[encoded data removed]",
      "text/plain": [
       "<Figure size 432x288 with 1 Axes>"
      ]
     },
     "metadata": {
      "image/png": {
       "height": 254,
       "width": 370
      },
      "needs_background": "light"
     },
     "output_type": "display_data"
    },
    {
     "data": {
      "image/png": "[encoded data removed]",
      "text/plain": [
       "<Figure size 432x288 with 1 Axes>"
      ]
     },
     "metadata": {
      "image/png": {
       "height": 254,
       "width": 373
      },
      "needs_background": "light"
     },
     "output_type": "display_data"
    }
   ],
   "source": [
    "plt = fme.loc[np.random.choice(fme.index, size = 1),:]\n",
    "plt1 = plt[['net_qty', 'f_est']]\n",
    "\n",
    "plt1.plot(linewidth = 4)\n",
    "\n",
    "pd.DataFrame(plt['buy_availability']).plot(linewidth = 4)"
   ]
  },
  {
   "cell_type": "code",
   "execution_count": 526,
   "metadata": {
    "hideCode": false,
    "hidePrompt": false,
    "scrolled": true
   },
   "outputs": [
    {
     "data": {
      "text/html": [
       "<div>\n",
       "<style scoped>\n",
       "    .dataframe tbody tr th:only-of-type {\n",
       "        vertical-align: middle;\n",
       "    }\n",
       "\n",
       "    .dataframe tbody tr th {\n",
       "        vertical-align: top;\n",
       "    }\n",
       "\n",
       "    .dataframe thead th {\n",
       "        text-align: right;\n",
       "    }\n",
       "</style>\n",
       "<table border=\"1\" class=\"dataframe\">\n",
       "  <thead>\n",
       "    <tr style=\"text-align: right;\">\n",
       "      <th></th>\n",
       "      <th>brand</th>\n",
       "      <th>year</th>\n",
       "      <th>week</th>\n",
       "      <th>country</th>\n",
       "      <th>season</th>\n",
       "      <th>month</th>\n",
       "      <th>gross_demand_quantity</th>\n",
       "      <th>net_qty</th>\n",
       "      <th>clearance</th>\n",
       "      <th>cost_of_sales</th>\n",
       "      <th>margin</th>\n",
       "      <th>season_gross_demand_quantity</th>\n",
       "      <th>season_net_qty</th>\n",
       "      <th>buy_availability</th>\n",
       "      <th>cost</th>\n",
       "    </tr>\n",
       "    <tr>\n",
       "      <th>article_number</th>\n",
       "      <th></th>\n",
       "      <th></th>\n",
       "      <th></th>\n",
       "      <th></th>\n",
       "      <th></th>\n",
       "      <th></th>\n",
       "      <th></th>\n",
       "      <th></th>\n",
       "      <th></th>\n",
       "      <th></th>\n",
       "      <th></th>\n",
       "      <th></th>\n",
       "      <th></th>\n",
       "      <th></th>\n",
       "      <th></th>\n",
       "    </tr>\n",
       "  </thead>\n",
       "  <tbody>\n",
       "    <tr>\n",
       "      <th>CM9169</th>\n",
       "      <td>reebok</td>\n",
       "      <td>2018</td>\n",
       "      <td>49</td>\n",
       "      <td>EU</td>\n",
       "      <td>SS19</td>\n",
       "      <td>12</td>\n",
       "      <td>1</td>\n",
       "      <td>1</td>\n",
       "      <td>0.0</td>\n",
       "      <td>23.706250</td>\n",
       "      <td>55.57</td>\n",
       "      <td>351</td>\n",
       "      <td>299</td>\n",
       "      <td>0.12</td>\n",
       "      <td>23.71</td>\n",
       "    </tr>\n",
       "    <tr>\n",
       "      <th>CM9169</th>\n",
       "      <td>reebok</td>\n",
       "      <td>2018</td>\n",
       "      <td>50</td>\n",
       "      <td>EU</td>\n",
       "      <td>SS19</td>\n",
       "      <td>12</td>\n",
       "      <td>2</td>\n",
       "      <td>1</td>\n",
       "      <td>0.0</td>\n",
       "      <td>23.755833</td>\n",
       "      <td>63.68</td>\n",
       "      <td>351</td>\n",
       "      <td>299</td>\n",
       "      <td>0.23</td>\n",
       "      <td>23.76</td>\n",
       "    </tr>\n",
       "    <tr>\n",
       "      <th>CM9169</th>\n",
       "      <td>reebok</td>\n",
       "      <td>2018</td>\n",
       "      <td>51</td>\n",
       "      <td>EU</td>\n",
       "      <td>SS19</td>\n",
       "      <td>12</td>\n",
       "      <td>7</td>\n",
       "      <td>7</td>\n",
       "      <td>0.0</td>\n",
       "      <td>23.855000</td>\n",
       "      <td>46.98</td>\n",
       "      <td>351</td>\n",
       "      <td>299</td>\n",
       "      <td>0.14</td>\n",
       "      <td>23.86</td>\n",
       "    </tr>\n",
       "    <tr>\n",
       "      <th>CM9169</th>\n",
       "      <td>reebok</td>\n",
       "      <td>2019</td>\n",
       "      <td>1</td>\n",
       "      <td>EU</td>\n",
       "      <td>SS19</td>\n",
       "      <td>1</td>\n",
       "      <td>1</td>\n",
       "      <td>1</td>\n",
       "      <td>1.0</td>\n",
       "      <td>23.920000</td>\n",
       "      <td>41.86</td>\n",
       "      <td>351</td>\n",
       "      <td>299</td>\n",
       "      <td>0.00</td>\n",
       "      <td>23.92</td>\n",
       "    </tr>\n",
       "    <tr>\n",
       "      <th>CM9169</th>\n",
       "      <td>reebok</td>\n",
       "      <td>2019</td>\n",
       "      <td>2</td>\n",
       "      <td>EU</td>\n",
       "      <td>SS19</td>\n",
       "      <td>1</td>\n",
       "      <td>7</td>\n",
       "      <td>5</td>\n",
       "      <td>1.0</td>\n",
       "      <td>23.878750</td>\n",
       "      <td>46.34</td>\n",
       "      <td>351</td>\n",
       "      <td>299</td>\n",
       "      <td>0.01</td>\n",
       "      <td>23.88</td>\n",
       "    </tr>\n",
       "  </tbody>\n",
       "</table>\n",
       "</div>"
      ],
      "text/plain": [
       "                 brand  year  week country season  month  \\\n",
       "article_number                                             \n",
       "CM9169          reebok  2018    49      EU   SS19     12   \n",
       "CM9169          reebok  2018    50      EU   SS19     12   \n",
       "CM9169          reebok  2018    51      EU   SS19     12   \n",
       "CM9169          reebok  2019     1      EU   SS19      1   \n",
       "CM9169          reebok  2019     2      EU   SS19      1   \n",
       "\n",
       "                gross_demand_quantity  net_qty  clearance  cost_of_sales  \\\n",
       "article_number                                                             \n",
       "CM9169                              1        1        0.0      23.706250   \n",
       "CM9169                              2        1        0.0      23.755833   \n",
       "CM9169                              7        7        0.0      23.855000   \n",
       "CM9169                              1        1        1.0      23.920000   \n",
       "CM9169                              7        5        1.0      23.878750   \n",
       "\n",
       "                margin  season_gross_demand_quantity  season_net_qty  \\\n",
       "article_number                                                         \n",
       "CM9169           55.57                           351             299   \n",
       "CM9169           63.68                           351             299   \n",
       "CM9169           46.98                           351             299   \n",
       "CM9169           41.86                           351             299   \n",
       "CM9169           46.34                           351             299   \n",
       "\n",
       "                buy_availability   cost  \n",
       "article_number                           \n",
       "CM9169                      0.12  23.71  \n",
       "CM9169                      0.23  23.76  \n",
       "CM9169                      0.14  23.86  \n",
       "CM9169                      0.00  23.92  \n",
       "CM9169                      0.01  23.88  "
      ]
     },
     "execution_count": 526,
     "metadata": {},
     "output_type": "execute_result"
    },
    {
     "ename": "IndexError",
     "evalue": "too many indices for array",
     "output_type": "error",
     "traceback": [
      "\u001b[0;31m---------------------------------------------------------------------------\u001b[0m",
      "\u001b[0;31mIndexError\u001b[0m                                Traceback (most recent call last)",
      "\u001b[0;32m<ipython-input-526-078076b94881>\u001b[0m in \u001b[0;36m<module>\u001b[0;34m\u001b[0m\n\u001b[1;32m      3\u001b[0m \u001b[0mf_est\u001b[0m \u001b[0;34m=\u001b[0m \u001b[0mGAS_est\u001b[0m\u001b[0;34m(\u001b[0m\u001b[0mdat_samp\u001b[0m\u001b[0;34m.\u001b[0m\u001b[0mnet_qty\u001b[0m\u001b[0;34m,\u001b[0m \u001b[0mdat_samp\u001b[0m\u001b[0;34m.\u001b[0m\u001b[0mbuy_availability\u001b[0m\u001b[0;34m)\u001b[0m\u001b[0;34m\u001b[0m\u001b[0;34m\u001b[0m\u001b[0m\n\u001b[1;32m      4\u001b[0m \u001b[0;34m\u001b[0m\u001b[0m\n\u001b[0;32m----> 5\u001b[0;31m \u001b[0md\u001b[0m \u001b[0;34m=\u001b[0m \u001b[0mpd\u001b[0m\u001b[0;34m.\u001b[0m\u001b[0mDataFrame\u001b[0m\u001b[0;34m(\u001b[0m\u001b[0;34m{\u001b[0m\u001b[0;34m'Obs_demand'\u001b[0m\u001b[0;34m:\u001b[0m \u001b[0mdat_samp\u001b[0m\u001b[0;34m.\u001b[0m\u001b[0mnet_qty\u001b[0m\u001b[0;34m,\u001b[0m \u001b[0;34m'Est_true_demand'\u001b[0m\u001b[0;34m:\u001b[0m \u001b[0mf_est\u001b[0m\u001b[0;34m[\u001b[0m\u001b[0;34m:\u001b[0m\u001b[0;34m,\u001b[0m\u001b[0;36m0\u001b[0m\u001b[0;34m]\u001b[0m\u001b[0;34m}\u001b[0m\u001b[0;34m)\u001b[0m\u001b[0;34m\u001b[0m\u001b[0;34m\u001b[0m\u001b[0m\n\u001b[0m\u001b[1;32m      6\u001b[0m \u001b[0;34m\u001b[0m\u001b[0m\n\u001b[1;32m      7\u001b[0m \u001b[0;31m# total real demand\u001b[0m\u001b[0;34m\u001b[0m\u001b[0;34m\u001b[0m\u001b[0;34m\u001b[0m\u001b[0m\n",
      "\u001b[0;31mIndexError\u001b[0m: too many indices for array"
     ]
    }
   ],
   "source": [
    "dat_samp = dat.loc[np.random.choice(dat.index, size = 1),:]\n",
    "dat_samp.head()\n",
    "f_est = GAS_est(dat_samp.net_qty, dat_samp.buy_availability)\n",
    "\n",
    "d = pd.DataFrame({'Obs_demand': dat_samp.net_qty, 'Est_true_demand': f_est[:,0]})\n",
    "\n",
    "# total real demand\n",
    "round(np.sum(f_est))\n",
    "\n",
    "# total observed demand\n",
    "np.sum(dat_samp.net_qty)\n",
    "\n",
    "pd.DataFrame(data = d).plot(linewidth = 4)\n",
    "# plt.ylim(0, 1200)\n",
    "plt.title('Observed & Estimated Gross Demand Quantity')\n",
    "\n",
    "pd.DataFrame(dat_samp.buy_availability).plot(linewidth = 4)\n",
    "plt.title('Buy Availability')\n",
    "#plt.ylabel('Real Data')"
   ]
  },
  {
   "cell_type": "code",
   "execution_count": null,
   "metadata": {},
   "outputs": [],
   "source": []
  }
 ],
 "metadata": {
  "celltoolbar": "Raw Cell Format",
  "hide_code_all_hidden": false,
  "kernelspec": {
   "display_name": "Python 3",
   "language": "python",
   "name": "python3"
  },
  "language_info": {
   "codemirror_mode": {
    "name": "ipython",
    "version": 3
   },
   "file_extension": ".py",
   "mimetype": "text/x-python",
   "name": "python",
   "nbconvert_exporter": "python",
   "pygments_lexer": "ipython3",
   "version": "3.7.1"
  }
 },
 "nbformat": 4,
 "nbformat_minor": 2
}
