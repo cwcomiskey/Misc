{
 "cells": [
  {
   "cell_type": "code",
   "execution_count": 1,
   "metadata": {
    "ExecuteTime": {
     "end_time": "2020-02-07T09:01:40.602869Z",
     "start_time": "2020-02-07T09:01:38.296457Z"
    },
    "code_folding": [
     0
    ],
    "scrolled": true
   },
   "outputs": [],
   "source": [
    "# imports \n",
    "\n",
    "import numpy as np\n",
    "import pandas as pd\n",
    "import multiprocessing\n",
    "\n",
    "import matplotlib.pyplot as plt\n",
    "import bokeh\n",
    "import bokeh.io\n",
    "from bokeh.plotting import figure\n",
    "from bokeh.io import output_notebook, show\n",
    "\n",
    "import seaborn as sns\n",
    "\n",
    "# import re\n",
    "# import math\n",
    "# import copy\n",
    "\n",
    "# from collections import defaultdict\n",
    "# import csv\n",
    "# import itertools\n",
    "# import datetime \n",
    "# from datetime import datetime\n",
    "# import time\n",
    "# import dateutil.parser\n",
    "# import pickle\n",
    "# import random\n",
    "\n",
    "# import gc\n",
    "# import zipfile\n",
    "# import sys, getopt\n",
    "# import os\n",
    "\n",
    "from IPython.core.interactiveshell import InteractiveShell\n",
    "from io import StringIO\n",
    "\n",
    "# import dask.dataframe as dd\n",
    "\n",
    "InteractiveShell.ast_node_interactivity = \"all\"\n",
    "# InteractiveShell.ast_node_interactivity = \"last\"\n",
    "\n",
    "# from IPython.core.display import display, HTML\n",
    "# display(HTML(\"<style>.container { width:100% !important; }</style>\"))"
   ]
  },
  {
   "cell_type": "code",
   "execution_count": 2,
   "metadata": {
    "ExecuteTime": {
     "end_time": "2020-02-07T09:01:41.076227Z",
     "start_time": "2020-02-07T09:01:40.603877Z"
    },
    "scrolled": true
   },
   "outputs": [],
   "source": [
    "import dask.dataframe as dd\n",
    "import functools\n",
    "import pandas as pd\n",
    "pd.set_option('display.max_rows', 500)\n",
    "pd.set_option('display.max_columns', 500)\n",
    "pd.set_option('display.width', 1000)"
   ]
  },
  {
   "cell_type": "code",
   "execution_count": null,
   "metadata": {
    "ExecuteTime": {
     "end_time": "2020-02-07T08:14:50.304845Z",
     "start_time": "2020-02-07T08:14:50.298885Z"
    },
    "code_folding": [
     0,
     19,
     27
    ],
    "scrolled": true
   },
   "outputs": [],
   "source": [
    "# Load from parquet files \n",
    "\n",
    "# CREDITOR_FILE_NAME = 'creditor.parquet'\n",
    "# SHIPMENT_FILE_NAME = 'shipment.parquet'\n",
    "# REALIZATION_FILE_NAME = 'realization.parquet'\n",
    "\n",
    "# shipment_file_name = '../data/shipment.parquet'\n",
    "# creditor_file_name = '../data/creditor.parquet'\n",
    "# realized_file_name = '../data/realization.parquet'\n",
    "# columns = None\n",
    "\n",
    "# shipments = (\n",
    "#     dd\n",
    "#     .read_parquet(shipment_file_name, columns=columns, engine='pyarrow')\n",
    "#     .sample(frac=2e-3, random_state=88)  # TODO remove this line to process the full dataset\n",
    "#     #.pipe(self._apply_queries, query_local_dicts)\n",
    "#     .compute()\n",
    "# ) # ~ 1.5 min\n",
    "\n",
    "# creditors = (\n",
    "#     dd\n",
    "#     .read_parquet(creditor_file_name, columns=columns, engine='pyarrow')\n",
    "#     .sample(frac=2e-3, random_state=88)  # TODO remove this line to process the full dataset\n",
    "#     #.pipe(self._apply_queries, query_local_dicts)\n",
    "#     .compute()\n",
    "# ) # 1.5 min\n",
    "\n",
    "# realized = (\n",
    "#     dd\n",
    "#     .read_parquet(realized_file_name, columns=columns, engine='pyarrow')\n",
    "#     .sample(frac=2e-3, random_state=88)  # TODO remove this line to process the full dataset\n",
    "#     #.pipe(self._apply_queries, query_local_dicts)\n",
    "#     .compute()\n",
    "# ) # ~5 min"
   ]
  },
  {
   "cell_type": "code",
   "execution_count": null,
   "metadata": {
    "ExecuteTime": {
     "end_time": "2020-02-07T08:41:46.636804Z",
     "start_time": "2020-02-07T08:41:19.376041Z"
    },
    "code_folding": [
     0
    ],
    "scrolled": true
   },
   "outputs": [],
   "source": [
    "# Save dataframes as .csv -- for development\n",
    "\n",
    "# Define and save dataframe data types\n",
    "\n",
    "# shipment_data_types = shipments.dtypes\n",
    "# creditor_data_types = creditors.dtypes\n",
    "# realized_data_types = realized.dtypes\n",
    "\n",
    "# shipment_data_types.to_csv('data/shipment_data_types.csv')\n",
    "# creditor_data_types.to_csv('data/creditor_data_types.csv')\n",
    "# realized_data_types.to_csv('data/realized_data_types.csv')\n",
    "\n",
    "# Save dataframe to .csv \n",
    "\n",
    "# shipments.to_csv('data/shipments.csv', index = True)\n",
    "# creditors.to_csv('data/creditors.csv', index = True)\n",
    "# realized.to_csv('data/realized.csv', index = True)"
   ]
  },
  {
   "cell_type": "code",
   "execution_count": 3,
   "metadata": {
    "ExecuteTime": {
     "end_time": "2020-02-07T09:01:41.227889Z",
     "start_time": "2020-02-07T09:01:41.211884Z"
    },
    "code_folding": [],
    "scrolled": true
   },
   "outputs": [],
   "source": [
    "# Load data types from .csv \n",
    "\n",
    "shipment_data_types = pd.read_csv('data/shipment_data_types.csv', index_col=0).iloc[:,0]\n",
    "creditor_data_types = pd.read_csv('data/creditor_data_types.csv', index_col=0).iloc[:,0]\n",
    "realized_data_types = pd.read_csv('data/realized_data_types.csv', index_col=0).iloc[:,0]\n",
    "\n",
    "# shipment_data_types.equals(shipment_data_types_test)\n",
    "# creditor_data_types.equals(creditor_data_types)\n",
    "# realized_data_types.equals(realized_data_types)"
   ]
  },
  {
   "cell_type": "code",
   "execution_count": 4,
   "metadata": {
    "ExecuteTime": {
     "end_time": "2020-02-07T09:01:47.003305Z",
     "start_time": "2020-02-07T09:01:41.939936Z"
    },
    "code_folding": [],
    "scrolled": true
   },
   "outputs": [],
   "source": [
    "# load dataframes from .csv \n",
    "\n",
    "ship0 = pd.read_csv('data/shipments.csv', low_memory = False, index_col=0).astype(shipment_data_types)\n",
    "cred0 = pd.read_csv('data/creditors.csv', low_memory = False, index_col=0).astype(creditor_data_types)\n",
    "real0 = pd.read_csv('realized.csv', low_memory = False, index_col=0).astype(realized_data_types)"
   ]
  },
  {
   "cell_type": "markdown",
   "metadata": {
    "heading_collapsed": true
   },
   "source": [
    "# EDA"
   ]
  },
  {
   "cell_type": "markdown",
   "metadata": {
    "heading_collapsed": true,
    "hidden": true
   },
   "source": [
    "## Creditor EDA"
   ]
  },
  {
   "cell_type": "code",
   "execution_count": null,
   "metadata": {
    "ExecuteTime": {
     "end_time": "2020-02-06T13:24:10.421997Z",
     "start_time": "2020-02-06T13:24:10.408996Z"
    },
    "hidden": true,
    "scrolled": true
   },
   "outputs": [],
   "source": [
    "# creditors0 = creditors.copy()\n",
    "\n",
    "creditors = creditors0.copy()"
   ]
  },
  {
   "cell_type": "code",
   "execution_count": null,
   "metadata": {
    "ExecuteTime": {
     "end_time": "2020-02-06T13:40:27.902869Z",
     "start_time": "2020-02-06T13:40:27.891866Z"
    },
    "hidden": true,
    "scrolled": true
   },
   "outputs": [],
   "source": [
    "creditors = creditors[[ 'vendor_name', 'terms_date_basis', 'invoice_number', 'invoice_amount', 'invoice_tax_amount', 'invoice_date', 'amount_paid', 'gross_amount', \n",
    "                       'amount_remaining', 'multiple_payment_schedule', 'purchasing_site_flag', 'po_number', 'multiple_po', 'invoice_status', 'holds', 'other_holds', \n",
    "                       'invoice_approval_status', 'pending_approver', 'working_days_pending_approver', 'iterations_in_workflow', 'date_invoice_received', 'creation_date', 'gl_date_invoice', 'due_date', 'currency', 'payment_date', 'cleared_date', \n",
    "                       'invoice_type', 'invoice_payment_status', 'payment_priority', 'source', 'invoice_id', 'line_type', 'invoice_accounted',\n",
    "                       'date_invoice_approved', 'date_invoice_holds_released', 'n_scheduled_payment_holds', 'snapshot_date']]\n"
   ]
  },
  {
   "cell_type": "code",
   "execution_count": null,
   "metadata": {
    "ExecuteTime": {
     "end_time": "2020-02-06T13:40:29.536977Z",
     "start_time": "2020-02-06T13:40:29.475977Z"
    },
    "hidden": true,
    "scrolled": true
   },
   "outputs": [],
   "source": [
    "for c in creditors.columns:\n",
    "    if isinstance(creditors[c].iloc[1], str):\n",
    "        print(c, ':', creditors[c].unique().size, creditors[c].unique()[:10])\n",
    "        print()"
   ]
  },
  {
   "cell_type": "code",
   "execution_count": null,
   "metadata": {
    "ExecuteTime": {
     "end_time": "2020-02-06T13:42:27.903514Z",
     "start_time": "2020-02-06T13:42:27.876606Z"
    },
    "hidden": true,
    "scrolled": true
   },
   "outputs": [],
   "source": [
    "creditors.shape\n",
    "creditors.head()"
   ]
  },
  {
   "cell_type": "code",
   "execution_count": null,
   "metadata": {
    "ExecuteTime": {
     "end_time": "2020-02-06T13:43:55.434000Z",
     "start_time": "2020-02-06T13:43:55.429966Z"
    },
    "hidden": true,
    "scrolled": true
   },
   "outputs": [],
   "source": [
    "creditors.vendor_name.iloc[0]"
   ]
  },
  {
   "cell_type": "code",
   "execution_count": null,
   "metadata": {
    "ExecuteTime": {
     "end_time": "2020-02-06T13:41:48.256190Z",
     "start_time": "2020-02-06T13:41:48.115191Z"
    },
    "hidden": true,
    "scrolled": true
   },
   "outputs": [],
   "source": [
    "plt.rcParams[\"figure.figsize\"] = [20,7]\n",
    "\n",
    "creditors.groupby('payment_date')['amount_paid'].sum().plot()"
   ]
  },
  {
   "cell_type": "markdown",
   "metadata": {
    "heading_collapsed": true,
    "hidden": true
   },
   "source": [
    "## Realization EDA"
   ]
  },
  {
   "cell_type": "code",
   "execution_count": null,
   "metadata": {
    "ExecuteTime": {
     "end_time": "2020-02-06T13:52:40.933404Z",
     "start_time": "2020-02-06T13:52:40.880245Z"
    },
    "hidden": true,
    "scrolled": true
   },
   "outputs": [],
   "source": [
    "# realized0 = realized.copy()\n",
    "\n",
    "realized = realized0.copy()"
   ]
  },
  {
   "cell_type": "code",
   "execution_count": null,
   "metadata": {
    "ExecuteTime": {
     "end_time": "2020-02-06T12:56:18.787726Z",
     "start_time": "2020-02-06T12:56:18.725690Z"
    },
    "hidden": true,
    "scrolled": true
   },
   "outputs": [],
   "source": [
    "realized = realized[['first', 'vendor_name', 'vendor_number', 'invoice_number', 'invoice_date', 'item_category',  \n",
    "       'line_type', 'account', 'process', 'product',  'elimination_code', 'verrekenpartij', \n",
    "       'booked_date', 'currency', 'booked_amount', 'rate',  'is_booked', 'invoice_amount', # ****\n",
    "       'gl_batch_name', 'gl_batch_posted_date', 'transfer_date', 'unit', 'unit_price', 'report_unit', # ****\n",
    "       'invoice_type', 'snapshot_date']]"
   ]
  },
  {
   "cell_type": "code",
   "execution_count": null,
   "metadata": {
    "ExecuteTime": {
     "end_time": "2020-02-06T12:57:02.546695Z",
     "start_time": "2020-02-06T12:57:02.542636Z"
    },
    "hidden": true,
    "scrolled": true
   },
   "outputs": [],
   "source": [
    "realized = realized[realized.snapshot_date == realized.snapshot_date.iloc[5000]]\n",
    "\n",
    "# realized.dtypes"
   ]
  },
  {
   "cell_type": "code",
   "execution_count": null,
   "metadata": {
    "ExecuteTime": {
     "end_time": "2020-02-06T13:02:41.333982Z",
     "start_time": "2020-02-06T13:02:41.292947Z"
    },
    "hidden": true,
    "scrolled": true
   },
   "outputs": [],
   "source": [
    "realized.shape\n",
    "realized.invoice_number.unique().size\n",
    "realized.invoice_date.unique().size\n",
    "realized.booked_date.unique().size\n",
    "realized['invoice_amount'].describe().round(2)\n",
    "\n",
    "realized.gl_batch_posted_date.unique().size\n",
    "realized.transfer_date.unique().size\n",
    "realized.report_unit.unique().size\n",
    "realized.invoice_type.unique()\n",
    "\n",
    "realized.head(10)\n"
   ]
  },
  {
   "cell_type": "code",
   "execution_count": null,
   "metadata": {
    "ExecuteTime": {
     "end_time": "2020-02-06T12:58:42.661411Z",
     "start_time": "2020-02-06T12:58:42.639137Z"
    },
    "hidden": true,
    "scrolled": false
   },
   "outputs": [],
   "source": [
    "for c in realized.columns:\n",
    "    if isinstance(realized[c].iloc[1], str):\n",
    "        print(c, ':', realized[c].unique().size, realized[c].unique()[:10])\n",
    "        print()\n"
   ]
  },
  {
   "cell_type": "code",
   "execution_count": null,
   "metadata": {
    "ExecuteTime": {
     "end_time": "2020-02-06T13:29:40.864883Z",
     "start_time": "2020-02-06T13:29:40.832857Z"
    },
    "hidden": true,
    "scrolled": true
   },
   "outputs": [],
   "source": [
    "creditors.head(3)"
   ]
  },
  {
   "cell_type": "code",
   "execution_count": null,
   "metadata": {
    "ExecuteTime": {
     "end_time": "2020-02-06T10:51:05.278770Z",
     "start_time": "2020-02-06T10:51:05.274760Z"
    },
    "code_folding": [
     0
    ],
    "hidden": true,
    "scrolled": false
   },
   "outputs": [],
   "source": [
    "# --- Notes ---\n",
    "# Interesting columns\n",
    "\n",
    "# item_category : 146\n",
    "# line_type : 10\n",
    "# project_number : 1758\n",
    "# object_code : 1\n",
    "# center_code : 1597\n",
    "# account : 60\n",
    "# process : 90\n",
    "# product : 63\n",
    "# elimination_code : 3\n",
    "# verrekenpartij : 22\n",
    "# currency : 9\n",
    "# rate : 609\n",
    "# is_booked : 2\n",
    "# expenditure_line_number : 3\n",
    "# expenditure_type : 7\n",
    "# gl_batch_name : 1255\n",
    "# po_type : 2\n",
    "# contract_number : 1\n",
    "# article_number : 2579\n",
    "# article_description : 2620\n",
    "# unit : 12\n",
    "# report_unit : 100\n",
    "# invoice_type : 3"
   ]
  },
  {
   "cell_type": "code",
   "execution_count": null,
   "metadata": {
    "hidden": true,
    "scrolled": true
   },
   "outputs": [],
   "source": [
    "# dat_aoi = run_data[run_data.article_number == aoi].copy()\n",
    "# dat_aoi = pd.merge(pd.DataFrame(dat_aoi.groupby(['year', 'week'])['net_qty'].sum()).reset_index(), dat_aoi[['year', 'week']].drop_duplicates())\n",
    "\n",
    "# dat_aoi.year = [str(x) for x in dat_aoi.year]\n",
    "# dat_aoi.week = [str(x) for x in dat_aoi.week]\n",
    "# dat_aoi['date'] = [dt.datetime.strptime(x[0] + '-' + x[1] + '-1', \"%Y-%W-%w\") for x in zip(dat_aoi.year, dat_aoi.week)]\n",
    "\n",
    "# plt.rcParams[\"figure.figsize\"] = [20,7]\n",
    "# dat_aoi[['date', 'net_qty']].set_index('date').plot(linewidth = 4)"
   ]
  },
  {
   "cell_type": "code",
   "execution_count": null,
   "metadata": {
    "ExecuteTime": {
     "end_time": "2020-02-06T13:15:39.854439Z",
     "start_time": "2020-02-06T13:15:39.718426Z"
    },
    "hidden": true,
    "scrolled": true
   },
   "outputs": [],
   "source": [
    "plt.rcParams[\"figure.figsize\"] = [20,7]\n",
    "\n",
    "realized.groupby('booked_date')['booked_amount'].sum().plot()"
   ]
  },
  {
   "cell_type": "code",
   "execution_count": null,
   "metadata": {
    "ExecuteTime": {
     "end_time": "2020-02-06T13:16:37.323944Z",
     "start_time": "2020-02-06T13:16:37.166946Z"
    },
    "hidden": true,
    "scrolled": true
   },
   "outputs": [],
   "source": [
    "realized.groupby('invoice_date')['booked_amount'].sum().plot()"
   ]
  },
  {
   "cell_type": "markdown",
   "metadata": {},
   "source": [
    "# Merging "
   ]
  },
  {
   "cell_type": "code",
   "execution_count": 27,
   "metadata": {
    "ExecuteTime": {
     "end_time": "2020-02-07T09:08:19.418565Z",
     "start_time": "2020-02-07T09:08:19.310587Z"
    }
   },
   "outputs": [],
   "source": [
    "cred = cred0.copy()\n",
    "ship = ship0.copy()\n",
    "real = real0.copy()"
   ]
  },
  {
   "cell_type": "code",
   "execution_count": null,
   "metadata": {
    "scrolled": true
   },
   "outputs": [],
   "source": [
    "# SQL query join\n",
    "# -------------\n",
    "# creditor\n",
    "#    LEFT JOIN real ON creditor.INVOICE_ID = real.INVOICE_ID \n",
    "#        LEFT JOIN ship ON real.PO_NR = ship.PO_PO_NUMBER AND real.PO_LINE_NR = ship.LINE_LINE_NUM "
   ]
  },
  {
   "cell_type": "code",
   "execution_count": 7,
   "metadata": {
    "ExecuteTime": {
     "end_time": "2020-02-07T09:01:58.516827Z",
     "start_time": "2020-02-07T09:01:58.513790Z"
    },
    "scrolled": true
   },
   "outputs": [],
   "source": [
    "# 'invoice_id' in cred.columns\n",
    "# 'invoice_id' in real.columns\n",
    "\n",
    "# 'po_number' in real.columns\n",
    "# 'po_number' in ship.columns\n",
    "\n",
    "# 'po_line_number' in real.columns\n",
    "# 'line_number' in ship.columns"
   ]
  },
  {
   "cell_type": "code",
   "execution_count": 35,
   "metadata": {
    "ExecuteTime": {
     "end_time": "2020-02-07T09:11:02.203628Z",
     "start_time": "2020-02-07T09:11:02.186633Z"
    }
   },
   "outputs": [],
   "source": [
    "# (1) reduce dataframes to common invoices\n",
    "# (2) drop NA's, b/c they interfere with converting invoice_id to string\n",
    "\n",
    "cred = cred[cred.invoice_id.isin(real.invoice_id)].dropna(subset = ['invoice_id'])\n",
    "real = real[real.invoice_id.isin(cred.invoice_id)].dropna(subset = ['invoice_id'])\n",
    "\n",
    "cred['invoice_id'] = cred['invoice_id'].astype(int).astype(str)\n",
    "real['invoice_id'] = real['invoice_id'].astype(int).astype(str)"
   ]
  },
  {
   "cell_type": "code",
   "execution_count": 38,
   "metadata": {
    "ExecuteTime": {
     "end_time": "2020-02-07T09:13:13.155732Z",
     "start_time": "2020-02-07T09:13:13.148726Z"
    }
   },
   "outputs": [
    {
     "data": {
      "text/plain": [
       "(4892, 66)"
      ]
     },
     "execution_count": 38,
     "metadata": {},
     "output_type": "execute_result"
    },
    {
     "data": {
      "text/plain": [
       "(6520, 51)"
      ]
     },
     "execution_count": 38,
     "metadata": {},
     "output_type": "execute_result"
    }
   ],
   "source": [
    "cred.shape\n",
    "real.shape"
   ]
  },
  {
   "cell_type": "code",
   "execution_count": 39,
   "metadata": {
    "ExecuteTime": {
     "end_time": "2020-02-07T09:13:57.437477Z",
     "start_time": "2020-02-07T09:13:57.172342Z"
    }
   },
   "outputs": [],
   "source": [
    "cred_real = pd.merge(cred, real, how = 'left', on = 'invoice_id')"
   ]
  },
  {
   "cell_type": "code",
   "execution_count": 41,
   "metadata": {
    "ExecuteTime": {
     "end_time": "2020-02-07T09:16:34.913553Z",
     "start_time": "2020-02-07T09:16:34.899548Z"
    }
   },
   "outputs": [
    {
     "ename": "KeyError",
     "evalue": "'po_number'",
     "output_type": "error",
     "traceback": [
      "\u001b[1;31m---------------------------------------------------------------------------\u001b[0m",
      "\u001b[1;31mKeyError\u001b[0m                                  Traceback (most recent call last)",
      "\u001b[1;32m<ipython-input-41-9b9da88df575>\u001b[0m in \u001b[0;36m<module>\u001b[1;34m\u001b[0m\n\u001b[1;32m----> 1\u001b[1;33m \u001b[0mall3\u001b[0m \u001b[1;33m=\u001b[0m \u001b[0mpd\u001b[0m\u001b[1;33m.\u001b[0m\u001b[0mmerge\u001b[0m\u001b[1;33m(\u001b[0m\u001b[0mcred_real\u001b[0m\u001b[1;33m,\u001b[0m \u001b[0mship\u001b[0m\u001b[1;33m,\u001b[0m \u001b[0mhow\u001b[0m \u001b[1;33m=\u001b[0m \u001b[1;34m'left'\u001b[0m\u001b[1;33m,\u001b[0m \u001b[0mleft_on\u001b[0m\u001b[1;33m=\u001b[0m\u001b[1;33m[\u001b[0m\u001b[1;34m'po_number'\u001b[0m\u001b[1;33m,\u001b[0m \u001b[1;34m'po_line_number'\u001b[0m\u001b[1;33m]\u001b[0m\u001b[1;33m,\u001b[0m \u001b[0mright_on\u001b[0m \u001b[1;33m=\u001b[0m \u001b[1;33m[\u001b[0m\u001b[1;34m'po_number'\u001b[0m\u001b[1;33m,\u001b[0m \u001b[1;34m'line_number'\u001b[0m\u001b[1;33m]\u001b[0m\u001b[1;33m)\u001b[0m\u001b[1;33m\u001b[0m\u001b[0m\n\u001b[0m",
      "\u001b[1;32mc:\\users\\comis500\\projects\\free_cash_flow_forecasting\\venv\\lib\\site-packages\\pandas\\core\\reshape\\merge.py\u001b[0m in \u001b[0;36mmerge\u001b[1;34m(left, right, how, on, left_on, right_on, left_index, right_index, sort, suffixes, copy, indicator, validate)\u001b[0m\n\u001b[0;32m     84\u001b[0m         \u001b[0mcopy\u001b[0m\u001b[1;33m=\u001b[0m\u001b[0mcopy\u001b[0m\u001b[1;33m,\u001b[0m\u001b[1;33m\u001b[0m\u001b[0m\n\u001b[0;32m     85\u001b[0m         \u001b[0mindicator\u001b[0m\u001b[1;33m=\u001b[0m\u001b[0mindicator\u001b[0m\u001b[1;33m,\u001b[0m\u001b[1;33m\u001b[0m\u001b[0m\n\u001b[1;32m---> 86\u001b[1;33m         \u001b[0mvalidate\u001b[0m\u001b[1;33m=\u001b[0m\u001b[0mvalidate\u001b[0m\u001b[1;33m,\u001b[0m\u001b[1;33m\u001b[0m\u001b[0m\n\u001b[0m\u001b[0;32m     87\u001b[0m     )\n\u001b[0;32m     88\u001b[0m     \u001b[1;32mreturn\u001b[0m \u001b[0mop\u001b[0m\u001b[1;33m.\u001b[0m\u001b[0mget_result\u001b[0m\u001b[1;33m(\u001b[0m\u001b[1;33m)\u001b[0m\u001b[1;33m\u001b[0m\u001b[0m\n",
      "\u001b[1;32mc:\\users\\comis500\\projects\\free_cash_flow_forecasting\\venv\\lib\\site-packages\\pandas\\core\\reshape\\merge.py\u001b[0m in \u001b[0;36m__init__\u001b[1;34m(self, left, right, how, on, left_on, right_on, axis, left_index, right_index, sort, suffixes, copy, indicator, validate)\u001b[0m\n\u001b[0;32m    625\u001b[0m             \u001b[0mself\u001b[0m\u001b[1;33m.\u001b[0m\u001b[0mright_join_keys\u001b[0m\u001b[1;33m,\u001b[0m\u001b[1;33m\u001b[0m\u001b[0m\n\u001b[0;32m    626\u001b[0m             \u001b[0mself\u001b[0m\u001b[1;33m.\u001b[0m\u001b[0mjoin_names\u001b[0m\u001b[1;33m,\u001b[0m\u001b[1;33m\u001b[0m\u001b[0m\n\u001b[1;32m--> 627\u001b[1;33m         ) = self._get_merge_keys()\n\u001b[0m\u001b[0;32m    628\u001b[0m \u001b[1;33m\u001b[0m\u001b[0m\n\u001b[0;32m    629\u001b[0m         \u001b[1;31m# validate the merge keys dtypes. We may need to coerce\u001b[0m\u001b[1;33m\u001b[0m\u001b[1;33m\u001b[0m\u001b[0m\n",
      "\u001b[1;32mc:\\users\\comis500\\projects\\free_cash_flow_forecasting\\venv\\lib\\site-packages\\pandas\\core\\reshape\\merge.py\u001b[0m in \u001b[0;36m_get_merge_keys\u001b[1;34m(self)\u001b[0m\n\u001b[0;32m    994\u001b[0m                         \u001b[0mright_keys\u001b[0m\u001b[1;33m.\u001b[0m\u001b[0mappend\u001b[0m\u001b[1;33m(\u001b[0m\u001b[0mrk\u001b[0m\u001b[1;33m)\u001b[0m\u001b[1;33m\u001b[0m\u001b[0m\n\u001b[0;32m    995\u001b[0m                     \u001b[1;32mif\u001b[0m \u001b[0mlk\u001b[0m \u001b[1;32mis\u001b[0m \u001b[1;32mnot\u001b[0m \u001b[1;32mNone\u001b[0m\u001b[1;33m:\u001b[0m\u001b[1;33m\u001b[0m\u001b[0m\n\u001b[1;32m--> 996\u001b[1;33m                         \u001b[0mleft_keys\u001b[0m\u001b[1;33m.\u001b[0m\u001b[0mappend\u001b[0m\u001b[1;33m(\u001b[0m\u001b[0mleft\u001b[0m\u001b[1;33m.\u001b[0m\u001b[0m_get_label_or_level_values\u001b[0m\u001b[1;33m(\u001b[0m\u001b[0mlk\u001b[0m\u001b[1;33m)\u001b[0m\u001b[1;33m)\u001b[0m\u001b[1;33m\u001b[0m\u001b[0m\n\u001b[0m\u001b[0;32m    997\u001b[0m                         \u001b[0mjoin_names\u001b[0m\u001b[1;33m.\u001b[0m\u001b[0mappend\u001b[0m\u001b[1;33m(\u001b[0m\u001b[0mlk\u001b[0m\u001b[1;33m)\u001b[0m\u001b[1;33m\u001b[0m\u001b[0m\n\u001b[0;32m    998\u001b[0m                     \u001b[1;32melse\u001b[0m\u001b[1;33m:\u001b[0m\u001b[1;33m\u001b[0m\u001b[0m\n",
      "\u001b[1;32mc:\\users\\comis500\\projects\\free_cash_flow_forecasting\\venv\\lib\\site-packages\\pandas\\core\\generic.py\u001b[0m in \u001b[0;36m_get_label_or_level_values\u001b[1;34m(self, key, axis)\u001b[0m\n\u001b[0;32m   1689\u001b[0m             \u001b[0mvalues\u001b[0m \u001b[1;33m=\u001b[0m \u001b[0mself\u001b[0m\u001b[1;33m.\u001b[0m\u001b[0maxes\u001b[0m\u001b[1;33m[\u001b[0m\u001b[0maxis\u001b[0m\u001b[1;33m]\u001b[0m\u001b[1;33m.\u001b[0m\u001b[0mget_level_values\u001b[0m\u001b[1;33m(\u001b[0m\u001b[0mkey\u001b[0m\u001b[1;33m)\u001b[0m\u001b[1;33m.\u001b[0m\u001b[0m_values\u001b[0m\u001b[1;33m\u001b[0m\u001b[0m\n\u001b[0;32m   1690\u001b[0m         \u001b[1;32melse\u001b[0m\u001b[1;33m:\u001b[0m\u001b[1;33m\u001b[0m\u001b[0m\n\u001b[1;32m-> 1691\u001b[1;33m             \u001b[1;32mraise\u001b[0m \u001b[0mKeyError\u001b[0m\u001b[1;33m(\u001b[0m\u001b[0mkey\u001b[0m\u001b[1;33m)\u001b[0m\u001b[1;33m\u001b[0m\u001b[0m\n\u001b[0m\u001b[0;32m   1692\u001b[0m \u001b[1;33m\u001b[0m\u001b[0m\n\u001b[0;32m   1693\u001b[0m         \u001b[1;31m# Check for duplicates\u001b[0m\u001b[1;33m\u001b[0m\u001b[1;33m\u001b[0m\u001b[0m\n",
      "\u001b[1;31mKeyError\u001b[0m: 'po_number'"
     ]
    }
   ],
   "source": [
    "all3 = pd.merge(cred_real, ship, how = 'left', left_on=['po_number', 'po_line_number'], right_on = ['po_number', 'line_number'])\n",
    "\n"
   ]
  },
  {
   "cell_type": "markdown",
   "metadata": {},
   "source": [
    "# Appendix"
   ]
  },
  {
   "cell_type": "code",
   "execution_count": null,
   "metadata": {
    "ExecuteTime": {
     "end_time": "2020-02-06T09:06:15.231413Z",
     "start_time": "2020-02-06T09:06:13.931338Z"
    },
    "code_folding": [],
    "scrolled": false
   },
   "outputs": [],
   "source": [
    "# test = test.astype(dt)\n",
    "\n",
    "# test.equals(realized)\n",
    "\n",
    "# realized.po_number.iloc[0]\n",
    "# test.po_number.iloc[0]\n",
    "\n",
    "# neq = realized.iloc[0] == test.iloc[0]\n",
    "\n",
    "# realized.columns[neq]"
   ]
  }
 ],
 "metadata": {
  "kernelspec": {
   "display_name": "Python 3",
   "language": "python",
   "name": "python3"
  },
  "language_info": {
   "codemirror_mode": {
    "name": "ipython",
    "version": 3
   },
   "file_extension": ".py",
   "mimetype": "text/x-python",
   "name": "python",
   "nbconvert_exporter": "python",
   "pygments_lexer": "ipython3",
   "version": "3.7.0"
  }
 },
 "nbformat": 4,
 "nbformat_minor": 4
}
