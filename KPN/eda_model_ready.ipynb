{
 "cells": [
  {
   "cell_type": "code",
   "execution_count": 3,
   "metadata": {
    "ExecuteTime": {
     "end_time": "2020-02-14T10:18:10.976217Z",
     "start_time": "2020-02-14T10:18:10.966546Z"
    },
    "code_folding": [
     0
    ],
    "scrolled": true
   },
   "outputs": [
    {
     "data": {
      "text/html": [
       "<style>.container { width:100% !important; }</style>"
      ],
      "text/plain": [
       "<IPython.core.display.HTML object>"
      ]
     },
     "metadata": {},
     "output_type": "display_data"
    }
   ],
   "source": [
    "# imports \n",
    "\n",
    "import numpy as np\n",
    "import pandas as pd\n",
    "import multiprocessing\n",
    "\n",
    "import matplotlib.pyplot as plt\n",
    "import bokeh\n",
    "import bokeh.io\n",
    "from bokeh.plotting import figure\n",
    "from bokeh.io import output_notebook, show\n",
    "\n",
    "import seaborn as sns\n",
    "\n",
    "import datetime\n",
    "# from datetime import datetime\n",
    "# import time\n",
    "# import dateutil.parser\n",
    "# import random\n",
    "from random import sample \n",
    "\n",
    "from IPython.core.interactiveshell import InteractiveShell\n",
    "from io import StringIO\n",
    "\n",
    "InteractiveShell.ast_node_interactivity = \"all\"\n",
    "# InteractiveShell.ast_node_interactivity = \"last\"\n",
    "\n",
    "from IPython.core.display import display, HTML\n",
    "display(HTML(\"<style>.container { width:100% !important; }</style>\"))\n",
    "\n",
    "import dask.dataframe as dd\n",
    "import functools\n",
    "import pandas as pd\n",
    "pd.set_option('display.max_rows', 500)\n",
    "pd.set_option('display.max_columns', 500)\n"
   ]
  },
  {
   "cell_type": "code",
   "execution_count": 55,
   "metadata": {
    "ExecuteTime": {
     "end_time": "2020-02-14T10:58:36.979274Z",
     "start_time": "2020-02-14T10:58:36.975262Z"
    }
   },
   "outputs": [],
   "source": [
    "# import SA packages\n",
    "from lifelines import (CoxPHFitter, KaplanMeierFitter, NelsonAalenFitter,\n",
    "                       WeibullFitter, ExponentialFitter, LogNormalFitter, \n",
    "                       LogLogisticFitter, NelsonAalenFitter, \n",
    "                       PiecewiseExponentialFitter, GeneralizedGammaFitter, SplineFitter)\n",
    "\n",
    "from lifelines.plotting import plot_lifetimes\n"
   ]
  },
  {
   "cell_type": "code",
   "execution_count": 4,
   "metadata": {
    "ExecuteTime": {
     "end_time": "2020-02-14T10:18:23.729092Z",
     "start_time": "2020-02-14T10:18:11.772304Z"
    },
    "scrolled": true
   },
   "outputs": [],
   "source": [
    "df0 = pd.read_csv('data/ship_df_final.csv', low_memory=False)"
   ]
  },
  {
   "cell_type": "code",
   "execution_count": 12,
   "metadata": {
    "ExecuteTime": {
     "end_time": "2020-02-14T10:23:23.751416Z",
     "start_time": "2020-02-14T10:23:23.514391Z"
    },
    "scrolled": true
   },
   "outputs": [],
   "source": [
    "df = df0.copy()"
   ]
  },
  {
   "cell_type": "code",
   "execution_count": 13,
   "metadata": {
    "ExecuteTime": {
     "end_time": "2020-02-14T10:24:54.795795Z",
     "start_time": "2020-02-14T10:23:27.044272Z"
    }
   },
   "outputs": [],
   "source": [
    "df['year'] = [pd.to_datetime(d).year for d in df.order_date]\n",
    "df = df.query('year >= 2018') # scope"
   ]
  },
  {
   "cell_type": "code",
   "execution_count": 15,
   "metadata": {
    "ExecuteTime": {
     "end_time": "2020-02-14T10:25:29.008872Z",
     "start_time": "2020-02-14T10:25:28.806820Z"
    },
    "scrolled": true
   },
   "outputs": [],
   "source": [
    "# Event\n",
    "df.loc[:, 'event'] = df['invoice_payment_status'].apply(lambda x: 1 if x == 'Fully paid' else 0 )"
   ]
  },
  {
   "cell_type": "code",
   "execution_count": 16,
   "metadata": {
    "ExecuteTime": {
     "end_time": "2020-02-14T10:26:19.909935Z",
     "start_time": "2020-02-14T10:25:43.012024Z"
    }
   },
   "outputs": [],
   "source": [
    "# Time\n",
    "df['order_date'] = [pd.to_datetime(d) for d in df.order_date]\n",
    "df['last_date_cycle'] = [pd.to_datetime(d) for d in df.last_date_cycle]\n",
    "\n",
    "df['t'] = (df.last_date_cycle - df.order_date).dt.days"
   ]
  },
  {
   "cell_type": "code",
   "execution_count": 19,
   "metadata": {
    "ExecuteTime": {
     "end_time": "2020-02-14T10:27:38.928646Z",
     "start_time": "2020-02-14T10:27:38.132882Z"
    },
    "scrolled": true
   },
   "outputs": [
    {
     "data": {
      "image/png": "[encoded data removed]",
      "text/plain": [
       "<Figure size 720x360 with 1 Axes>"
      ]
     },
     "metadata": {
      "needs_background": "light"
     },
     "output_type": "display_data"
    }
   ],
   "source": [
    "plt.rcParams[\"figure.figsize\"] = [10,5]\n",
    "\n",
    "df.query('event == 1').t.hist(bins = np.arange(0, 551, 5))\n",
    "pass;"
   ]
  },
  {
   "cell_type": "code",
   "execution_count": null,
   "metadata": {
    "ExecuteTime": {
     "end_time": "2020-02-14T10:28:33.700033Z",
     "start_time": "2020-02-14T10:28:33.672994Z"
    },
    "scrolled": true
   },
   "outputs": [],
   "source": [
    "df.po_terms.value_counts(dropna = False)"
   ]
  },
  {
   "cell_type": "code",
   "execution_count": 21,
   "metadata": {
    "ExecuteTime": {
     "end_time": "2020-02-14T10:28:49.021627Z",
     "start_time": "2020-02-14T10:28:46.297131Z"
    },
    "scrolled": true
   },
   "outputs": [
    {
     "data": {
      "image/png": "[encoded data removed]",
      "text/plain": [
       "<Figure size 720x360 with 9 Axes>"
      ]
     },
     "metadata": {
      "needs_background": "light"
     },
     "output_type": "display_data"
    }
   ],
   "source": [
    "plt.rcParams[\"figure.figsize\"] = [10,5]\n",
    "\n",
    "\n",
    "df[df.po_terms.isin(['N90', 'N30', 'N60', 'N45', 'N07',\n",
    "       'N25', 'N55'])].query('event == 1').t.hist(bins = np.arange(0, 251, 5), by = df.po_terms)\n",
    "\n",
    "pass;"
   ]
  },
  {
   "cell_type": "markdown",
   "metadata": {},
   "source": [
    "## Top level"
   ]
  },
  {
   "cell_type": "markdown",
   "metadata": {
    "ExecuteTime": {
     "end_time": "2020-02-14T10:36:31.394867Z",
     "start_time": "2020-02-14T10:36:31.390836Z"
    }
   },
   "source": [
    "### Empiricals: KM and NA"
   ]
  },
  {
   "cell_type": "code",
   "execution_count": 50,
   "metadata": {
    "ExecuteTime": {
     "end_time": "2020-02-14T10:55:18.119749Z",
     "start_time": "2020-02-14T10:55:17.595111Z"
    }
   },
   "outputs": [
    {
     "data": {
      "text/plain": [
       "<matplotlib.axes._subplots.AxesSubplot at 0x1c2c88169b0>"
      ]
     },
     "execution_count": 50,
     "metadata": {},
     "output_type": "execute_result"
    },
    {
     "data": {
      "text/plain": [
       "<matplotlib.axes._subplots.AxesSubplot at 0x1c2c88169b0>"
      ]
     },
     "execution_count": 50,
     "metadata": {},
     "output_type": "execute_result"
    },
    {
     "data": {
      "image/png": "[encoded data removed]",
      "text/plain": [
       "<Figure size 720x360 with 1 Axes>"
      ]
     },
     "metadata": {
      "needs_background": "light"
     },
     "output_type": "display_data"
    }
   ],
   "source": [
    "t = df.t\n",
    "e = df.event\n",
    "\n",
    "kmf = KaplanMeierFitter().fit(t, e, label='KaplanMeierFitter')\n",
    "naf = NelsonAalenFitter().fit(t, e, label='NelsonAalenFitter')\n",
    "\n",
    "\n",
    "kmf.plot_survival_function()\n",
    "naf.plot_cumulative_hazard()"
   ]
  },
  {
   "cell_type": "markdown",
   "metadata": {},
   "source": [
    "### Weibull"
   ]
  },
  {
   "cell_type": "code",
   "execution_count": 41,
   "metadata": {
    "ExecuteTime": {
     "end_time": "2020-02-14T10:41:27.294149Z",
     "start_time": "2020-02-14T10:41:27.290060Z"
    }
   },
   "outputs": [],
   "source": [
    "# Weibull distribution, x, shape, scale\n",
    "def weib(x, k, l): \n",
    "    return (k / l) * (x / l)**(k - 1) * np.exp(-(x / l)**k)"
   ]
  },
  {
   "cell_type": "code",
   "execution_count": null,
   "metadata": {
    "ExecuteTime": {
     "end_time": "2020-02-13T14:59:20.726002Z",
     "start_time": "2020-02-13T14:59:20.680655Z"
    }
   },
   "outputs": [],
   "source": [
    "# df = df.query(\"po_terms == 'N90' & t != 0\")"
   ]
  },
  {
   "cell_type": "code",
   "execution_count": 33,
   "metadata": {
    "ExecuteTime": {
     "end_time": "2020-02-14T10:38:32.239030Z",
     "start_time": "2020-02-14T10:38:32.063389Z"
    }
   },
   "outputs": [
    {
     "data": {
      "text/plain": [
       "(166476, 78)"
      ]
     },
     "execution_count": 33,
     "metadata": {},
     "output_type": "execute_result"
    },
    {
     "data": {
      "text/plain": [
       "(166211, 78)"
      ]
     },
     "execution_count": 33,
     "metadata": {},
     "output_type": "execute_result"
    }
   ],
   "source": [
    "df.shape\n",
    "df = df[df.t != 0]\n",
    "df.shape"
   ]
  },
  {
   "cell_type": "code",
   "execution_count": 35,
   "metadata": {
    "ExecuteTime": {
     "end_time": "2020-02-14T10:38:57.318925Z",
     "start_time": "2020-02-14T10:38:56.484068Z"
    }
   },
   "outputs": [
    {
     "data": {
      "text/plain": [
       "<lifelines.WeibullFitter:\"Weibull_estimate\", fitted with 166211 total observations, 44782 right-censored observations>"
      ]
     },
     "execution_count": 35,
     "metadata": {},
     "output_type": "execute_result"
    },
    {
     "data": {
      "text/html": [
       "<div>\n",
       "<style scoped>\n",
       "    .dataframe tbody tr th:only-of-type {\n",
       "        vertical-align: middle;\n",
       "    }\n",
       "\n",
       "    .dataframe tbody tr th {\n",
       "        vertical-align: top;\n",
       "    }\n",
       "\n",
       "    .dataframe thead th {\n",
       "        text-align: right;\n",
       "    }\n",
       "</style>\n",
       "<table border=\"1\" class=\"dataframe\">\n",
       "  <tbody>\n",
       "    <tr>\n",
       "      <th>model</th>\n",
       "      <td>lifelines.WeibullFitter</td>\n",
       "    </tr>\n",
       "    <tr>\n",
       "      <th>number of observations</th>\n",
       "      <td>166211</td>\n",
       "    </tr>\n",
       "    <tr>\n",
       "      <th>number of events observed</th>\n",
       "      <td>121429</td>\n",
       "    </tr>\n",
       "    <tr>\n",
       "      <th>log-likelihood</th>\n",
       "      <td>-746512.56</td>\n",
       "    </tr>\n",
       "    <tr>\n",
       "      <th>hypothesis</th>\n",
       "      <td>lambda_ != 1, rho_ != 1</td>\n",
       "    </tr>\n",
       "  </tbody>\n",
       "</table>\n",
       "</div><table border=\"1\" class=\"dataframe\">\n",
       "  <thead>\n",
       "    <tr style=\"text-align: right;\">\n",
       "      <th></th>\n",
       "      <th>coef</th>\n",
       "      <th>se(coef)</th>\n",
       "      <th>coef lower 95%</th>\n",
       "      <th>coef upper 95%</th>\n",
       "      <th>z</th>\n",
       "      <th>p</th>\n",
       "      <th>-log2(p)</th>\n",
       "    </tr>\n",
       "  </thead>\n",
       "  <tbody>\n",
       "    <tr>\n",
       "      <th>lambda_</th>\n",
       "      <td>181.84</td>\n",
       "      <td>0.42</td>\n",
       "      <td>181.02</td>\n",
       "      <td>182.67</td>\n",
       "      <td>429.89</td>\n",
       "      <td>&lt;0.005</td>\n",
       "      <td>inf</td>\n",
       "    </tr>\n",
       "    <tr>\n",
       "      <th>rho_</th>\n",
       "      <td>1.25</td>\n",
       "      <td>0.00</td>\n",
       "      <td>1.24</td>\n",
       "      <td>1.25</td>\n",
       "      <td>93.00</td>\n",
       "      <td>&lt;0.005</td>\n",
       "      <td>inf</td>\n",
       "    </tr>\n",
       "  </tbody>\n",
       "</table>"
      ],
      "text/plain": [
       "<IPython.core.display.HTML object>"
      ]
     },
     "metadata": {},
     "output_type": "display_data"
    }
   ],
   "source": [
    "t = df.t\n",
    "e = df.event\n",
    "\n",
    "wf = WeibullFitter()\n",
    "wf.fit(t, e)\n",
    "\n",
    "wf.print_summary()"
   ]
  },
  {
   "cell_type": "code",
   "execution_count": 57,
   "metadata": {
    "ExecuteTime": {
     "end_time": "2020-02-14T10:59:43.154540Z",
     "start_time": "2020-02-14T10:59:42.016356Z"
    }
   },
   "outputs": [
    {
     "data": {
      "image/png": "[encoded data removed]",
      "text/plain": [
       "<Figure size 720x360 with 1 Axes>"
      ]
     },
     "metadata": {
      "needs_background": "light"
     },
     "output_type": "display_data"
    }
   ],
   "source": [
    "kmf.plot_survival_function()\n",
    "wf.plot_survival_function()\n",
    "plt.title('Survival Function')\n",
    "\n",
    "pass;"
   ]
  },
  {
   "cell_type": "code",
   "execution_count": 54,
   "metadata": {
    "ExecuteTime": {
     "end_time": "2020-02-14T10:55:53.851043Z",
     "start_time": "2020-02-14T10:55:53.279657Z"
    }
   },
   "outputs": [
    {
     "data": {
      "image/png": "[encoded data removed]",
      "text/plain": [
       "<Figure size 720x360 with 1 Axes>"
      ]
     },
     "metadata": {
      "needs_background": "light"
     },
     "output_type": "display_data"
    }
   ],
   "source": [
    "plt.hist(t, bins = np.arange(0, 551, 5), density = True)\n",
    "\n",
    "x = np.arange(0, 551)\n",
    "plt.plot(x, weib(x, k = wf.rho_, l = wf.lambda_), linewidth = 4)\n",
    "\n",
    "pass;"
   ]
  },
  {
   "cell_type": "markdown",
   "metadata": {
    "ExecuteTime": {
     "end_time": "2020-02-14T10:36:01.003820Z",
     "start_time": "2020-02-14T10:36:00.999821Z"
    }
   },
   "source": [
    "## Regression"
   ]
  },
  {
   "cell_type": "code",
   "execution_count": 58,
   "metadata": {
    "ExecuteTime": {
     "end_time": "2020-02-14T11:01:02.580229Z",
     "start_time": "2020-02-14T11:01:02.486218Z"
    }
   },
   "outputs": [
    {
     "data": {
      "text/html": [
       "<div>\n",
       "<style scoped>\n",
       "    .dataframe tbody tr th:only-of-type {\n",
       "        vertical-align: middle;\n",
       "    }\n",
       "\n",
       "    .dataframe tbody tr th {\n",
       "        vertical-align: top;\n",
       "    }\n",
       "\n",
       "    .dataframe thead th {\n",
       "        text-align: right;\n",
       "    }\n",
       "</style>\n",
       "<table border=\"1\" class=\"dataframe\">\n",
       "  <thead>\n",
       "    <tr style=\"text-align: right;\">\n",
       "      <th></th>\n",
       "      <th>invoice_id</th>\n",
       "      <th>po_line_unique_id</th>\n",
       "      <th>first</th>\n",
       "      <th>po_number</th>\n",
       "      <th>release</th>\n",
       "      <th>requisition_number</th>\n",
       "      <th>requisition_line</th>\n",
       "      <th>po_type</th>\n",
       "      <th>po_approval_status</th>\n",
       "      <th>order_date</th>\n",
       "      <th>supplier</th>\n",
       "      <th>supplier_site</th>\n",
       "      <th>currency</th>\n",
       "      <th>rate</th>\n",
       "      <th>buyer</th>\n",
       "      <th>po_closure_status</th>\n",
       "      <th>po_cancelled</th>\n",
       "      <th>po_description,</th>\n",
       "      <th>line_number</th>\n",
       "      <th>line_category</th>\n",
       "      <th>line_description</th>\n",
       "      <th>line_quantity</th>\n",
       "      <th>uom</th>\n",
       "      <th>unit_price</th>\n",
       "      <th>line_amount</th>\n",
       "      <th>line_type</th>\n",
       "      <th>line_cancelled</th>\n",
       "      <th>line_closure_status</th>\n",
       "      <th>shipment_number</th>\n",
       "      <th>shipment_cancelled</th>\n",
       "      <th>shipment_amount</th>\n",
       "      <th>shipment_quantity</th>\n",
       "      <th>quantity_due</th>\n",
       "      <th>quantity_received</th>\n",
       "      <th>quantity_accepted</th>\n",
       "      <th>quantity_rejected</th>\n",
       "      <th>quantity_billed</th>\n",
       "      <th>quantity_cancelled</th>\n",
       "      <th>authorization</th>\n",
       "      <th>need_by_date</th>\n",
       "      <th>promised_date</th>\n",
       "      <th>invoice_match_option</th>\n",
       "      <th>accrue_on_receipt</th>\n",
       "      <th>distribution_number</th>\n",
       "      <th>charge_account</th>\n",
       "      <th>distribution_amount</th>\n",
       "      <th>requestor</th>\n",
       "      <th>preparer</th>\n",
       "      <th>project</th>\n",
       "      <th>project_type</th>\n",
       "      <th>expenditure_type</th>\n",
       "      <th>task</th>\n",
       "      <th>project_asset_name</th>\n",
       "      <th>receipt_number</th>\n",
       "      <th>transaction_receipt_date</th>\n",
       "      <th>item</th>\n",
       "      <th>matching_type</th>\n",
       "      <th>ship_to_location</th>\n",
       "      <th>planner</th>\n",
       "      <th>subinventory</th>\n",
       "      <th>distribution_category</th>\n",
       "      <th>invoice_number</th>\n",
       "      <th>contract_number</th>\n",
       "      <th>thuiskopieerheffing</th>\n",
       "      <th>po_terms</th>\n",
       "      <th>original_promised_date</th>\n",
       "      <th>po_header_id</th>\n",
       "      <th>po_line_id</th>\n",
       "      <th>supplier_id</th>\n",
       "      <th>supplier_number</th>\n",
       "      <th>party_id</th>\n",
       "      <th>vendor_site_id</th>\n",
       "      <th>snapshot_date</th>\n",
       "      <th>invoice_payment_status</th>\n",
       "      <th>last_date_cycle</th>\n",
       "      <th>year</th>\n",
       "      <th>event</th>\n",
       "      <th>t</th>\n",
       "    </tr>\n",
       "  </thead>\n",
       "  <tbody>\n",
       "    <tr>\n",
       "      <th>146825</th>\n",
       "      <td>4890338.0</td>\n",
       "      <td>3263928_1</td>\n",
       "      <td>D</td>\n",
       "      <td>3263928</td>\n",
       "      <td>NaN</td>\n",
       "      <td>7285853.0</td>\n",
       "      <td>1.0</td>\n",
       "      <td>Standard Purchase Order</td>\n",
       "      <td>APPROVED</td>\n",
       "      <td>2018-03-29 14:10:21</td>\n",
       "      <td>Huawei Technologies (Netherlands) B.V.</td>\n",
       "      <td>EUR AMSTERDAM</td>\n",
       "      <td>EUR</td>\n",
       "      <td>NaN</td>\n",
       "      <td>Kanhai</td>\n",
       "      <td>CLOSED</td>\n",
       "      <td>False</td>\n",
       "      <td>NaN</td>\n",
       "      <td>1.0</td>\n",
       "      <td>0145</td>\n",
       "      <td>840086 Hua NE40E-M2 Base SW</td>\n",
       "      <td>90.0</td>\n",
       "      <td>STK</td>\n",
       "      <td>432.0</td>\n",
       "      <td>38880.0</td>\n",
       "      <td>Goods</td>\n",
       "      <td>False</td>\n",
       "      <td>CLOSED</td>\n",
       "      <td>1</td>\n",
       "      <td>NaN</td>\n",
       "      <td>38880.0</td>\n",
       "      <td>90.0</td>\n",
       "      <td>0.0</td>\n",
       "      <td>90.0</td>\n",
       "      <td>0.0</td>\n",
       "      <td>0.0</td>\n",
       "      <td>90.0</td>\n",
       "      <td>0.0</td>\n",
       "      <td>APPROVED</td>\n",
       "      <td>2018-04-03 11:22:32</td>\n",
       "      <td>NaN</td>\n",
       "      <td>PO</td>\n",
       "      <td>Y</td>\n",
       "      <td>1.0</td>\n",
       "      <td>336.13348.0340.XXXX.XXXX.X.XXX.0000.0000</td>\n",
       "      <td>38880.0</td>\n",
       "      <td>Tempel</td>\n",
       "      <td>Tempel</td>\n",
       "      <td>K30325</td>\n",
       "      <td>Doorlopende Invest</td>\n",
       "      <td>Licenties</td>\n",
       "      <td>2.C.140</td>\n",
       "      <td>NaN</td>\n",
       "      <td>842889.0</td>\n",
       "      <td>2018-04-23 14:03:20</td>\n",
       "      <td>NaN</td>\n",
       "      <td>3-Way</td>\n",
       "      <td>AMF 30091 A</td>\n",
       "      <td>NaN</td>\n",
       "      <td>NaN</td>\n",
       "      <td>NaN</td>\n",
       "      <td>NL1706166,NL1802131,NL1802153</td>\n",
       "      <td>3054163.0</td>\n",
       "      <td>NaN</td>\n",
       "      <td>N90</td>\n",
       "      <td>NaN</td>\n",
       "      <td>4855113.0</td>\n",
       "      <td>4459852.0</td>\n",
       "      <td>4029.0</td>\n",
       "      <td>34335.0</td>\n",
       "      <td>NaN</td>\n",
       "      <td>NaN</td>\n",
       "      <td>2019-04-12 13:25:02</td>\n",
       "      <td>Fully paid</td>\n",
       "      <td>2018-04-06</td>\n",
       "      <td>2018</td>\n",
       "      <td>1</td>\n",
       "      <td>7</td>\n",
       "    </tr>\n",
       "    <tr>\n",
       "      <th>146826</th>\n",
       "      <td>4890338.0</td>\n",
       "      <td>3263928_2</td>\n",
       "      <td>D</td>\n",
       "      <td>3263928</td>\n",
       "      <td>NaN</td>\n",
       "      <td>7285853.0</td>\n",
       "      <td>2.0</td>\n",
       "      <td>Standard Purchase Order</td>\n",
       "      <td>APPROVED</td>\n",
       "      <td>2018-03-29 14:10:21</td>\n",
       "      <td>Huawei Technologies (Netherlands) B.V.</td>\n",
       "      <td>EUR AMSTERDAM</td>\n",
       "      <td>EUR</td>\n",
       "      <td>NaN</td>\n",
       "      <td>Kanhai</td>\n",
       "      <td>CLOSED</td>\n",
       "      <td>False</td>\n",
       "      <td>NaN</td>\n",
       "      <td>2.0</td>\n",
       "      <td>0145</td>\n",
       "      <td>840086 Hua NE40E-M2 Base SW</td>\n",
       "      <td>90.0</td>\n",
       "      <td>STK</td>\n",
       "      <td>432.0</td>\n",
       "      <td>38880.0</td>\n",
       "      <td>Goods</td>\n",
       "      <td>False</td>\n",
       "      <td>CLOSED</td>\n",
       "      <td>1</td>\n",
       "      <td>NaN</td>\n",
       "      <td>38880.0</td>\n",
       "      <td>90.0</td>\n",
       "      <td>0.0</td>\n",
       "      <td>90.0</td>\n",
       "      <td>0.0</td>\n",
       "      <td>0.0</td>\n",
       "      <td>90.0</td>\n",
       "      <td>0.0</td>\n",
       "      <td>APPROVED</td>\n",
       "      <td>2018-04-03 11:22:32</td>\n",
       "      <td>NaN</td>\n",
       "      <td>PO</td>\n",
       "      <td>Y</td>\n",
       "      <td>1.0</td>\n",
       "      <td>336.13348.0340.XXXX.XXXX.X.XXX.0000.0000</td>\n",
       "      <td>38880.0</td>\n",
       "      <td>Tempel</td>\n",
       "      <td>Tempel</td>\n",
       "      <td>K30325</td>\n",
       "      <td>Doorlopende Invest</td>\n",
       "      <td>Licenties</td>\n",
       "      <td>2.C.140</td>\n",
       "      <td>NaN</td>\n",
       "      <td>842889.0</td>\n",
       "      <td>2018-04-23 14:03:20</td>\n",
       "      <td>NaN</td>\n",
       "      <td>3-Way</td>\n",
       "      <td>AMF 30091 A</td>\n",
       "      <td>NaN</td>\n",
       "      <td>NaN</td>\n",
       "      <td>NaN</td>\n",
       "      <td>NL1706166,NL1802131,NL1802153</td>\n",
       "      <td>3054163.0</td>\n",
       "      <td>NaN</td>\n",
       "      <td>N90</td>\n",
       "      <td>NaN</td>\n",
       "      <td>4855113.0</td>\n",
       "      <td>4459853.0</td>\n",
       "      <td>4029.0</td>\n",
       "      <td>34335.0</td>\n",
       "      <td>NaN</td>\n",
       "      <td>NaN</td>\n",
       "      <td>2019-04-12 13:25:02</td>\n",
       "      <td>Fully paid</td>\n",
       "      <td>2018-04-06</td>\n",
       "      <td>2018</td>\n",
       "      <td>1</td>\n",
       "      <td>7</td>\n",
       "    </tr>\n",
       "    <tr>\n",
       "      <th>148084</th>\n",
       "      <td>4947367.0</td>\n",
       "      <td>3255314_1</td>\n",
       "      <td>D</td>\n",
       "      <td>3255314</td>\n",
       "      <td>NaN</td>\n",
       "      <td>7270593.0</td>\n",
       "      <td>1.0</td>\n",
       "      <td>Standard Purchase Order</td>\n",
       "      <td>APPROVED</td>\n",
       "      <td>2018-01-03 10:24:44</td>\n",
       "      <td>Cisco Systems Management B.V.</td>\n",
       "      <td>USD AMSTERDAM</td>\n",
       "      <td>USD</td>\n",
       "      <td>0.83382</td>\n",
       "      <td>Douglas Kabel</td>\n",
       "      <td>CLOSED</td>\n",
       "      <td>False</td>\n",
       "      <td>Deal ID 18146432  Web Order ID 82249860</td>\n",
       "      <td>1.0</td>\n",
       "      <td>0152</td>\n",
       "      <td>Dec 2017 McAfee support     4716658122  -</td>\n",
       "      <td>1.0</td>\n",
       "      <td>STK</td>\n",
       "      <td>60060.0</td>\n",
       "      <td>60060.0</td>\n",
       "      <td>Services</td>\n",
       "      <td>False</td>\n",
       "      <td>CLOSED</td>\n",
       "      <td>1</td>\n",
       "      <td>NaN</td>\n",
       "      <td>60060.0</td>\n",
       "      <td>1.0</td>\n",
       "      <td>1.0</td>\n",
       "      <td>0.0</td>\n",
       "      <td>0.0</td>\n",
       "      <td>0.0</td>\n",
       "      <td>1.0</td>\n",
       "      <td>0.0</td>\n",
       "      <td>APPROVED</td>\n",
       "      <td>2017-12-15 00:00:00</td>\n",
       "      <td>NaN</td>\n",
       "      <td>PO</td>\n",
       "      <td>N</td>\n",
       "      <td>1.0</td>\n",
       "      <td>250.42041.4200.XXXX.XXXX.X.XXX.0000.0000</td>\n",
       "      <td>60060.0</td>\n",
       "      <td>Capriles</td>\n",
       "      <td>Mahesh</td>\n",
       "      <td>NaN</td>\n",
       "      <td>NaN</td>\n",
       "      <td>NaN</td>\n",
       "      <td>NaN</td>\n",
       "      <td>NaN</td>\n",
       "      <td>NaN</td>\n",
       "      <td>NaN</td>\n",
       "      <td>NaN</td>\n",
       "      <td>2-Way</td>\n",
       "      <td>Eenmalig adres</td>\n",
       "      <td>NaN</td>\n",
       "      <td>NaN</td>\n",
       "      <td>NaN</td>\n",
       "      <td>11655940</td>\n",
       "      <td>3233949.0</td>\n",
       "      <td>NaN</td>\n",
       "      <td>N90</td>\n",
       "      <td>NaN</td>\n",
       "      <td>4316174.0</td>\n",
       "      <td>3890905.0</td>\n",
       "      <td>3212.0</td>\n",
       "      <td>3050.0</td>\n",
       "      <td>NaN</td>\n",
       "      <td>NaN</td>\n",
       "      <td>2019-04-12 13:25:02</td>\n",
       "      <td>Fully paid</td>\n",
       "      <td>2018-01-15</td>\n",
       "      <td>2018</td>\n",
       "      <td>1</td>\n",
       "      <td>11</td>\n",
       "    </tr>\n",
       "  </tbody>\n",
       "</table>\n",
       "</div>"
      ],
      "text/plain": [
       "        invoice_id po_line_unique_id first  po_number  release  \\\n",
       "146825   4890338.0         3263928_1     D    3263928      NaN   \n",
       "146826   4890338.0         3263928_2     D    3263928      NaN   \n",
       "148084   4947367.0         3255314_1     D    3255314      NaN   \n",
       "\n",
       "        requisition_number  requisition_line                  po_type  \\\n",
       "146825           7285853.0               1.0  Standard Purchase Order   \n",
       "146826           7285853.0               2.0  Standard Purchase Order   \n",
       "148084           7270593.0               1.0  Standard Purchase Order   \n",
       "\n",
       "       po_approval_status          order_date  \\\n",
       "146825           APPROVED 2018-03-29 14:10:21   \n",
       "146826           APPROVED 2018-03-29 14:10:21   \n",
       "148084           APPROVED 2018-01-03 10:24:44   \n",
       "\n",
       "                                      supplier  supplier_site currency  \\\n",
       "146825  Huawei Technologies (Netherlands) B.V.  EUR AMSTERDAM      EUR   \n",
       "146826  Huawei Technologies (Netherlands) B.V.  EUR AMSTERDAM      EUR   \n",
       "148084           Cisco Systems Management B.V.  USD AMSTERDAM      USD   \n",
       "\n",
       "           rate          buyer po_closure_status  po_cancelled  \\\n",
       "146825      NaN         Kanhai            CLOSED         False   \n",
       "146826      NaN         Kanhai            CLOSED         False   \n",
       "148084  0.83382  Douglas Kabel            CLOSED         False   \n",
       "\n",
       "                                po_description,  line_number line_category  \\\n",
       "146825                                      NaN          1.0          0145   \n",
       "146826                                      NaN          2.0          0145   \n",
       "148084  Deal ID 18146432  Web Order ID 82249860          1.0          0152   \n",
       "\n",
       "                                 line_description  line_quantity  uom  \\\n",
       "146825                840086 Hua NE40E-M2 Base SW           90.0  STK   \n",
       "146826                840086 Hua NE40E-M2 Base SW           90.0  STK   \n",
       "148084  Dec 2017 McAfee support     4716658122  -            1.0  STK   \n",
       "\n",
       "        unit_price  line_amount line_type  line_cancelled line_closure_status  \\\n",
       "146825       432.0      38880.0     Goods           False              CLOSED   \n",
       "146826       432.0      38880.0     Goods           False              CLOSED   \n",
       "148084     60060.0      60060.0  Services           False              CLOSED   \n",
       "\n",
       "        shipment_number shipment_cancelled  shipment_amount  \\\n",
       "146825                1                NaN          38880.0   \n",
       "146826                1                NaN          38880.0   \n",
       "148084                1                NaN          60060.0   \n",
       "\n",
       "        shipment_quantity  quantity_due  quantity_received  quantity_accepted  \\\n",
       "146825               90.0           0.0               90.0                0.0   \n",
       "146826               90.0           0.0               90.0                0.0   \n",
       "148084                1.0           1.0                0.0                0.0   \n",
       "\n",
       "        quantity_rejected  quantity_billed  quantity_cancelled authorization  \\\n",
       "146825                0.0             90.0                 0.0      APPROVED   \n",
       "146826                0.0             90.0                 0.0      APPROVED   \n",
       "148084                0.0              1.0                 0.0      APPROVED   \n",
       "\n",
       "               need_by_date promised_date invoice_match_option  \\\n",
       "146825  2018-04-03 11:22:32           NaN                   PO   \n",
       "146826  2018-04-03 11:22:32           NaN                   PO   \n",
       "148084  2017-12-15 00:00:00           NaN                   PO   \n",
       "\n",
       "       accrue_on_receipt  distribution_number  \\\n",
       "146825                 Y                  1.0   \n",
       "146826                 Y                  1.0   \n",
       "148084                 N                  1.0   \n",
       "\n",
       "                                  charge_account  distribution_amount  \\\n",
       "146825  336.13348.0340.XXXX.XXXX.X.XXX.0000.0000              38880.0   \n",
       "146826  336.13348.0340.XXXX.XXXX.X.XXX.0000.0000              38880.0   \n",
       "148084  250.42041.4200.XXXX.XXXX.X.XXX.0000.0000              60060.0   \n",
       "\n",
       "       requestor preparer project        project_type expenditure_type  \\\n",
       "146825    Tempel   Tempel  K30325  Doorlopende Invest        Licenties   \n",
       "146826    Tempel   Tempel  K30325  Doorlopende Invest        Licenties   \n",
       "148084  Capriles   Mahesh     NaN                 NaN              NaN   \n",
       "\n",
       "           task  project_asset_name  receipt_number transaction_receipt_date  \\\n",
       "146825  2.C.140                 NaN        842889.0      2018-04-23 14:03:20   \n",
       "146826  2.C.140                 NaN        842889.0      2018-04-23 14:03:20   \n",
       "148084      NaN                 NaN             NaN                      NaN   \n",
       "\n",
       "       item matching_type ship_to_location planner subinventory  \\\n",
       "146825  NaN         3-Way      AMF 30091 A     NaN          NaN   \n",
       "146826  NaN         3-Way      AMF 30091 A     NaN          NaN   \n",
       "148084  NaN         2-Way   Eenmalig adres     NaN          NaN   \n",
       "\n",
       "        distribution_category                 invoice_number  contract_number  \\\n",
       "146825                    NaN  NL1706166,NL1802131,NL1802153        3054163.0   \n",
       "146826                    NaN  NL1706166,NL1802131,NL1802153        3054163.0   \n",
       "148084                    NaN                       11655940        3233949.0   \n",
       "\n",
       "       thuiskopieerheffing po_terms original_promised_date  po_header_id  \\\n",
       "146825                 NaN      N90                    NaN     4855113.0   \n",
       "146826                 NaN      N90                    NaN     4855113.0   \n",
       "148084                 NaN      N90                    NaN     4316174.0   \n",
       "\n",
       "        po_line_id  supplier_id  supplier_number  party_id  vendor_site_id  \\\n",
       "146825   4459852.0       4029.0          34335.0       NaN             NaN   \n",
       "146826   4459853.0       4029.0          34335.0       NaN             NaN   \n",
       "148084   3890905.0       3212.0           3050.0       NaN             NaN   \n",
       "\n",
       "              snapshot_date invoice_payment_status last_date_cycle  year  \\\n",
       "146825  2019-04-12 13:25:02             Fully paid      2018-04-06  2018   \n",
       "146826  2019-04-12 13:25:02             Fully paid      2018-04-06  2018   \n",
       "148084  2019-04-12 13:25:02             Fully paid      2018-01-15  2018   \n",
       "\n",
       "        event   t  \n",
       "146825      1   7  \n",
       "146826      1   7  \n",
       "148084      1  11  "
      ]
     },
     "execution_count": 58,
     "metadata": {},
     "output_type": "execute_result"
    }
   ],
   "source": [
    "df.head(3)"
   ]
  },
  {
   "cell_type": "code",
   "execution_count": null,
   "metadata": {},
   "outputs": [],
   "source": [
    "# Subset for initial regression experimentation "
   ]
  },
  {
   "cell_type": "code",
   "execution_count": null,
   "metadata": {},
   "outputs": [],
   "source": [
    "cph = CoxPHFitter()\n",
    "cph.fit(rossi_dataset, duration_col='week', event_col='arrest')\n",
    "\n",
    "cph.print_summary()  # access the results using cph.summary"
   ]
  },
  {
   "cell_type": "markdown",
   "metadata": {},
   "source": [
    "## Survival Analysis"
   ]
  },
  {
   "cell_type": "code",
   "execution_count": null,
   "metadata": {
    "ExecuteTime": {
     "end_time": "2020-02-13T14:55:57.950675Z",
     "start_time": "2020-02-13T14:55:57.940712Z"
    }
   },
   "outputs": [],
   "source": [
    "from lifelines import WeibullFitter\n",
    "from lifelines.datasets import load_waltons\n",
    "\n",
    "df.po_terms.unique()#value_counts(dropna=False)"
   ]
  },
  {
   "cell_type": "markdown",
   "metadata": {},
   "source": [
    "# Appendix"
   ]
  },
  {
   "cell_type": "code",
   "execution_count": null,
   "metadata": {
    "ExecuteTime": {
     "end_time": "2020-02-13T13:15:16.440525Z",
     "start_time": "2020-02-13T13:14:46.997528Z"
    },
    "code_folding": [
     0
    ],
    "scrolled": true
   },
   "outputs": [],
   "source": [
    "# parse() dates \n",
    "# from datetime import datetime\n",
    "# from dateutil.parser import parse\n",
    "# import pandas as pd\n",
    "\n",
    "# parse(df.order_date[10])\n",
    "\n",
    "# datetime_str = '09/19/18 13:55:26'\n",
    "# parse(datetime_str)\n",
    "\n",
    "# pd.Series([pd.to_datetime(d).year for d in df.order_date]).value_counts()"
   ]
  },
  {
   "cell_type": "code",
   "execution_count": null,
   "metadata": {
    "ExecuteTime": {
     "end_time": "2020-02-13T13:52:04.770159Z",
     "start_time": "2020-02-13T13:52:04.746671Z"
    },
    "code_folding": [
     0
    ],
    "scrolled": true
   },
   "outputs": [],
   "source": [
    "# to_datetime() \n",
    "# df['year'] = [pd.to_datetime(d).year for d in df.order_date]\n",
    "\n",
    "# df.groupby('year')['invoice_payment_status'].value_counts(dropna=False)\n",
    "# df.shape\n"
   ]
  },
  {
   "cell_type": "code",
   "execution_count": null,
   "metadata": {
    "ExecuteTime": {
     "end_time": "2020-02-13T15:17:02.488219Z",
     "start_time": "2020-02-13T15:17:02.486182Z"
    },
    "code_folding": [
     0
    ]
   },
   "outputs": [],
   "source": [
    "# Weibull \n",
    "# def weib(x, n, a): \n",
    "#     return (a / n) * (x / n)**(a - 1) * np.exp(-(x / n)**a)\n",
    "\n",
    "# count, bins, ignored = plt.hist(np.random.weibull(5.,1000))\n",
    "# x = np.arange(1,100.)/50.\n",
    "# scale = count.max()/weib(x, 1., 5.).max()\n",
    "# plt.plot(x, weib(x, 1., 5.)*scale)\n",
    "# plt.show()"
   ]
  },
  {
   "cell_type": "code",
   "execution_count": null,
   "metadata": {
    "ExecuteTime": {
     "end_time": "2020-02-13T13:49:04.841575Z",
     "start_time": "2020-02-13T13:49:04.824583Z"
    },
    "code_folding": [
     0
    ],
    "scrolled": true
   },
   "outputs": [],
   "source": [
    "# Column finder \n",
    "# df.columns[['status' in c for c in df.columns]]\n",
    "# df[df.columns[['date' in c for c in df.columns]]].head(2)"
   ]
  }
 ],
 "metadata": {
  "kernelspec": {
   "display_name": "Python 3",
   "language": "python",
   "name": "python3"
  },
  "language_info": {
   "codemirror_mode": {
    "name": "ipython",
    "version": 3
   },
   "file_extension": ".py",
   "mimetype": "text/x-python",
   "name": "python",
   "nbconvert_exporter": "python",
   "pygments_lexer": "ipython3",
   "version": "3.7.0"
  }
 },
 "nbformat": 4,
 "nbformat_minor": 4
}
