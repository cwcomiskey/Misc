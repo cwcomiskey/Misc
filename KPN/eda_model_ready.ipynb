{
 "cells": [
  {
   "cell_type": "code",
   "execution_count": 153,
   "metadata": {
    "ExecuteTime": {
     "end_time": "2020-02-13T14:46:49.918706Z",
     "start_time": "2020-02-13T14:46:49.912705Z"
    },
    "code_folding": [
     0
    ],
    "scrolled": true
   },
   "outputs": [
    {
     "data": {
      "text/html": [
       "<style>.container { width:100% !important; }</style>"
      ],
      "text/plain": [
       "<IPython.core.display.HTML object>"
      ]
     },
     "metadata": {},
     "output_type": "display_data"
    }
   ],
   "source": [
    "# imports \n",
    "\n",
    "import numpy as np\n",
    "import pandas as pd\n",
    "import multiprocessing\n",
    "\n",
    "import matplotlib.pyplot as plt\n",
    "import bokeh\n",
    "import bokeh.io\n",
    "from bokeh.plotting import figure\n",
    "from bokeh.io import output_notebook, show\n",
    "\n",
    "import seaborn as sns\n",
    "\n",
    "# import re\n",
    "# import math\n",
    "# import copy\n",
    "\n",
    "# from collections import defaultdict\n",
    "# import csv\n",
    "# import itertools\n",
    "import datetime\n",
    "# from datetime import datetime\n",
    "# import time\n",
    "# import dateutil.parser\n",
    "# import pickle\n",
    "# import random\n",
    "\n",
    "# import gc\n",
    "# import zipfile\n",
    "# import sys, getopt\n",
    "# import os\n",
    "\n",
    "from IPython.core.interactiveshell import InteractiveShell\n",
    "from io import StringIO\n",
    "\n",
    "# import dask.dataframe as dd\n",
    "\n",
    "InteractiveShell.ast_node_interactivity = \"all\"\n",
    "# InteractiveShell.ast_node_interactivity = \"last\"\n",
    "\n",
    "from IPython.core.display import display, HTML\n",
    "display(HTML(\"<style>.container { width:100% !important; }</style>\"))\n",
    "\n",
    "from random import sample \n",
    "\n",
    "\n",
    "import dask.dataframe as dd\n",
    "import functools\n",
    "import pandas as pd\n",
    "pd.set_option('display.max_rows', 500)\n",
    "pd.set_option('display.max_columns', 500)\n"
   ]
  },
  {
   "cell_type": "code",
   "execution_count": null,
   "metadata": {
    "ExecuteTime": {
     "end_time": "2020-02-13T12:36:43.931554Z",
     "start_time": "2020-02-13T12:36:38.345485Z"
    },
    "scrolled": true
   },
   "outputs": [],
   "source": [
    "df0 = pd.read_csv('data/ship_df_final.csv', low_memory=False)"
   ]
  },
  {
   "cell_type": "code",
   "execution_count": null,
   "metadata": {
    "ExecuteTime": {
     "end_time": "2020-02-13T13:43:36.511890Z",
     "start_time": "2020-02-13T13:43:36.409708Z"
    },
    "scrolled": true
   },
   "outputs": [],
   "source": [
    "df = df0.copy()"
   ]
  },
  {
   "cell_type": "raw",
   "metadata": {
    "ExecuteTime": {
     "end_time": "2020-02-13T13:46:27.520798Z",
     "start_time": "2020-02-13T13:46:27.398766Z"
    }
   },
   "source": [
    "df['year'] = [pd.to_datetime(d).year for d in df.order_date]\n",
    "\n",
    "df = df.query('year >= 2018')"
   ]
  },
  {
   "cell_type": "code",
   "execution_count": null,
   "metadata": {
    "ExecuteTime": {
     "end_time": "2020-02-13T13:46:32.863951Z",
     "start_time": "2020-02-13T13:46:32.760991Z"
    },
    "scrolled": true
   },
   "outputs": [],
   "source": [
    "df.shape\n",
    "df.po_cancelled.value_counts()\n",
    "\n",
    "df.columns[['status' in c for c in df.columns]]"
   ]
  },
  {
   "cell_type": "code",
   "execution_count": null,
   "metadata": {
    "ExecuteTime": {
     "end_time": "2020-02-13T13:49:04.841575Z",
     "start_time": "2020-02-13T13:49:04.824583Z"
    },
    "scrolled": true
   },
   "outputs": [],
   "source": [
    "df[df.columns[['date' in c for c in df.columns]]].head(2)"
   ]
  },
  {
   "cell_type": "code",
   "execution_count": null,
   "metadata": {
    "ExecuteTime": {
     "end_time": "2020-02-13T13:52:28.083718Z",
     "start_time": "2020-02-13T13:52:28.038706Z"
    },
    "scrolled": true
   },
   "outputs": [],
   "source": [
    "df['event'] = df['invoice_payment_status'].apply(lambda x: 1 if x == 'Fully paid' else 0 )"
   ]
  },
  {
   "cell_type": "code",
   "execution_count": null,
   "metadata": {
    "ExecuteTime": {
     "end_time": "2020-02-13T13:59:30.714418Z",
     "start_time": "2020-02-13T13:59:18.484368Z"
    },
    "scrolled": true
   },
   "outputs": [],
   "source": [
    "df['last_date_cycle'] = [pd.to_datetime(d) for d in df.last_date_cycle]"
   ]
  },
  {
   "cell_type": "code",
   "execution_count": null,
   "metadata": {
    "ExecuteTime": {
     "end_time": "2020-02-13T13:59:51.393633Z",
     "start_time": "2020-02-13T13:59:38.733567Z"
    },
    "scrolled": true
   },
   "outputs": [],
   "source": [
    "df['order_date'] = [pd.to_datetime(d) for d in df.order_date]"
   ]
  },
  {
   "cell_type": "code",
   "execution_count": null,
   "metadata": {
    "ExecuteTime": {
     "end_time": "2020-02-13T14:03:53.246998Z",
     "start_time": "2020-02-13T14:03:53.237000Z"
    },
    "scrolled": true
   },
   "outputs": [],
   "source": [
    "df['t'] = (df.last_date_cycle - df.order_date).dt.days"
   ]
  },
  {
   "cell_type": "code",
   "execution_count": null,
   "metadata": {
    "ExecuteTime": {
     "end_time": "2020-02-13T14:05:37.451369Z",
     "start_time": "2020-02-13T14:05:37.446368Z"
    },
    "scrolled": true
   },
   "outputs": [],
   "source": [
    "df.t.describe().round(0)\n",
    "df.event.mean().round(3)"
   ]
  },
  {
   "cell_type": "code",
   "execution_count": null,
   "metadata": {
    "ExecuteTime": {
     "end_time": "2020-02-13T14:31:48.615761Z",
     "start_time": "2020-02-13T14:31:48.556761Z"
    },
    "scrolled": true
   },
   "outputs": [],
   "source": [
    "df.head(3)\n",
    "df.po_terms.value_counts(dropna=False)"
   ]
  },
  {
   "cell_type": "code",
   "execution_count": null,
   "metadata": {
    "ExecuteTime": {
     "end_time": "2020-02-13T14:25:19.163323Z",
     "start_time": "2020-02-13T14:25:19.159288Z"
    },
    "scrolled": true
   },
   "outputs": [],
   "source": [
    "np.arange(0, 551, 10)"
   ]
  },
  {
   "cell_type": "code",
   "execution_count": 158,
   "metadata": {
    "ExecuteTime": {
     "end_time": "2020-02-13T14:49:45.222669Z",
     "start_time": "2020-02-13T14:49:44.969661Z"
    },
    "scrolled": true
   },
   "outputs": [
    {
     "data": {
      "image/png": "[encoded data removed]",
      "text/plain": [
       "<Figure size 720x360 with 1 Axes>"
      ]
     },
     "metadata": {
      "needs_background": "light"
     },
     "output_type": "display_data"
    }
   ],
   "source": [
    "plt.rcParams[\"figure.figsize\"] = [10,5]\n",
    "\n",
    "\n",
    "df.query('event == 1').t.hist(bins = np.arange(0, 551, 5))\n",
    "pass;"
   ]
  },
  {
   "cell_type": "code",
   "execution_count": null,
   "metadata": {
    "ExecuteTime": {
     "end_time": "2020-02-13T14:32:49.034503Z",
     "start_time": "2020-02-13T14:32:49.019503Z"
    },
    "scrolled": true
   },
   "outputs": [],
   "source": [
    "df.po_terms.value_counts(dropna=False)"
   ]
  },
  {
   "cell_type": "code",
   "execution_count": 175,
   "metadata": {
    "ExecuteTime": {
     "end_time": "2020-02-13T15:00:24.325356Z",
     "start_time": "2020-02-13T15:00:23.361312Z"
    },
    "scrolled": true
   },
   "outputs": [
    {
     "data": {
      "image/png": "[encoded data removed]",
      "text/plain": [
       "<Figure size 720x360 with 9 Axes>"
      ]
     },
     "metadata": {
      "needs_background": "light"
     },
     "output_type": "display_data"
    }
   ],
   "source": [
    "plt.rcParams[\"figure.figsize\"] = [10,5]\n",
    "\n",
    "\n",
    "df[df.po_terms.isin(['N90', 'N30', 'N60', 'N45', 'N07',\n",
    "       'N25', 'N55'])].query('event == 1').t.hist(bins = np.arange(0, 251, 5), by = df.po_terms)\n",
    "\n",
    "# bins = np.arange(0, 551, 5)\n",
    "\n",
    "pass;"
   ]
  },
  {
   "cell_type": "code",
   "execution_count": null,
   "metadata": {
    "ExecuteTime": {
     "end_time": "2020-02-13T13:58:00.990157Z",
     "start_time": "2020-02-13T13:58:00.971155Z"
    },
    "scrolled": true
   },
   "outputs": [],
   "source": [
    "df[df.columns[['date' in c for c in df.columns]]].dtypes"
   ]
  },
  {
   "cell_type": "markdown",
   "metadata": {},
   "source": [
    "## Survival Analysis"
   ]
  },
  {
   "cell_type": "code",
   "execution_count": 163,
   "metadata": {
    "ExecuteTime": {
     "end_time": "2020-02-13T14:55:57.950675Z",
     "start_time": "2020-02-13T14:55:57.940712Z"
    }
   },
   "outputs": [
    {
     "data": {
      "text/plain": [
       "array(['N90', 'N30', 'N60', 'N45', 'N07', 'N06', 'E45',\n",
       "       'K3B8K2B14K1B30N60', 'N25', 'Direct', 'N14', 'N270', 'N55', 'N180',\n",
       "       'E15'], dtype=object)"
      ]
     },
     "execution_count": 163,
     "metadata": {},
     "output_type": "execute_result"
    }
   ],
   "source": [
    "from lifelines import WeibullFitter\n",
    "from lifelines.datasets import load_waltons\n",
    "\n",
    "df.po_terms.unique()#value_counts(dropna=False)"
   ]
  },
  {
   "cell_type": "code",
   "execution_count": 171,
   "metadata": {
    "ExecuteTime": {
     "end_time": "2020-02-13T14:59:20.726002Z",
     "start_time": "2020-02-13T14:59:20.680655Z"
    }
   },
   "outputs": [],
   "source": [
    "dat = df.query(\"po_terms == 'N90' & t != 0\")"
   ]
  },
  {
   "cell_type": "code",
   "execution_count": 174,
   "metadata": {
    "ExecuteTime": {
     "end_time": "2020-02-13T15:00:13.959717Z",
     "start_time": "2020-02-13T15:00:13.956710Z"
    }
   },
   "outputs": [],
   "source": [
    "def weib(x, k, l): \n",
    "    return (k / l) * (x / l)**(k - 1) * np.exp(-(x / l)**k)"
   ]
  },
  {
   "cell_type": "code",
   "execution_count": 194,
   "metadata": {
    "ExecuteTime": {
     "end_time": "2020-02-13T15:15:27.831698Z",
     "start_time": "2020-02-13T15:15:27.725697Z"
    }
   },
   "outputs": [
    {
     "data": {
      "text/plain": [
       "<lifelines.WeibullFitter:\"Weibull_estimate\", fitted with 58354 total observations, 16430 right-censored observations>"
      ]
     },
     "execution_count": 194,
     "metadata": {},
     "output_type": "execute_result"
    },
    {
     "data": {
      "text/html": [
       "<div>\n",
       "<style scoped>\n",
       "    .dataframe tbody tr th:only-of-type {\n",
       "        vertical-align: middle;\n",
       "    }\n",
       "\n",
       "    .dataframe tbody tr th {\n",
       "        vertical-align: top;\n",
       "    }\n",
       "\n",
       "    .dataframe thead th {\n",
       "        text-align: right;\n",
       "    }\n",
       "</style>\n",
       "<table border=\"1\" class=\"dataframe\">\n",
       "  <tbody>\n",
       "    <tr>\n",
       "      <th>model</th>\n",
       "      <td>lifelines.WeibullFitter</td>\n",
       "    </tr>\n",
       "    <tr>\n",
       "      <th>number of observations</th>\n",
       "      <td>58354</td>\n",
       "    </tr>\n",
       "    <tr>\n",
       "      <th>number of events observed</th>\n",
       "      <td>41924</td>\n",
       "    </tr>\n",
       "    <tr>\n",
       "      <th>log-likelihood</th>\n",
       "      <td>-258933.45</td>\n",
       "    </tr>\n",
       "    <tr>\n",
       "      <th>hypothesis</th>\n",
       "      <td>lambda_ != 1, rho_ != 1</td>\n",
       "    </tr>\n",
       "  </tbody>\n",
       "</table>\n",
       "</div><table border=\"1\" class=\"dataframe\">\n",
       "  <thead>\n",
       "    <tr style=\"text-align: right;\">\n",
       "      <th></th>\n",
       "      <th>coef</th>\n",
       "      <th>se(coef)</th>\n",
       "      <th>coef lower 95%</th>\n",
       "      <th>coef upper 95%</th>\n",
       "      <th>z</th>\n",
       "      <th>p</th>\n",
       "      <th>-log2(p)</th>\n",
       "    </tr>\n",
       "  </thead>\n",
       "  <tbody>\n",
       "    <tr>\n",
       "      <th>lambda_</th>\n",
       "      <td>202.45</td>\n",
       "      <td>0.67</td>\n",
       "      <td>201.14</td>\n",
       "      <td>203.76</td>\n",
       "      <td>301.12</td>\n",
       "      <td>&lt;0.005</td>\n",
       "      <td>inf</td>\n",
       "    </tr>\n",
       "    <tr>\n",
       "      <th>rho_</th>\n",
       "      <td>1.49</td>\n",
       "      <td>0.01</td>\n",
       "      <td>1.48</td>\n",
       "      <td>1.50</td>\n",
       "      <td>92.44</td>\n",
       "      <td>&lt;0.005</td>\n",
       "      <td>inf</td>\n",
       "    </tr>\n",
       "  </tbody>\n",
       "</table>"
      ],
      "text/plain": [
       "<IPython.core.display.HTML object>"
      ]
     },
     "metadata": {},
     "output_type": "display_data"
    }
   ],
   "source": [
    "t = dat.t\n",
    "e = dat.event\n",
    "\n",
    "wf = WeibullFitter()\n",
    "wf.fit(t, e)\n",
    "\n",
    "wf.print_summary()\n",
    "\n",
    "# wf.plot_survival_function()\n",
    "# plt.plot(x, weib(x, k, l))"
   ]
  },
  {
   "cell_type": "code",
   "execution_count": 198,
   "metadata": {
    "ExecuteTime": {
     "end_time": "2020-02-13T15:16:12.344485Z",
     "start_time": "2020-02-13T15:16:12.227487Z"
    }
   },
   "outputs": [
    {
     "data": {
      "text/plain": [
       "[<matplotlib.lines.Line2D at 0x18f9cb78b70>]"
      ]
     },
     "execution_count": 198,
     "metadata": {},
     "output_type": "execute_result"
    },
    {
     "data": {
      "image/png": "[encoded data removed]",
      "text/plain": [
       "<Figure size 720x360 with 1 Axes>"
      ]
     },
     "metadata": {
      "needs_background": "light"
     },
     "output_type": "display_data"
    }
   ],
   "source": [
    "def weib(x, k, l): \n",
    "    return (k / l) * (x / l)**(k - 1) * np.exp(-(x / l)**k)\n",
    "\n",
    "count, bins, ignored = plt.hist(t, bins = 15)\n",
    "x = np.arange(0, 700)\n",
    "scale = count.max()/weib(x, k = wf.rho_, l = wf.lambda_).max()\n",
    "\n",
    "plt.plot(x, weib(x, k = wf.rho_, l = wf.lambda_)*scale)"
   ]
  },
  {
   "cell_type": "markdown",
   "metadata": {},
   "source": [
    "# Appendix"
   ]
  },
  {
   "cell_type": "code",
   "execution_count": null,
   "metadata": {
    "ExecuteTime": {
     "end_time": "2020-02-13T13:15:16.440525Z",
     "start_time": "2020-02-13T13:14:46.997528Z"
    },
    "scrolled": true
   },
   "outputs": [],
   "source": [
    "# from datetime import datetime\n",
    "# from dateutil.parser import parse\n",
    "# import pandas as pd\n",
    "\n",
    "# parse(df.order_date[10])\n",
    "\n",
    "# datetime_str = '09/19/18 13:55:26'\n",
    "# parse(datetime_str)\n",
    "\n",
    "# pd.Series([pd.to_datetime(d).year for d in df.order_date]).value_counts()"
   ]
  },
  {
   "cell_type": "code",
   "execution_count": null,
   "metadata": {
    "ExecuteTime": {
     "end_time": "2020-02-13T13:52:04.770159Z",
     "start_time": "2020-02-13T13:52:04.746671Z"
    },
    "scrolled": true
   },
   "outputs": [],
   "source": [
    "# df['year'] = [pd.to_datetime(d).year for d in df.order_date]\n",
    "\n",
    "# df.groupby('year')['invoice_payment_status'].value_counts(dropna=False)\n",
    "# df.shape\n"
   ]
  },
  {
   "cell_type": "code",
   "execution_count": 199,
   "metadata": {
    "ExecuteTime": {
     "end_time": "2020-02-13T15:17:02.488219Z",
     "start_time": "2020-02-13T15:17:02.486182Z"
    }
   },
   "outputs": [],
   "source": [
    "# def weib(x, n, a): \n",
    "#     return (a / n) * (x / n)**(a - 1) * np.exp(-(x / n)**a)\n",
    "\n",
    "# count, bins, ignored = plt.hist(np.random.weibull(5.,1000))\n",
    "# x = np.arange(1,100.)/50.\n",
    "# scale = count.max()/weib(x, 1., 5.).max()\n",
    "# plt.plot(x, weib(x, 1., 5.)*scale)\n",
    "# plt.show()"
   ]
  }
 ],
 "metadata": {
  "kernelspec": {
   "display_name": "Python 3",
   "language": "python",
   "name": "python3"
  },
  "language_info": {
   "codemirror_mode": {
    "name": "ipython",
    "version": 3
   },
   "file_extension": ".py",
   "mimetype": "text/x-python",
   "name": "python",
   "nbconvert_exporter": "python",
   "pygments_lexer": "ipython3",
   "version": "3.7.0"
  }
 },
 "nbformat": 4,
 "nbformat_minor": 4
}
