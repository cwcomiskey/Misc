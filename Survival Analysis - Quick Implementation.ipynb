{
 "cells": [
  {
   "cell_type": "markdown",
   "metadata": {},
   "source": [
    "# Survival Analysis"
   ]
  },
  {
   "cell_type": "code",
   "execution_count": null,
   "metadata": {},
   "outputs": [],
   "source": [
    "# https://towardsdatascience.com/survival-analysis-intuition-implementation-in-python-504fde4fcf8e"
   ]
  },
  {
   "cell_type": "code",
   "execution_count": null,
   "metadata": {
    "ExecuteTime": {
     "end_time": "2020-02-11T14:30:13.720296Z",
     "start_time": "2020-02-11T14:30:13.715263Z"
    },
    "code_folding": [
     0
    ]
   },
   "outputs": [],
   "source": [
    "# imports \n",
    "from IPython.core.interactiveshell import InteractiveShell\n",
    "from io import StringIO\n",
    "\n",
    "InteractiveShell.ast_node_interactivity = \"all\"\n",
    "# InteractiveShell.ast_node_interactivity = \"last\"\n",
    "\n",
    "from IPython.core.display import display, HTML\n",
    "display(HTML(\"<style>.container { width:100% !important; }</style>\"))\n",
    "\n",
    "from random import sample \n",
    "\n",
    "import dask.dataframe as dd\n",
    "import functools\n",
    "import pandas as pd\n",
    "pd.set_option('display.max_rows', 500)\n",
    "pd.set_option('display.max_columns', 500)\n",
    "\n",
    "import pandas as pd\n",
    "import numpy as np\n",
    "import matplotlib.pyplot as plt\n",
    "import seaborn as sb"
   ]
  },
  {
   "cell_type": "code",
   "execution_count": null,
   "metadata": {
    "ExecuteTime": {
     "end_time": "2020-02-11T14:30:16.537741Z",
     "start_time": "2020-02-11T14:30:16.533759Z"
    }
   },
   "outputs": [],
   "source": [
    "from lifelines.plotting import plot_lifetimes      # Lifeline package for the Survival Analysis\n",
    "%pylab inline\n",
    "figsize(12,6)"
   ]
  },
  {
   "cell_type": "markdown",
   "metadata": {},
   "source": [
    "### Example: toy data"
   ]
  },
  {
   "cell_type": "code",
   "execution_count": null,
   "metadata": {
    "ExecuteTime": {
     "end_time": "2020-02-11T14:30:20.981751Z",
     "start_time": "2020-02-11T14:30:20.848754Z"
    }
   },
   "outputs": [],
   "source": [
    "from lifelines import KaplanMeierFitter\n",
    "\n",
    "## Example Data \n",
    "durations =      [28, 29, 30, 30, 30, 30, 31, 23, 34, 52, 31 ,20]\n",
    "event_observed = [0,   1,  1,  1,  1,  0,  0,  0,  1,  0,  1,  0]\n",
    "\n",
    "## create an kmf object\n",
    "kmf = KaplanMeierFitter() \n",
    "\n",
    "## Fit the data into the model\n",
    "kmf.fit(durations, event_observed,label='Kaplan Meier Estimate')\n",
    "\n",
    "## Create an estimate\n",
    "kmf.plot(ci_show=False) ## ci_show is meant for Confidence interval, since our data set is too tiny, thus i am not showing it."
   ]
  },
  {
   "cell_type": "code",
   "execution_count": null,
   "metadata": {
    "ExecuteTime": {
     "end_time": "2020-02-11T15:03:14.188401Z",
     "start_time": "2020-02-11T15:03:14.184378Z"
    }
   },
   "outputs": [],
   "source": [
    ".6*.83"
   ]
  },
  {
   "cell_type": "markdown",
   "metadata": {},
   "source": [
    "## Telco Example "
   ]
  },
  {
   "cell_type": "markdown",
   "metadata": {},
   "source": [
    "### Telco Customer Churn data from Kaggle\n",
    "https://www.kaggle.com/blastchar/telco-customer-churn/"
   ]
  },
  {
   "cell_type": "code",
   "execution_count": null,
   "metadata": {
    "ExecuteTime": {
     "end_time": "2020-02-11T14:30:24.904697Z",
     "start_time": "2020-02-11T14:30:24.882607Z"
    }
   },
   "outputs": [],
   "source": [
    "##  create a dataframe\n",
    "df = pd.read_csv(\"Telco-Customer-Churn.csv\") "
   ]
  },
  {
   "cell_type": "code",
   "execution_count": null,
   "metadata": {
    "ExecuteTime": {
     "end_time": "2020-02-11T14:30:27.142599Z",
     "start_time": "2020-02-11T14:30:27.120602Z"
    }
   },
   "outputs": [],
   "source": [
    "df.head() "
   ]
  },
  {
   "cell_type": "code",
   "execution_count": null,
   "metadata": {
    "ExecuteTime": {
     "end_time": "2020-02-11T14:30:53.931549Z",
     "start_time": "2020-02-11T14:30:53.921539Z"
    }
   },
   "outputs": [],
   "source": [
    "## Convert TotalCharges to numeric\n",
    "df['TotalCharges']=pd.to_numeric(df['TotalCharges'],errors='coerce')\n",
    "\n",
    "## Replace yes and No in the Churn column to 1 and 0. 1 for the event and 0 for the censured data.\n",
    "df['Churn']=df['Churn'].apply(lambda x: 1 if x == 'Yes' else 0 )"
   ]
  },
  {
   "cell_type": "code",
   "execution_count": null,
   "metadata": {
    "ExecuteTime": {
     "end_time": "2020-02-11T14:31:15.391869Z",
     "start_time": "2020-02-11T14:31:15.387902Z"
    }
   },
   "outputs": [],
   "source": [
    "## Impute the null value with the median value\n",
    "\n",
    "df.TotalCharges.fillna(value=df['TotalCharges'].median(),inplace=True)"
   ]
  },
  {
   "cell_type": "code",
   "execution_count": null,
   "metadata": {
    "ExecuteTime": {
     "end_time": "2020-02-11T14:32:34.949095Z",
     "start_time": "2020-02-11T14:32:34.945098Z"
    }
   },
   "outputs": [],
   "source": [
    "## Categorical Columns\n",
    "cat_cols = [i  for i in df.columns if df[i].dtype == object]\n",
    "cat_cols.remove('customerID')  ## customerID has been removed because it is unique for all the rows."
   ]
  },
  {
   "cell_type": "code",
   "execution_count": null,
   "metadata": {
    "ExecuteTime": {
     "end_time": "2020-02-11T14:32:39.466611Z",
     "start_time": "2020-02-11T14:32:39.437609Z"
    },
    "scrolled": true
   },
   "outputs": [],
   "source": [
    "## Categories and their frequency counts.\n",
    "\n",
    "for i in cat_cols:\n",
    "    print('Column Name: ',i)\n",
    "    print(df[i].value_counts())\n",
    "    print('-----------------------------')"
   ]
  },
  {
   "cell_type": "code",
   "execution_count": null,
   "metadata": {
    "ExecuteTime": {
     "end_time": "2020-02-11T14:33:12.485984Z",
     "start_time": "2020-02-11T14:33:12.323031Z"
    }
   },
   "outputs": [],
   "source": [
    "## KaplanMeier curve, w/o breaking into groups of covariates.\n",
    "\n",
    "## Import the library\n",
    "from lifelines import KaplanMeierFitter\n",
    "\n",
    "durations = df['tenure'] ## Time to event data of censored and event data\n",
    "event_observed = df['Churn']  ## It has the churned (1) and censored is (0)\n",
    "\n",
    "## create a kmf object as km\n",
    "km = KaplanMeierFitter() ## instantiate the class to create an object\n",
    "\n",
    "## Fit the data into the model\n",
    "km.fit(durations, event_observed, label='Kaplan Meier Estimate')\n",
    "\n",
    "## Create an estimate\n",
    "km.plot()"
   ]
  },
  {
   "cell_type": "markdown",
   "metadata": {
    "heading_collapsed": true
   },
   "source": [
    "## Kaplan Meier Curves for Cohorts"
   ]
  },
  {
   "cell_type": "code",
   "execution_count": null,
   "metadata": {
    "ExecuteTime": {
     "end_time": "2020-02-11T10:26:42.498266Z",
     "start_time": "2020-02-11T10:26:42.310267Z"
    },
    "hidden": true
   },
   "outputs": [],
   "source": [
    "kmf = KaplanMeierFitter() \n",
    "\n",
    "\n",
    "T = df['tenure']     ## time to event\n",
    "E = df['Churn']      ## event occurred or censored\n",
    "\n",
    "\n",
    "groups = df['Contract']             ## Create the cohorts from the 'Contract' column\n",
    "ix1 = (groups == 'Month-to-month')   ## Cohort 1\n",
    "ix2 = (groups == 'Two year')         ## Cohort 2\n",
    "ix3 = (groups == 'One year')         ## Cohort 3\n",
    "\n",
    "\n",
    "kmf.fit(T[ix1], E[ix1], label='Month-to-month')    ## fit the cohort 1 data\n",
    "ax = kmf.plot()\n",
    "\n",
    "\n",
    "kmf.fit(T[ix2], E[ix2], label='Two year')         ## fit the cohort 2 data\n",
    "ax1 = kmf.plot(ax=ax)\n",
    "\n",
    "\n",
    "kmf.fit(T[ix3], E[ix3], label='One year')        ## fit the cohort 3 data\n",
    "kmf.plot(ax=ax1)                                 ## Plot the KM curve for three cohort on same x and y axis"
   ]
  },
  {
   "cell_type": "code",
   "execution_count": null,
   "metadata": {
    "ExecuteTime": {
     "end_time": "2020-02-11T10:26:58.354998Z",
     "start_time": "2020-02-11T10:26:58.194001Z"
    },
    "hidden": true
   },
   "outputs": [],
   "source": [
    "kmf1 = KaplanMeierFitter() ## instantiate the class to create an object\n",
    "\n",
    "## Two Cohorts are compared. 1. Streaming TV Not Subsribed by Users, 2. Streaming TV subscribed by the users.\n",
    "groups = df['StreamingTV']   \n",
    "i1 = (groups == 'No')      ## group i1 , having the pandas series for the 1st cohort\n",
    "i2 = (groups == 'Yes')     ## group i2 , having the pandas series for the 2nd cohort\n",
    "\n",
    "\n",
    "## fit the model for 1st cohort\n",
    "kmf1.fit(T[i1], E[i1], label='Not Subscribed StreamingTV')\n",
    "a1 = kmf1.plot()\n",
    "\n",
    "## fit the model for 2nd cohort\n",
    "kmf1.fit(T[i2], E[i2], label='Subscribed StreamingTV')\n",
    "kmf1.plot(ax=a1)"
   ]
  },
  {
   "cell_type": "markdown",
   "metadata": {},
   "source": [
    "## Cox Proportional Hazard Model (Survival Regression)"
   ]
  },
  {
   "cell_type": "code",
   "execution_count": null,
   "metadata": {
    "ExecuteTime": {
     "end_time": "2020-02-11T14:33:19.988636Z",
     "start_time": "2020-02-11T14:33:19.984636Z"
    }
   },
   "outputs": [],
   "source": [
    "from lifelines import CoxPHFitter     "
   ]
  },
  {
   "cell_type": "code",
   "execution_count": null,
   "metadata": {
    "ExecuteTime": {
     "end_time": "2020-02-11T14:36:29.227618Z",
     "start_time": "2020-02-11T14:36:29.214615Z"
    }
   },
   "outputs": [],
   "source": [
    "\n",
    "\n",
    "df_r= df.loc[: , ['tenure','Churn','gender','Partner','Dependents','PhoneService','MonthlyCharges','SeniorCitizen','StreamingTV']]\n",
    "df_r.head() \n"
   ]
  },
  {
   "cell_type": "code",
   "execution_count": null,
   "metadata": {
    "ExecuteTime": {
     "end_time": "2020-02-11T14:36:44.569248Z",
     "start_time": "2020-02-11T14:36:44.553200Z"
    }
   },
   "outputs": [],
   "source": [
    "## Create dummy variables\n",
    "df_dummy = pd.get_dummies(df_r, drop_first=True)\n",
    "df_dummy.head()"
   ]
  },
  {
   "cell_type": "code",
   "execution_count": null,
   "metadata": {
    "ExecuteTime": {
     "end_time": "2020-02-11T10:34:16.239193Z",
     "start_time": "2020-02-11T10:34:16.125470Z"
    }
   },
   "outputs": [],
   "source": [
    "# Using Cox Proportional Hazards model\n",
    "\n",
    "cph = CoxPHFitter()   ## Instantiate the class to create a cph object\n",
    "\n",
    "cph.fit(df_dummy, 'tenure', event_col='Churn')   ## Fit the data to train the model\n",
    "\n",
    "cph.print_summary()    ## HAve a look at the significance of the features"
   ]
  },
  {
   "cell_type": "code",
   "execution_count": null,
   "metadata": {
    "ExecuteTime": {
     "end_time": "2020-02-11T10:31:58.900323Z",
     "start_time": "2020-02-11T10:31:58.786338Z"
    }
   },
   "outputs": [],
   "source": [
    "# cph.plot()"
   ]
  },
  {
   "cell_type": "code",
   "execution_count": null,
   "metadata": {
    "ExecuteTime": {
     "end_time": "2020-02-11T10:32:36.310944Z",
     "start_time": "2020-02-11T10:32:36.304890Z"
    }
   },
   "outputs": [],
   "source": [
    "## Check all the methods and attributes associated with the cph object.\n",
    "# dir(cph)"
   ]
  },
  {
   "cell_type": "code",
   "execution_count": null,
   "metadata": {
    "ExecuteTime": {
     "end_time": "2020-02-11T10:33:49.417075Z",
     "start_time": "2020-02-11T10:33:49.407101Z"
    }
   },
   "outputs": [],
   "source": [
    "## We want to see the Survival curve at the customer level. Therefore, we have selected 6 customers (rows 5 till 9).\n",
    "\n",
    "tr_rows = df_dummy.iloc[5:10, :]\n",
    "tr_rows"
   ]
  },
  {
   "cell_type": "code",
   "execution_count": null,
   "metadata": {
    "ExecuteTime": {
     "end_time": "2020-02-11T10:33:03.266844Z",
     "start_time": "2020-02-11T10:33:03.124847Z"
    }
   },
   "outputs": [],
   "source": [
    "## Lets predict the survival curve for the selected customers. \n",
    "## Customers can be identified with the help of the number mentioned against each curve.\n",
    "\n",
    "cph.predict_survival_function(tr_rows).plot()"
   ]
  },
  {
   "cell_type": "markdown",
   "metadata": {},
   "source": [
    "## Weibull"
   ]
  },
  {
   "cell_type": "code",
   "execution_count": null,
   "metadata": {
    "ExecuteTime": {
     "end_time": "2020-02-12T12:09:16.611500Z",
     "start_time": "2020-02-12T12:09:16.285443Z"
    },
    "code_folding": [
     0
    ]
   },
   "outputs": [],
   "source": [
    "# Weibull: random gen hist and pdf\n",
    "\n",
    "a = 5. # shape\n",
    "s = np.random.weibull(a, 1000)\n",
    "# Display the histogram of the samples, along with the probability density function:\n",
    "\n",
    "\n",
    "import matplotlib.pyplot as plt\n",
    "x = np.arange(1,100.)/50.\n",
    "def weib(x, n, a): \n",
    "    return (a / n) * (x / n)**(a - 1) * np.exp(-(x / n)**a)\n",
    "\n",
    "count, bins, ignored = plt.hist(np.random.weibull(5.,1000))\n",
    "x = np.arange(1,100.)/50.\n",
    "scale = count.max()/weib(x, 1., 5.).max()\n",
    "plt.plot(x, weib(x, 1., 5.)*scale)\n",
    "plt.show()"
   ]
  },
  {
   "cell_type": "code",
   "execution_count": null,
   "metadata": {
    "ExecuteTime": {
     "end_time": "2020-02-12T12:51:24.564789Z",
     "start_time": "2020-02-12T12:51:24.285947Z"
    }
   },
   "outputs": [],
   "source": [
    "k = 5 # shape\n",
    "l = 90 # scale\n",
    "\n",
    "def weib(x, k, l): \n",
    "    return (k / l) * (x / l)**(k - 1) * np.exp(-(x / l)**k)\n",
    "\n",
    "x = np.arange(1, 200)\n",
    "plt.plot(x, weib(x, k, l))\n",
    "\n",
    "gamma(1 + 1/k)\n",
    "l * gamma(1 + 1/k)"
   ]
  },
  {
   "cell_type": "code",
   "execution_count": 61,
   "metadata": {
    "ExecuteTime": {
     "end_time": "2020-02-12T15:15:47.349695Z",
     "start_time": "2020-02-12T15:15:46.812575Z"
    },
    "scrolled": true
   },
   "outputs": [
    {
     "data": {
      "text/html": [
       "<div>\n",
       "<style scoped>\n",
       "    .dataframe tbody tr th:only-of-type {\n",
       "        vertical-align: middle;\n",
       "    }\n",
       "\n",
       "    .dataframe tbody tr th {\n",
       "        vertical-align: top;\n",
       "    }\n",
       "\n",
       "    .dataframe thead th {\n",
       "        text-align: right;\n",
       "    }\n",
       "</style>\n",
       "<table border=\"1\" class=\"dataframe\">\n",
       "  <thead>\n",
       "    <tr style=\"text-align: right;\">\n",
       "      <th></th>\n",
       "      <th>T</th>\n",
       "      <th>E</th>\n",
       "      <th>group</th>\n",
       "    </tr>\n",
       "  </thead>\n",
       "  <tbody>\n",
       "    <tr>\n",
       "      <th>0</th>\n",
       "      <td>6.0</td>\n",
       "      <td>1</td>\n",
       "      <td>miR-137</td>\n",
       "    </tr>\n",
       "    <tr>\n",
       "      <th>1</th>\n",
       "      <td>13.0</td>\n",
       "      <td>1</td>\n",
       "      <td>miR-137</td>\n",
       "    </tr>\n",
       "    <tr>\n",
       "      <th>2</th>\n",
       "      <td>13.0</td>\n",
       "      <td>1</td>\n",
       "      <td>miR-137</td>\n",
       "    </tr>\n",
       "    <tr>\n",
       "      <th>3</th>\n",
       "      <td>13.0</td>\n",
       "      <td>1</td>\n",
       "      <td>miR-137</td>\n",
       "    </tr>\n",
       "    <tr>\n",
       "      <th>4</th>\n",
       "      <td>19.0</td>\n",
       "      <td>1</td>\n",
       "      <td>miR-137</td>\n",
       "    </tr>\n",
       "  </tbody>\n",
       "</table>\n",
       "</div>"
      ],
      "text/plain": [
       "      T  E    group\n",
       "0   6.0  1  miR-137\n",
       "1  13.0  1  miR-137\n",
       "2  13.0  1  miR-137\n",
       "3  13.0  1  miR-137\n",
       "4  19.0  1  miR-137"
      ]
     },
     "execution_count": 61,
     "metadata": {},
     "output_type": "execute_result"
    },
    {
     "data": {
      "text/plain": [
       "<lifelines.WeibullFitter:\"Weibull_estimate\", fitted with 163 total observations, 7 right-censored observations>"
      ]
     },
     "execution_count": 61,
     "metadata": {},
     "output_type": "execute_result"
    },
    {
     "data": {
      "text/html": [
       "<div>\n",
       "<style scoped>\n",
       "    .dataframe tbody tr th:only-of-type {\n",
       "        vertical-align: middle;\n",
       "    }\n",
       "\n",
       "    .dataframe tbody tr th {\n",
       "        vertical-align: top;\n",
       "    }\n",
       "\n",
       "    .dataframe thead th {\n",
       "        text-align: right;\n",
       "    }\n",
       "</style>\n",
       "<table border=\"1\" class=\"dataframe\">\n",
       "  <tbody>\n",
       "    <tr>\n",
       "      <th>model</th>\n",
       "      <td>lifelines.WeibullFitter</td>\n",
       "    </tr>\n",
       "    <tr>\n",
       "      <th>number of observations</th>\n",
       "      <td>163</td>\n",
       "    </tr>\n",
       "    <tr>\n",
       "      <th>number of events observed</th>\n",
       "      <td>156</td>\n",
       "    </tr>\n",
       "    <tr>\n",
       "      <th>log-likelihood</th>\n",
       "      <td>-672.06</td>\n",
       "    </tr>\n",
       "    <tr>\n",
       "      <th>hypothesis</th>\n",
       "      <td>lambda_ != 1, rho_ != 1</td>\n",
       "    </tr>\n",
       "  </tbody>\n",
       "</table>\n",
       "</div><table border=\"1\" class=\"dataframe\">\n",
       "  <thead>\n",
       "    <tr style=\"text-align: right;\">\n",
       "      <th></th>\n",
       "      <th>coef</th>\n",
       "      <th>se(coef)</th>\n",
       "      <th>coef lower 95%</th>\n",
       "      <th>coef upper 95%</th>\n",
       "      <th>z</th>\n",
       "      <th>p</th>\n",
       "      <th>-log2(p)</th>\n",
       "    </tr>\n",
       "  </thead>\n",
       "  <tbody>\n",
       "    <tr>\n",
       "      <th>lambda_</th>\n",
       "      <td>55.73</td>\n",
       "      <td>1.33</td>\n",
       "      <td>53.13</td>\n",
       "      <td>58.33</td>\n",
       "      <td>41.26</td>\n",
       "      <td>&lt;0.005</td>\n",
       "      <td>inf</td>\n",
       "    </tr>\n",
       "    <tr>\n",
       "      <th>rho_</th>\n",
       "      <td>3.45</td>\n",
       "      <td>0.24</td>\n",
       "      <td>2.97</td>\n",
       "      <td>3.93</td>\n",
       "      <td>10.07</td>\n",
       "      <td>&lt;0.005</td>\n",
       "      <td>76.83</td>\n",
       "    </tr>\n",
       "  </tbody>\n",
       "</table>"
      ],
      "text/plain": [
       "<IPython.core.display.HTML object>"
      ]
     },
     "metadata": {},
     "output_type": "display_data"
    },
    {
     "data": {
      "text/plain": [
       "<matplotlib.axes._subplots.AxesSubplot at 0x24b50e4fc88>"
      ]
     },
     "execution_count": 61,
     "metadata": {},
     "output_type": "execute_result"
    },
    {
     "data": {
      "image/png": "[encoded data removed]",
      "text/plain": [
       "<Figure size 864x432 with 1 Axes>"
      ]
     },
     "metadata": {
      "needs_background": "light"
     },
     "output_type": "display_data"
    }
   ],
   "source": [
    "from lifelines import WeibullFitter\n",
    "from lifelines.datasets import load_waltons\n",
    "\n",
    "data = load_waltons()\n",
    "\n",
    "data.head()\n",
    "T = data['T']\n",
    "E = data['E']\n",
    "\n",
    "wf = WeibullFitter()\n",
    "wf.fit(T, E)\n",
    "\n",
    "wf.print_summary()\n",
    "wf.plot()\n",
    "\n",
    "# plt.plot(x, weib(x, k, l))"
   ]
  },
  {
   "cell_type": "code",
   "execution_count": 60,
   "metadata": {
    "ExecuteTime": {
     "end_time": "2020-02-12T15:15:18.207272Z",
     "start_time": "2020-02-12T15:15:17.877931Z"
    }
   },
   "outputs": [
    {
     "data": {
      "text/plain": [
       "[<matplotlib.lines.Line2D at 0x24b50e1e8d0>]"
      ]
     },
     "execution_count": 60,
     "metadata": {},
     "output_type": "execute_result"
    },
    {
     "data": {
      "image/png": "[encoded data removed]",
      "text/plain": [
       "<Figure size 864x432 with 1 Axes>"
      ]
     },
     "metadata": {
      "needs_background": "light"
     },
     "output_type": "display_data"
    }
   ],
   "source": [
    "x = np.arange(1, 100)\n",
    "plt.plot(x, weib(x, k = wf.rho_, l = wf.lambda_))"
   ]
  }
 ],
 "metadata": {
  "kernelspec": {
   "display_name": "Python 3",
   "language": "python",
   "name": "python3"
  },
  "language_info": {
   "codemirror_mode": {
    "name": "ipython",
    "version": 3
   },
   "file_extension": ".py",
   "mimetype": "text/x-python",
   "name": "python",
   "nbconvert_exporter": "python",
   "pygments_lexer": "ipython3",
   "version": "3.7.0"
  }
 },
 "nbformat": 4,
 "nbformat_minor": 2
}
