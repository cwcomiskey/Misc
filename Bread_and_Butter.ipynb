{
 "cells": [
  {
   "cell_type": "markdown",
   "metadata": {
    "hideCode": false,
    "hideOutput": false,
    "hidePrompt": false
   },
   "source": [
    "# 0.0 Modules, etc."
   ]
  },
  {
   "cell_type": "code",
   "execution_count": null,
   "metadata": {
    "hideCode": false,
    "hidePrompt": false,
    "scrolled": true
   },
   "outputs": [],
   "source": [
    "import numpy as np\n",
    "import pandas as pd\n",
    "import multiprocessing\n",
    "\n",
    "import scipy\n",
    "from scipy import spatial\n",
    "from scipy.spatial import cKDTree\n",
    "\n",
    "import sklearn as sk\n",
    "from sklearn import svm\n",
    "from sklearn import preprocessing\n",
    "from sklearn import neighbors\n",
    "from sklearn.preprocessing import StandardScaler\n",
    "from sklearn import tree\n",
    "from sklearn.ensemble import RandomForestClassifier\n",
    "from sklearn.model_selection import StratifiedKFold\n",
    "from sklearn.feature_selection import RFECV\n",
    "from sklearn import clone\n",
    "from sklearn.externals.six.moves import xrange\n",
    "\n",
    "import matplotlib.pyplot as plt\n",
    "import bokeh\n",
    "import bokeh.io\n",
    "from bokeh.plotting import figure\n",
    "from bokeh.io import output_notebook, show\n",
    "\n",
    "# init_notebook_mode()\n",
    "\n",
    "import seaborn as sns\n",
    "\n",
    "import re\n",
    "import math\n",
    "import copy\n",
    "\n",
    "from collections import defaultdict\n",
    "import csv\n",
    "import itertools\n",
    "import datetime \n",
    "from datetime import datetime\n",
    "import time\n",
    "import dateutil.parser\n",
    "import pickle\n",
    "import random\n",
    "\n",
    "import gc\n",
    "import zipfile\n",
    "import sys, getopt\n",
    "import os\n",
    "\n",
    "from IPython.core.interactiveshell import InteractiveShell\n",
    "from io import StringIO\n",
    "\n",
    "import dask.dataframe as dd\n",
    "#from chest import Chest\n",
    "\n",
    "InteractiveShell.ast_node_interactivity = \"all\"\n",
    "#InteractiveShell.ast_node_interactivity = \"last\"\n",
    "\n",
    "# Magic function to make matplotlib inline\n",
    "%matplotlib inline\n",
    "\n",
    "%config InlineBackend.figure_formats = {'png', 'retina'}\n",
    "\n",
    "# Set up Bokeh for inline viewing\n",
    "bokeh.io.output_notebook()\n",
    "\n",
    "import dask.dataframe as ddf\n",
    "import dask.array as da"
   ]
  },
  {
   "cell_type": "code",
   "execution_count": null,
   "metadata": {
    "hideCode": false,
    "hidePrompt": false,
    "scrolled": true
   },
   "outputs": [],
   "source": [
    "pd.set_option('max_columns', 500)\n",
    "pd.set_option('max_rows', 500)"
   ]
  },
  {
   "cell_type": "code",
   "execution_count": null,
   "metadata": {
    "hideCode": false,
    "hidePrompt": false,
    "scrolled": true
   },
   "outputs": [],
   "source": [
    "import plotly\n",
    "import plotly.plotly as py\n",
    "import plotly.graph_objs as go\n",
    "# plotly.tools.set_credentials_file(username='duplinskiy', api_key='RsZHhxIiAGGu7FN9P4bu')\n",
    "from plotly.offline import download_plotlyjs, init_notebook_mode, plot, iplot\n",
    "import cufflinks as cf\n",
    "\n",
    "cf.go_offline()"
   ]
  },
  {
   "cell_type": "markdown",
   "metadata": {
    "hideCode": false,
    "hidePrompt": false
   },
   "source": [
    "# 1 Preprocessing"
   ]
  },
  {
   "cell_type": "markdown",
   "metadata": {
    "hideCode": false,
    "hidePrompt": false
   },
   "source": [
    "## 1.1 Wrangling"
   ]
  },
  {
   "cell_type": "code",
   "execution_count": null,
   "metadata": {
    "hideCode": false,
    "hidePrompt": false,
    "scrolled": true
   },
   "outputs": [],
   "source": [
    "%%time\n",
    "dat0 = pd.read_csv('seasonal_sales_indicators.csv',\n",
    "                 delimiter = '~')\n",
    "\n",
    "# len(dat0['article_number'].unique()) # 46573\n",
    "\n",
    "dat = dat0.copy()\n",
    "\n",
    "dat.columns = [x.replace('t_eu_ecom_dit_dsf_transaction_t.', '') for x in dat.columns] # tidy column names\n",
    "\n",
    "dat = dat[dat['gross_demand_quantity'] != 0] "
   ]
  },
  {
   "cell_type": "markdown",
   "metadata": {},
   "source": [
    "Data\n",
    "\n",
    "    (0) dat0\n",
    "    (1) dat"
   ]
  },
  {
   "cell_type": "code",
   "execution_count": null,
   "metadata": {
    "hideCode": false,
    "hidePrompt": false,
    "scrolled": true
   },
   "outputs": [],
   "source": [
    "# Feature subset for clustering\n",
    "dat = dat[['article_number', \n",
    "           'gross_demand_quantity', # mean, sum, std\n",
    "           'fraction_of_full_price', # mean, std\n",
    "           'markdown', # mean (INDICATOR) \n",
    "           'sale', # mean (INDICATOR no/sale)\n",
    "           'gross_sales_net_disc_gross_ret']]\n",
    "\n",
    "dat['sales_price'] = dat['gross_sales_net_disc_gross_ret'].divide(dat['gross_demand_quantity'])\n",
    "dat.drop('gross_sales_net_disc_gross_ret', axis = 1, inplace = True)"
   ]
  },
  {
   "cell_type": "code",
   "execution_count": null,
   "metadata": {
    "hideCode": false,
    "hidePrompt": false,
    "scrolled": true
   },
   "outputs": [],
   "source": [
    "%%time\n",
    "\n",
    "dat_grouped = dat.groupby(by = 'article_number')\n",
    "\n",
    "dat = dat_grouped.agg(['mean', 'std']) # Need count\n",
    "dat.drop([('markdown', 'std'),('sale', 'std')], axis = 1, inplace=True)\n",
    "dat[('gross_demand_quantity','sum')] = dat_grouped['gross_demand_quantity'].sum()\n",
    "\n",
    "dat.fillna(value=0, inplace = True) # Define single transaction article std to be 0\n",
    "dat = dat.replace([np.inf, -np.inf, np.nan], 0)"
   ]
  },
  {
   "cell_type": "markdown",
   "metadata": {
    "hideCode": false,
    "hidePrompt": false
   },
   "source": [
    "## 1.2 Save/Load curated data"
   ]
  },
  {
   "cell_type": "code",
   "execution_count": null,
   "metadata": {
    "hideCode": false,
    "hidePrompt": false,
    "scrolled": true
   },
   "outputs": [],
   "source": [
    "# Save/load tidied version\n",
    "\n",
    "# dat.to_csv('dat.csv')\n",
    "\n",
    "dat = pd.read_csv('dat.csv', low_memory=False, index_col = 0, header = [0,1]) # gotta encode multi-index"
   ]
  },
  {
   "cell_type": "markdown",
   "metadata": {
    "hideCode": false,
    "hidePrompt": false
   },
   "source": [
    "Datasets:\n",
    "\n",
    "    (0) dat0\n",
    "    (1) dat\n",
    "    (2) dat_feature_sorted"
   ]
  },
  {
   "cell_type": "markdown",
   "metadata": {
    "hideCode": false,
    "hidePrompt": false
   },
   "source": [
    "## 1.3 Principal Component Analysis (for 2-D visualizations)"
   ]
  },
  {
   "cell_type": "code",
   "execution_count": null,
   "metadata": {
    "hideCode": false,
    "hidePrompt": false,
    "scrolled": true
   },
   "outputs": [],
   "source": [
    "%%time\n",
    "\n",
    "# SCALING: zero mean and unit variance \n",
    "# from sklearn.preprocessing import StandardScaler\n",
    "\n",
    "# scaler = StandardScaler()\n",
    "# scaler.fit(dat)\n",
    "# dat_scaled = scaler.transform(dat)\n",
    "\n",
    "# PRINCIPAL COMPONENT ANALYSIS\n",
    "from sklearn.decomposition import PCA\n",
    "\n",
    "pca = PCA(n_components=2) # keep the first two principal components of the data\n",
    "pca.fit(dat)\n",
    "\n",
    "# transform data onto the first two principal components\n",
    "dat_pca = pca.transform(dat)\n",
    "\n",
    "# EDA \n",
    "np.isnan(np.log(dat_pca[:,0])).sum()\n",
    "(dat_pca[:,1] < 0).sum()\n",
    "(pd.DataFrame(dat_pca)).describe()"
   ]
  },
  {
   "cell_type": "markdown",
   "metadata": {
    "hideCode": false,
    "hidePrompt": false
   },
   "source": [
    "# 2 Clustering (aka classification, segmentation)"
   ]
  },
  {
   "cell_type": "markdown",
   "metadata": {
    "hideCode": false,
    "hidePrompt": false
   },
   "source": [
    "## 2.0 Baseline: feature-based"
   ]
  },
  {
   "cell_type": "markdown",
   "metadata": {
    "hideCode": false,
    "hidePrompt": false
   },
   "source": [
    "### 2.0.1 Sort"
   ]
  },
  {
   "cell_type": "code",
   "execution_count": null,
   "metadata": {
    "hideCode": false,
    "hidePrompt": false,
    "scrolled": true
   },
   "outputs": [],
   "source": [
    "feature = 'sales_price'\n",
    "stat = 'mean'\n",
    "\n",
    "dat_feature_sorted = dat.sort_values([(feature, stat)], ascending=False) # Sort\n",
    "\n",
    "# Feature cumulative sum\n",
    "dat_feature_sorted['cumulative_feature'] = dat_feature_sorted[feature][stat].cumsum()\n",
    "\n",
    "# Feature cumulative percent\n",
    "total = dat_feature_sorted[feature][stat].sum() \n",
    "dat_feature_sorted['cumulative_pct_feature'] = dat_feature_sorted[feature][stat].cumsum()/total\n",
    "\n",
    "# Cumulative percent of articles\n",
    "t = pd.Series(range(1, 46573))/46572\n",
    "dat_feature_sorted['cumulative_pct_articles'] = t.values"
   ]
  },
  {
   "cell_type": "code",
   "execution_count": null,
   "metadata": {
    "hideCode": false,
    "hidePrompt": false,
    "scrolled": true
   },
   "outputs": [],
   "source": [
    "# Add feature based cluster; i.e. top X are labelled non-basic\n",
    "dat_feature_sorted['feat_based'] = np.concatenate([np.ones(8483), np.zeros(38089)]) # match ____ counts below\n",
    "\n",
    "dat_feature_sorted['feat_based'].value_counts() \n",
    "\n",
    "f = pd.DataFrame(dat_feature_sorted['feat_based'])"
   ]
  },
  {
   "cell_type": "markdown",
   "metadata": {
    "hideCode": false,
    "hidePrompt": false
   },
   "source": [
    "Datasets:\n",
    "\n",
    "    (0) dat0\n",
    "    (1) dat\n",
    "    (2) dat_feature_sorted\n",
    "        - f\n"
   ]
  },
  {
   "cell_type": "markdown",
   "metadata": {
    "hideCode": false,
    "hidePrompt": false
   },
   "source": [
    "### 2.0.2 Plot"
   ]
  },
  {
   "cell_type": "code",
   "execution_count": null,
   "metadata": {
    "hideCode": false,
    "hidePrompt": false,
    "scrolled": true
   },
   "outputs": [],
   "source": [
    "plt.plot(dat_feature_sorted['cumulative_pct_articles'], \n",
    "         dat_feature_sorted['cumulative_pct_feature'],\n",
    "        linewidth = 3)\n",
    "\n",
    "# plt.xlabel('Percent of Articles')\n",
    "# plt.ylabel('Percent of Feature of Interst')\n",
    "\n",
    "plt.rcParams[\"figure.figsize\"] = [6,6]\n",
    "plt.title('Majority, from a Minority of Articles')"
   ]
  },
  {
   "cell_type": "code",
   "execution_count": null,
   "metadata": {
    "hideCode": false,
    "hidePrompt": false,
    "scrolled": true
   },
   "outputs": [],
   "source": [
    "import plotly.graph_objs as go\n",
    "\n",
    "trace1 = go.Scatter(\n",
    "    x = dat_feature_sorted['cumulative_pct_articles'],\n",
    "    y = dat_feature_sorted['cumulative_pct_feature'],\n",
    "    mode = 'lines',\n",
    "    name = '45 degree line'\n",
    ")\n",
    "\n",
    "\n",
    "data = [trace1]\n",
    "iplot(data, filename='scatter-mode')"
   ]
  },
  {
   "cell_type": "markdown",
   "metadata": {
    "hideCode": false,
    "hidePrompt": false
   },
   "source": [
    "## 2.01 Scale features"
   ]
  },
  {
   "cell_type": "code",
   "execution_count": null,
   "metadata": {
    "hideCode": false,
    "hidePrompt": false,
    "scrolled": true
   },
   "outputs": [],
   "source": [
    "# SCALING: zero mean and unit variance \n",
    "from sklearn.preprocessing import StandardScaler\n",
    "\n",
    "scaler = StandardScaler()\n",
    "scaler.fit(dat)\n",
    "dat_scaled = pd.DataFrame(scaler.transform(dat), columns = dat.columns, index = dat.index)"
   ]
  },
  {
   "cell_type": "markdown",
   "metadata": {
    "hideCode": false,
    "hidePrompt": false
   },
   "source": [
    "Datasets:\n",
    "\n",
    "    (0) dat0\n",
    "    (1) dat\n",
    "    (2) dat_feature_sorted\n",
    "        - f\n",
    "    (3) dat_scaled"
   ]
  },
  {
   "cell_type": "markdown",
   "metadata": {
    "hideCode": false,
    "hidePrompt": false
   },
   "source": [
    "## 2.1 k-means"
   ]
  },
  {
   "cell_type": "markdown",
   "metadata": {
    "hideCode": false,
    "hidePrompt": false
   },
   "source": [
    "### 2.1.1 Model"
   ]
  },
  {
   "cell_type": "code",
   "execution_count": null,
   "metadata": {
    "hideCode": false,
    "hidePrompt": false,
    "scrolled": true
   },
   "outputs": [],
   "source": [
    "%%time\n",
    "\n",
    "# K-means clustering  --------------------  --------------------\n",
    "from sklearn.cluster import KMeans\n",
    "\n",
    "kmeans = KMeans(n_clusters = 4)\n",
    "kmeans.fit(dat_scaled)\n",
    "\n",
    "Kmeans = pd.Series(kmeans.predict(dat_scaled)) # Cluster assignments\n",
    "\n",
    "# Cluster counts\n",
    "print(Kmeans.value_counts())\n",
    "print()"
   ]
  },
  {
   "cell_type": "code",
   "execution_count": null,
   "metadata": {
    "hideCode": false,
    "hidePrompt": false,
    "scrolled": true
   },
   "outputs": [],
   "source": [
    "Kmeans = (Kmeans != 0)*1 # lone vector\n",
    "Kmeans.value_counts()\n",
    "\n",
    "# k = pd.DataFrame({'kmeans': Kmeans.values}, index = dat_scaled.index)\n"
   ]
  },
  {
   "cell_type": "markdown",
   "metadata": {
    "hideCode": false,
    "hidePrompt": false
   },
   "source": [
    "### 2.1.2 Plots"
   ]
  },
  {
   "cell_type": "code",
   "execution_count": null,
   "metadata": {
    "hideCode": false,
    "hidePrompt": false,
    "scrolled": true
   },
   "outputs": [],
   "source": [
    "import matplotlib as mpl"
   ]
  },
  {
   "cell_type": "code",
   "execution_count": null,
   "metadata": {
    "hideCode": false,
    "hidePrompt": false,
    "scrolled": true
   },
   "outputs": [],
   "source": [
    "mpl.rcParams.update(mpl.rcParamsDefault)"
   ]
  },
  {
   "cell_type": "code",
   "execution_count": null,
   "metadata": {
    "hideCode": false,
    "hidePrompt": false,
    "scrolled": true
   },
   "outputs": [],
   "source": [
    "pd.plotting.scatter_matrix(\n",
    "    dat[[\n",
    "        ('gross_demand_quantity', 'mean'), \n",
    "        ('gross_demand_quantity', 'std'),\n",
    "        ('sales_price', 'mean'), \n",
    "        ('gross_demand_quantity', 'sum')\n",
    "        ]], \n",
    "    figsize=(10,10),\n",
    "    diagonal='kde',\n",
    "    c = Kmeans, \n",
    "    alpha = 0.5\n",
    ")"
   ]
  },
  {
   "cell_type": "code",
   "execution_count": null,
   "metadata": {
    "hideCode": false,
    "hidePrompt": false,
    "scrolled": true
   },
   "outputs": [],
   "source": [
    "plt.subplot(2, 1, 1)\n",
    "plt.scatter(dat['gross_demand_quantity']['mean'], \n",
    "            dat['sales_price']['mean'], \n",
    "            c = Kmeans,\n",
    "            alpha = 0.5)\n",
    "plt.title('Sale Price vs. Gross Demand Quantity')\n",
    "plt.ylabel('Sale Price')\n",
    "\n",
    "plt.subplot(2, 1, 2)\n",
    "plt.scatter(dat['gross_demand_quantity']['sum'], \n",
    "            dat['sales_price']['mean'], \n",
    "            c = Kmeans,\n",
    "            alpha = 0.5)\n",
    "# plt.title('Sale Price vs. Gross Demand Qty (mean/sum)')\n",
    "plt.ylabel('Sale Price')\n",
    "plt.xlabel('GDQ Sum')\n",
    "\n",
    "# plt.xlabel('Sales Price')\n",
    "# plt.ylabel('log(sold_qty)')\n",
    "\n",
    "# plt.colorbar()\n",
    "# plt.rcParams[\"figure.figsize\"] = [5,5]\n",
    "# plt.title('K-means Classification')\n"
   ]
  },
  {
   "cell_type": "markdown",
   "metadata": {
    "hideCode": false,
    "hidePrompt": false
   },
   "source": [
    "### 2.1.3 Histograms"
   ]
  },
  {
   "cell_type": "markdown",
   "metadata": {
    "hideCode": false,
    "hidePrompt": false
   },
   "source": [
    "#### (a) gross_demand_quantity - basic"
   ]
  },
  {
   "cell_type": "code",
   "execution_count": null,
   "metadata": {
    "hideCode": false,
    "hidePrompt": false,
    "scrolled": true
   },
   "outputs": [],
   "source": [
    "# Histogram: total gross demand quantity, basic items\n",
    "dat[(dat['Kmeans'] == 0) & (dat['gross_demand_quantity']['sum'] < 10000)]['gross_demand_quantity']['sum'].hist(\n",
    "    bins = 100, \n",
    ")\n",
    "\n",
    "plt.xlabel('Total Gross Demand Quantity')\n",
    "plt.ylabel('Quantity')\n",
    "\n",
    "plt.rcParams[\"figure.figsize\"] = [12,12]\n",
    "plt.title('Basic Articles')"
   ]
  },
  {
   "cell_type": "markdown",
   "metadata": {
    "hideCode": false,
    "hidePrompt": false
   },
   "source": [
    "#### (b) gross_demand_quantity - non-basic"
   ]
  },
  {
   "cell_type": "code",
   "execution_count": null,
   "metadata": {
    "hideCode": false,
    "hidePrompt": false,
    "scrolled": true
   },
   "outputs": [],
   "source": [
    "# Histogram: total gross_demand_quantity, non-basic items\n",
    "dat[(dat['Kmeans'] != 0) & (dat['gross_demand_quantity']['sum'] < 5000)]['gross_demand_quantity']['sum'].hist(bins = 50)\n",
    "\n",
    "plt.xlabel('Total Gross Demand Quantity')\n",
    "plt.ylabel('Quantity')\n",
    "\n",
    "plt.rcParams[\"figure.figsize\"] = [12,12]\n",
    "plt.title('Non-basic Articles')\n"
   ]
  },
  {
   "cell_type": "markdown",
   "metadata": {
    "hideCode": false,
    "hidePrompt": false
   },
   "source": [
    "#### (c) sales_price - basic"
   ]
  },
  {
   "cell_type": "code",
   "execution_count": null,
   "metadata": {
    "hideCode": false,
    "hidePrompt": false,
    "scrolled": true
   },
   "outputs": [],
   "source": [
    "# Histogram: sales_price, basic items\n",
    "dat[(dat['Kmeans'] == 0) & (dat['sales_price']['mean'] < 200) & (dat['sales_price']['mean'] > 0)]['sales_price']['mean'].hist(bins = 100)\n",
    "\n",
    "plt.xlabel('Sale Price')\n",
    "plt.ylabel('Quantity')\n",
    "\n",
    "plt.rcParams[\"figure.figsize\"] = [12,12]\n",
    "plt.title('Basic Articles')\n"
   ]
  },
  {
   "cell_type": "markdown",
   "metadata": {
    "hideCode": false,
    "hidePrompt": false
   },
   "source": [
    "#### (d) sales_price - non-basic"
   ]
  },
  {
   "cell_type": "code",
   "execution_count": null,
   "metadata": {
    "hideCode": false,
    "hidePrompt": false,
    "scrolled": true
   },
   "outputs": [],
   "source": [
    "# Histogram: sales_price, non-basic items\n",
    "dat[(dat['Kmeans'] != 0) & (dat['sales_price']['mean'] < 200)]['sales_price']['mean'].hist(bins = 100)\n",
    "\n",
    "plt.xlabel('Sale Price')\n",
    "plt.ylabel('Quantity')\n",
    "\n",
    "plt.rcParams[\"figure.figsize\"] = [12,12]\n",
    "plt.title('Non-basic Articles')"
   ]
  },
  {
   "cell_type": "markdown",
   "metadata": {
    "hideCode": false,
    "hidePrompt": false
   },
   "source": [
    "## 2.2 Agglomerative Clustering"
   ]
  },
  {
   "cell_type": "code",
   "execution_count": null,
   "metadata": {
    "hideCode": false,
    "hidePrompt": false,
    "scrolled": true
   },
   "outputs": [],
   "source": [
    "%%time\n",
    "\n",
    "# Agglomerative Clustering -------------\n",
    "from sklearn.cluster import AgglomerativeClustering\n",
    "\n",
    "agg = AgglomerativeClustering(n_clusters = 6)\n",
    "agglom = pd.Series(agg.fit_predict(dat_scaled))\n",
    "\n",
    "agglom.value_counts()"
   ]
  },
  {
   "cell_type": "code",
   "execution_count": null,
   "metadata": {
    "hideCode": false,
    "hidePrompt": false,
    "scrolled": true
   },
   "outputs": [],
   "source": [
    "# # Reclassify: majority/non as 0/1 \n",
    "\n",
    "agglom = (agglom != 0)*1 # lone vector\n",
    "agglom.value_counts()"
   ]
  },
  {
   "cell_type": "code",
   "execution_count": null,
   "metadata": {
    "hideCode": false,
    "hidePrompt": false,
    "scrolled": true
   },
   "outputs": [],
   "source": [
    "a = pd.DataFrame({'agglom': agglom.values}, index = dat_scaled.index)"
   ]
  },
  {
   "cell_type": "markdown",
   "metadata": {},
   "source": [
    "Datasets:\n",
    "\n",
    "    (0) dat0\n",
    "    (1) dat\n",
    "    (2) dat_feature_sorted\n",
    "        - f\n",
    "    (3) dat_scaled\n",
    "        - k\n",
    "        - a"
   ]
  },
  {
   "cell_type": "code",
   "execution_count": null,
   "metadata": {
    "hideCode": false,
    "hidePrompt": false,
    "scrolled": true
   },
   "outputs": [],
   "source": [
    "plt.subplot(2, 1, 1)\n",
    "plt.scatter(dat_scaled['gross_demand_quantity']['mean'], \n",
    "            dat_scaled['sales_price']['mean'], \n",
    "            c = agglom,\n",
    "            alpha = 0.25)\n",
    "plt.title('Agglomerative Classes: Sale Price vs. Gross Demand Qty (mean/sum)')\n",
    "plt.ylabel('Sale Price')\n",
    "\n",
    "plt.subplot(2, 1, 2)\n",
    "plt.scatter(dat_scaled['gross_demand_quantity']['sum'], \n",
    "            dat_scaled['sales_price']['mean'], \n",
    "            c = agglom,\n",
    "            alpha = 0.25)\n",
    "plt.ylabel('Sale Price')\n",
    "plt.xlabel('GDQ Sum')\n"
   ]
  },
  {
   "cell_type": "markdown",
   "metadata": {
    "hideCode": false,
    "hidePrompt": false
   },
   "source": [
    "## 2.3 DBSCAN \n",
    "\n",
    "'density based spatial clustering of applications with noise'"
   ]
  },
  {
   "cell_type": "code",
   "execution_count": null,
   "metadata": {
    "hideCode": false,
    "hidePrompt": false,
    "scrolled": true
   },
   "outputs": [],
   "source": [
    "%%time\n",
    "\n",
    "from sklearn.cluster import DBSCAN\n",
    "\n",
    "dbscan = DBSCAN() # 3min 36s\n",
    "dbs = pd.Series(dbscan.fit_predict(dat_scaled))\n",
    "\n",
    "dbs.value_counts()"
   ]
  },
  {
   "cell_type": "code",
   "execution_count": null,
   "metadata": {
    "hideCode": false,
    "hidePrompt": false,
    "scrolled": true
   },
   "outputs": [],
   "source": [
    "# # Reclassify: majority/non as 0/1 \n",
    "dbs01 = (dbs != -1)*1 # lone vector\n",
    "dbs01.value_counts()"
   ]
  },
  {
   "cell_type": "code",
   "execution_count": null,
   "metadata": {
    "hideCode": false,
    "hidePrompt": false,
    "scrolled": true
   },
   "outputs": [],
   "source": [
    "dbs = pd.DataFrame({'dbs': dbs01.values}, index = dat_scaled.index)"
   ]
  },
  {
   "cell_type": "markdown",
   "metadata": {},
   "source": [
    "Datasets:\n",
    "\n",
    "    (0) dat0\n",
    "    (1) dat\n",
    "    (2) dat_feature_sorted\n",
    "        - f\n",
    "    (3) dat_scaled\n",
    "        - k\n",
    "        - a\n",
    "        - dbs"
   ]
  },
  {
   "cell_type": "code",
   "execution_count": null,
   "metadata": {
    "hideCode": false,
    "hidePrompt": false,
    "scrolled": true
   },
   "outputs": [],
   "source": [
    "plt.scatter(np.log(dat['net_sales']['sum']), \n",
    "            np.log(dat['sold_qty']['sum']), \n",
    "            c = dbs01,\n",
    "            alpha = 0.15)\n",
    "plt.xlabel('log(net_sales)')\n",
    "plt.ylabel('log(sold_qty)')\n",
    "plt.colorbar()\n",
    "plt.title('DBSCAN Classification')\n",
    "plt.rcParams[\"figure.figsize\"] = [16,16]"
   ]
  },
  {
   "cell_type": "markdown",
   "metadata": {
    "hideCode": false,
    "hidePrompt": false
   },
   "source": [
    "## 2.4 Evaluation"
   ]
  },
  {
   "cell_type": "markdown",
   "metadata": {
    "hideCode": false,
    "hidePrompt": false
   },
   "source": [
    "### 2.4.1 Cross methods comparison"
   ]
  },
  {
   "cell_type": "code",
   "execution_count": null,
   "metadata": {
    "hideCode": false,
    "hidePrompt": false
   },
   "outputs": [],
   "source": [
    "# k_a = pd.merge(k, a, left_index = True, right_index = True)\n",
    "\n",
    "# f_k_a = pd.merge(f, k_a, left_index=True, right_index=True)\n",
    "\n",
    "# fka_dbs = pd.merge(f_k_a, dbs, left_index=True, right_index=True)"
   ]
  },
  {
   "cell_type": "code",
   "execution_count": null,
   "metadata": {
    "hideCode": false,
    "hidePrompt": false,
    "scrolled": true
   },
   "outputs": [],
   "source": [
    ".groupby(['feat_based', 'kmeans', 'agglom']).size()\n",
    "\n",
    "table = pd.DataFrame(data = {'Ag': agglom, 'Km': Kmeans, 'DB': dbs01})\n",
    "table.groupby(['Ag', 'Km', 'DB']).size()\n",
    "1 - 3924/46573 # 0.9157 kmeans-agglomerative agreement\n"
   ]
  },
  {
   "cell_type": "markdown",
   "metadata": {},
   "source": [
    "Datasets:\n",
    "\n",
    "    (0) dat0\n",
    "    (1) dat\n",
    "    (2) dat_feature_sorted\n",
    "        - f\n",
    "    (3) dat_scaled\n",
    "        - k\n",
    "        - a\n",
    "        - dbs\n",
    "    (4) table"
   ]
  },
  {
   "cell_type": "markdown",
   "metadata": {
    "hideCode": false,
    "hidePrompt": false
   },
   "source": [
    "### 2.4.2 Clustering Metrics\n",
    "\n",
    "See https://scikit-learn.org/stable/modules/clustering.html for metric information (2.4.2 - __ )"
   ]
  },
  {
   "cell_type": "code",
   "execution_count": null,
   "metadata": {
    "hideCode": false,
    "hidePrompt": false,
    "scrolled": true
   },
   "outputs": [],
   "source": [
    "dat_feature_sorted_scaled = pd.DataFrame(StandardScaler().fit(dat_feature_sorted).transform(dat_feature_sorted), \n",
    "                                         columns = dat_feature_sorted.columns,\n",
    "                                         index = dat_feature_sorted.index)\n"
   ]
  },
  {
   "cell_type": "markdown",
   "metadata": {},
   "source": [
    "Datasets:\n",
    "\n",
    "    (0) dat0\n",
    "    (1) dat\n",
    "    (2) dat_feature_sorted\n",
    "        - f\n",
    "    (3) dat_scaled\n",
    "        - k\n",
    "        - a\n",
    "        - dbs\n",
    "    (4) table\n",
    "    (5) dat_feature_sorted_scaled"
   ]
  },
  {
   "cell_type": "markdown",
   "metadata": {
    "hideCode": false,
    "hidePrompt": false
   },
   "source": [
    "#### Silhouette Coefficient"
   ]
  },
  {
   "cell_type": "code",
   "execution_count": null,
   "metadata": {
    "hideCode": false,
    "hidePrompt": false,
    "scrolled": true
   },
   "outputs": [],
   "source": [
    "from sklearn import metrics\n",
    "\n",
    "# higher better\n",
    "\n",
    "metrics.silhouette_score(dat_feature_sorted_scaled, f['feat_based']) # feature based: 0.555\n",
    "\n",
    "metrics.silhouette_score(dat_feature_sorted, f['feat_based']) # feature based: 0.59568\n",
    "metrics.silhouette_score(dat_scaled, k['kmeans']) # k-means: 0.44598\n",
    "metrics.silhouette_score(dat_scaled, a['agglom']) # agglomerative: 0.33"
   ]
  },
  {
   "cell_type": "markdown",
   "metadata": {
    "hideCode": false,
    "hidePrompt": false
   },
   "source": [
    "#### Calinski-Harabaz Index"
   ]
  },
  {
   "cell_type": "code",
   "execution_count": null,
   "metadata": {
    "hideCode": false,
    "hidePrompt": false,
    "scrolled": true
   },
   "outputs": [],
   "source": [
    "# higher better\n",
    "\n",
    "metrics.calinski_harabaz_score(dat_feature_sorted_scaled, f['feat_based']) # 20816\n",
    "\n",
    "metrics.calinski_harabaz_score(dat_feature_sorted, f['feat_based']) # 77433\n",
    "metrics.calinski_harabaz_score(dat_scaled, k['kmeans']) # 7474\n",
    "metrics.calinski_harabaz_score(dat_scaled, a['agglom']) # 5147\n"
   ]
  },
  {
   "cell_type": "markdown",
   "metadata": {
    "hideCode": false,
    "hidePrompt": false
   },
   "source": [
    "#### Davies-Bouldin Index"
   ]
  },
  {
   "cell_type": "code",
   "execution_count": null,
   "metadata": {
    "hideCode": false,
    "hidePrompt": false,
    "scrolled": true
   },
   "outputs": [],
   "source": [
    "# lower is better\n",
    "\n",
    "metrics.davies_bouldin_score(dat_feature_sorted_scaled, f['feat_based']) # 0.779\n",
    "\n",
    "metrics.davies_bouldin_score(dat_feature_sorted, f['feat_based']) # 0.44\n",
    "metrics.davies_bouldin_score(dat_scaled, k['kmeans']) # 1.186\n",
    "metrics.davies_bouldin_score(dat_scaled, a['agglom']) # 1.47\n"
   ]
  },
  {
   "cell_type": "markdown",
   "metadata": {
    "hideCode": false,
    "hidePrompt": false
   },
   "source": [
    "# 3 Article Reference Data"
   ]
  },
  {
   "cell_type": "code",
   "execution_count": null,
   "metadata": {
    "hideCode": false,
    "hidePrompt": false,
    "scrolled": true
   },
   "outputs": [],
   "source": [
    "dat2 = pd.read_csv('article_reference_data_y2016_18.csv',\n",
    "                 delimiter = '~',\n",
    "                  low_memory = False,\n",
    "                   usecols=['group_article', 'brand', 'sub_brand', 'season_create', 'season_active',\n",
    "                            'graphic', 'gender', 'age_group', 'retail_intro_date_global',\n",
    "                            'retail_exit_date_global', 'material_technology', 'pictogram_composition',\n",
    "                            'price_band', 'gender_age', 'construction_type', 'length_mes_uom_dim',\n",
    "                            'uom_dim', 'height_mes_uom_dim', 'width_mes_uom_dim', 'article_descr',\n",
    "                            'drop_season', 'uom_vol', 'uom_wgt', 'product_fit', 'material_way_type',\n",
    "                            'outer_sole_main_material', 'inner_sole_main_material', 'main_material_lining',\n",
    "                            'main_material_upper', 'dimension_uov', 'dimension_uom', 'carried_over_from',\n",
    "                            'drop_date', 'retail_exit_tgt_season', 'product_franchise', 'age_group_descr',\n",
    "                            'brand_descr', 'sub_brand_descr', 'lifecylce_status_prod_descr', 'brand_asset_descr',\n",
    "                            'rmh_retail_class_descr', 'rmh_retail_department_descr', 'rmh_retail_sub_class_descr',\n",
    "                            'rmh_retail_sub_dept_descr', 'rmh_category_descr', 'rmh_gender_descr',\n",
    "                            'rmh_retail_section_descr', 'rmh_product_division_descr', 'rmh_product_type_descr',\n",
    "                            'spm_color_first_descr', 'spm_color_second_descr', 'spm_color_third_descr',\n",
    "                            'spm_color_fourth_descr', 'product_franchise_descr'\n",
    "                           ]\n",
    "                  )"
   ]
  },
  {
   "cell_type": "code",
   "execution_count": null,
   "metadata": {
    "hideCode": false,
    "hidePrompt": false,
    "scrolled": true
   },
   "outputs": [],
   "source": [
    "# dat2['<feature>'].unique()\n",
    "# len(dat2['<feature'].unique())\n",
    "\n",
    "# Yes (11)\n",
    "# ['rmh_product_type_descr', 'rmh_product_division_descr', 'rmh_retail_section_descr',\n",
    "# 'rmh_gender_descr', 'rmh_category_descr', 'rmh_retail_department_descr',\n",
    "# 'sub_brand_descr', 'brand_descr', 'age_group_descr', 'age_group', 'gender']\n",
    "\n",
    "# No (13)\n",
    "# 'graphic', 'pictogram_composition', 'article_descr', 'lifecylce_status_prod_descr', 'brand_asset_descr', \n",
    "# 'rmh_retail_class_descr', 'rmh_retail_sub_class_descr', 'rmh_retail_sub_dept_descr', 'spm_color_first_descr', \n",
    "# 'spm_color_second_descr', 'spm_color_third_descr','spm_color_fourth_descr', 'product_franchise_descr' \n",
    "\n",
    "\n",
    "dat2.drop(['uom_dim', 'drop_season', 'uom_vol', 'uom_wgt', 'material_way_type', 'inner_sole_main_material', \n",
    "           'main_material_upper', 'outer_sole_main_material', 'main_material_lining', 'carried_over_from', 'drop_date',\n",
    "           'graphic', 'pictogram_composition', 'article_descr', 'lifecylce_status_prod_descr', 'brand_asset_descr', \n",
    "           'rmh_retail_class_descr', 'rmh_retail_sub_class_descr', 'rmh_retail_sub_dept_descr', 'spm_color_first_descr', \n",
    "           'spm_color_second_descr', 'spm_color_third_descr','spm_color_fourth_descr', 'product_franchise_descr' \n",
    "          ], axis = 1, inplace=True)\n"
   ]
  },
  {
   "cell_type": "code",
   "execution_count": null,
   "metadata": {
    "hideCode": false,
    "hidePrompt": false,
    "scrolled": true
   },
   "outputs": [],
   "source": [
    "# Save/read data\n",
    "\n",
    "# dat2.to_csv('dat2.csv')\n",
    "\n",
    "dat2 = pd.read_csv('dat2.csv', low_memory=False, index_col = 0) "
   ]
  },
  {
   "cell_type": "code",
   "execution_count": null,
   "metadata": {
    "hideCode": false,
    "hidePrompt": false,
    "scrolled": true
   },
   "outputs": [],
   "source": [
    "# pd.to_datetime(dat2['season_create'])\n",
    "\n",
    "dat2.dtypes\n",
    "\n",
    "{print(x, '-->', len(dat2[x].unique())) for x in dat2.columns}"
   ]
  },
  {
   "cell_type": "markdown",
   "metadata": {},
   "source": [
    "Datasets:\n",
    "\n",
    "    (0) dat0\n",
    "    (1) dat\n",
    "    (2) dat_feature_sorted\n",
    "        - f\n",
    "    (3) dat_scaled\n",
    "        - k\n",
    "        - a\n",
    "        - dbs\n",
    "    (4) table\n",
    "    (5) dat_feature_sorted_scaled\n",
    "    (6) dat2"
   ]
  },
  {
   "cell_type": "markdown",
   "metadata": {
    "hideCode": false,
    "hidePrompt": false
   },
   "source": [
    "# 4 Cluster Prediction\n",
    "\n",
    "    *Pause this for now, determine if clustering helps"
   ]
  },
  {
   "cell_type": "markdown",
   "metadata": {
    "hideCode": false,
    "hidePrompt": false
   },
   "source": [
    "### 4.0.2 Scaling"
   ]
  },
  {
   "cell_type": "code",
   "execution_count": null,
   "metadata": {
    "hideCode": false,
    "hidePrompt": false,
    "scrolled": true
   },
   "outputs": [],
   "source": [
    "# Standardize non-numeric features\n",
    "\n",
    "# dt = pd.DataFrame(data = dat2.dtypes, columns = ['type'])\n",
    "# num = dt[(dt['type'] == 'int64') | (dt['type'] == 'float64')].index\n",
    "# obj = dt[(dt['type'] != 'int64') & (dt['type'] != 'float64')].index\n",
    "\n",
    "# dat2_num = dat2[num]\n",
    "\n",
    "# scaler = StandardScaler()\n",
    "# scaler.fit(dat2_num)\n",
    "\n",
    "# dat2_num_scaled = pd.DataFrame(scaler.transform(dat2_num), columns = dat2_num.columns, index = dat2_num.index)\n",
    "# dat2_num_scaled.head()"
   ]
  },
  {
   "cell_type": "markdown",
   "metadata": {
    "hideCode": false,
    "hidePrompt": false
   },
   "source": [
    "### 4.0.3 One-hot Encoding"
   ]
  },
  {
   "cell_type": "code",
   "execution_count": null,
   "metadata": {
    "hideCode": false,
    "hidePrompt": false,
    "scrolled": true
   },
   "outputs": [],
   "source": [
    "%%time\n",
    "\n",
    "dat2_dummy = pd.get_dummies(dat2)\n",
    "\n",
    "dat2_dummy.shape"
   ]
  },
  {
   "cell_type": "markdown",
   "metadata": {
    "hideCode": false,
    "hidePrompt": false
   },
   "source": [
    "## 4.1 Classification Models"
   ]
  },
  {
   "cell_type": "markdown",
   "metadata": {
    "hideCode": false,
    "hidePrompt": false
   },
   "source": [
    "### 4.1.1 Train-Test Split"
   ]
  },
  {
   "cell_type": "code",
   "execution_count": null,
   "metadata": {
    "hideCode": false,
    "hidePrompt": false,
    "scrolled": true
   },
   "outputs": [],
   "source": [
    "X = dat2_dummy.drop('Kmeans', axis = 1)\n",
    "y = dat2_dummy['Kmeans']\n",
    "\n",
    "X_train, X_test, y_train, y_test = train_test_split(X, y)"
   ]
  },
  {
   "cell_type": "markdown",
   "metadata": {
    "hideCode": false,
    "hidePrompt": false
   },
   "source": [
    "### 4.1.2 Decision Tree"
   ]
  },
  {
   "cell_type": "code",
   "execution_count": null,
   "metadata": {
    "hideCode": false,
    "hidePrompt": false,
    "scrolled": true
   },
   "outputs": [],
   "source": [
    "from sklearn.tree import DecisionTreeClassifier\n",
    "\n",
    "tree = DecisionTreeClassifier().fit(X, y)\n",
    "\n",
    "tree.score(X_train, y_train)\n",
    "tree.score(X_test, y_test)"
   ]
  },
  {
   "cell_type": "markdown",
   "metadata": {
    "hideCode": false,
    "hidePrompt": false
   },
   "source": [
    "### 4.1.3 Neural Network"
   ]
  },
  {
   "cell_type": "code",
   "execution_count": null,
   "metadata": {
    "hideCode": false,
    "hidePrompt": false,
    "scrolled": true
   },
   "outputs": [],
   "source": [
    "from sklearn.neural_network import MLPClassifier"
   ]
  },
  {
   "cell_type": "code",
   "execution_count": null,
   "metadata": {
    "hideCode": false,
    "hidePrompt": false,
    "scrolled": true
   },
   "outputs": [],
   "source": [
    "\n",
    "mlp = MLPClassifier().fit(X_train, y_train) \n",
    "    # --Arguments--\n",
    "    # solver = <something>\n",
    "    # hidden_layer_sizes = [<nodes_layer_1>, <nodes_layer_2>, ...]\n",
    "    # activation = '<function>'\n",
    "    # alpha = <regularization/complexity_param> \n",
    "    \n",
    "mlp.score(X_train, y_train)\n",
    "mlp.score(X_test, y_test)"
   ]
  },
  {
   "cell_type": "markdown",
   "metadata": {
    "hideCode": false,
    "hidePrompt": false
   },
   "source": [
    "# 5 Baseline eCom Demand Forecaster"
   ]
  },
  {
   "cell_type": "markdown",
   "metadata": {
    "hideCode": false,
    "hidePrompt": false
   },
   "source": [
    "## 5.1 OLS linear regression"
   ]
  },
  {
   "cell_type": "code",
   "execution_count": null,
   "metadata": {
    "hideCode": false,
    "hidePrompt": false
   },
   "outputs": [],
   "source": [
    "%%time\n",
    "\n",
    "dat00 = pd.read_csv('seasonal_sales_indicators.csv',\n",
    "                 delimiter = '~')"
   ]
  },
  {
   "cell_type": "markdown",
   "metadata": {
    "hideCode": false,
    "hidePrompt": false
   },
   "source": [
    "Dataset:\n",
    "\n",
    "    (0) dat00"
   ]
  },
  {
   "cell_type": "code",
   "execution_count": null,
   "metadata": {
    "hideCode": false,
    "hidePrompt": false,
    "scrolled": true
   },
   "outputs": [],
   "source": [
    "dat0 = dat00.copy()\n",
    "\n",
    "dat0.columns = [x.replace('t_eu_ecom_dit_dsf_transaction_t.', '') for x in dat0.columns] # tidy column names\n",
    "\n",
    "dat0.drop(['sales_organization', 'sku', 'total_markdown', 'temporary_markdown', \n",
    "           'permanent_markdown', 'employee_markdown', 'fraction_of_full_price', \n",
    "           'markdown', 'sale'], inplace=True, axis = 1)\n",
    "\n",
    "# {print(x, '-->', len(dat0[x].unique())) for x in dat0.columns}\n",
    "# dat0.dtypes"
   ]
  },
  {
   "cell_type": "markdown",
   "metadata": {
    "hideCode": false,
    "hidePrompt": false
   },
   "source": [
    "Dataset:\n",
    "\n",
    "    (0) dat00\n",
    "    (1) dat0 "
   ]
  },
  {
   "cell_type": "code",
   "execution_count": null,
   "metadata": {
    "hideCode": false,
    "hidePrompt": false
   },
   "outputs": [],
   "source": [
    "dat0 = dat0.groupby(by = ['article_number', 'season']).agg('sum')[['net_qty', 'net_sales']]\n",
    "\n",
    "dat0['price'] = dat0['net_sales']/dat0['net_qty']\n",
    "\n",
    "dat0.reset_index(level = 'season', inplace=True) # convert 'season' back to column"
   ]
  },
  {
   "cell_type": "code",
   "execution_count": null,
   "metadata": {
    "hideCode": false,
    "hidePrompt": false
   },
   "outputs": [],
   "source": [
    "# Sort by season\n",
    "\n",
    "# order = {'SS17': 0, 'FW17': 1, 'SS18': 2, 'FW18': 3, 'SS19': 4}\n",
    "# dat0['order_id'] = [order[i] for i in dat0.reset_index()['season']]\n",
    "\n",
    "# dat0.sort_values(by = ['article_number', 'order_id'], inplace=True)\n",
    "# dat0.drop('order_id', axis = 1, inplace=True)\n",
    "\n",
    "# dat0 = dat0[[s in ['SS17', 'SS19'] for s in dat0['season']]]"
   ]
  },
  {
   "cell_type": "code",
   "execution_count": null,
   "metadata": {
    "hideCode": false,
    "hidePrompt": false
   },
   "outputs": [],
   "source": [
    "dat0 = dat0.replace([np.inf, -np.inf, np.nan], 0)\n",
    "dat0 = dat0[(dat0['price'] > 0) & (dat0['net_qty'] > 9)]"
   ]
  },
  {
   "cell_type": "code",
   "execution_count": null,
   "metadata": {
    "hideCode": false,
    "hidePrompt": false
   },
   "outputs": [],
   "source": [
    "dat17 = dat0[dat0['season'] == 'SS17']\n",
    "dat19 = pd.DataFrame(dat0[dat0['season'] == 'SS19']['net_sales'])\n",
    "\n",
    "dat17_19 = pd.merge(dat17, dat19, left_index = True, right_index=True)\n",
    "dat17_19"
   ]
  },
  {
   "cell_type": "code",
   "execution_count": null,
   "metadata": {
    "hideCode": false,
    "hidePrompt": false
   },
   "outputs": [],
   "source": [
    "from sklearn.linear_model import LinearRegression\n",
    "\n",
    "X = dat17_19.drop(['season', 'net_sales_y'], axis = 1)\n",
    "y = pd.DataFrame(dat17_19['net_sales_y'])\n",
    "\n",
    "lin_reg = LinearRegression().fit(X, y)"
   ]
  },
  {
   "cell_type": "code",
   "execution_count": null,
   "metadata": {
    "hideCode": false,
    "hidePrompt": false
   },
   "outputs": [],
   "source": [
    "lin_reg.score(X, y) # R^2 = 0.2706\n",
    "\n",
    "lin_reg.intercept_\n",
    "lin_reg.coef_"
   ]
  },
  {
   "cell_type": "markdown",
   "metadata": {
    "hideCode": false,
    "hidePrompt": false
   },
   "source": [
    "## 5.2 SARIMAX"
   ]
  },
  {
   "cell_type": "code",
   "execution_count": null,
   "metadata": {},
   "outputs": [],
   "source": [
    "%%time\n",
    "dat0 = pd.read_csv('seasonal_sales_indicators.csv',\n",
    "                 delimiter = '~')\n",
    "\n",
    "# len(dat0['article_number'].unique()) # 46573"
   ]
  },
  {
   "cell_type": "code",
   "execution_count": null,
   "metadata": {},
   "outputs": [],
   "source": [
    "dat = dat0.copy()\n",
    "\n",
    "dat.columns = [x.replace('t_eu_ecom_dit_dsf_transaction_t.', '') for x in dat.columns] # tidy column names\n",
    "\n",
    "dat = dat[dat['gross_demand_quantity'] != 0] \n",
    "\n",
    "dat['consumer_order_date'] = pd.to_datetime(dat['consumer_order_date'])"
   ]
  },
  {
   "cell_type": "code",
   "execution_count": 111,
   "metadata": {
    "scrolled": true
   },
   "outputs": [
    {
     "data": {
      "text/html": [
       "<div>\n",
       "<style scoped>\n",
       "    .dataframe tbody tr th:only-of-type {\n",
       "        vertical-align: middle;\n",
       "    }\n",
       "\n",
       "    .dataframe tbody tr th {\n",
       "        vertical-align: top;\n",
       "    }\n",
       "\n",
       "    .dataframe thead th {\n",
       "        text-align: right;\n",
       "    }\n",
       "</style>\n",
       "<table border=\"1\" class=\"dataframe\">\n",
       "  <thead>\n",
       "    <tr style=\"text-align: right;\">\n",
       "      <th></th>\n",
       "      <th>consumer_order_date</th>\n",
       "      <th>sales_organization</th>\n",
       "      <th>country</th>\n",
       "      <th>article_number</th>\n",
       "      <th>sku</th>\n",
       "      <th>brand</th>\n",
       "      <th>gross_demand_quantity</th>\n",
       "      <th>sold_qty</th>\n",
       "      <th>net_qty</th>\n",
       "      <th>gross_sales_gross_disc_net_ret</th>\n",
       "      <th>gross_sales_net_disc_gross_ret</th>\n",
       "      <th>net_sales</th>\n",
       "      <th>total_markdown</th>\n",
       "      <th>temporary_markdown</th>\n",
       "      <th>permanent_markdown</th>\n",
       "      <th>employee_markdown</th>\n",
       "      <th>article_promotion_main_category_group</th>\n",
       "      <th>fraction_of_full_price</th>\n",
       "      <th>markdown</th>\n",
       "      <th>sale</th>\n",
       "      <th>fw_or_ss</th>\n",
       "      <th>season</th>\n",
       "    </tr>\n",
       "  </thead>\n",
       "  <tbody>\n",
       "    <tr>\n",
       "      <th>0</th>\n",
       "      <td>2018-03-18</td>\n",
       "      <td>180</td>\n",
       "      <td>DE</td>\n",
       "      <td>BR0486</td>\n",
       "      <td>BR0486-560</td>\n",
       "      <td>ADIDAS</td>\n",
       "      <td>1</td>\n",
       "      <td>1</td>\n",
       "      <td>1</td>\n",
       "      <td>46.18</td>\n",
       "      <td>32.32</td>\n",
       "      <td>32.32</td>\n",
       "      <td>13.86</td>\n",
       "      <td>0.00</td>\n",
       "      <td>-13.86</td>\n",
       "      <td>0.0</td>\n",
       "      <td>Outlet</td>\n",
       "      <td>0.699870</td>\n",
       "      <td>1</td>\n",
       "      <td>1</td>\n",
       "      <td>SS</td>\n",
       "      <td>SS18</td>\n",
       "    </tr>\n",
       "    <tr>\n",
       "      <th>1</th>\n",
       "      <td>2017-07-23</td>\n",
       "      <td>180</td>\n",
       "      <td>DE</td>\n",
       "      <td>BK5924</td>\n",
       "      <td>BK5924-330</td>\n",
       "      <td>ADIDAS</td>\n",
       "      <td>1</td>\n",
       "      <td>1</td>\n",
       "      <td>1</td>\n",
       "      <td>67.18</td>\n",
       "      <td>26.88</td>\n",
       "      <td>26.88</td>\n",
       "      <td>40.30</td>\n",
       "      <td>-40.30</td>\n",
       "      <td>0.00</td>\n",
       "      <td>0.0</td>\n",
       "      <td>SALE</td>\n",
       "      <td>0.400119</td>\n",
       "      <td>1</td>\n",
       "      <td>1</td>\n",
       "      <td>FW</td>\n",
       "      <td>FW17</td>\n",
       "    </tr>\n",
       "    <tr>\n",
       "      <th>2</th>\n",
       "      <td>2017-03-21</td>\n",
       "      <td>180</td>\n",
       "      <td>DE</td>\n",
       "      <td>BB2395</td>\n",
       "      <td>BB2395-590</td>\n",
       "      <td>ADIDAS</td>\n",
       "      <td>5</td>\n",
       "      <td>5</td>\n",
       "      <td>3</td>\n",
       "      <td>302.40</td>\n",
       "      <td>352.80</td>\n",
       "      <td>211.68</td>\n",
       "      <td>90.72</td>\n",
       "      <td>0.00</td>\n",
       "      <td>-90.72</td>\n",
       "      <td>0.0</td>\n",
       "      <td>Outlet</td>\n",
       "      <td>0.700000</td>\n",
       "      <td>1</td>\n",
       "      <td>1</td>\n",
       "      <td>SS</td>\n",
       "      <td>SS17</td>\n",
       "    </tr>\n",
       "    <tr>\n",
       "      <th>3</th>\n",
       "      <td>2018-04-24</td>\n",
       "      <td>180</td>\n",
       "      <td>DE</td>\n",
       "      <td>BQ0631</td>\n",
       "      <td>BQ0631-330</td>\n",
       "      <td>ADIDAS</td>\n",
       "      <td>1</td>\n",
       "      <td>1</td>\n",
       "      <td>1</td>\n",
       "      <td>27.69</td>\n",
       "      <td>20.77</td>\n",
       "      <td>20.77</td>\n",
       "      <td>6.92</td>\n",
       "      <td>-6.92</td>\n",
       "      <td>0.00</td>\n",
       "      <td>0.0</td>\n",
       "      <td>Marketing Activation</td>\n",
       "      <td>0.750090</td>\n",
       "      <td>1</td>\n",
       "      <td>0</td>\n",
       "      <td>SS</td>\n",
       "      <td>SS18</td>\n",
       "    </tr>\n",
       "    <tr>\n",
       "      <th>4</th>\n",
       "      <td>2017-05-14</td>\n",
       "      <td>180</td>\n",
       "      <td>DE</td>\n",
       "      <td>BB2384</td>\n",
       "      <td>BB2384-560</td>\n",
       "      <td>ADIDAS</td>\n",
       "      <td>1</td>\n",
       "      <td>1</td>\n",
       "      <td>1</td>\n",
       "      <td>117.61</td>\n",
       "      <td>82.32</td>\n",
       "      <td>82.32</td>\n",
       "      <td>35.29</td>\n",
       "      <td>-35.29</td>\n",
       "      <td>0.00</td>\n",
       "      <td>0.0</td>\n",
       "      <td>SALE</td>\n",
       "      <td>0.699940</td>\n",
       "      <td>1</td>\n",
       "      <td>1</td>\n",
       "      <td>SS</td>\n",
       "      <td>SS17</td>\n",
       "    </tr>\n",
       "  </tbody>\n",
       "</table>\n",
       "</div>"
      ],
      "text/plain": [
       "  consumer_order_date  sales_organization country article_number         sku  \\\n",
       "0          2018-03-18                 180      DE         BR0486  BR0486-560   \n",
       "1          2017-07-23                 180      DE         BK5924  BK5924-330   \n",
       "2          2017-03-21                 180      DE         BB2395  BB2395-590   \n",
       "3          2018-04-24                 180      DE         BQ0631  BQ0631-330   \n",
       "4          2017-05-14                 180      DE         BB2384  BB2384-560   \n",
       "\n",
       "    brand  gross_demand_quantity  sold_qty  net_qty  \\\n",
       "0  ADIDAS                      1         1        1   \n",
       "1  ADIDAS                      1         1        1   \n",
       "2  ADIDAS                      5         5        3   \n",
       "3  ADIDAS                      1         1        1   \n",
       "4  ADIDAS                      1         1        1   \n",
       "\n",
       "   gross_sales_gross_disc_net_ret  gross_sales_net_disc_gross_ret  net_sales  \\\n",
       "0                           46.18                           32.32      32.32   \n",
       "1                           67.18                           26.88      26.88   \n",
       "2                          302.40                          352.80     211.68   \n",
       "3                           27.69                           20.77      20.77   \n",
       "4                          117.61                           82.32      82.32   \n",
       "\n",
       "   total_markdown  temporary_markdown  permanent_markdown  employee_markdown  \\\n",
       "0           13.86                0.00              -13.86                0.0   \n",
       "1           40.30              -40.30                0.00                0.0   \n",
       "2           90.72                0.00              -90.72                0.0   \n",
       "3            6.92               -6.92                0.00                0.0   \n",
       "4           35.29              -35.29                0.00                0.0   \n",
       "\n",
       "  article_promotion_main_category_group  fraction_of_full_price  markdown  \\\n",
       "0                                Outlet                0.699870         1   \n",
       "1                                  SALE                0.400119         1   \n",
       "2                                Outlet                0.700000         1   \n",
       "3                  Marketing Activation                0.750090         1   \n",
       "4                                  SALE                0.699940         1   \n",
       "\n",
       "   sale fw_or_ss season  \n",
       "0     1       SS   SS18  \n",
       "1     1       FW   FW17  \n",
       "2     1       SS   SS17  \n",
       "3     0       SS   SS18  \n",
       "4     1       SS   SS17  "
      ]
     },
     "execution_count": 111,
     "metadata": {},
     "output_type": "execute_result"
    }
   ],
   "source": [
    "dat.head()"
   ]
  },
  {
   "cell_type": "code",
   "execution_count": 113,
   "metadata": {},
   "outputs": [
    {
     "data": {
      "text/plain": [
       "consumer_order_date                      datetime64[ns]\n",
       "sales_organization                                int64\n",
       "country                                          object\n",
       "article_number                                   object\n",
       "sku                                              object\n",
       "brand                                            object\n",
       "gross_demand_quantity                             int64\n",
       "sold_qty                                          int64\n",
       "net_qty                                           int64\n",
       "gross_sales_gross_disc_net_ret                  float64\n",
       "gross_sales_net_disc_gross_ret                  float64\n",
       "net_sales                                       float64\n",
       "total_markdown                                  float64\n",
       "temporary_markdown                              float64\n",
       "permanent_markdown                              float64\n",
       "employee_markdown                               float64\n",
       "article_promotion_main_category_group            object\n",
       "fraction_of_full_price                          float64\n",
       "markdown                                          int64\n",
       "sale                                              int64\n",
       "fw_or_ss                                         object\n",
       "season                                           object\n",
       "dtype: object"
      ]
     },
     "execution_count": 113,
     "metadata": {},
     "output_type": "execute_result"
    },
    {
     "name": "stdout",
     "output_type": "stream",
     "text": [
      "consumer_order_date --> 729\n",
      "sales_organization --> 76\n",
      "country --> 19\n",
      "article_number --> 46572\n",
      "sku --> 371989\n",
      "brand --> 2\n",
      "gross_demand_quantity --> 610\n",
      "sold_qty --> 591\n",
      "net_qty --> 553\n",
      "gross_sales_gross_disc_net_ret --> 43081\n",
      "gross_sales_net_disc_gross_ret --> 73001\n",
      "net_sales --> 62281\n",
      "total_markdown --> 57213\n",
      "temporary_markdown --> 48242\n",
      "permanent_markdown --> 32061\n",
      "employee_markdown --> 7761\n",
      "article_promotion_main_category_group --> 12\n",
      "fraction_of_full_price --> 839989\n",
      "markdown --> 1\n",
      "sale --> 2\n",
      "fw_or_ss --> 2\n",
      "season --> 5\n"
     ]
    },
    {
     "data": {
      "text/plain": [
       "{None}"
      ]
     },
     "execution_count": 113,
     "metadata": {},
     "output_type": "execute_result"
    }
   ],
   "source": [
    "dat.dtypes\n",
    "\n",
    "{print(x, '-->', len(dat[x].unique())) for x in dat.columns}"
   ]
  },
  {
   "cell_type": "markdown",
   "metadata": {},
   "source": [
    "Data\n",
    "\n",
    "    (0) dat0 (do not modify)\n",
    "    (1) dat"
   ]
  },
  {
   "cell_type": "markdown",
   "metadata": {},
   "source": [
    "## #5.2.0 EDA"
   ]
  },
  {
   "cell_type": "code",
   "execution_count": null,
   "metadata": {},
   "outputs": [],
   "source": [
    "dat_g = dat.groupby(by = ['article_number', 'consumer_order_date']) # data grouped\n",
    "\n",
    "dat_aggs = pd.DataFrame(dat_g.agg('sum')['gross_demand_quantity']) # data aggregates"
   ]
  },
  {
   "cell_type": "markdown",
   "metadata": {},
   "source": [
    "Data\n",
    "\n",
    "    (0) dat0 (do not modify)\n",
    "    (1) dat\n",
    "    (2) dat_g - grouped\n",
    "    (3) dat_aggs - aggregated, gross_demand_quantity only"
   ]
  },
  {
   "cell_type": "code",
   "execution_count": null,
   "metadata": {},
   "outputs": [],
   "source": [
    "dat_aggs.reset_index(level = 'article_number', inplace=True)\n",
    "\n",
    "\n",
    "dat_aggs = dat_aggs.groupby('article_number')\n",
    "dat_aggs = dat_aggs.resample('W').sum() # 'aggregate' to weekly sums by article\n",
    "\n",
    "dat_aggs = dat_aggs.reset_index()\n",
    "\n",
    "\n",
    "# Convert article_number to column, gross_demand_quantity to data\n",
    "\n",
    "dat_aggs_pivoted = dat_aggs.pivot(index = 'consumer_order_date', \n",
    "                                  columns = 'article_number', \n",
    "                                  values = 'gross_demand_quantity')"
   ]
  },
  {
   "cell_type": "code",
   "execution_count": 110,
   "metadata": {},
   "outputs": [
    {
     "data": {
      "text/plain": [
       "<matplotlib.axes._subplots.AxesSubplot at 0x1c2d8b4b00>"
      ]
     },
     "execution_count": 110,
     "metadata": {},
     "output_type": "execute_result"
    },
    {
     "data": {
      "image/png": "[encoded data removed]",
      "text/plain": [
       "<Figure size 1296x432 with 1 Axes>"
      ]
     },
     "metadata": {
      "image/png": {
       "height": 383,
       "width": 1053
      },
      "needs_background": "light"
     },
     "output_type": "display_data"
    }
   ],
   "source": [
    "# dat.fillna(value=0, inplace = True) # Define single transaction article std to be 0\n",
    "plt.rcParams[\"figure.figsize\"] = [18,6]\n",
    "\n",
    "\n",
    "dat_aggs_pivoted[dat_aggs_pivoted.columns[0:20]].plot()\n",
    "\n",
    "\n",
    "\n"
   ]
  },
  {
   "cell_type": "code",
   "execution_count": null,
   "metadata": {},
   "outputs": [],
   "source": [
    "# S21490 (arbitrarily) for learning time series EDA\n",
    "\n",
    "datS21 = (dat_aggs[dat_aggs['article_number'] == 'S21490'].\n",
    "          set_index('consumer_order_date').\n",
    "          drop('article_number', axis = 1)\n",
    "         )\n",
    "\n",
    "weekly = datS21.resample('W').sum() # 'aggregate' to weekly sums\n",
    "\n",
    "weekly.head()\n",
    "weekly.plot()"
   ]
  }
 ],
 "metadata": {
  "celltoolbar": "Hide code",
  "hide_code_all_hidden": false,
  "kernelspec": {
   "display_name": "Python 3",
   "language": "python",
   "name": "python3"
  },
  "language_info": {
   "codemirror_mode": {
    "name": "ipython",
    "version": 3
   },
   "file_extension": ".py",
   "mimetype": "text/x-python",
   "name": "python",
   "nbconvert_exporter": "python",
   "pygments_lexer": "ipython3",
   "version": "3.7.1"
  }
 },
 "nbformat": 4,
 "nbformat_minor": 2
}
