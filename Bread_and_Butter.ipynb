{
 "cells": [
  {
   "cell_type": "markdown",
   "metadata": {
    "hideCode": false,
    "hideOutput": false,
    "hidePrompt": false
   },
   "source": [
    "# 0.0 Modules, etc."
   ]
  },
  {
   "cell_type": "code",
   "execution_count": 2,
   "metadata": {
    "hideCode": false,
    "hidePrompt": false,
    "scrolled": true
   },
   "outputs": [
    {
     "data": {
      "text/html": [
       "\n",
       "    <div class=\"bk-root\">\n",
       "        <a href=\"https://bokeh.pydata.org\" target=\"_blank\" class=\"bk-logo bk-logo-small bk-logo-notebook\"></a>\n",
       "        <span id=\"1001\">Loading BokehJS ...</span>\n",
       "    </div>"
      ]
     },
     "metadata": {},
     "output_type": "display_data"
    },
    {
     "data": {
      "application/javascript": [
       "\n",
       "(function(root) {\n",
       "  function now() {\n",
       "    return new Date();\n",
       "  }\n",
       "\n",
       "  var force = true;\n",
       "\n",
       "  if (typeof (root._bokeh_onload_callbacks) === \"undefined\" || force === true) {\n",
       "    root._bokeh_onload_callbacks = [];\n",
       "    root._bokeh_is_loading = undefined;\n",
       "  }\n",
       "\n",
       "  var JS_MIME_TYPE = 'application/javascript';\n",
       "  var HTML_MIME_TYPE = 'text/html';\n",
       "  var EXEC_MIME_TYPE = 'application/vnd.bokehjs_exec.v0+json';\n",
       "  var CLASS_NAME = 'output_bokeh rendered_html';\n",
       "\n",
       "  /**\n",
       "   * Render data to the DOM node\n",
       "   */\n",
       "  function render(props, node) {\n",
       "    var script = document.createElement(\"script\");\n",
       "    node.appendChild(script);\n",
       "  }\n",
       "\n",
       "  /**\n",
       "   * Handle when an output is cleared or removed\n",
       "   */\n",
       "  function handleClearOutput(event, handle) {\n",
       "    var cell = handle.cell;\n",
       "\n",
       "    var id = cell.output_area._bokeh_element_id;\n",
       "    var server_id = cell.output_area._bokeh_server_id;\n",
       "    // Clean up Bokeh references\n",
       "    if (id != null && id in Bokeh.index) {\n",
       "      Bokeh.index[id].model.document.clear();\n",
       "      delete Bokeh.index[id];\n",
       "    }\n",
       "\n",
       "    if (server_id !== undefined) {\n",
       "      // Clean up Bokeh references\n",
       "      var cmd = \"from bokeh.io.state import curstate; print(curstate().uuid_to_server['\" + server_id + \"'].get_sessions()[0].document.roots[0]._id)\";\n",
       "      cell.notebook.kernel.execute(cmd, {\n",
       "        iopub: {\n",
       "          output: function(msg) {\n",
       "            var id = msg.content.text.trim();\n",
       "            if (id in Bokeh.index) {\n",
       "              Bokeh.index[id].model.document.clear();\n",
       "              delete Bokeh.index[id];\n",
       "            }\n",
       "          }\n",
       "        }\n",
       "      });\n",
       "      // Destroy server and session\n",
       "      var cmd = \"import bokeh.io.notebook as ion; ion.destroy_server('\" + server_id + \"')\";\n",
       "      cell.notebook.kernel.execute(cmd);\n",
       "    }\n",
       "  }\n",
       "\n",
       "  /**\n",
       "   * Handle when a new output is added\n",
       "   */\n",
       "  function handleAddOutput(event, handle) {\n",
       "    var output_area = handle.output_area;\n",
       "    var output = handle.output;\n",
       "\n",
       "    // limit handleAddOutput to display_data with EXEC_MIME_TYPE content only\n",
       "    if ((output.output_type != \"display_data\") || (!output.data.hasOwnProperty(EXEC_MIME_TYPE))) {\n",
       "      return\n",
       "    }\n",
       "\n",
       "    var toinsert = output_area.element.find(\".\" + CLASS_NAME.split(' ')[0]);\n",
       "\n",
       "    if (output.metadata[EXEC_MIME_TYPE][\"id\"] !== undefined) {\n",
       "      toinsert[toinsert.length - 1].firstChild.textContent = output.data[JS_MIME_TYPE];\n",
       "      // store reference to embed id on output_area\n",
       "      output_area._bokeh_element_id = output.metadata[EXEC_MIME_TYPE][\"id\"];\n",
       "    }\n",
       "    if (output.metadata[EXEC_MIME_TYPE][\"server_id\"] !== undefined) {\n",
       "      var bk_div = document.createElement(\"div\");\n",
       "      bk_div.innerHTML = output.data[HTML_MIME_TYPE];\n",
       "      var script_attrs = bk_div.children[0].attributes;\n",
       "      for (var i = 0; i < script_attrs.length; i++) {\n",
       "        toinsert[toinsert.length - 1].firstChild.setAttribute(script_attrs[i].name, script_attrs[i].value);\n",
       "      }\n",
       "      // store reference to server id on output_area\n",
       "      output_area._bokeh_server_id = output.metadata[EXEC_MIME_TYPE][\"server_id\"];\n",
       "    }\n",
       "  }\n",
       "\n",
       "  function register_renderer(events, OutputArea) {\n",
       "\n",
       "    function append_mime(data, metadata, element) {\n",
       "      // create a DOM node to render to\n",
       "      var toinsert = this.create_output_subarea(\n",
       "        metadata,\n",
       "        CLASS_NAME,\n",
       "        EXEC_MIME_TYPE\n",
       "      );\n",
       "      this.keyboard_manager.register_events(toinsert);\n",
       "      // Render to node\n",
       "      var props = {data: data, metadata: metadata[EXEC_MIME_TYPE]};\n",
       "      render(props, toinsert[toinsert.length - 1]);\n",
       "      element.append(toinsert);\n",
       "      return toinsert\n",
       "    }\n",
       "\n",
       "    /* Handle when an output is cleared or removed */\n",
       "    events.on('clear_output.CodeCell', handleClearOutput);\n",
       "    events.on('delete.Cell', handleClearOutput);\n",
       "\n",
       "    /* Handle when a new output is added */\n",
       "    events.on('output_added.OutputArea', handleAddOutput);\n",
       "\n",
       "    /**\n",
       "     * Register the mime type and append_mime function with output_area\n",
       "     */\n",
       "    OutputArea.prototype.register_mime_type(EXEC_MIME_TYPE, append_mime, {\n",
       "      /* Is output safe? */\n",
       "      safe: true,\n",
       "      /* Index of renderer in `output_area.display_order` */\n",
       "      index: 0\n",
       "    });\n",
       "  }\n",
       "\n",
       "  // register the mime type if in Jupyter Notebook environment and previously unregistered\n",
       "  if (root.Jupyter !== undefined) {\n",
       "    var events = require('base/js/events');\n",
       "    var OutputArea = require('notebook/js/outputarea').OutputArea;\n",
       "\n",
       "    if (OutputArea.prototype.mime_types().indexOf(EXEC_MIME_TYPE) == -1) {\n",
       "      register_renderer(events, OutputArea);\n",
       "    }\n",
       "  }\n",
       "\n",
       "  \n",
       "  if (typeof (root._bokeh_timeout) === \"undefined\" || force === true) {\n",
       "    root._bokeh_timeout = Date.now() + 5000;\n",
       "    root._bokeh_failed_load = false;\n",
       "  }\n",
       "\n",
       "  var NB_LOAD_WARNING = {'data': {'text/html':\n",
       "     \"<div style='background-color: #fdd'>\\n\"+\n",
       "     \"<p>\\n\"+\n",
       "     \"BokehJS does not appear to have successfully loaded. If loading BokehJS from CDN, this \\n\"+\n",
       "     \"may be due to a slow or bad network connection. Possible fixes:\\n\"+\n",
       "     \"</p>\\n\"+\n",
       "     \"<ul>\\n\"+\n",
       "     \"<li>re-rerun `output_notebook()` to attempt to load from CDN again, or</li>\\n\"+\n",
       "     \"<li>use INLINE resources instead, as so:</li>\\n\"+\n",
       "     \"</ul>\\n\"+\n",
       "     \"<code>\\n\"+\n",
       "     \"from bokeh.resources import INLINE\\n\"+\n",
       "     \"output_notebook(resources=INLINE)\\n\"+\n",
       "     \"</code>\\n\"+\n",
       "     \"</div>\"}};\n",
       "\n",
       "  function display_loaded() {\n",
       "    var el = document.getElementById(\"1001\");\n",
       "    if (el != null) {\n",
       "      el.textContent = \"BokehJS is loading...\";\n",
       "    }\n",
       "    if (root.Bokeh !== undefined) {\n",
       "      if (el != null) {\n",
       "        el.textContent = \"BokehJS \" + root.Bokeh.version + \" successfully loaded.\";\n",
       "      }\n",
       "    } else if (Date.now() < root._bokeh_timeout) {\n",
       "      setTimeout(display_loaded, 100)\n",
       "    }\n",
       "  }\n",
       "\n",
       "\n",
       "  function run_callbacks() {\n",
       "    try {\n",
       "      root._bokeh_onload_callbacks.forEach(function(callback) { callback() });\n",
       "    }\n",
       "    finally {\n",
       "      delete root._bokeh_onload_callbacks\n",
       "    }\n",
       "    console.info(\"Bokeh: all callbacks have finished\");\n",
       "  }\n",
       "\n",
       "  function load_libs(js_urls, callback) {\n",
       "    root._bokeh_onload_callbacks.push(callback);\n",
       "    if (root._bokeh_is_loading > 0) {\n",
       "      console.log(\"Bokeh: BokehJS is being loaded, scheduling callback at\", now());\n",
       "      return null;\n",
       "    }\n",
       "    if (js_urls == null || js_urls.length === 0) {\n",
       "      run_callbacks();\n",
       "      return null;\n",
       "    }\n",
       "    console.log(\"Bokeh: BokehJS not loaded, scheduling load and callback at\", now());\n",
       "    root._bokeh_is_loading = js_urls.length;\n",
       "    for (var i = 0; i < js_urls.length; i++) {\n",
       "      var url = js_urls[i];\n",
       "      var s = document.createElement('script');\n",
       "      s.src = url;\n",
       "      s.async = false;\n",
       "      s.onreadystatechange = s.onload = function() {\n",
       "        root._bokeh_is_loading--;\n",
       "        if (root._bokeh_is_loading === 0) {\n",
       "          console.log(\"Bokeh: all BokehJS libraries loaded\");\n",
       "          run_callbacks()\n",
       "        }\n",
       "      };\n",
       "      s.onerror = function() {\n",
       "        console.warn(\"failed to load library \" + url);\n",
       "      };\n",
       "      console.log(\"Bokeh: injecting script tag for BokehJS library: \", url);\n",
       "      document.getElementsByTagName(\"head\")[0].appendChild(s);\n",
       "    }\n",
       "  };var element = document.getElementById(\"1001\");\n",
       "  if (element == null) {\n",
       "    console.log(\"Bokeh: ERROR: autoload.js configured with elementid '1001' but no matching script tag was found. \")\n",
       "    return false;\n",
       "  }\n",
       "\n",
       "  var js_urls = [\"https://cdn.pydata.org/bokeh/release/bokeh-1.0.2.min.js\", \"https://cdn.pydata.org/bokeh/release/bokeh-widgets-1.0.2.min.js\", \"https://cdn.pydata.org/bokeh/release/bokeh-tables-1.0.2.min.js\", \"https://cdn.pydata.org/bokeh/release/bokeh-gl-1.0.2.min.js\"];\n",
       "\n",
       "  var inline_js = [\n",
       "    function(Bokeh) {\n",
       "      Bokeh.set_log_level(\"info\");\n",
       "    },\n",
       "    \n",
       "    function(Bokeh) {\n",
       "      \n",
       "    },\n",
       "    function(Bokeh) {\n",
       "      console.log(\"Bokeh: injecting CSS: https://cdn.pydata.org/bokeh/release/bokeh-1.0.2.min.css\");\n",
       "      Bokeh.embed.inject_css(\"https://cdn.pydata.org/bokeh/release/bokeh-1.0.2.min.css\");\n",
       "      console.log(\"Bokeh: injecting CSS: https://cdn.pydata.org/bokeh/release/bokeh-widgets-1.0.2.min.css\");\n",
       "      Bokeh.embed.inject_css(\"https://cdn.pydata.org/bokeh/release/bokeh-widgets-1.0.2.min.css\");\n",
       "      console.log(\"Bokeh: injecting CSS: https://cdn.pydata.org/bokeh/release/bokeh-tables-1.0.2.min.css\");\n",
       "      Bokeh.embed.inject_css(\"https://cdn.pydata.org/bokeh/release/bokeh-tables-1.0.2.min.css\");\n",
       "    }\n",
       "  ];\n",
       "\n",
       "  function run_inline_js() {\n",
       "    \n",
       "    if ((root.Bokeh !== undefined) || (force === true)) {\n",
       "      for (var i = 0; i < inline_js.length; i++) {\n",
       "        inline_js[i].call(root, root.Bokeh);\n",
       "      }if (force === true) {\n",
       "        display_loaded();\n",
       "      }} else if (Date.now() < root._bokeh_timeout) {\n",
       "      setTimeout(run_inline_js, 100);\n",
       "    } else if (!root._bokeh_failed_load) {\n",
       "      console.log(\"Bokeh: BokehJS failed to load within specified timeout.\");\n",
       "      root._bokeh_failed_load = true;\n",
       "    } else if (force !== true) {\n",
       "      var cell = $(document.getElementById(\"1001\")).parents('.cell').data().cell;\n",
       "      cell.output_area.append_execute_result(NB_LOAD_WARNING)\n",
       "    }\n",
       "\n",
       "  }\n",
       "\n",
       "  if (root._bokeh_is_loading === 0) {\n",
       "    console.log(\"Bokeh: BokehJS loaded, going straight to plotting\");\n",
       "    run_inline_js();\n",
       "  } else {\n",
       "    load_libs(js_urls, function() {\n",
       "      console.log(\"Bokeh: BokehJS plotting callback run at\", now());\n",
       "      run_inline_js();\n",
       "    });\n",
       "  }\n",
       "}(window));"
      ],
      "application/vnd.bokehjs_load.v0+json": "\n(function(root) {\n  function now() {\n    return new Date();\n  }\n\n  var force = true;\n\n  if (typeof (root._bokeh_onload_callbacks) === \"undefined\" || force === true) {\n    root._bokeh_onload_callbacks = [];\n    root._bokeh_is_loading = undefined;\n  }\n\n  \n\n  \n  if (typeof (root._bokeh_timeout) === \"undefined\" || force === true) {\n    root._bokeh_timeout = Date.now() + 5000;\n    root._bokeh_failed_load = false;\n  }\n\n  var NB_LOAD_WARNING = {'data': {'text/html':\n     \"<div style='background-color: #fdd'>\\n\"+\n     \"<p>\\n\"+\n     \"BokehJS does not appear to have successfully loaded. If loading BokehJS from CDN, this \\n\"+\n     \"may be due to a slow or bad network connection. Possible fixes:\\n\"+\n     \"</p>\\n\"+\n     \"<ul>\\n\"+\n     \"<li>re-rerun `output_notebook()` to attempt to load from CDN again, or</li>\\n\"+\n     \"<li>use INLINE resources instead, as so:</li>\\n\"+\n     \"</ul>\\n\"+\n     \"<code>\\n\"+\n     \"from bokeh.resources import INLINE\\n\"+\n     \"output_notebook(resources=INLINE)\\n\"+\n     \"</code>\\n\"+\n     \"</div>\"}};\n\n  function display_loaded() {\n    var el = document.getElementById(\"1001\");\n    if (el != null) {\n      el.textContent = \"BokehJS is loading...\";\n    }\n    if (root.Bokeh !== undefined) {\n      if (el != null) {\n        el.textContent = \"BokehJS \" + root.Bokeh.version + \" successfully loaded.\";\n      }\n    } else if (Date.now() < root._bokeh_timeout) {\n      setTimeout(display_loaded, 100)\n    }\n  }\n\n\n  function run_callbacks() {\n    try {\n      root._bokeh_onload_callbacks.forEach(function(callback) { callback() });\n    }\n    finally {\n      delete root._bokeh_onload_callbacks\n    }\n    console.info(\"Bokeh: all callbacks have finished\");\n  }\n\n  function load_libs(js_urls, callback) {\n    root._bokeh_onload_callbacks.push(callback);\n    if (root._bokeh_is_loading > 0) {\n      console.log(\"Bokeh: BokehJS is being loaded, scheduling callback at\", now());\n      return null;\n    }\n    if (js_urls == null || js_urls.length === 0) {\n      run_callbacks();\n      return null;\n    }\n    console.log(\"Bokeh: BokehJS not loaded, scheduling load and callback at\", now());\n    root._bokeh_is_loading = js_urls.length;\n    for (var i = 0; i < js_urls.length; i++) {\n      var url = js_urls[i];\n      var s = document.createElement('script');\n      s.src = url;\n      s.async = false;\n      s.onreadystatechange = s.onload = function() {\n        root._bokeh_is_loading--;\n        if (root._bokeh_is_loading === 0) {\n          console.log(\"Bokeh: all BokehJS libraries loaded\");\n          run_callbacks()\n        }\n      };\n      s.onerror = function() {\n        console.warn(\"failed to load library \" + url);\n      };\n      console.log(\"Bokeh: injecting script tag for BokehJS library: \", url);\n      document.getElementsByTagName(\"head\")[0].appendChild(s);\n    }\n  };var element = document.getElementById(\"1001\");\n  if (element == null) {\n    console.log(\"Bokeh: ERROR: autoload.js configured with elementid '1001' but no matching script tag was found. \")\n    return false;\n  }\n\n  var js_urls = [\"https://cdn.pydata.org/bokeh/release/bokeh-1.0.2.min.js\", \"https://cdn.pydata.org/bokeh/release/bokeh-widgets-1.0.2.min.js\", \"https://cdn.pydata.org/bokeh/release/bokeh-tables-1.0.2.min.js\", \"https://cdn.pydata.org/bokeh/release/bokeh-gl-1.0.2.min.js\"];\n\n  var inline_js = [\n    function(Bokeh) {\n      Bokeh.set_log_level(\"info\");\n    },\n    \n    function(Bokeh) {\n      \n    },\n    function(Bokeh) {\n      console.log(\"Bokeh: injecting CSS: https://cdn.pydata.org/bokeh/release/bokeh-1.0.2.min.css\");\n      Bokeh.embed.inject_css(\"https://cdn.pydata.org/bokeh/release/bokeh-1.0.2.min.css\");\n      console.log(\"Bokeh: injecting CSS: https://cdn.pydata.org/bokeh/release/bokeh-widgets-1.0.2.min.css\");\n      Bokeh.embed.inject_css(\"https://cdn.pydata.org/bokeh/release/bokeh-widgets-1.0.2.min.css\");\n      console.log(\"Bokeh: injecting CSS: https://cdn.pydata.org/bokeh/release/bokeh-tables-1.0.2.min.css\");\n      Bokeh.embed.inject_css(\"https://cdn.pydata.org/bokeh/release/bokeh-tables-1.0.2.min.css\");\n    }\n  ];\n\n  function run_inline_js() {\n    \n    if ((root.Bokeh !== undefined) || (force === true)) {\n      for (var i = 0; i < inline_js.length; i++) {\n        inline_js[i].call(root, root.Bokeh);\n      }if (force === true) {\n        display_loaded();\n      }} else if (Date.now() < root._bokeh_timeout) {\n      setTimeout(run_inline_js, 100);\n    } else if (!root._bokeh_failed_load) {\n      console.log(\"Bokeh: BokehJS failed to load within specified timeout.\");\n      root._bokeh_failed_load = true;\n    } else if (force !== true) {\n      var cell = $(document.getElementById(\"1001\")).parents('.cell').data().cell;\n      cell.output_area.append_execute_result(NB_LOAD_WARNING)\n    }\n\n  }\n\n  if (root._bokeh_is_loading === 0) {\n    console.log(\"Bokeh: BokehJS loaded, going straight to plotting\");\n    run_inline_js();\n  } else {\n    load_libs(js_urls, function() {\n      console.log(\"Bokeh: BokehJS plotting callback run at\", now());\n      run_inline_js();\n    });\n  }\n}(window));"
     },
     "metadata": {},
     "output_type": "display_data"
    }
   ],
   "source": [
    "import numpy as np\n",
    "import pandas as pd\n",
    "import multiprocessing\n",
    "\n",
    "import scipy\n",
    "from scipy import spatial\n",
    "from scipy.spatial import cKDTree\n",
    "\n",
    "import sklearn as sk\n",
    "from sklearn import svm\n",
    "from sklearn import preprocessing\n",
    "from sklearn import neighbors\n",
    "from sklearn.preprocessing import StandardScaler\n",
    "from sklearn import tree\n",
    "from sklearn.ensemble import RandomForestClassifier\n",
    "from sklearn.model_selection import StratifiedKFold\n",
    "from sklearn.feature_selection import RFECV\n",
    "from sklearn import clone\n",
    "from sklearn.externals.six.moves import xrange\n",
    "\n",
    "import matplotlib.pyplot as plt\n",
    "import bokeh\n",
    "import bokeh.io\n",
    "from bokeh.plotting import figure\n",
    "from bokeh.io import output_notebook, show\n",
    "\n",
    "# init_notebook_mode()\n",
    "\n",
    "import seaborn as sns\n",
    "\n",
    "import re\n",
    "import math\n",
    "import copy\n",
    "\n",
    "from collections import defaultdict\n",
    "import csv\n",
    "import itertools\n",
    "import datetime \n",
    "from datetime import datetime\n",
    "import time\n",
    "import dateutil.parser\n",
    "import pickle\n",
    "import random\n",
    "\n",
    "import gc\n",
    "import zipfile\n",
    "import sys, getopt\n",
    "import os\n",
    "\n",
    "from IPython.core.interactiveshell import InteractiveShell\n",
    "from io import StringIO\n",
    "\n",
    "import dask.dataframe as dd\n",
    "#from chest import Chest\n",
    "\n",
    "InteractiveShell.ast_node_interactivity = \"all\"\n",
    "#InteractiveShell.ast_node_interactivity = \"last\"\n",
    "\n",
    "# Magic function to make matplotlib inline\n",
    "%matplotlib inline\n",
    "\n",
    "%config InlineBackend.figure_formats = {'png', 'retina'}\n",
    "\n",
    "# Set up Bokeh for inline viewing\n",
    "bokeh.io.output_notebook()\n",
    "\n",
    "import dask.dataframe as ddf\n",
    "import dask.array as da"
   ]
  },
  {
   "cell_type": "code",
   "execution_count": null,
   "metadata": {
    "hideCode": false,
    "hidePrompt": false,
    "scrolled": true
   },
   "outputs": [],
   "source": [
    "pd.set_option('max_columns', 500)\n",
    "pd.set_option('max_rows', 5000)"
   ]
  },
  {
   "cell_type": "code",
   "execution_count": null,
   "metadata": {
    "hideCode": false,
    "hidePrompt": false,
    "scrolled": true
   },
   "outputs": [],
   "source": [
    "import plotly\n",
    "import plotly.plotly as py\n",
    "import plotly.graph_objs as go\n",
    "# plotly.tools.set_credentials_file(username='duplinskiy', api_key='RsZHhxIiAGGu7FN9P4bu')\n",
    "from plotly.offline import download_plotlyjs, init_notebook_mode, plot, iplot\n",
    "import cufflinks as cf\n",
    "\n",
    "cf.go_offline()"
   ]
  },
  {
   "cell_type": "markdown",
   "metadata": {
    "hideCode": false,
    "hidePrompt": false
   },
   "source": [
    "# 1 Preprocessing"
   ]
  },
  {
   "cell_type": "markdown",
   "metadata": {
    "hideCode": false,
    "hidePrompt": false
   },
   "source": [
    "## 1.1 Wrangling"
   ]
  },
  {
   "cell_type": "code",
   "execution_count": null,
   "metadata": {
    "hideCode": false,
    "hidePrompt": false,
    "scrolled": true
   },
   "outputs": [],
   "source": [
    "%%time\n",
    "dat0 = pd.read_csv('seasonal_sales_indicators.csv',\n",
    "                 delimiter = '~')\n",
    "\n",
    "# len(dat0['article_number'].unique()) # 46573\n",
    "\n",
    "dat = dat0.copy()\n",
    "\n",
    "dat.columns = [x.replace('t_eu_ecom_dit_dsf_transaction_t.', '') for x in dat.columns] # tidy column names\n",
    "\n",
    "dat = dat[dat['gross_demand_quantity'] != 0] "
   ]
  },
  {
   "cell_type": "markdown",
   "metadata": {
    "hideCode": false,
    "hidePrompt": false
   },
   "source": [
    "Data\n",
    "\n",
    "    (0) dat0\n",
    "    (1) dat"
   ]
  },
  {
   "cell_type": "code",
   "execution_count": null,
   "metadata": {
    "hideCode": false,
    "hidePrompt": false,
    "scrolled": true
   },
   "outputs": [],
   "source": [
    "# Feature subset for clustering\n",
    "\n",
    "dat = dat[['article_number', \n",
    "           'gross_demand_quantity', # mean, sum, std\n",
    "           'fraction_of_full_price', # mean, std\n",
    "           'markdown', # mean (INDICATOR) \n",
    "           'sale', # mean (INDICATOR no/sale)\n",
    "           'gross_sales_net_disc_gross_ret']]\n",
    "\n",
    "dat['sales_price'] = dat['gross_sales_net_disc_gross_ret'].divide(dat['gross_demand_quantity'])\n",
    "dat.drop('gross_sales_net_disc_gross_ret', axis = 1, inplace = True)"
   ]
  },
  {
   "cell_type": "code",
   "execution_count": null,
   "metadata": {
    "hideCode": false,
    "hidePrompt": false,
    "scrolled": true
   },
   "outputs": [],
   "source": [
    "%%time\n",
    "\n",
    "dat_grouped = dat.groupby(by = 'article_number')\n",
    "\n",
    "dat = dat_grouped.agg(['mean', 'std']) # Need count\n",
    "dat.drop([('markdown', 'std'),('sale', 'std')], axis = 1, inplace=True)\n",
    "dat[('gross_demand_quantity','sum')] = dat_grouped['gross_demand_quantity'].sum()\n",
    "\n",
    "dat.fillna(value=0, inplace = True) # Define single transaction article std to be 0\n",
    "dat = dat.replace([np.inf, -np.inf, np.nan], 0)"
   ]
  },
  {
   "cell_type": "markdown",
   "metadata": {
    "hideCode": false,
    "hidePrompt": false
   },
   "source": [
    "## 1.2 Save/Load curated data"
   ]
  },
  {
   "cell_type": "code",
   "execution_count": null,
   "metadata": {
    "hideCode": false,
    "hidePrompt": false,
    "scrolled": true
   },
   "outputs": [],
   "source": [
    "# Save/load tidied version\n",
    "\n",
    "# dat.to_csv('dat.csv')\n",
    "\n",
    "dat = pd.read_csv('dat.csv', low_memory=False, index_col = 0, header = [0,1]) # gotta encode multi-index"
   ]
  },
  {
   "cell_type": "markdown",
   "metadata": {
    "hideCode": false,
    "hidePrompt": false
   },
   "source": [
    "# 2 Clustering "
   ]
  },
  {
   "cell_type": "markdown",
   "metadata": {
    "hideCode": false,
    "hidePrompt": false
   },
   "source": [
    "## 2.0 Baseline: feature-based"
   ]
  },
  {
   "cell_type": "markdown",
   "metadata": {
    "hideCode": false,
    "hidePrompt": false
   },
   "source": [
    "### 2.0.1 Sort"
   ]
  },
  {
   "cell_type": "code",
   "execution_count": null,
   "metadata": {
    "hideCode": false,
    "hidePrompt": false,
    "scrolled": true
   },
   "outputs": [],
   "source": [
    "feature = 'sales_price'\n",
    "stat = 'mean'\n",
    "\n",
    "dat_feature_sorted = dat.sort_values([(feature, stat)], ascending=False) # Sort\n",
    "\n",
    "# # --- Feature cumulative sum ---\n",
    "# dat_feature_sorted['cumulative_feature'] = dat_feature_sorted[feature][stat].cumsum()\n",
    "\n",
    "# # --- Feature cumulative percent ---\n",
    "# total = dat_feature_sorted[feature][stat].sum() \n",
    "# dat_feature_sorted['cumulative_pct_feature'] = dat_feature_sorted[feature][stat].cumsum()/total\n",
    "\n",
    "# # --- Cumulative percent of articles ---\n",
    "# t = pd.Series(range(1, 46573))/46572\n",
    "# dat_feature_sorted['cumulative_pct_articles'] = t.values\n",
    "\n",
    "# --- Add feature based cluster; i.e. top X are labelled non-basic ---\n",
    "f = pd.DataFrame(np.concatenate([np.ones(8483), np.zeros(38089)]))"
   ]
  },
  {
   "cell_type": "code",
   "execution_count": null,
   "metadata": {
    "hideCode": false,
    "hidePrompt": false
   },
   "outputs": [],
   "source": [
    "from sklearn.preprocessing import StandardScaler\n",
    "from sklearn.decomposition import PCA\n",
    "\n",
    "scaler = StandardScaler()\n",
    "scaler.fit(dat_feature_sorted)\n",
    "dat_feature_sorted_scaled = scaler.transform(dat_feature_sorted)\n",
    "\n",
    "pca = PCA(n_components=2) # keep the first two principal components of the data\n",
    "pca.fit(dat_feature_sorted_scaled)\n",
    "\n",
    "# transform data onto the first two principal components\n",
    "dat_pca = pd.DataFrame(pca.transform(dat_feature_sorted_scaled))\n"
   ]
  },
  {
   "cell_type": "markdown",
   "metadata": {
    "hideCode": false,
    "hidePrompt": false
   },
   "source": [
    "### 2.0.2 Plot"
   ]
  },
  {
   "cell_type": "code",
   "execution_count": null,
   "metadata": {
    "hideCode": false,
    "hidePrompt": false
   },
   "outputs": [],
   "source": [
    "plt.rcParams[\"figure.figsize\"] = [16,5]\n",
    "\n",
    "plt.scatter(dat_pca[0], \n",
    "            dat_pca[1], \n",
    "            c = f[0],\n",
    "            alpha = 0.5)\n",
    "\n",
    "plt.colorbar()\n",
    "\n",
    "plt.title('Basic and Non-basic')\n",
    "plt.ylabel('Principal Component 2')\n",
    "plt.xlabel('Principal Component 1')\n"
   ]
  },
  {
   "cell_type": "code",
   "execution_count": null,
   "metadata": {
    "hideCode": false,
    "hidePrompt": false,
    "scrolled": true
   },
   "outputs": [],
   "source": [
    "plt.plot(dat_feature_sorted['cumulative_pct_articles'], \n",
    "         dat_feature_sorted['cumulative_pct_feature'],\n",
    "        linewidth = 3)\n",
    "\n",
    "# plt.xlabel('Percent of Articles')\n",
    "# plt.ylabel('Percent of Feature of Interst')\n",
    "\n",
    "plt.rcParams[\"figure.figsize\"] = [6,6]\n",
    "plt.title('Majority, from a Minority of Articles')"
   ]
  },
  {
   "cell_type": "code",
   "execution_count": null,
   "metadata": {
    "hideCode": false,
    "hidePrompt": false,
    "scrolled": true
   },
   "outputs": [],
   "source": [
    "import plotly.graph_objs as go\n",
    "\n",
    "trace1 = go.Scatter(\n",
    "    x = dat_feature_sorted['cumulative_pct_articles'],\n",
    "    y = dat_feature_sorted['cumulative_pct_feature'],\n",
    "    mode = 'lines',\n",
    "    name = '45 degree line'\n",
    ")\n",
    "\n",
    "\n",
    "data = [trace1]\n",
    "iplot(data, filename='scatter-mode')"
   ]
  },
  {
   "cell_type": "markdown",
   "metadata": {
    "hideCode": false,
    "hidePrompt": false
   },
   "source": [
    "## 2.01 Scale (for ML approaches)"
   ]
  },
  {
   "cell_type": "code",
   "execution_count": null,
   "metadata": {
    "hideCode": false,
    "hidePrompt": false,
    "scrolled": true
   },
   "outputs": [],
   "source": [
    "# SCALING: zero mean and unit variance \n",
    "from sklearn.preprocessing import StandardScaler\n",
    "\n",
    "scaler = StandardScaler()\n",
    "scaler.fit(dat)\n",
    "dat_scaled = pd.DataFrame(scaler.transform(dat), columns = dat.columns, index = dat.index)"
   ]
  },
  {
   "cell_type": "markdown",
   "metadata": {
    "hideCode": false,
    "hidePrompt": false
   },
   "source": [
    "## 2.1 k-means"
   ]
  },
  {
   "cell_type": "markdown",
   "metadata": {
    "hideCode": false,
    "hidePrompt": false
   },
   "source": [
    "### 2.1.1 Model"
   ]
  },
  {
   "cell_type": "code",
   "execution_count": null,
   "metadata": {
    "hideCode": false,
    "hidePrompt": false,
    "scrolled": true
   },
   "outputs": [],
   "source": [
    "%%time\n",
    "\n",
    "# K-means clustering  --------------------  --------------------\n",
    "from sklearn.cluster import KMeans\n",
    "\n",
    "kmeans = KMeans(n_clusters = 4)\n",
    "kmeans.fit(dat_scaled)\n",
    "\n",
    "Kmeans = pd.Series(kmeans.predict(dat_scaled)) # Cluster assignments\n",
    "\n",
    "# Cluster counts\n",
    "print(Kmeans.value_counts())\n",
    "print()"
   ]
  },
  {
   "cell_type": "code",
   "execution_count": null,
   "metadata": {
    "hideCode": false,
    "hidePrompt": false,
    "scrolled": true
   },
   "outputs": [],
   "source": [
    "Kmeans = (Kmeans != 0)*1 # lone vector\n",
    "Kmeans.value_counts()\n",
    "\n",
    "# k = pd.DataFrame({'kmeans': Kmeans.values}, index = dat_scaled.index)\n"
   ]
  },
  {
   "cell_type": "markdown",
   "metadata": {
    "hideCode": false,
    "hidePrompt": false
   },
   "source": [
    "### 2.1.2 Plots"
   ]
  },
  {
   "cell_type": "code",
   "execution_count": null,
   "metadata": {
    "hideCode": false,
    "hidePrompt": false,
    "scrolled": true
   },
   "outputs": [],
   "source": [
    "import matplotlib as mpl"
   ]
  },
  {
   "cell_type": "code",
   "execution_count": null,
   "metadata": {
    "hideCode": false,
    "hidePrompt": false,
    "scrolled": true
   },
   "outputs": [],
   "source": [
    "mpl.rcParams.update(mpl.rcParamsDefault)"
   ]
  },
  {
   "cell_type": "code",
   "execution_count": null,
   "metadata": {
    "hideCode": false,
    "hidePrompt": false,
    "scrolled": true
   },
   "outputs": [],
   "source": [
    "pd.plotting.scatter_matrix(\n",
    "    dat[[\n",
    "        ('gross_demand_quantity', 'mean'), \n",
    "        ('gross_demand_quantity', 'std'),\n",
    "        ('sales_price', 'mean'), \n",
    "        ('gross_demand_quantity', 'sum')\n",
    "        ]], \n",
    "    figsize=(10,10),\n",
    "    diagonal='kde',\n",
    "    c = Kmeans, \n",
    "    alpha = 0.5\n",
    ")"
   ]
  },
  {
   "cell_type": "code",
   "execution_count": null,
   "metadata": {
    "hideCode": false,
    "hidePrompt": false,
    "scrolled": true
   },
   "outputs": [],
   "source": [
    "plt.subplot(2, 1, 1)\n",
    "plt.scatter(dat['gross_demand_quantity']['mean'], \n",
    "            dat['sales_price']['mean'], \n",
    "            c = Kmeans,\n",
    "            alpha = 0.5)\n",
    "plt.title('Sale Price vs. Gross Demand Quantity')\n",
    "plt.ylabel('Sale Price')\n",
    "\n",
    "plt.subplot(2, 1, 2)\n",
    "plt.scatter(dat['gross_demand_quantity']['sum'], \n",
    "            dat['sales_price']['mean'], \n",
    "            c = Kmeans,\n",
    "            alpha = 0.5)\n",
    "# plt.title('Sale Price vs. Gross Demand Qty (mean/sum)')\n",
    "plt.ylabel('Sale Price')\n",
    "plt.xlabel('GDQ Sum')\n",
    "\n",
    "# plt.xlabel('Sales Price')\n",
    "# plt.ylabel('log(sold_qty)')\n",
    "\n",
    "# plt.colorbar()\n",
    "# plt.rcParams[\"figure.figsize\"] = [5,5]\n",
    "# plt.title('K-means Classification')\n"
   ]
  },
  {
   "cell_type": "markdown",
   "metadata": {
    "hideCode": false,
    "hidePrompt": false
   },
   "source": [
    "### 2.1.3 Histograms"
   ]
  },
  {
   "cell_type": "code",
   "execution_count": null,
   "metadata": {
    "hideCode": false,
    "hidePrompt": false
   },
   "outputs": [],
   "source": [
    "#### (a) gross_demand_quantity - basic\n",
    "\n",
    "# Histogram: total gross demand quantity, basic items\n",
    "dat[(dat['Kmeans'] == 0) & (dat['gross_demand_quantity']['sum'] < 10000)]['gross_demand_quantity']['sum'].hist(bins = 100)\n",
    "\n",
    "plt.xlabel('Total Gross Demand Quantity')\n",
    "plt.ylabel('Quantity')\n",
    "\n",
    "plt.rcParams[\"figure.figsize\"] = [12,12]\n",
    "plt.title('Basic Articles')\n",
    "\n",
    "#### (b) gross_demand_quantity - non-basic\n",
    "\n",
    "# Histogram: total gross_demand_quantity, non-basic items\n",
    "dat[(dat['Kmeans'] != 0) & (dat['gross_demand_quantity']['sum'] < 5000)]['gross_demand_quantity']['sum'].hist(bins = 50)\n",
    "\n",
    "plt.xlabel('Total Gross Demand Quantity')\n",
    "plt.ylabel('Quantity')\n",
    "\n",
    "plt.rcParams[\"figure.figsize\"] = [12,12]\n",
    "plt.title('Non-basic Articles')\n",
    "\n",
    "\n",
    "#### (c) sales_price - basic\n",
    "\n",
    "# Histogram: sales_price, basic items\n",
    "dat[(dat['Kmeans'] == 0) & (dat['sales_price']['mean'] < 200) & (dat['sales_price']['mean'] > 0)]['sales_price']['mean'].hist(bins = 100)\n",
    "\n",
    "plt.xlabel('Sale Price')\n",
    "plt.ylabel('Quantity')\n",
    "\n",
    "plt.rcParams[\"figure.figsize\"] = [12,12]\n",
    "plt.title('Basic Articles')\n",
    "\n",
    "\n",
    "#### (d) sales_price - non-basic\n",
    "\n",
    "# Histogram: sales_price, non-basic items\n",
    "dat[(dat['Kmeans'] != 0) & (dat['sales_price']['mean'] < 200)]['sales_price']['mean'].hist(bins = 100)\n",
    "\n",
    "plt.xlabel('Sale Price')\n",
    "plt.ylabel('Quantity')\n",
    "\n",
    "plt.rcParams[\"figure.figsize\"] = [12,12]\n",
    "plt.title('Non-basic Articles')"
   ]
  },
  {
   "cell_type": "markdown",
   "metadata": {
    "hideCode": false,
    "hidePrompt": false
   },
   "source": [
    "## 2.2 Agglomerative Clustering"
   ]
  },
  {
   "cell_type": "code",
   "execution_count": null,
   "metadata": {
    "hideCode": false,
    "hidePrompt": false,
    "scrolled": true
   },
   "outputs": [],
   "source": [
    "%%time\n",
    "\n",
    "# Agglomerative Clustering -------------\n",
    "from sklearn.cluster import AgglomerativeClustering\n",
    "\n",
    "agg = AgglomerativeClustering(n_clusters = 6)\n",
    "agglom = pd.Series(agg.fit_predict(dat_scaled))\n",
    "\n",
    "agglom.value_counts()"
   ]
  },
  {
   "cell_type": "code",
   "execution_count": null,
   "metadata": {
    "hideCode": false,
    "hidePrompt": false,
    "scrolled": true
   },
   "outputs": [],
   "source": [
    "# # Reclassify: majority/non as 0/1 \n",
    "\n",
    "agglom = (agglom != 0)*1 # lone vector\n",
    "agglom.value_counts()"
   ]
  },
  {
   "cell_type": "code",
   "execution_count": null,
   "metadata": {
    "hideCode": false,
    "hidePrompt": false,
    "scrolled": true
   },
   "outputs": [],
   "source": [
    "a = pd.DataFrame({'agglom': agglom.values}, index = dat_scaled.index)"
   ]
  },
  {
   "cell_type": "code",
   "execution_count": null,
   "metadata": {
    "hideCode": false,
    "hidePrompt": false,
    "scrolled": true
   },
   "outputs": [],
   "source": [
    "plt.subplot(2, 1, 1)\n",
    "plt.scatter(dat_scaled['gross_demand_quantity']['mean'], \n",
    "            dat_scaled['sales_price']['mean'], \n",
    "            c = agglom,\n",
    "            alpha = 0.25)\n",
    "plt.title('Agglomerative Classes: Sale Price vs. Gross Demand Qty (mean/sum)')\n",
    "plt.ylabel('Sale Price')\n",
    "\n",
    "plt.subplot(2, 1, 2)\n",
    "plt.scatter(dat_scaled['gross_demand_quantity']['sum'], \n",
    "            dat_scaled['sales_price']['mean'], \n",
    "            c = agglom,\n",
    "            alpha = 0.25)\n",
    "plt.ylabel('Sale Price')\n",
    "plt.xlabel('GDQ Sum')\n"
   ]
  },
  {
   "cell_type": "markdown",
   "metadata": {
    "hideCode": false,
    "hidePrompt": false
   },
   "source": [
    "## 2.3 DBSCAN \n",
    "\n",
    "'density based spatial clustering of applications with noise'"
   ]
  },
  {
   "cell_type": "code",
   "execution_count": null,
   "metadata": {
    "hideCode": false,
    "hidePrompt": false
   },
   "outputs": [],
   "source": [
    "%%time\n",
    "\n",
    "from sklearn.cluster import DBSCAN\n",
    "\n",
    "dbscan = DBSCAN(eps = 0.145, min_samples = 5) # 3min 36s\n",
    "dbs = pd.Series(dbscan.fit_predict(dat_scaled))"
   ]
  },
  {
   "cell_type": "code",
   "execution_count": null,
   "metadata": {
    "hideCode": false,
    "hidePrompt": false,
    "scrolled": true
   },
   "outputs": [],
   "source": [
    "dbs.value_counts()"
   ]
  },
  {
   "cell_type": "code",
   "execution_count": null,
   "metadata": {
    "hideCode": false,
    "hidePrompt": false,
    "scrolled": true
   },
   "outputs": [],
   "source": [
    "# # Reclassify: majority/non as 0/1 \n",
    "dbs01 = (dbs == -1)*1 # lone vector\n",
    "dbs01.value_counts()"
   ]
  },
  {
   "cell_type": "code",
   "execution_count": null,
   "metadata": {
    "hideCode": false,
    "hidePrompt": false,
    "scrolled": true
   },
   "outputs": [],
   "source": [
    "dbs = pd.DataFrame({'dbs': dbs01.values}, index = dat_scaled.index)"
   ]
  },
  {
   "cell_type": "code",
   "execution_count": null,
   "metadata": {
    "hideCode": false,
    "hidePrompt": false,
    "scrolled": true
   },
   "outputs": [],
   "source": [
    "plt.scatter(np.log(dat['net_sales']['sum']), \n",
    "            np.log(dat['sold_qty']['sum']), \n",
    "            c = dbs01,\n",
    "            alpha = 0.15)\n",
    "plt.xlabel('log(net_sales)')\n",
    "plt.ylabel('log(sold_qty)')\n",
    "plt.colorbar()\n",
    "plt.title('DBSCAN Classification')\n",
    "plt.rcParams[\"figure.figsize\"] = [16,16]"
   ]
  },
  {
   "cell_type": "markdown",
   "metadata": {
    "hideCode": false,
    "hidePrompt": false
   },
   "source": [
    "## 2.4 Evaluation"
   ]
  },
  {
   "cell_type": "markdown",
   "metadata": {
    "hideCode": false,
    "hidePrompt": false
   },
   "source": [
    "### 2.4.1 Cross methods comparison"
   ]
  },
  {
   "cell_type": "code",
   "execution_count": null,
   "metadata": {
    "hideCode": false,
    "hidePrompt": false
   },
   "outputs": [],
   "source": [
    "# k_a = pd.merge(k, a, left_index = True, right_index = True)\n",
    "# f_k_a = pd.merge(f, k_a, left_index=True, right_index=True)\n",
    "# fka_dbs = pd.merge(f_k_a, dbs, left_index=True, right_index=True)"
   ]
  },
  {
   "cell_type": "code",
   "execution_count": null,
   "metadata": {
    "hideCode": false,
    "hidePrompt": false,
    "scrolled": true
   },
   "outputs": [],
   "source": [
    "# .groupby(['feat_based', 'kmeans', 'agglom']).size()\n",
    "\n",
    "# table = pd.DataFrame(data = {'Ag': agglom, 'Km': Kmeans, 'DB': dbs01})\n",
    "# table.groupby(['Ag', 'Km', 'DB']).size()\n",
    "1 - 3924/46573 # 0.9157 kmeans-agglomerative agreement\n"
   ]
  },
  {
   "cell_type": "markdown",
   "metadata": {
    "hideCode": false,
    "hidePrompt": false
   },
   "source": [
    "### 2.4.2 Clustering Metrics\n",
    "\n",
    "See https://scikit-learn.org/stable/modules/clustering.html for metric information (2.4.2 - __ )"
   ]
  },
  {
   "cell_type": "code",
   "execution_count": null,
   "metadata": {
    "hideCode": false,
    "hidePrompt": false,
    "scrolled": true
   },
   "outputs": [],
   "source": [
    "dat_feature_sorted_scaled = pd.DataFrame(StandardScaler().fit(dat_feature_sorted).transform(dat_feature_sorted), \n",
    "                                         columns = dat_feature_sorted.columns,\n",
    "                                         index = dat_feature_sorted.index)\n"
   ]
  },
  {
   "cell_type": "markdown",
   "metadata": {
    "hideCode": false,
    "hidePrompt": false
   },
   "source": [
    "#### Silhouette Coefficient"
   ]
  },
  {
   "cell_type": "code",
   "execution_count": null,
   "metadata": {
    "hideCode": false,
    "hidePrompt": false,
    "scrolled": true
   },
   "outputs": [],
   "source": [
    "from sklearn import metrics\n",
    "\n",
    "# higher better\n",
    "\n",
    "metrics.silhouette_score(dat_feature_sorted_scaled, f['feat_based']) # feature based: 0.555\n",
    "\n",
    "metrics.silhouette_score(dat_feature_sorted, f['feat_based']) # feature based: 0.59568\n",
    "metrics.silhouette_score(dat_scaled, k['kmeans']) # k-means: 0.44598\n",
    "metrics.silhouette_score(dat_scaled, a['agglom']) # agglomerative: 0.33\n",
    "metrics.silhouette_score(dat_scaled, dbs['dbs']) # DBSCAN: 0.25\n"
   ]
  },
  {
   "cell_type": "markdown",
   "metadata": {
    "hideCode": false,
    "hidePrompt": false
   },
   "source": [
    "#### Calinski-Harabaz Index"
   ]
  },
  {
   "cell_type": "code",
   "execution_count": null,
   "metadata": {
    "hideCode": false,
    "hidePrompt": false,
    "scrolled": true
   },
   "outputs": [],
   "source": [
    "# higher better\n",
    "\n",
    "metrics.calinski_harabaz_score(dat_feature_sorted_scaled, f['feat_based']) # 20816\n",
    "\n",
    "metrics.calinski_harabaz_score(dat_feature_sorted, f['feat_based']) # 77433\n",
    "metrics.calinski_harabaz_score(dat_scaled, k['kmeans']) # 7474\n",
    "metrics.calinski_harabaz_score(dat_scaled, a['agglom']) # 5147\n",
    "metrics.calinski_harabaz_score(dat_scaled, dbs['dbs']) # 2311\n"
   ]
  },
  {
   "cell_type": "markdown",
   "metadata": {
    "hideCode": false,
    "hidePrompt": false
   },
   "source": [
    "#### Davies-Bouldin Index"
   ]
  },
  {
   "cell_type": "code",
   "execution_count": null,
   "metadata": {
    "hideCode": false,
    "hidePrompt": false,
    "scrolled": true
   },
   "outputs": [],
   "source": [
    "# lower is better\n",
    "\n",
    "metrics.davies_bouldin_score(dat_feature_sorted_scaled, f['feat_based']) # 0.779\n",
    "\n",
    "metrics.davies_bouldin_score(dat_feature_sorted, f['feat_based']) # 0.44\n",
    "metrics.davies_bouldin_score(dat_scaled, k['kmeans']) # 1.186\n",
    "metrics.davies_bouldin_score(dat_scaled, a['agglom']) # 1.47\n",
    "metrics.davies_bouldin_score(dat_scaled, dbs['dbs']) # 2.51\n"
   ]
  },
  {
   "cell_type": "markdown",
   "metadata": {
    "hideCode": false,
    "hidePrompt": false
   },
   "source": [
    "# 3 Article Reference Data"
   ]
  },
  {
   "cell_type": "code",
   "execution_count": null,
   "metadata": {
    "hideCode": false,
    "hidePrompt": false,
    "scrolled": true
   },
   "outputs": [],
   "source": [
    "dat_ref = pd.read_csv('article_reference_data_y2016_18.csv',\n",
    "                 delimiter = '~',\n",
    "                  low_memory = False,\n",
    "                   usecols=['group_article', 'brand', 'sub_brand', 'season_create', 'season_active',\n",
    "                            'graphic', 'gender', 'age_group', 'retail_intro_date_global',\n",
    "                            'retail_exit_date_global', 'material_technology', 'pictogram_composition',\n",
    "                            'price_band', 'gender_age', 'construction_type', 'length_mes_uom_dim',\n",
    "                            'uom_dim', 'height_mes_uom_dim', 'width_mes_uom_dim', 'article_descr',\n",
    "                            'drop_season', 'uom_vol', 'uom_wgt', 'product_fit', 'material_way_type',\n",
    "                            'outer_sole_main_material', 'inner_sole_main_material', 'main_material_lining',\n",
    "                            'main_material_upper', 'dimension_uov', 'dimension_uom', 'carried_over_from',\n",
    "                            'drop_date', 'retail_exit_tgt_season', 'product_franchise', 'age_group_descr',\n",
    "                            'brand_descr', 'sub_brand_descr', 'lifecylce_status_prod_descr', 'brand_asset_descr',\n",
    "                            'rmh_retail_class_descr', 'rmh_retail_department_descr', 'rmh_retail_sub_class_descr',\n",
    "                            'rmh_retail_sub_dept_descr', 'rmh_category_descr', 'rmh_gender_descr',\n",
    "                            'rmh_retail_section_descr', 'rmh_product_division_descr', 'rmh_product_type_descr',\n",
    "                            'spm_color_first_descr', 'spm_color_second_descr', 'spm_color_third_descr',\n",
    "                            'spm_color_fourth_descr', 'product_franchise_descr'\n",
    "                           ]\n",
    "                     )\n",
    "\n",
    "dat_ref.drop(['uom_dim', 'drop_season', 'uom_vol', 'uom_wgt', 'material_way_type', 'inner_sole_main_material', \n",
    "           'main_material_upper', 'outer_sole_main_material', 'main_material_lining', 'carried_over_from', 'drop_date',\n",
    "           'graphic', 'pictogram_composition', 'article_descr', 'lifecylce_status_prod_descr', 'brand_asset_descr', \n",
    "           'rmh_retail_class_descr', 'rmh_retail_sub_class_descr', 'rmh_retail_sub_dept_descr', 'spm_color_first_descr', \n",
    "           'spm_color_second_descr', 'spm_color_third_descr','spm_color_fourth_descr',\n",
    "            'length_mes_uom_dim', 'height_mes_uom_dim', 'width_mes_uom_dim'], axis = 1, inplace=True)\n"
   ]
  },
  {
   "cell_type": "code",
   "execution_count": null,
   "metadata": {
    "hideCode": false,
    "hidePrompt": false,
    "scrolled": true
   },
   "outputs": [],
   "source": [
    "# dat_ref.to_csv('dat_ref.csv')\n",
    "\n",
    "dat_ref = pd.read_csv('dat_ref.csv', low_memory=False, index_col = 0) "
   ]
  },
  {
   "cell_type": "code",
   "execution_count": null,
   "metadata": {
    "hideCode": false,
    "hidePrompt": false
   },
   "outputs": [],
   "source": [
    "# dat_ref.dtypes\n",
    "{print(x, '-->', len(dat_ref[x].unique())) for x in dat_ref.columns}\n",
    "{print(x, '-->', dat_ref[x].unique()) for x in dat_ref.columns}\n",
    "\n",
    "# pd.to_datetime(dat2['season_create'])\n"
   ]
  },
  {
   "cell_type": "markdown",
   "metadata": {
    "hideCode": false,
    "hidePrompt": false
   },
   "source": [
    "# 4 Cluster Prediction\n",
    "\n",
    "    *Pause this for now, determine if clustering helps"
   ]
  },
  {
   "cell_type": "markdown",
   "metadata": {
    "hideCode": false,
    "hidePrompt": false
   },
   "source": [
    "### 4.0.2 Scaling"
   ]
  },
  {
   "cell_type": "code",
   "execution_count": null,
   "metadata": {
    "hideCode": false,
    "hidePrompt": false,
    "scrolled": true
   },
   "outputs": [],
   "source": [
    "# Standardize non-numeric features\n",
    "\n",
    "# dt = pd.DataFrame(data = dat2.dtypes, columns = ['type'])\n",
    "# num = dt[(dt['type'] == 'int64') | (dt['type'] == 'float64')].index\n",
    "# obj = dt[(dt['type'] != 'int64') & (dt['type'] != 'float64')].index\n",
    "\n",
    "# dat2_num = dat2[num]\n",
    "\n",
    "# scaler = StandardScaler()\n",
    "# scaler.fit(dat2_num)\n",
    "\n",
    "# dat2_num_scaled = pd.DataFrame(scaler.transform(dat2_num), columns = dat2_num.columns, index = dat2_num.index)\n",
    "# dat2_num_scaled.head()"
   ]
  },
  {
   "cell_type": "markdown",
   "metadata": {
    "hideCode": false,
    "hidePrompt": false
   },
   "source": [
    "### 4.0.3 One-hot Encoding"
   ]
  },
  {
   "cell_type": "code",
   "execution_count": null,
   "metadata": {
    "hideCode": false,
    "hidePrompt": false,
    "scrolled": true
   },
   "outputs": [],
   "source": [
    "%%time\n",
    "\n",
    "dat2_dummy = pd.get_dummies(dat2)\n",
    "\n",
    "dat2_dummy.shape"
   ]
  },
  {
   "cell_type": "markdown",
   "metadata": {
    "hideCode": false,
    "hidePrompt": false
   },
   "source": [
    "## 4.1 Classification Models"
   ]
  },
  {
   "cell_type": "markdown",
   "metadata": {
    "hideCode": false,
    "hidePrompt": false
   },
   "source": [
    "### 4.1.1 Train-Test Split"
   ]
  },
  {
   "cell_type": "code",
   "execution_count": null,
   "metadata": {
    "hideCode": false,
    "hidePrompt": false,
    "scrolled": true
   },
   "outputs": [],
   "source": [
    "X = dat2_dummy.drop('Kmeans', axis = 1)\n",
    "y = dat2_dummy['Kmeans']\n",
    "\n",
    "X_train, X_test, y_train, y_test = train_test_split(X, y)"
   ]
  },
  {
   "cell_type": "markdown",
   "metadata": {
    "hideCode": false,
    "hidePrompt": false
   },
   "source": [
    "### 4.1.2 Decision Tree"
   ]
  },
  {
   "cell_type": "code",
   "execution_count": null,
   "metadata": {
    "hideCode": false,
    "hidePrompt": false,
    "scrolled": true
   },
   "outputs": [],
   "source": [
    "from sklearn.tree import DecisionTreeClassifier\n",
    "\n",
    "tree = DecisionTreeClassifier().fit(X, y)\n",
    "\n",
    "tree.score(X_train, y_train)\n",
    "tree.score(X_test, y_test)"
   ]
  },
  {
   "cell_type": "markdown",
   "metadata": {
    "hideCode": false,
    "hidePrompt": false
   },
   "source": [
    "### 4.1.3 Neural Network"
   ]
  },
  {
   "cell_type": "code",
   "execution_count": null,
   "metadata": {
    "hideCode": false,
    "hidePrompt": false,
    "scrolled": true
   },
   "outputs": [],
   "source": [
    "from sklearn.neural_network import MLPClassifier\n",
    "\n",
    "\n",
    "mlp = MLPClassifier().fit(X_train, y_train) \n",
    "    # --Arguments--\n",
    "    # solver = <something>\n",
    "    # hidden_layer_sizes = [<nodes_layer_1>, <nodes_layer_2>, ...]\n",
    "    # activation = '<function>'\n",
    "    # alpha = <regularization/complexity_param> \n",
    "    \n",
    "mlp.score(X_train, y_train)\n",
    "mlp.score(X_test, y_test)"
   ]
  },
  {
   "cell_type": "markdown",
   "metadata": {
    "hideCode": false,
    "hidePrompt": false
   },
   "source": [
    "# 5 Baseline eCom Demand Forecaster"
   ]
  },
  {
   "cell_type": "markdown",
   "metadata": {
    "hideCode": false,
    "hidePrompt": false
   },
   "source": [
    "## 5.0 Embeddings, Exasol"
   ]
  },
  {
   "cell_type": "code",
   "execution_count": null,
   "metadata": {
    "hideCode": false,
    "hidePrompt": false
   },
   "outputs": [],
   "source": [
    "import pyexasol\n",
    "from pyexasol import ExaConnection\n",
    "\n",
    "# Id: comischr\n",
    "# Pwd: Comiskey021"
   ]
  },
  {
   "cell_type": "code",
   "execution_count": null,
   "metadata": {
    "hideCode": false,
    "hidePrompt": false
   },
   "outputs": [],
   "source": [
    "%%time\n",
    "\n",
    "C = pyexasol.connect(dsn='10.143.86.51:8583', user='comischr', password='Comiskey021', compression=True, encryption=True)\n",
    "\n",
    "# dfAndrasFeatures = C.export_to_pandas(\"\"\"select * from READ_SCV.ARTICLE_EMBEDDINGS\"\"\")\n",
    "# dfAndrasDistances = C.export_to_pandas(\"\"\"select * from READ_SCV.ARTICLE_DISTANCE\"\"\")"
   ]
  },
  {
   "cell_type": "code",
   "execution_count": null,
   "metadata": {
    "hideCode": false,
    "hidePrompt": false
   },
   "outputs": [],
   "source": [
    "%%time\n",
    "\n",
    "# dfAndreasDistances = C.export_to_pandas(\"\"\"select * from READ_SCV.PPC_SIM_ARTICLEPAIR_EUCL_V\"\"\")\n",
    "\n",
    "dfAndreasDistances = C.export_to_pandas(\"\"\"select * from READ_SCV.PPC_SIM_ARTICLEPAIR_EUCL_V where EUCL_SCORE < 7.8 / 2\"\"\")\n"
   ]
  },
  {
   "cell_type": "code",
   "execution_count": 6,
   "metadata": {
    "hideCode": false,
    "hidePrompt": false
   },
   "outputs": [],
   "source": [
    "# dfAndrasDistances.to_csv('dfAndrasDistances.csv')\n",
    "\n",
    "dfAndrasDistances = pd.read_csv('dfAndrasDistances.csv')\n",
    "dfAndrasDistances.drop(['Unnamed: 0', 'COSINE'], axis = 1, inplace = True)"
   ]
  },
  {
   "cell_type": "markdown",
   "metadata": {
    "hideCode": false,
    "hidePrompt": false
   },
   "source": [
    "## 5.1 Similarity-based Predictions"
   ]
  },
  {
   "cell_type": "markdown",
   "metadata": {},
   "source": [
    "### 5.1.0 Wrangling"
   ]
  },
  {
   "cell_type": "code",
   "execution_count": 9,
   "metadata": {},
   "outputs": [
    {
     "name": "stdout",
     "output_type": "stream",
     "text": [
      "CPU times: user 43.6 s, sys: 5.31 s, total: 48.9 s\n",
      "Wall time: 47.5 s\n"
     ]
    }
   ],
   "source": [
    "%%time\n",
    "dat0 = pd.read_csv('seasonal_sales_indicators.csv',\n",
    "                 delimiter = '~')"
   ]
  },
  {
   "cell_type": "code",
   "execution_count": 10,
   "metadata": {},
   "outputs": [],
   "source": [
    "dat = dat0.copy()\n",
    "dat.columns = [x.replace('t_eu_ecom_dit_dsf_transaction_t.', '') for x in dat.columns] # tidy column names\n",
    "dat = dat[dat['gross_demand_quantity'] != 0] \n",
    "dat.drop(['sales_organization', 'sku', 'total_markdown', 'temporary_markdown', \n",
    "           'permanent_markdown', 'employee_markdown', 'fraction_of_full_price', \n",
    "           'markdown', 'sale'], inplace=True, axis = 1)\n",
    "dat = dat.groupby(by = ['article_number', 'season']).agg('sum')[['net_qty', 'net_sales']] # aggregation step\n",
    "dat.reset_index(inplace=True)\n",
    "\n",
    "dfAndrasDistances = pd.read_csv('dfAndrasDistances.csv')\n",
    "dfAndrasDistances.drop('Unnamed: 0', axis = 1, inplace = True)"
   ]
  },
  {
   "cell_type": "code",
   "execution_count": null,
   "metadata": {},
   "outputs": [],
   "source": [
    "# Data:\n",
    "    # (1) dat\n",
    "    # (2) dfAndrasDistances"
   ]
  },
  {
   "cell_type": "code",
   "execution_count": 11,
   "metadata": {},
   "outputs": [],
   "source": [
    "d = dat[dat['season'] == 'FW17'][['article_number', 'net_qty']]\n",
    "kahuna = (\n",
    "    pd.merge(dfAndrasDistances, d, left_on = 'A1', right_on = 'article_number').\n",
    "    drop(['article_number', 'COSINE'], axis = 1).\n",
    "    rename(columns = {'net_qty': 'A1_FW17'})\n",
    ")"
   ]
  },
  {
   "cell_type": "code",
   "execution_count": 12,
   "metadata": {},
   "outputs": [],
   "source": [
    "kahuna = (\n",
    "    pd.merge(kahuna, d, left_on = 'A2', right_on = 'article_number').\n",
    "    drop(['article_number'], axis = 1).\n",
    "    rename(columns = {'net_qty': 'A2_FW17'})\n",
    "    )\n"
   ]
  },
  {
   "cell_type": "code",
   "execution_count": 13,
   "metadata": {},
   "outputs": [],
   "source": [
    "d = dat[dat['season'] == 'FW18'][['article_number', 'net_qty']]\n",
    "kahuna = (\n",
    "    pd.merge(kahuna, d, left_on = 'A1', right_on = 'article_number').\n",
    "    drop('article_number', axis = 1).\n",
    "    rename(columns = {'net_qty': 'A1_FW18'})\n",
    "         )"
   ]
  },
  {
   "cell_type": "code",
   "execution_count": 14,
   "metadata": {},
   "outputs": [
    {
     "data": {
      "text/html": [
       "<div>\n",
       "<style scoped>\n",
       "    .dataframe tbody tr th:only-of-type {\n",
       "        vertical-align: middle;\n",
       "    }\n",
       "\n",
       "    .dataframe tbody tr th {\n",
       "        vertical-align: top;\n",
       "    }\n",
       "\n",
       "    .dataframe thead th {\n",
       "        text-align: right;\n",
       "    }\n",
       "</style>\n",
       "<table border=\"1\" class=\"dataframe\">\n",
       "  <thead>\n",
       "    <tr style=\"text-align: right;\">\n",
       "      <th></th>\n",
       "      <th>A1</th>\n",
       "      <th>level_1</th>\n",
       "      <th>EUCLIDEAN</th>\n",
       "    </tr>\n",
       "  </thead>\n",
       "  <tbody>\n",
       "    <tr>\n",
       "      <th>0</th>\n",
       "      <td>015110</td>\n",
       "      <td>23460</td>\n",
       "      <td>1.879070</td>\n",
       "    </tr>\n",
       "    <tr>\n",
       "      <th>1</th>\n",
       "      <td>015110</td>\n",
       "      <td>23462</td>\n",
       "      <td>3.382080</td>\n",
       "    </tr>\n",
       "    <tr>\n",
       "      <th>2</th>\n",
       "      <td>015110</td>\n",
       "      <td>23461</td>\n",
       "      <td>3.556013</td>\n",
       "    </tr>\n",
       "    <tr>\n",
       "      <th>3</th>\n",
       "      <td>019000</td>\n",
       "      <td>19319</td>\n",
       "      <td>3.322093</td>\n",
       "    </tr>\n",
       "    <tr>\n",
       "      <th>4</th>\n",
       "      <td>019000</td>\n",
       "      <td>19314</td>\n",
       "      <td>3.361392</td>\n",
       "    </tr>\n",
       "  </tbody>\n",
       "</table>\n",
       "</div>"
      ],
      "text/plain": [
       "       A1  level_1  EUCLIDEAN\n",
       "0  015110    23460   1.879070\n",
       "1  015110    23462   3.382080\n",
       "2  015110    23461   3.556013\n",
       "3  019000    19319   3.322093\n",
       "4  019000    19314   3.361392"
      ]
     },
     "execution_count": 14,
     "metadata": {},
     "output_type": "execute_result"
    },
    {
     "data": {
      "text/plain": [
       "(7238, 3)"
      ]
     },
     "execution_count": 14,
     "metadata": {},
     "output_type": "execute_result"
    },
    {
     "data": {
      "text/html": [
       "<div>\n",
       "<style scoped>\n",
       "    .dataframe tbody tr th:only-of-type {\n",
       "        vertical-align: middle;\n",
       "    }\n",
       "\n",
       "    .dataframe tbody tr th {\n",
       "        vertical-align: top;\n",
       "    }\n",
       "\n",
       "    .dataframe thead th {\n",
       "        text-align: right;\n",
       "    }\n",
       "</style>\n",
       "<table border=\"1\" class=\"dataframe\">\n",
       "  <thead>\n",
       "    <tr style=\"text-align: right;\">\n",
       "      <th></th>\n",
       "      <th>A1</th>\n",
       "      <th>A2</th>\n",
       "      <th>EUCLIDEAN_x</th>\n",
       "      <th>A1_FW17</th>\n",
       "      <th>A2_FW17</th>\n",
       "      <th>A1_FW18</th>\n",
       "    </tr>\n",
       "  </thead>\n",
       "  <tbody>\n",
       "    <tr>\n",
       "      <th>0</th>\n",
       "      <td>BB0077</td>\n",
       "      <td>BY9837</td>\n",
       "      <td>1.938616</td>\n",
       "      <td>537</td>\n",
       "      <td>94</td>\n",
       "      <td>27</td>\n",
       "    </tr>\n",
       "    <tr>\n",
       "      <th>1</th>\n",
       "      <td>BB0077</td>\n",
       "      <td>BZ0068</td>\n",
       "      <td>1.608355</td>\n",
       "      <td>537</td>\n",
       "      <td>25</td>\n",
       "      <td>27</td>\n",
       "    </tr>\n",
       "    <tr>\n",
       "      <th>2</th>\n",
       "      <td>BB0077</td>\n",
       "      <td>BZ0074</td>\n",
       "      <td>2.106862</td>\n",
       "      <td>537</td>\n",
       "      <td>199</td>\n",
       "      <td>27</td>\n",
       "    </tr>\n",
       "    <tr>\n",
       "      <th>3</th>\n",
       "      <td>BB0077</td>\n",
       "      <td>BA7657</td>\n",
       "      <td>2.436686</td>\n",
       "      <td>537</td>\n",
       "      <td>1026</td>\n",
       "      <td>27</td>\n",
       "    </tr>\n",
       "    <tr>\n",
       "      <th>4</th>\n",
       "      <td>BB0077</td>\n",
       "      <td>BA7535</td>\n",
       "      <td>2.557045</td>\n",
       "      <td>537</td>\n",
       "      <td>12</td>\n",
       "      <td>27</td>\n",
       "    </tr>\n",
       "  </tbody>\n",
       "</table>\n",
       "</div>"
      ],
      "text/plain": [
       "       A1      A2  EUCLIDEAN_x  A1_FW17  A2_FW17  A1_FW18\n",
       "0  BB0077  BY9837     1.938616      537       94       27\n",
       "1  BB0077  BZ0068     1.608355      537       25       27\n",
       "2  BB0077  BZ0074     2.106862      537      199       27\n",
       "3  BB0077  BA7657     2.436686      537     1026       27\n",
       "4  BB0077  BA7535     2.557045      537       12       27"
      ]
     },
     "execution_count": 14,
     "metadata": {},
     "output_type": "execute_result"
    },
    {
     "data": {
      "text/plain": [
       "(7238, 6)"
      ]
     },
     "execution_count": 14,
     "metadata": {},
     "output_type": "execute_result"
    }
   ],
   "source": [
    "neighbors = (\n",
    "    pd.DataFrame(kahuna.groupby('A1')['EUCLIDEAN'].nsmallest(10)).\n",
    "    reset_index()\n",
    "        )\n",
    "\n",
    "kahuna = (\n",
    "    pd.merge(kahuna, neighbors, left_on = ['A1', kahuna.index], right_on = ['A1', 'level_1']).\n",
    "    drop(['level_1', 'EUCLIDEAN_y'], axis = 1)\n",
    ")\n",
    "\n",
    "neighbors.head()\n",
    "neighbors.shape\n",
    "\n",
    "kahuna.head()\n",
    "kahuna.shape"
   ]
  },
  {
   "cell_type": "code",
   "execution_count": 15,
   "metadata": {},
   "outputs": [
    {
     "data": {
      "text/html": [
       "<div>\n",
       "<style scoped>\n",
       "    .dataframe tbody tr th:only-of-type {\n",
       "        vertical-align: middle;\n",
       "    }\n",
       "\n",
       "    .dataframe tbody tr th {\n",
       "        vertical-align: top;\n",
       "    }\n",
       "\n",
       "    .dataframe thead th {\n",
       "        text-align: right;\n",
       "    }\n",
       "</style>\n",
       "<table border=\"1\" class=\"dataframe\">\n",
       "  <thead>\n",
       "    <tr style=\"text-align: right;\">\n",
       "      <th></th>\n",
       "      <th>A1</th>\n",
       "      <th>A1_FW18_pred</th>\n",
       "    </tr>\n",
       "  </thead>\n",
       "  <tbody>\n",
       "    <tr>\n",
       "      <th>0</th>\n",
       "      <td>015110</td>\n",
       "      <td>173.0</td>\n",
       "    </tr>\n",
       "    <tr>\n",
       "      <th>1</th>\n",
       "      <td>019000</td>\n",
       "      <td>362.1</td>\n",
       "    </tr>\n",
       "    <tr>\n",
       "      <th>2</th>\n",
       "      <td>019099</td>\n",
       "      <td>1243.0</td>\n",
       "    </tr>\n",
       "    <tr>\n",
       "      <th>3</th>\n",
       "      <td>033200</td>\n",
       "      <td>224.5</td>\n",
       "    </tr>\n",
       "    <tr>\n",
       "      <th>4</th>\n",
       "      <td>033201</td>\n",
       "      <td>96.0</td>\n",
       "    </tr>\n",
       "  </tbody>\n",
       "</table>\n",
       "</div>"
      ],
      "text/plain": [
       "       A1  A1_FW18_pred\n",
       "0  015110         173.0\n",
       "1  019000         362.1\n",
       "2  019099        1243.0\n",
       "3  033200         224.5\n",
       "4  033201          96.0"
      ]
     },
     "execution_count": 15,
     "metadata": {},
     "output_type": "execute_result"
    },
    {
     "data": {
      "text/html": [
       "<div>\n",
       "<style scoped>\n",
       "    .dataframe tbody tr th:only-of-type {\n",
       "        vertical-align: middle;\n",
       "    }\n",
       "\n",
       "    .dataframe tbody tr th {\n",
       "        vertical-align: top;\n",
       "    }\n",
       "\n",
       "    .dataframe thead th {\n",
       "        text-align: right;\n",
       "    }\n",
       "</style>\n",
       "<table border=\"1\" class=\"dataframe\">\n",
       "  <thead>\n",
       "    <tr style=\"text-align: right;\">\n",
       "      <th></th>\n",
       "      <th>A1</th>\n",
       "      <th>A2</th>\n",
       "      <th>EUCLIDEAN_x</th>\n",
       "      <th>A1_FW17</th>\n",
       "      <th>A2_FW17</th>\n",
       "      <th>A1_FW18</th>\n",
       "      <th>A1_FW18_pred</th>\n",
       "    </tr>\n",
       "  </thead>\n",
       "  <tbody>\n",
       "    <tr>\n",
       "      <th>0</th>\n",
       "      <td>BB0077</td>\n",
       "      <td>BY9837</td>\n",
       "      <td>1.938616</td>\n",
       "      <td>537</td>\n",
       "      <td>94</td>\n",
       "      <td>27</td>\n",
       "      <td>291.000000</td>\n",
       "    </tr>\n",
       "    <tr>\n",
       "      <th>1</th>\n",
       "      <td>BB0077</td>\n",
       "      <td>BZ0068</td>\n",
       "      <td>1.608355</td>\n",
       "      <td>537</td>\n",
       "      <td>25</td>\n",
       "      <td>27</td>\n",
       "      <td>291.000000</td>\n",
       "    </tr>\n",
       "    <tr>\n",
       "      <th>2</th>\n",
       "      <td>BB0077</td>\n",
       "      <td>BZ0074</td>\n",
       "      <td>2.106862</td>\n",
       "      <td>537</td>\n",
       "      <td>199</td>\n",
       "      <td>27</td>\n",
       "      <td>291.000000</td>\n",
       "    </tr>\n",
       "    <tr>\n",
       "      <th>3</th>\n",
       "      <td>BB0077</td>\n",
       "      <td>BA7657</td>\n",
       "      <td>2.436686</td>\n",
       "      <td>537</td>\n",
       "      <td>1026</td>\n",
       "      <td>27</td>\n",
       "      <td>291.000000</td>\n",
       "    </tr>\n",
       "    <tr>\n",
       "      <th>4</th>\n",
       "      <td>BB0077</td>\n",
       "      <td>BA7535</td>\n",
       "      <td>2.557045</td>\n",
       "      <td>537</td>\n",
       "      <td>12</td>\n",
       "      <td>27</td>\n",
       "      <td>291.000000</td>\n",
       "    </tr>\n",
       "    <tr>\n",
       "      <th>5</th>\n",
       "      <td>BB0077</td>\n",
       "      <td>BB0081</td>\n",
       "      <td>1.883227</td>\n",
       "      <td>537</td>\n",
       "      <td>7</td>\n",
       "      <td>27</td>\n",
       "      <td>291.000000</td>\n",
       "    </tr>\n",
       "    <tr>\n",
       "      <th>6</th>\n",
       "      <td>BB0077</td>\n",
       "      <td>BZ0070</td>\n",
       "      <td>2.307205</td>\n",
       "      <td>537</td>\n",
       "      <td>264</td>\n",
       "      <td>27</td>\n",
       "      <td>291.000000</td>\n",
       "    </tr>\n",
       "    <tr>\n",
       "      <th>7</th>\n",
       "      <td>BB0077</td>\n",
       "      <td>BZ0508</td>\n",
       "      <td>2.151436</td>\n",
       "      <td>537</td>\n",
       "      <td>100</td>\n",
       "      <td>27</td>\n",
       "      <td>291.000000</td>\n",
       "    </tr>\n",
       "    <tr>\n",
       "      <th>8</th>\n",
       "      <td>BB0077</td>\n",
       "      <td>BY9838</td>\n",
       "      <td>2.312733</td>\n",
       "      <td>537</td>\n",
       "      <td>720</td>\n",
       "      <td>27</td>\n",
       "      <td>291.000000</td>\n",
       "    </tr>\n",
       "    <tr>\n",
       "      <th>9</th>\n",
       "      <td>BB0077</td>\n",
       "      <td>BZ0088</td>\n",
       "      <td>2.118945</td>\n",
       "      <td>537</td>\n",
       "      <td>463</td>\n",
       "      <td>27</td>\n",
       "      <td>291.000000</td>\n",
       "    </tr>\n",
       "    <tr>\n",
       "      <th>10</th>\n",
       "      <td>BY9837</td>\n",
       "      <td>BB2226</td>\n",
       "      <td>2.514838</td>\n",
       "      <td>94</td>\n",
       "      <td>1051</td>\n",
       "      <td>37</td>\n",
       "      <td>400.900000</td>\n",
       "    </tr>\n",
       "    <tr>\n",
       "      <th>11</th>\n",
       "      <td>BY9837</td>\n",
       "      <td>BY9850</td>\n",
       "      <td>1.733829</td>\n",
       "      <td>94</td>\n",
       "      <td>102</td>\n",
       "      <td>37</td>\n",
       "      <td>400.900000</td>\n",
       "    </tr>\n",
       "    <tr>\n",
       "      <th>12</th>\n",
       "      <td>BY9837</td>\n",
       "      <td>BB0081</td>\n",
       "      <td>2.227153</td>\n",
       "      <td>94</td>\n",
       "      <td>7</td>\n",
       "      <td>37</td>\n",
       "      <td>400.900000</td>\n",
       "    </tr>\n",
       "    <tr>\n",
       "      <th>13</th>\n",
       "      <td>BY9837</td>\n",
       "      <td>BZ0070</td>\n",
       "      <td>2.284116</td>\n",
       "      <td>94</td>\n",
       "      <td>264</td>\n",
       "      <td>37</td>\n",
       "      <td>400.900000</td>\n",
       "    </tr>\n",
       "    <tr>\n",
       "      <th>14</th>\n",
       "      <td>BY9837</td>\n",
       "      <td>BY9838</td>\n",
       "      <td>1.232533</td>\n",
       "      <td>94</td>\n",
       "      <td>720</td>\n",
       "      <td>37</td>\n",
       "      <td>400.900000</td>\n",
       "    </tr>\n",
       "    <tr>\n",
       "      <th>15</th>\n",
       "      <td>BY9837</td>\n",
       "      <td>BZ0088</td>\n",
       "      <td>2.185505</td>\n",
       "      <td>94</td>\n",
       "      <td>463</td>\n",
       "      <td>37</td>\n",
       "      <td>400.900000</td>\n",
       "    </tr>\n",
       "    <tr>\n",
       "      <th>16</th>\n",
       "      <td>BY9837</td>\n",
       "      <td>BB2523</td>\n",
       "      <td>2.058439</td>\n",
       "      <td>94</td>\n",
       "      <td>632</td>\n",
       "      <td>37</td>\n",
       "      <td>400.900000</td>\n",
       "    </tr>\n",
       "    <tr>\n",
       "      <th>17</th>\n",
       "      <td>BY9837</td>\n",
       "      <td>BY9841</td>\n",
       "      <td>1.804430</td>\n",
       "      <td>94</td>\n",
       "      <td>402</td>\n",
       "      <td>37</td>\n",
       "      <td>400.900000</td>\n",
       "    </tr>\n",
       "    <tr>\n",
       "      <th>18</th>\n",
       "      <td>BY9837</td>\n",
       "      <td>BY9842</td>\n",
       "      <td>2.208947</td>\n",
       "      <td>94</td>\n",
       "      <td>138</td>\n",
       "      <td>37</td>\n",
       "      <td>400.900000</td>\n",
       "    </tr>\n",
       "    <tr>\n",
       "      <th>19</th>\n",
       "      <td>BY9837</td>\n",
       "      <td>BY9847</td>\n",
       "      <td>1.769762</td>\n",
       "      <td>94</td>\n",
       "      <td>230</td>\n",
       "      <td>37</td>\n",
       "      <td>400.900000</td>\n",
       "    </tr>\n",
       "    <tr>\n",
       "      <th>20</th>\n",
       "      <td>BA7778</td>\n",
       "      <td>BZ0643</td>\n",
       "      <td>1.803480</td>\n",
       "      <td>1116</td>\n",
       "      <td>193</td>\n",
       "      <td>5</td>\n",
       "      <td>170.100000</td>\n",
       "    </tr>\n",
       "    <tr>\n",
       "      <th>21</th>\n",
       "      <td>BA7778</td>\n",
       "      <td>BZ0642</td>\n",
       "      <td>2.411058</td>\n",
       "      <td>1116</td>\n",
       "      <td>100</td>\n",
       "      <td>5</td>\n",
       "      <td>170.100000</td>\n",
       "    </tr>\n",
       "    <tr>\n",
       "      <th>22</th>\n",
       "      <td>BA7778</td>\n",
       "      <td>BA7604</td>\n",
       "      <td>2.857192</td>\n",
       "      <td>1116</td>\n",
       "      <td>154</td>\n",
       "      <td>5</td>\n",
       "      <td>170.100000</td>\n",
       "    </tr>\n",
       "    <tr>\n",
       "      <th>23</th>\n",
       "      <td>BA7778</td>\n",
       "      <td>BY8707</td>\n",
       "      <td>1.317126</td>\n",
       "      <td>1116</td>\n",
       "      <td>53</td>\n",
       "      <td>5</td>\n",
       "      <td>170.100000</td>\n",
       "    </tr>\n",
       "    <tr>\n",
       "      <th>24</th>\n",
       "      <td>BA7778</td>\n",
       "      <td>BY2963</td>\n",
       "      <td>2.736088</td>\n",
       "      <td>1116</td>\n",
       "      <td>155</td>\n",
       "      <td>5</td>\n",
       "      <td>170.100000</td>\n",
       "    </tr>\n",
       "    <tr>\n",
       "      <th>25</th>\n",
       "      <td>BA7778</td>\n",
       "      <td>BB2774</td>\n",
       "      <td>2.726756</td>\n",
       "      <td>1116</td>\n",
       "      <td>572</td>\n",
       "      <td>5</td>\n",
       "      <td>170.100000</td>\n",
       "    </tr>\n",
       "    <tr>\n",
       "      <th>26</th>\n",
       "      <td>BA7778</td>\n",
       "      <td>BZ0147</td>\n",
       "      <td>1.890680</td>\n",
       "      <td>1116</td>\n",
       "      <td>166</td>\n",
       "      <td>5</td>\n",
       "      <td>170.100000</td>\n",
       "    </tr>\n",
       "    <tr>\n",
       "      <th>27</th>\n",
       "      <td>BA7778</td>\n",
       "      <td>BZ0140</td>\n",
       "      <td>1.552327</td>\n",
       "      <td>1116</td>\n",
       "      <td>1</td>\n",
       "      <td>5</td>\n",
       "      <td>170.100000</td>\n",
       "    </tr>\n",
       "    <tr>\n",
       "      <th>28</th>\n",
       "      <td>BA7778</td>\n",
       "      <td>BY2120</td>\n",
       "      <td>2.045994</td>\n",
       "      <td>1116</td>\n",
       "      <td>297</td>\n",
       "      <td>5</td>\n",
       "      <td>170.100000</td>\n",
       "    </tr>\n",
       "    <tr>\n",
       "      <th>29</th>\n",
       "      <td>BA7778</td>\n",
       "      <td>BB2055</td>\n",
       "      <td>2.476380</td>\n",
       "      <td>1116</td>\n",
       "      <td>10</td>\n",
       "      <td>5</td>\n",
       "      <td>170.100000</td>\n",
       "    </tr>\n",
       "    <tr>\n",
       "      <th>...</th>\n",
       "      <td>...</td>\n",
       "      <td>...</td>\n",
       "      <td>...</td>\n",
       "      <td>...</td>\n",
       "      <td>...</td>\n",
       "      <td>...</td>\n",
       "      <td>...</td>\n",
       "    </tr>\n",
       "    <tr>\n",
       "      <th>7208</th>\n",
       "      <td>BA8271</td>\n",
       "      <td>BB1740</td>\n",
       "      <td>3.307780</td>\n",
       "      <td>139</td>\n",
       "      <td>360</td>\n",
       "      <td>41</td>\n",
       "      <td>149.333333</td>\n",
       "    </tr>\n",
       "    <tr>\n",
       "      <th>7209</th>\n",
       "      <td>BA8271</td>\n",
       "      <td>BA8272</td>\n",
       "      <td>2.216919</td>\n",
       "      <td>139</td>\n",
       "      <td>35</td>\n",
       "      <td>41</td>\n",
       "      <td>149.333333</td>\n",
       "    </tr>\n",
       "    <tr>\n",
       "      <th>7210</th>\n",
       "      <td>BB1960</td>\n",
       "      <td>BB1956</td>\n",
       "      <td>4.105354</td>\n",
       "      <td>54</td>\n",
       "      <td>109</td>\n",
       "      <td>106</td>\n",
       "      <td>109.000000</td>\n",
       "    </tr>\n",
       "    <tr>\n",
       "      <th>7211</th>\n",
       "      <td>BY9395</td>\n",
       "      <td>S79865</td>\n",
       "      <td>4.286257</td>\n",
       "      <td>289</td>\n",
       "      <td>116</td>\n",
       "      <td>52</td>\n",
       "      <td>116.000000</td>\n",
       "    </tr>\n",
       "    <tr>\n",
       "      <th>7212</th>\n",
       "      <td>BB4751</td>\n",
       "      <td>BA9720</td>\n",
       "      <td>3.510893</td>\n",
       "      <td>332</td>\n",
       "      <td>154</td>\n",
       "      <td>1</td>\n",
       "      <td>154.000000</td>\n",
       "    </tr>\n",
       "    <tr>\n",
       "      <th>7213</th>\n",
       "      <td>BW0535</td>\n",
       "      <td>BB8278</td>\n",
       "      <td>2.279150</td>\n",
       "      <td>84</td>\n",
       "      <td>230</td>\n",
       "      <td>7</td>\n",
       "      <td>274.333333</td>\n",
       "    </tr>\n",
       "    <tr>\n",
       "      <th>7214</th>\n",
       "      <td>BW0535</td>\n",
       "      <td>BY3762</td>\n",
       "      <td>2.992985</td>\n",
       "      <td>84</td>\n",
       "      <td>87</td>\n",
       "      <td>7</td>\n",
       "      <td>274.333333</td>\n",
       "    </tr>\n",
       "    <tr>\n",
       "      <th>7215</th>\n",
       "      <td>BW0535</td>\n",
       "      <td>BB8268</td>\n",
       "      <td>1.213325</td>\n",
       "      <td>84</td>\n",
       "      <td>506</td>\n",
       "      <td>7</td>\n",
       "      <td>274.333333</td>\n",
       "    </tr>\n",
       "    <tr>\n",
       "      <th>7216</th>\n",
       "      <td>BY3762</td>\n",
       "      <td>BB8268</td>\n",
       "      <td>3.132897</td>\n",
       "      <td>87</td>\n",
       "      <td>506</td>\n",
       "      <td>174</td>\n",
       "      <td>506.000000</td>\n",
       "    </tr>\n",
       "    <tr>\n",
       "      <th>7217</th>\n",
       "      <td>BB8253</td>\n",
       "      <td>B49400</td>\n",
       "      <td>3.017794</td>\n",
       "      <td>68</td>\n",
       "      <td>89</td>\n",
       "      <td>55</td>\n",
       "      <td>89.000000</td>\n",
       "    </tr>\n",
       "    <tr>\n",
       "      <th>7218</th>\n",
       "      <td>BB3430</td>\n",
       "      <td>BB1727</td>\n",
       "      <td>2.640755</td>\n",
       "      <td>202</td>\n",
       "      <td>313</td>\n",
       "      <td>538</td>\n",
       "      <td>283.000000</td>\n",
       "    </tr>\n",
       "    <tr>\n",
       "      <th>7219</th>\n",
       "      <td>BB3430</td>\n",
       "      <td>BB1728</td>\n",
       "      <td>3.866239</td>\n",
       "      <td>202</td>\n",
       "      <td>253</td>\n",
       "      <td>538</td>\n",
       "      <td>283.000000</td>\n",
       "    </tr>\n",
       "    <tr>\n",
       "      <th>7220</th>\n",
       "      <td>BY1671</td>\n",
       "      <td>S81033</td>\n",
       "      <td>3.131977</td>\n",
       "      <td>81</td>\n",
       "      <td>218</td>\n",
       "      <td>259</td>\n",
       "      <td>218.000000</td>\n",
       "    </tr>\n",
       "    <tr>\n",
       "      <th>7221</th>\n",
       "      <td>BY4139</td>\n",
       "      <td>BY3555</td>\n",
       "      <td>1.933196</td>\n",
       "      <td>147</td>\n",
       "      <td>27</td>\n",
       "      <td>121</td>\n",
       "      <td>27.000000</td>\n",
       "    </tr>\n",
       "    <tr>\n",
       "      <th>7222</th>\n",
       "      <td>BB9774</td>\n",
       "      <td>BY4055</td>\n",
       "      <td>4.442005</td>\n",
       "      <td>753</td>\n",
       "      <td>314</td>\n",
       "      <td>3</td>\n",
       "      <td>314.000000</td>\n",
       "    </tr>\n",
       "    <tr>\n",
       "      <th>7223</th>\n",
       "      <td>BA7990</td>\n",
       "      <td>BB0978</td>\n",
       "      <td>2.789365</td>\n",
       "      <td>132</td>\n",
       "      <td>59</td>\n",
       "      <td>9</td>\n",
       "      <td>59.000000</td>\n",
       "    </tr>\n",
       "    <tr>\n",
       "      <th>7224</th>\n",
       "      <td>019099</td>\n",
       "      <td>019332</td>\n",
       "      <td>2.981943</td>\n",
       "      <td>942</td>\n",
       "      <td>1243</td>\n",
       "      <td>208</td>\n",
       "      <td>1243.000000</td>\n",
       "    </tr>\n",
       "    <tr>\n",
       "      <th>7225</th>\n",
       "      <td>BY3554</td>\n",
       "      <td>BZ0332</td>\n",
       "      <td>5.841041</td>\n",
       "      <td>109</td>\n",
       "      <td>57</td>\n",
       "      <td>16</td>\n",
       "      <td>57.000000</td>\n",
       "    </tr>\n",
       "    <tr>\n",
       "      <th>7226</th>\n",
       "      <td>B23738</td>\n",
       "      <td>BA8825</td>\n",
       "      <td>4.071533</td>\n",
       "      <td>4</td>\n",
       "      <td>384</td>\n",
       "      <td>157</td>\n",
       "      <td>674.000000</td>\n",
       "    </tr>\n",
       "    <tr>\n",
       "      <th>7227</th>\n",
       "      <td>B23738</td>\n",
       "      <td>S78132</td>\n",
       "      <td>3.399088</td>\n",
       "      <td>4</td>\n",
       "      <td>964</td>\n",
       "      <td>157</td>\n",
       "      <td>674.000000</td>\n",
       "    </tr>\n",
       "    <tr>\n",
       "      <th>7228</th>\n",
       "      <td>BY9698</td>\n",
       "      <td>BY9701</td>\n",
       "      <td>3.024894</td>\n",
       "      <td>541</td>\n",
       "      <td>363</td>\n",
       "      <td>2</td>\n",
       "      <td>363.000000</td>\n",
       "    </tr>\n",
       "    <tr>\n",
       "      <th>7229</th>\n",
       "      <td>AF5873</td>\n",
       "      <td>BA7913</td>\n",
       "      <td>3.560838</td>\n",
       "      <td>561</td>\n",
       "      <td>2</td>\n",
       "      <td>6</td>\n",
       "      <td>2.000000</td>\n",
       "    </tr>\n",
       "    <tr>\n",
       "      <th>7230</th>\n",
       "      <td>BB1920</td>\n",
       "      <td>BB1922</td>\n",
       "      <td>3.931025</td>\n",
       "      <td>32</td>\n",
       "      <td>178</td>\n",
       "      <td>93</td>\n",
       "      <td>178.000000</td>\n",
       "    </tr>\n",
       "    <tr>\n",
       "      <th>7231</th>\n",
       "      <td>S80748</td>\n",
       "      <td>807295</td>\n",
       "      <td>7.495104</td>\n",
       "      <td>212</td>\n",
       "      <td>964</td>\n",
       "      <td>178</td>\n",
       "      <td>964.000000</td>\n",
       "    </tr>\n",
       "    <tr>\n",
       "      <th>7232</th>\n",
       "      <td>807295</td>\n",
       "      <td>S80753</td>\n",
       "      <td>8.195262</td>\n",
       "      <td>964</td>\n",
       "      <td>22</td>\n",
       "      <td>935</td>\n",
       "      <td>22.000000</td>\n",
       "    </tr>\n",
       "    <tr>\n",
       "      <th>7233</th>\n",
       "      <td>BY3043</td>\n",
       "      <td>BY9009</td>\n",
       "      <td>0.767526</td>\n",
       "      <td>93</td>\n",
       "      <td>59</td>\n",
       "      <td>2</td>\n",
       "      <td>59.000000</td>\n",
       "    </tr>\n",
       "    <tr>\n",
       "      <th>7234</th>\n",
       "      <td>BY4132</td>\n",
       "      <td>BY4131</td>\n",
       "      <td>4.828981</td>\n",
       "      <td>115</td>\n",
       "      <td>295</td>\n",
       "      <td>23</td>\n",
       "      <td>295.000000</td>\n",
       "    </tr>\n",
       "    <tr>\n",
       "      <th>7235</th>\n",
       "      <td>S79917</td>\n",
       "      <td>S79916</td>\n",
       "      <td>1.763422</td>\n",
       "      <td>443</td>\n",
       "      <td>715</td>\n",
       "      <td>758</td>\n",
       "      <td>715.000000</td>\n",
       "    </tr>\n",
       "    <tr>\n",
       "      <th>7236</th>\n",
       "      <td>BA7410</td>\n",
       "      <td>BA9693</td>\n",
       "      <td>3.458405</td>\n",
       "      <td>89</td>\n",
       "      <td>33</td>\n",
       "      <td>4</td>\n",
       "      <td>33.000000</td>\n",
       "    </tr>\n",
       "    <tr>\n",
       "      <th>7237</th>\n",
       "      <td>CG3123</td>\n",
       "      <td>CG4147</td>\n",
       "      <td>2.568813</td>\n",
       "      <td>34</td>\n",
       "      <td>27</td>\n",
       "      <td>6</td>\n",
       "      <td>27.000000</td>\n",
       "    </tr>\n",
       "  </tbody>\n",
       "</table>\n",
       "<p>7238 rows × 7 columns</p>\n",
       "</div>"
      ],
      "text/plain": [
       "          A1      A2  EUCLIDEAN_x  A1_FW17  A2_FW17  A1_FW18  A1_FW18_pred\n",
       "0     BB0077  BY9837     1.938616      537       94       27    291.000000\n",
       "1     BB0077  BZ0068     1.608355      537       25       27    291.000000\n",
       "2     BB0077  BZ0074     2.106862      537      199       27    291.000000\n",
       "3     BB0077  BA7657     2.436686      537     1026       27    291.000000\n",
       "4     BB0077  BA7535     2.557045      537       12       27    291.000000\n",
       "5     BB0077  BB0081     1.883227      537        7       27    291.000000\n",
       "6     BB0077  BZ0070     2.307205      537      264       27    291.000000\n",
       "7     BB0077  BZ0508     2.151436      537      100       27    291.000000\n",
       "8     BB0077  BY9838     2.312733      537      720       27    291.000000\n",
       "9     BB0077  BZ0088     2.118945      537      463       27    291.000000\n",
       "10    BY9837  BB2226     2.514838       94     1051       37    400.900000\n",
       "11    BY9837  BY9850     1.733829       94      102       37    400.900000\n",
       "12    BY9837  BB0081     2.227153       94        7       37    400.900000\n",
       "13    BY9837  BZ0070     2.284116       94      264       37    400.900000\n",
       "14    BY9837  BY9838     1.232533       94      720       37    400.900000\n",
       "15    BY9837  BZ0088     2.185505       94      463       37    400.900000\n",
       "16    BY9837  BB2523     2.058439       94      632       37    400.900000\n",
       "17    BY9837  BY9841     1.804430       94      402       37    400.900000\n",
       "18    BY9837  BY9842     2.208947       94      138       37    400.900000\n",
       "19    BY9837  BY9847     1.769762       94      230       37    400.900000\n",
       "20    BA7778  BZ0643     1.803480     1116      193        5    170.100000\n",
       "21    BA7778  BZ0642     2.411058     1116      100        5    170.100000\n",
       "22    BA7778  BA7604     2.857192     1116      154        5    170.100000\n",
       "23    BA7778  BY8707     1.317126     1116       53        5    170.100000\n",
       "24    BA7778  BY2963     2.736088     1116      155        5    170.100000\n",
       "25    BA7778  BB2774     2.726756     1116      572        5    170.100000\n",
       "26    BA7778  BZ0147     1.890680     1116      166        5    170.100000\n",
       "27    BA7778  BZ0140     1.552327     1116        1        5    170.100000\n",
       "28    BA7778  BY2120     2.045994     1116      297        5    170.100000\n",
       "29    BA7778  BB2055     2.476380     1116       10        5    170.100000\n",
       "...      ...     ...          ...      ...      ...      ...           ...\n",
       "7208  BA8271  BB1740     3.307780      139      360       41    149.333333\n",
       "7209  BA8271  BA8272     2.216919      139       35       41    149.333333\n",
       "7210  BB1960  BB1956     4.105354       54      109      106    109.000000\n",
       "7211  BY9395  S79865     4.286257      289      116       52    116.000000\n",
       "7212  BB4751  BA9720     3.510893      332      154        1    154.000000\n",
       "7213  BW0535  BB8278     2.279150       84      230        7    274.333333\n",
       "7214  BW0535  BY3762     2.992985       84       87        7    274.333333\n",
       "7215  BW0535  BB8268     1.213325       84      506        7    274.333333\n",
       "7216  BY3762  BB8268     3.132897       87      506      174    506.000000\n",
       "7217  BB8253  B49400     3.017794       68       89       55     89.000000\n",
       "7218  BB3430  BB1727     2.640755      202      313      538    283.000000\n",
       "7219  BB3430  BB1728     3.866239      202      253      538    283.000000\n",
       "7220  BY1671  S81033     3.131977       81      218      259    218.000000\n",
       "7221  BY4139  BY3555     1.933196      147       27      121     27.000000\n",
       "7222  BB9774  BY4055     4.442005      753      314        3    314.000000\n",
       "7223  BA7990  BB0978     2.789365      132       59        9     59.000000\n",
       "7224  019099  019332     2.981943      942     1243      208   1243.000000\n",
       "7225  BY3554  BZ0332     5.841041      109       57       16     57.000000\n",
       "7226  B23738  BA8825     4.071533        4      384      157    674.000000\n",
       "7227  B23738  S78132     3.399088        4      964      157    674.000000\n",
       "7228  BY9698  BY9701     3.024894      541      363        2    363.000000\n",
       "7229  AF5873  BA7913     3.560838      561        2        6      2.000000\n",
       "7230  BB1920  BB1922     3.931025       32      178       93    178.000000\n",
       "7231  S80748  807295     7.495104      212      964      178    964.000000\n",
       "7232  807295  S80753     8.195262      964       22      935     22.000000\n",
       "7233  BY3043  BY9009     0.767526       93       59        2     59.000000\n",
       "7234  BY4132  BY4131     4.828981      115      295       23    295.000000\n",
       "7235  S79917  S79916     1.763422      443      715      758    715.000000\n",
       "7236  BA7410  BA9693     3.458405       89       33        4     33.000000\n",
       "7237  CG3123  CG4147     2.568813       34       27        6     27.000000\n",
       "\n",
       "[7238 rows x 7 columns]"
      ]
     },
     "execution_count": 15,
     "metadata": {},
     "output_type": "execute_result"
    }
   ],
   "source": [
    "preds = (\n",
    "    pd.DataFrame(kahuna.groupby('A1')['A2_FW17'].mean()).\n",
    "    reset_index().\n",
    "    rename(columns = {'A2_FW17': 'A1_FW18_pred'})\n",
    ")\n",
    "\n",
    "preds.head()\n",
    "\n",
    "kahuna = pd.merge(kahuna, preds, left_on='A1', right_on='A1')\n",
    "kahuna"
   ]
  },
  {
   "cell_type": "code",
   "execution_count": 16,
   "metadata": {
    "scrolled": true
   },
   "outputs": [
    {
     "data": {
      "text/plain": [
       "(1019, 4)"
      ]
     },
     "execution_count": 16,
     "metadata": {},
     "output_type": "execute_result"
    },
    {
     "data": {
      "text/html": [
       "<div>\n",
       "<style scoped>\n",
       "    .dataframe tbody tr th:only-of-type {\n",
       "        vertical-align: middle;\n",
       "    }\n",
       "\n",
       "    .dataframe tbody tr th {\n",
       "        vertical-align: top;\n",
       "    }\n",
       "\n",
       "    .dataframe thead th {\n",
       "        text-align: right;\n",
       "    }\n",
       "</style>\n",
       "<table border=\"1\" class=\"dataframe\">\n",
       "  <thead>\n",
       "    <tr style=\"text-align: right;\">\n",
       "      <th></th>\n",
       "      <th>A1</th>\n",
       "      <th>A1_FW17</th>\n",
       "      <th>A1_FW18</th>\n",
       "      <th>A1_FW18_pred</th>\n",
       "    </tr>\n",
       "  </thead>\n",
       "  <tbody>\n",
       "    <tr>\n",
       "      <th>0</th>\n",
       "      <td>BB0077</td>\n",
       "      <td>537</td>\n",
       "      <td>27</td>\n",
       "      <td>291.000000</td>\n",
       "    </tr>\n",
       "    <tr>\n",
       "      <th>10</th>\n",
       "      <td>BY9837</td>\n",
       "      <td>94</td>\n",
       "      <td>37</td>\n",
       "      <td>400.900000</td>\n",
       "    </tr>\n",
       "    <tr>\n",
       "      <th>20</th>\n",
       "      <td>BA7778</td>\n",
       "      <td>1116</td>\n",
       "      <td>5</td>\n",
       "      <td>170.100000</td>\n",
       "    </tr>\n",
       "    <tr>\n",
       "      <th>30</th>\n",
       "      <td>BZ0643</td>\n",
       "      <td>193</td>\n",
       "      <td>6</td>\n",
       "      <td>163.200000</td>\n",
       "    </tr>\n",
       "    <tr>\n",
       "      <th>40</th>\n",
       "      <td>BZ0206</td>\n",
       "      <td>102</td>\n",
       "      <td>204</td>\n",
       "      <td>551.900000</td>\n",
       "    </tr>\n",
       "    <tr>\n",
       "      <th>50</th>\n",
       "      <td>BZ0642</td>\n",
       "      <td>100</td>\n",
       "      <td>28</td>\n",
       "      <td>166.800000</td>\n",
       "    </tr>\n",
       "    <tr>\n",
       "      <th>60</th>\n",
       "      <td>BZ0507</td>\n",
       "      <td>161</td>\n",
       "      <td>35</td>\n",
       "      <td>266.100000</td>\n",
       "    </tr>\n",
       "    <tr>\n",
       "      <th>70</th>\n",
       "      <td>BZ0458</td>\n",
       "      <td>302</td>\n",
       "      <td>45</td>\n",
       "      <td>453.700000</td>\n",
       "    </tr>\n",
       "    <tr>\n",
       "      <th>80</th>\n",
       "      <td>BZ0066</td>\n",
       "      <td>262</td>\n",
       "      <td>49</td>\n",
       "      <td>348.700000</td>\n",
       "    </tr>\n",
       "    <tr>\n",
       "      <th>90</th>\n",
       "      <td>BY9579</td>\n",
       "      <td>341</td>\n",
       "      <td>545</td>\n",
       "      <td>589.600000</td>\n",
       "    </tr>\n",
       "    <tr>\n",
       "      <th>100</th>\n",
       "      <td>BB0188</td>\n",
       "      <td>3111</td>\n",
       "      <td>95</td>\n",
       "      <td>1779.100000</td>\n",
       "    </tr>\n",
       "    <tr>\n",
       "      <th>110</th>\n",
       "      <td>BY9851</td>\n",
       "      <td>102</td>\n",
       "      <td>16</td>\n",
       "      <td>132.000000</td>\n",
       "    </tr>\n",
       "    <tr>\n",
       "      <th>120</th>\n",
       "      <td>BB2270</td>\n",
       "      <td>528</td>\n",
       "      <td>3</td>\n",
       "      <td>367.100000</td>\n",
       "    </tr>\n",
       "    <tr>\n",
       "      <th>130</th>\n",
       "      <td>BZ0142</td>\n",
       "      <td>136</td>\n",
       "      <td>14</td>\n",
       "      <td>605.000000</td>\n",
       "    </tr>\n",
       "    <tr>\n",
       "      <th>140</th>\n",
       "      <td>BZ0031</td>\n",
       "      <td>704</td>\n",
       "      <td>14</td>\n",
       "      <td>553.600000</td>\n",
       "    </tr>\n",
       "    <tr>\n",
       "      <th>150</th>\n",
       "      <td>BY4058</td>\n",
       "      <td>133</td>\n",
       "      <td>198</td>\n",
       "      <td>434.000000</td>\n",
       "    </tr>\n",
       "    <tr>\n",
       "      <th>160</th>\n",
       "      <td>BZ0501</td>\n",
       "      <td>17</td>\n",
       "      <td>31</td>\n",
       "      <td>245.800000</td>\n",
       "    </tr>\n",
       "    <tr>\n",
       "      <th>170</th>\n",
       "      <td>CG3775</td>\n",
       "      <td>228</td>\n",
       "      <td>18</td>\n",
       "      <td>287.900000</td>\n",
       "    </tr>\n",
       "    <tr>\n",
       "      <th>180</th>\n",
       "      <td>BA7604</td>\n",
       "      <td>154</td>\n",
       "      <td>170</td>\n",
       "      <td>138.700000</td>\n",
       "    </tr>\n",
       "    <tr>\n",
       "      <th>190</th>\n",
       "      <td>BZ0443</td>\n",
       "      <td>496</td>\n",
       "      <td>43</td>\n",
       "      <td>635.700000</td>\n",
       "    </tr>\n",
       "    <tr>\n",
       "      <th>200</th>\n",
       "      <td>BY3940</td>\n",
       "      <td>699</td>\n",
       "      <td>7</td>\n",
       "      <td>646.100000</td>\n",
       "    </tr>\n",
       "    <tr>\n",
       "      <th>210</th>\n",
       "      <td>BZ0527</td>\n",
       "      <td>428</td>\n",
       "      <td>320</td>\n",
       "      <td>398.100000</td>\n",
       "    </tr>\n",
       "    <tr>\n",
       "      <th>220</th>\n",
       "      <td>S82260</td>\n",
       "      <td>176</td>\n",
       "      <td>12</td>\n",
       "      <td>272.900000</td>\n",
       "    </tr>\n",
       "    <tr>\n",
       "      <th>230</th>\n",
       "      <td>BZ0369</td>\n",
       "      <td>155</td>\n",
       "      <td>2</td>\n",
       "      <td>356.000000</td>\n",
       "    </tr>\n",
       "    <tr>\n",
       "      <th>236</th>\n",
       "      <td>BZ0073</td>\n",
       "      <td>215</td>\n",
       "      <td>46</td>\n",
       "      <td>362.400000</td>\n",
       "    </tr>\n",
       "    <tr>\n",
       "      <th>246</th>\n",
       "      <td>BY8707</td>\n",
       "      <td>53</td>\n",
       "      <td>5</td>\n",
       "      <td>231.700000</td>\n",
       "    </tr>\n",
       "    <tr>\n",
       "      <th>256</th>\n",
       "      <td>BY2959</td>\n",
       "      <td>1145</td>\n",
       "      <td>180</td>\n",
       "      <td>477.200000</td>\n",
       "    </tr>\n",
       "    <tr>\n",
       "      <th>266</th>\n",
       "      <td>BY2963</td>\n",
       "      <td>155</td>\n",
       "      <td>12</td>\n",
       "      <td>297.000000</td>\n",
       "    </tr>\n",
       "    <tr>\n",
       "      <th>276</th>\n",
       "      <td>BZ0087</td>\n",
       "      <td>748</td>\n",
       "      <td>1604</td>\n",
       "      <td>507.000000</td>\n",
       "    </tr>\n",
       "    <tr>\n",
       "      <th>286</th>\n",
       "      <td>BZ0070</td>\n",
       "      <td>264</td>\n",
       "      <td>225</td>\n",
       "      <td>577.200000</td>\n",
       "    </tr>\n",
       "    <tr>\n",
       "      <th>...</th>\n",
       "      <td>...</td>\n",
       "      <td>...</td>\n",
       "      <td>...</td>\n",
       "      <td>...</td>\n",
       "    </tr>\n",
       "    <tr>\n",
       "      <th>7194</th>\n",
       "      <td>BB3476</td>\n",
       "      <td>92</td>\n",
       "      <td>21</td>\n",
       "      <td>64.000000</td>\n",
       "    </tr>\n",
       "    <tr>\n",
       "      <th>7195</th>\n",
       "      <td>BA8096</td>\n",
       "      <td>159</td>\n",
       "      <td>15</td>\n",
       "      <td>112.750000</td>\n",
       "    </tr>\n",
       "    <tr>\n",
       "      <th>7199</th>\n",
       "      <td>BB3639</td>\n",
       "      <td>116</td>\n",
       "      <td>1</td>\n",
       "      <td>180.800000</td>\n",
       "    </tr>\n",
       "    <tr>\n",
       "      <th>7204</th>\n",
       "      <td>CM7711</td>\n",
       "      <td>2</td>\n",
       "      <td>147</td>\n",
       "      <td>36.000000</td>\n",
       "    </tr>\n",
       "    <tr>\n",
       "      <th>7205</th>\n",
       "      <td>S80935</td>\n",
       "      <td>92</td>\n",
       "      <td>213</td>\n",
       "      <td>183.000000</td>\n",
       "    </tr>\n",
       "    <tr>\n",
       "      <th>7207</th>\n",
       "      <td>BA8271</td>\n",
       "      <td>139</td>\n",
       "      <td>41</td>\n",
       "      <td>149.333333</td>\n",
       "    </tr>\n",
       "    <tr>\n",
       "      <th>7210</th>\n",
       "      <td>BB1960</td>\n",
       "      <td>54</td>\n",
       "      <td>106</td>\n",
       "      <td>109.000000</td>\n",
       "    </tr>\n",
       "    <tr>\n",
       "      <th>7211</th>\n",
       "      <td>BY9395</td>\n",
       "      <td>289</td>\n",
       "      <td>52</td>\n",
       "      <td>116.000000</td>\n",
       "    </tr>\n",
       "    <tr>\n",
       "      <th>7212</th>\n",
       "      <td>BB4751</td>\n",
       "      <td>332</td>\n",
       "      <td>1</td>\n",
       "      <td>154.000000</td>\n",
       "    </tr>\n",
       "    <tr>\n",
       "      <th>7213</th>\n",
       "      <td>BW0535</td>\n",
       "      <td>84</td>\n",
       "      <td>7</td>\n",
       "      <td>274.333333</td>\n",
       "    </tr>\n",
       "    <tr>\n",
       "      <th>7216</th>\n",
       "      <td>BY3762</td>\n",
       "      <td>87</td>\n",
       "      <td>174</td>\n",
       "      <td>506.000000</td>\n",
       "    </tr>\n",
       "    <tr>\n",
       "      <th>7217</th>\n",
       "      <td>BB8253</td>\n",
       "      <td>68</td>\n",
       "      <td>55</td>\n",
       "      <td>89.000000</td>\n",
       "    </tr>\n",
       "    <tr>\n",
       "      <th>7218</th>\n",
       "      <td>BB3430</td>\n",
       "      <td>202</td>\n",
       "      <td>538</td>\n",
       "      <td>283.000000</td>\n",
       "    </tr>\n",
       "    <tr>\n",
       "      <th>7220</th>\n",
       "      <td>BY1671</td>\n",
       "      <td>81</td>\n",
       "      <td>259</td>\n",
       "      <td>218.000000</td>\n",
       "    </tr>\n",
       "    <tr>\n",
       "      <th>7221</th>\n",
       "      <td>BY4139</td>\n",
       "      <td>147</td>\n",
       "      <td>121</td>\n",
       "      <td>27.000000</td>\n",
       "    </tr>\n",
       "    <tr>\n",
       "      <th>7222</th>\n",
       "      <td>BB9774</td>\n",
       "      <td>753</td>\n",
       "      <td>3</td>\n",
       "      <td>314.000000</td>\n",
       "    </tr>\n",
       "    <tr>\n",
       "      <th>7223</th>\n",
       "      <td>BA7990</td>\n",
       "      <td>132</td>\n",
       "      <td>9</td>\n",
       "      <td>59.000000</td>\n",
       "    </tr>\n",
       "    <tr>\n",
       "      <th>7224</th>\n",
       "      <td>019099</td>\n",
       "      <td>942</td>\n",
       "      <td>208</td>\n",
       "      <td>1243.000000</td>\n",
       "    </tr>\n",
       "    <tr>\n",
       "      <th>7225</th>\n",
       "      <td>BY3554</td>\n",
       "      <td>109</td>\n",
       "      <td>16</td>\n",
       "      <td>57.000000</td>\n",
       "    </tr>\n",
       "    <tr>\n",
       "      <th>7226</th>\n",
       "      <td>B23738</td>\n",
       "      <td>4</td>\n",
       "      <td>157</td>\n",
       "      <td>674.000000</td>\n",
       "    </tr>\n",
       "    <tr>\n",
       "      <th>7228</th>\n",
       "      <td>BY9698</td>\n",
       "      <td>541</td>\n",
       "      <td>2</td>\n",
       "      <td>363.000000</td>\n",
       "    </tr>\n",
       "    <tr>\n",
       "      <th>7229</th>\n",
       "      <td>AF5873</td>\n",
       "      <td>561</td>\n",
       "      <td>6</td>\n",
       "      <td>2.000000</td>\n",
       "    </tr>\n",
       "    <tr>\n",
       "      <th>7230</th>\n",
       "      <td>BB1920</td>\n",
       "      <td>32</td>\n",
       "      <td>93</td>\n",
       "      <td>178.000000</td>\n",
       "    </tr>\n",
       "    <tr>\n",
       "      <th>7231</th>\n",
       "      <td>S80748</td>\n",
       "      <td>212</td>\n",
       "      <td>178</td>\n",
       "      <td>964.000000</td>\n",
       "    </tr>\n",
       "    <tr>\n",
       "      <th>7232</th>\n",
       "      <td>807295</td>\n",
       "      <td>964</td>\n",
       "      <td>935</td>\n",
       "      <td>22.000000</td>\n",
       "    </tr>\n",
       "    <tr>\n",
       "      <th>7233</th>\n",
       "      <td>BY3043</td>\n",
       "      <td>93</td>\n",
       "      <td>2</td>\n",
       "      <td>59.000000</td>\n",
       "    </tr>\n",
       "    <tr>\n",
       "      <th>7234</th>\n",
       "      <td>BY4132</td>\n",
       "      <td>115</td>\n",
       "      <td>23</td>\n",
       "      <td>295.000000</td>\n",
       "    </tr>\n",
       "    <tr>\n",
       "      <th>7235</th>\n",
       "      <td>S79917</td>\n",
       "      <td>443</td>\n",
       "      <td>758</td>\n",
       "      <td>715.000000</td>\n",
       "    </tr>\n",
       "    <tr>\n",
       "      <th>7236</th>\n",
       "      <td>BA7410</td>\n",
       "      <td>89</td>\n",
       "      <td>4</td>\n",
       "      <td>33.000000</td>\n",
       "    </tr>\n",
       "    <tr>\n",
       "      <th>7237</th>\n",
       "      <td>CG3123</td>\n",
       "      <td>34</td>\n",
       "      <td>6</td>\n",
       "      <td>27.000000</td>\n",
       "    </tr>\n",
       "  </tbody>\n",
       "</table>\n",
       "<p>1019 rows × 4 columns</p>\n",
       "</div>"
      ],
      "text/plain": [
       "          A1  A1_FW17  A1_FW18  A1_FW18_pred\n",
       "0     BB0077      537       27    291.000000\n",
       "10    BY9837       94       37    400.900000\n",
       "20    BA7778     1116        5    170.100000\n",
       "30    BZ0643      193        6    163.200000\n",
       "40    BZ0206      102      204    551.900000\n",
       "50    BZ0642      100       28    166.800000\n",
       "60    BZ0507      161       35    266.100000\n",
       "70    BZ0458      302       45    453.700000\n",
       "80    BZ0066      262       49    348.700000\n",
       "90    BY9579      341      545    589.600000\n",
       "100   BB0188     3111       95   1779.100000\n",
       "110   BY9851      102       16    132.000000\n",
       "120   BB2270      528        3    367.100000\n",
       "130   BZ0142      136       14    605.000000\n",
       "140   BZ0031      704       14    553.600000\n",
       "150   BY4058      133      198    434.000000\n",
       "160   BZ0501       17       31    245.800000\n",
       "170   CG3775      228       18    287.900000\n",
       "180   BA7604      154      170    138.700000\n",
       "190   BZ0443      496       43    635.700000\n",
       "200   BY3940      699        7    646.100000\n",
       "210   BZ0527      428      320    398.100000\n",
       "220   S82260      176       12    272.900000\n",
       "230   BZ0369      155        2    356.000000\n",
       "236   BZ0073      215       46    362.400000\n",
       "246   BY8707       53        5    231.700000\n",
       "256   BY2959     1145      180    477.200000\n",
       "266   BY2963      155       12    297.000000\n",
       "276   BZ0087      748     1604    507.000000\n",
       "286   BZ0070      264      225    577.200000\n",
       "...      ...      ...      ...           ...\n",
       "7194  BB3476       92       21     64.000000\n",
       "7195  BA8096      159       15    112.750000\n",
       "7199  BB3639      116        1    180.800000\n",
       "7204  CM7711        2      147     36.000000\n",
       "7205  S80935       92      213    183.000000\n",
       "7207  BA8271      139       41    149.333333\n",
       "7210  BB1960       54      106    109.000000\n",
       "7211  BY9395      289       52    116.000000\n",
       "7212  BB4751      332        1    154.000000\n",
       "7213  BW0535       84        7    274.333333\n",
       "7216  BY3762       87      174    506.000000\n",
       "7217  BB8253       68       55     89.000000\n",
       "7218  BB3430      202      538    283.000000\n",
       "7220  BY1671       81      259    218.000000\n",
       "7221  BY4139      147      121     27.000000\n",
       "7222  BB9774      753        3    314.000000\n",
       "7223  BA7990      132        9     59.000000\n",
       "7224  019099      942      208   1243.000000\n",
       "7225  BY3554      109       16     57.000000\n",
       "7226  B23738        4      157    674.000000\n",
       "7228  BY9698      541        2    363.000000\n",
       "7229  AF5873      561        6      2.000000\n",
       "7230  BB1920       32       93    178.000000\n",
       "7231  S80748      212      178    964.000000\n",
       "7232  807295      964      935     22.000000\n",
       "7233  BY3043       93        2     59.000000\n",
       "7234  BY4132      115       23    295.000000\n",
       "7235  S79917      443      758    715.000000\n",
       "7236  BA7410       89        4     33.000000\n",
       "7237  CG3123       34        6     27.000000\n",
       "\n",
       "[1019 rows x 4 columns]"
      ]
     },
     "execution_count": 16,
     "metadata": {},
     "output_type": "execute_result"
    }
   ],
   "source": [
    "kahuna_skinny = kahuna[['A1', 'A1_FW17', 'A1_FW18', 'A1_FW18_pred']].drop_duplicates()\n",
    "\n",
    "kahuna_skinny.shape\n",
    "kahuna_skinny.head()"
   ]
  },
  {
   "cell_type": "markdown",
   "metadata": {},
   "source": [
    "### Predictions, EDA"
   ]
  },
  {
   "cell_type": "code",
   "execution_count": null,
   "metadata": {},
   "outputs": [],
   "source": [
    "# mean absolute percent error of predicted and actual\n",
    "\n",
    "def mape(y_true, y_pred):\n",
    "    y_true, y_pred = np.array(y_true), np.array(y_pred)\n",
    "    return pd.Series(np.mean(np.abs((y_true - y_pred) / y_true)) * 100)\n",
    "\n",
    "# mape(kahuna_skinny['A1_FW18'], kahuna_skinny['A1_FW18_pred'])\n",
    "\n",
    "# mape(kahuna_skinny['A1_FW18'], kahuna_skinny['A1_FW17'])\n"
   ]
  },
  {
   "cell_type": "code",
   "execution_count": 17,
   "metadata": {},
   "outputs": [
    {
     "data": {
      "text/plain": [
       "count      1019.000000\n",
       "mean       3390.415780\n",
       "std       10202.941467\n",
       "min           0.038735\n",
       "25%          70.920823\n",
       "50%         286.546763\n",
       "75%        1763.405458\n",
       "max      129670.000000\n",
       "Name: Pct_Err, dtype: float64"
      ]
     },
     "execution_count": 17,
     "metadata": {},
     "output_type": "execute_result"
    }
   ],
   "source": [
    "kahuna_skinny['Pct_Err'] = np.abs(kahuna_skinny['A1_FW18_pred'] - kahuna_skinny['A1_FW18'])/kahuna_skinny['A1_FW18'] * 100\n",
    "kahuna_skinny['Pct_Err2'] = np.abs(kahuna_skinny['A1_FW17'] - kahuna_skinny['A1_FW18'])/kahuna_skinny['A1_FW18'] * 100\n",
    "\n",
    "kahuna_skinny['Pct_Err'].describe()"
   ]
  },
  {
   "cell_type": "code",
   "execution_count": 18,
   "metadata": {},
   "outputs": [
    {
     "data": {
      "text/html": [
       "<div>\n",
       "<style scoped>\n",
       "    .dataframe tbody tr th:only-of-type {\n",
       "        vertical-align: middle;\n",
       "    }\n",
       "\n",
       "    .dataframe tbody tr th {\n",
       "        vertical-align: top;\n",
       "    }\n",
       "\n",
       "    .dataframe thead th {\n",
       "        text-align: right;\n",
       "    }\n",
       "</style>\n",
       "<table border=\"1\" class=\"dataframe\">\n",
       "  <thead>\n",
       "    <tr style=\"text-align: right;\">\n",
       "      <th></th>\n",
       "      <th>count</th>\n",
       "      <th>mean</th>\n",
       "      <th>std</th>\n",
       "      <th>min</th>\n",
       "      <th>25%</th>\n",
       "      <th>50%</th>\n",
       "      <th>75%</th>\n",
       "      <th>max</th>\n",
       "    </tr>\n",
       "    <tr>\n",
       "      <th>bin</th>\n",
       "      <th></th>\n",
       "      <th></th>\n",
       "      <th></th>\n",
       "      <th></th>\n",
       "      <th></th>\n",
       "      <th></th>\n",
       "      <th></th>\n",
       "      <th></th>\n",
       "    </tr>\n",
       "  </thead>\n",
       "  <tbody>\n",
       "    <tr>\n",
       "      <th>(0, 20]</th>\n",
       "      <td>86.0</td>\n",
       "      <td>1535.416851</td>\n",
       "      <td>5672.041360</td>\n",
       "      <td>1.351351</td>\n",
       "      <td>57.675399</td>\n",
       "      <td>95.028645</td>\n",
       "      <td>428.343867</td>\n",
       "      <td>40745.00000</td>\n",
       "    </tr>\n",
       "    <tr>\n",
       "      <th>(20, 50]</th>\n",
       "      <td>83.0</td>\n",
       "      <td>1203.276306</td>\n",
       "      <td>2940.101492</td>\n",
       "      <td>3.402062</td>\n",
       "      <td>91.598925</td>\n",
       "      <td>350.000000</td>\n",
       "      <td>975.479532</td>\n",
       "      <td>17500.00000</td>\n",
       "    </tr>\n",
       "    <tr>\n",
       "      <th>(50, 500]</th>\n",
       "      <td>572.0</td>\n",
       "      <td>3747.674822</td>\n",
       "      <td>10495.351446</td>\n",
       "      <td>0.328185</td>\n",
       "      <td>73.775155</td>\n",
       "      <td>388.413548</td>\n",
       "      <td>2273.669591</td>\n",
       "      <td>117650.00000</td>\n",
       "    </tr>\n",
       "    <tr>\n",
       "      <th>(500, 2000]</th>\n",
       "      <td>234.0</td>\n",
       "      <td>3961.407790</td>\n",
       "      <td>12235.472306</td>\n",
       "      <td>5.582524</td>\n",
       "      <td>72.970930</td>\n",
       "      <td>207.531775</td>\n",
       "      <td>1968.671875</td>\n",
       "      <td>129670.00000</td>\n",
       "    </tr>\n",
       "    <tr>\n",
       "      <th>(2000, 5000]</th>\n",
       "      <td>38.0</td>\n",
       "      <td>3993.790261</td>\n",
       "      <td>10174.195765</td>\n",
       "      <td>0.038735</td>\n",
       "      <td>72.415415</td>\n",
       "      <td>110.042333</td>\n",
       "      <td>2304.600694</td>\n",
       "      <td>57730.00000</td>\n",
       "    </tr>\n",
       "    <tr>\n",
       "      <th>(5000, 15000]</th>\n",
       "      <td>6.0</td>\n",
       "      <td>85.407747</td>\n",
       "      <td>13.750829</td>\n",
       "      <td>60.518234</td>\n",
       "      <td>81.313565</td>\n",
       "      <td>90.579012</td>\n",
       "      <td>95.075327</td>\n",
       "      <td>95.97104</td>\n",
       "    </tr>\n",
       "  </tbody>\n",
       "</table>\n",
       "</div>"
      ],
      "text/plain": [
       "               count         mean           std        min        25%  \\\n",
       "bin                                                                     \n",
       "(0, 20]         86.0  1535.416851   5672.041360   1.351351  57.675399   \n",
       "(20, 50]        83.0  1203.276306   2940.101492   3.402062  91.598925   \n",
       "(50, 500]      572.0  3747.674822  10495.351446   0.328185  73.775155   \n",
       "(500, 2000]    234.0  3961.407790  12235.472306   5.582524  72.970930   \n",
       "(2000, 5000]    38.0  3993.790261  10174.195765   0.038735  72.415415   \n",
       "(5000, 15000]    6.0    85.407747     13.750829  60.518234  81.313565   \n",
       "\n",
       "                      50%          75%           max  \n",
       "bin                                                   \n",
       "(0, 20]         95.028645   428.343867   40745.00000  \n",
       "(20, 50]       350.000000   975.479532   17500.00000  \n",
       "(50, 500]      388.413548  2273.669591  117650.00000  \n",
       "(500, 2000]    207.531775  1968.671875  129670.00000  \n",
       "(2000, 5000]   110.042333  2304.600694   57730.00000  \n",
       "(5000, 15000]   90.579012    95.075327      95.97104  "
      ]
     },
     "execution_count": 18,
     "metadata": {},
     "output_type": "execute_result"
    }
   ],
   "source": [
    "# MAPE by bin\n",
    "\n",
    "bins = [0, 20, 50, 500, 2000, 5000, 15000]\n",
    "kahuna_skinny['bin'] = pd.cut(np.array(kahuna_skinny['A1_FW17']), bins)\n",
    "\n",
    "# Pred(A0_i) = mean of similar items year i-1\n",
    "kahuna_skinny.groupby('bin')['Pct_Err'].describe()"
   ]
  },
  {
   "cell_type": "code",
   "execution_count": 19,
   "metadata": {},
   "outputs": [
    {
     "data": {
      "text/html": [
       "<div>\n",
       "<style scoped>\n",
       "    .dataframe tbody tr th:only-of-type {\n",
       "        vertical-align: middle;\n",
       "    }\n",
       "\n",
       "    .dataframe tbody tr th {\n",
       "        vertical-align: top;\n",
       "    }\n",
       "\n",
       "    .dataframe thead th {\n",
       "        text-align: right;\n",
       "    }\n",
       "</style>\n",
       "<table border=\"1\" class=\"dataframe\">\n",
       "  <thead>\n",
       "    <tr style=\"text-align: right;\">\n",
       "      <th></th>\n",
       "      <th>count</th>\n",
       "      <th>mean</th>\n",
       "      <th>std</th>\n",
       "      <th>min</th>\n",
       "      <th>25%</th>\n",
       "      <th>50%</th>\n",
       "      <th>75%</th>\n",
       "      <th>max</th>\n",
       "    </tr>\n",
       "    <tr>\n",
       "      <th>bin</th>\n",
       "      <th></th>\n",
       "      <th></th>\n",
       "      <th></th>\n",
       "      <th></th>\n",
       "      <th></th>\n",
       "      <th></th>\n",
       "      <th></th>\n",
       "      <th></th>\n",
       "    </tr>\n",
       "  </thead>\n",
       "  <tbody>\n",
       "    <tr>\n",
       "      <th>(0, 20]</th>\n",
       "      <td>86.0</td>\n",
       "      <td>95.915508</td>\n",
       "      <td>63.163039</td>\n",
       "      <td>0.000000</td>\n",
       "      <td>91.654883</td>\n",
       "      <td>97.691734</td>\n",
       "      <td>99.662021</td>\n",
       "      <td>533.333333</td>\n",
       "    </tr>\n",
       "    <tr>\n",
       "      <th>(20, 50]</th>\n",
       "      <td>83.0</td>\n",
       "      <td>196.549470</td>\n",
       "      <td>435.900410</td>\n",
       "      <td>3.225806</td>\n",
       "      <td>40.175439</td>\n",
       "      <td>79.279279</td>\n",
       "      <td>93.542105</td>\n",
       "      <td>2300.000000</td>\n",
       "    </tr>\n",
       "    <tr>\n",
       "      <th>(50, 500]</th>\n",
       "      <td>572.0</td>\n",
       "      <td>1948.203878</td>\n",
       "      <td>4929.195112</td>\n",
       "      <td>0.643087</td>\n",
       "      <td>61.226366</td>\n",
       "      <td>177.816537</td>\n",
       "      <td>1445.039683</td>\n",
       "      <td>47300.000000</td>\n",
       "    </tr>\n",
       "    <tr>\n",
       "      <th>(500, 2000]</th>\n",
       "      <td>234.0</td>\n",
       "      <td>7332.929092</td>\n",
       "      <td>21578.055980</td>\n",
       "      <td>0.000000</td>\n",
       "      <td>66.296283</td>\n",
       "      <td>728.724801</td>\n",
       "      <td>3256.058222</td>\n",
       "      <td>163900.000000</td>\n",
       "    </tr>\n",
       "    <tr>\n",
       "      <th>(2000, 5000]</th>\n",
       "      <td>38.0</td>\n",
       "      <td>11911.529108</td>\n",
       "      <td>24704.970210</td>\n",
       "      <td>13.482217</td>\n",
       "      <td>67.689491</td>\n",
       "      <td>733.697415</td>\n",
       "      <td>7570.716595</td>\n",
       "      <td>118750.000000</td>\n",
       "    </tr>\n",
       "    <tr>\n",
       "      <th>(5000, 15000]</th>\n",
       "      <td>6.0</td>\n",
       "      <td>71.555160</td>\n",
       "      <td>108.113950</td>\n",
       "      <td>0.711694</td>\n",
       "      <td>18.954972</td>\n",
       "      <td>24.824386</td>\n",
       "      <td>63.001790</td>\n",
       "      <td>286.244402</td>\n",
       "    </tr>\n",
       "  </tbody>\n",
       "</table>\n",
       "</div>"
      ],
      "text/plain": [
       "               count          mean           std        min        25%  \\\n",
       "bin                                                                      \n",
       "(0, 20]         86.0     95.915508     63.163039   0.000000  91.654883   \n",
       "(20, 50]        83.0    196.549470    435.900410   3.225806  40.175439   \n",
       "(50, 500]      572.0   1948.203878   4929.195112   0.643087  61.226366   \n",
       "(500, 2000]    234.0   7332.929092  21578.055980   0.000000  66.296283   \n",
       "(2000, 5000]    38.0  11911.529108  24704.970210  13.482217  67.689491   \n",
       "(5000, 15000]    6.0     71.555160    108.113950   0.711694  18.954972   \n",
       "\n",
       "                      50%          75%            max  \n",
       "bin                                                    \n",
       "(0, 20]         97.691734    99.662021     533.333333  \n",
       "(20, 50]        79.279279    93.542105    2300.000000  \n",
       "(50, 500]      177.816537  1445.039683   47300.000000  \n",
       "(500, 2000]    728.724801  3256.058222  163900.000000  \n",
       "(2000, 5000]   733.697415  7570.716595  118750.000000  \n",
       "(5000, 15000]   24.824386    63.001790     286.244402  "
      ]
     },
     "execution_count": 19,
     "metadata": {},
     "output_type": "execute_result"
    }
   ],
   "source": [
    "# Pred(A0_i) = A0_(i-1)\n",
    "kahuna_skinny.groupby('bin')['Pct_Err2'].describe()"
   ]
  },
  {
   "cell_type": "code",
   "execution_count": 21,
   "metadata": {},
   "outputs": [
    {
     "data": {
      "text/plain": [
       "<matplotlib.axes._subplots.AxesSubplot at 0x1c1ae0bd68>"
      ]
     },
     "execution_count": 21,
     "metadata": {},
     "output_type": "execute_result"
    },
    {
     "data": {
      "text/plain": [
       "<matplotlib.axes._subplots.AxesSubplot at 0x1c1ae0bd68>"
      ]
     },
     "execution_count": 21,
     "metadata": {},
     "output_type": "execute_result"
    },
    {
     "data": {
      "text/plain": [
       "<matplotlib.axes._subplots.AxesSubplot at 0x1c1b3b32b0>"
      ]
     },
     "execution_count": 21,
     "metadata": {},
     "output_type": "execute_result"
    },
    {
     "data": {
      "text/plain": [
       "<matplotlib.axes._subplots.AxesSubplot at 0x1c1b3b32b0>"
      ]
     },
     "execution_count": 21,
     "metadata": {},
     "output_type": "execute_result"
    },
    {
     "data": {
      "image/png": "[encoded data removed]",
      "text/plain": [
       "<Figure size 432x288 with 2 Axes>"
      ]
     },
     "metadata": {
      "image/png": {
       "height": 250,
       "width": 377
      },
      "needs_background": "light"
     },
     "output_type": "display_data"
    }
   ],
   "source": [
    "plt.subplot(2, 1, 1)\n",
    "kahuna_skinny[kahuna_skinny['Pct_Err'] < 3000]['Pct_Err'].hist(bins = 100)\n",
    "\n",
    "plt.subplot(2, 1, 2)\n",
    "kahuna_skinny[(kahuna_skinny['Pct_Err'] < 3000) & (kahuna_skinny['A1_FW17'] < 21)]['Pct_Err'].hist(bins = 100)"
   ]
  },
  {
   "cell_type": "code",
   "execution_count": 22,
   "metadata": {},
   "outputs": [
    {
     "data": {
      "text/plain": [
       "<matplotlib.collections.PathCollection at 0x1c1bffac50>"
      ]
     },
     "execution_count": 22,
     "metadata": {},
     "output_type": "execute_result"
    },
    {
     "data": {
      "text/html": [
       "<div>\n",
       "<style scoped>\n",
       "    .dataframe tbody tr th:only-of-type {\n",
       "        vertical-align: middle;\n",
       "    }\n",
       "\n",
       "    .dataframe tbody tr th {\n",
       "        vertical-align: top;\n",
       "    }\n",
       "\n",
       "    .dataframe thead th {\n",
       "        text-align: right;\n",
       "    }\n",
       "</style>\n",
       "<table border=\"1\" class=\"dataframe\">\n",
       "  <thead>\n",
       "    <tr style=\"text-align: right;\">\n",
       "      <th></th>\n",
       "      <th>A1_FW17</th>\n",
       "      <th>A1_FW18</th>\n",
       "    </tr>\n",
       "  </thead>\n",
       "  <tbody>\n",
       "    <tr>\n",
       "      <th>A1_FW17</th>\n",
       "      <td>1.000000</td>\n",
       "      <td>0.569176</td>\n",
       "    </tr>\n",
       "    <tr>\n",
       "      <th>A1_FW18</th>\n",
       "      <td>0.569176</td>\n",
       "      <td>1.000000</td>\n",
       "    </tr>\n",
       "  </tbody>\n",
       "</table>\n",
       "</div>"
      ],
      "text/plain": [
       "          A1_FW17   A1_FW18\n",
       "A1_FW17  1.000000  0.569176\n",
       "A1_FW18  0.569176  1.000000"
      ]
     },
     "execution_count": 22,
     "metadata": {},
     "output_type": "execute_result"
    },
    {
     "data": {
      "image/png": "[encoded data removed]",
      "text/plain": [
       "<Figure size 432x288 with 1 Axes>"
      ]
     },
     "metadata": {
      "image/png": {
       "height": 250,
       "width": 390
      },
      "needs_background": "light"
     },
     "output_type": "display_data"
    }
   ],
   "source": [
    "plt.scatter(kahuna_skinny['A1_FW17'], \n",
    "            kahuna_skinny['A1_FW18'], \n",
    "            # c = dbs01,\n",
    "            alpha = 0.15)\n",
    "# plt.xlabel('FW17 net_qty')\n",
    "# plt.ylabel('Abs Pct Error')\n",
    "\n",
    "kahuna_skinny[['A1_FW17', 'A1_FW18']].corr()\n",
    "\n",
    "# plt.rcParams[\"figure.figsize\"] = [16,16]"
   ]
  },
  {
   "cell_type": "code",
   "execution_count": null,
   "metadata": {},
   "outputs": [],
   "source": [
    "# --- Sort by season ---\n",
    "\n",
    "# order = {'SS17': 0, 'FW17': 1, 'SS18': 2, 'FW18': 3, 'SS19': 4}\n",
    "# dat['order_id'] = [order[i] for i in dat.reset_index()['season']]\n",
    "\n",
    "# dat.sort_values(by = ['article_number', 'order_id'], inplace=True)\n",
    "# dat.drop('order_id', axis = 1, inplace=True)"
   ]
  },
  {
   "cell_type": "markdown",
   "metadata": {
    "hideCode": false,
    "hidePrompt": false
   },
   "source": [
    "## 5.2 OLS linear regression"
   ]
  },
  {
   "cell_type": "code",
   "execution_count": null,
   "metadata": {
    "hideCode": false,
    "hidePrompt": false
   },
   "outputs": [],
   "source": [
    "%%time\n",
    "\n",
    "dat00 = pd.read_csv('seasonal_sales_indicators.csv', delimiter = '~')"
   ]
  },
  {
   "cell_type": "code",
   "execution_count": null,
   "metadata": {
    "hideCode": false,
    "hidePrompt": false,
    "scrolled": true
   },
   "outputs": [],
   "source": [
    "dat0 = dat00.copy()\n",
    "\n",
    "dat0.columns = [x.replace('t_eu_ecom_dit_dsf_transaction_t.', '') for x in dat0.columns] # tidy column names\n",
    "\n",
    "dat0.drop(['sales_organization', 'sku', 'total_markdown', 'temporary_markdown', \n",
    "           'permanent_markdown', 'employee_markdown', 'fraction_of_full_price', \n",
    "           'markdown', 'sale'], inplace=True, axis = 1)\n",
    "\n",
    "# {print(x, '-->', len(dat0[x].unique())) for x in dat0.columns}\n",
    "# dat0.dtypes"
   ]
  },
  {
   "cell_type": "code",
   "execution_count": null,
   "metadata": {
    "hideCode": false,
    "hidePrompt": false
   },
   "outputs": [],
   "source": [
    "dat0 = dat0.groupby(by = ['article_number', 'season']).agg('sum')[['net_qty', 'net_sales']]\n",
    "\n",
    "# dat0['price'] = dat0['net_sales']/dat0['net_qty']\n",
    "\n",
    "dat0.reset_index(level = 'season', inplace=True) # convert 'season' back to column\n",
    "\n",
    "# --- Sort by season ---\n",
    "# order = {'SS17': 0, 'FW17': 1, 'SS18': 2, 'FW18': 3, 'SS19': 4}\n",
    "# dat0['order_id'] = [order[i] for i in dat0.reset_index()['season']]\n",
    "\n",
    "# dat0.sort_values(by = ['article_number', 'order_id'], inplace=True)\n",
    "# dat0.drop('order_id', axis = 1, inplace=True)\n",
    "\n",
    "# dat0 = dat0[[s in ['SS17', 'SS19'] for s in dat0['season']]]\n",
    "\n",
    "dat0 = dat0.replace([np.inf, -np.inf, np.nan], 0)\n",
    "dat0 = dat0[dat0['net_qty'] > 0]"
   ]
  },
  {
   "cell_type": "code",
   "execution_count": null,
   "metadata": {},
   "outputs": [],
   "source": [
    "dat0"
   ]
  },
  {
   "cell_type": "code",
   "execution_count": null,
   "metadata": {
    "hideCode": false,
    "hidePrompt": false
   },
   "outputs": [],
   "source": [
    "dat17 = dat0[dat0['season'] == 'SS17']\n",
    "dat19 = pd.DataFrame(dat0[dat0['season'] == 'SS19']['net_sales'])\n",
    "\n",
    "dat17_19 = pd.merge(dat17, dat19, left_index = True, right_index=True)\n",
    "dat17_19"
   ]
  },
  {
   "cell_type": "code",
   "execution_count": null,
   "metadata": {
    "hideCode": false,
    "hidePrompt": false
   },
   "outputs": [],
   "source": [
    "from sklearn.linear_model import LinearRegression\n",
    "\n",
    "X = dat17_19.drop(['season', 'net_sales_y'], axis = 1)\n",
    "y = pd.DataFrame(dat17_19['net_sales_y'])\n",
    "\n",
    "lin_reg = LinearRegression().fit(X, y)\n",
    "\n",
    "lin_reg.score(X, y) # R^2 = 0.2706\n",
    "\n",
    "lin_reg.intercept_\n",
    "lin_reg.coef_"
   ]
  },
  {
   "cell_type": "markdown",
   "metadata": {
    "hideCode": false,
    "hidePrompt": false
   },
   "source": [
    "## 5.3 SARIMAX"
   ]
  },
  {
   "cell_type": "code",
   "execution_count": null,
   "metadata": {
    "hideCode": false,
    "hidePrompt": false
   },
   "outputs": [],
   "source": [
    "%%time\n",
    "dat0 = pd.read_csv('seasonal_sales_indicators.csv',\n",
    "                 delimiter = '~')\n",
    "\n",
    "# len(dat0['article_number'].unique()) # 46573"
   ]
  },
  {
   "cell_type": "code",
   "execution_count": null,
   "metadata": {
    "hideCode": false,
    "hidePrompt": false,
    "scrolled": true
   },
   "outputs": [],
   "source": [
    "# dat_ref = pd.read_csv('dat_ref.csv', low_memory=False, index_col = 0) "
   ]
  },
  {
   "cell_type": "code",
   "execution_count": null,
   "metadata": {
    "hideCode": false,
    "hidePrompt": false
   },
   "outputs": [],
   "source": [
    "dat_ref.head()\n",
    "dat_ref.shape"
   ]
  },
  {
   "cell_type": "code",
   "execution_count": null,
   "metadata": {
    "hideCode": false,
    "hidePrompt": false
   },
   "outputs": [],
   "source": [
    "dat = dat0.copy()\n",
    "\n",
    "dat.columns = [x.replace('t_eu_ecom_dit_dsf_transaction_t.', '') for x in dat.columns] # tidy column names\n",
    "dat = dat[dat['gross_demand_quantity'] != 0] \n",
    "dat['consumer_order_date'] = pd.to_datetime(dat['consumer_order_date'])\n",
    "\n",
    "dat.head()"
   ]
  },
  {
   "cell_type": "code",
   "execution_count": null,
   "metadata": {
    "hideCode": false,
    "hidePrompt": false
   },
   "outputs": [],
   "source": [
    "dat.shape"
   ]
  },
  {
   "cell_type": "code",
   "execution_count": null,
   "metadata": {
    "hideCode": false,
    "hidePrompt": false
   },
   "outputs": [],
   "source": [
    "datter = dat.merge(dat_ref, left_on = 'article_number', right_on = 'group_article', how = 'left')\n",
    "datter.shape"
   ]
  },
  {
   "cell_type": "code",
   "execution_count": null,
   "metadata": {
    "hideCode": false,
    "hidePrompt": false
   },
   "outputs": [],
   "source": [
    "datter.head()"
   ]
  },
  {
   "cell_type": "code",
   "execution_count": null,
   "metadata": {
    "hideCode": false,
    "hidePrompt": false
   },
   "outputs": [],
   "source": [
    "# dat.dtypes\n",
    "\n",
    "{print(x, '-->', len(dat[x].unique())) for x in dat.columns}"
   ]
  },
  {
   "cell_type": "markdown",
   "metadata": {
    "hideCode": false,
    "hidePrompt": false
   },
   "source": [
    "## 5.4 EDA"
   ]
  },
  {
   "cell_type": "markdown",
   "metadata": {},
   "source": [
    "### 5.4.1"
   ]
  },
  {
   "cell_type": "code",
   "execution_count": null,
   "metadata": {
    "hideCode": false,
    "hidePrompt": false
   },
   "outputs": [],
   "source": [
    "dat_g = dat.groupby(by = ['article_number', 'consumer_order_date']) # data grouped\n",
    "\n",
    "dat_aggs = pd.DataFrame(dat_g.agg('sum')['gross_demand_quantity']) # data aggregates"
   ]
  },
  {
   "cell_type": "code",
   "execution_count": null,
   "metadata": {
    "hideCode": false,
    "hidePrompt": false
   },
   "outputs": [],
   "source": [
    "dat_aggs.reset_index(level = 'article_number', inplace=True)\n",
    "\n",
    "dat_aggs = dat_aggs.groupby('article_number')\n",
    "dat_aggs = dat_aggs.resample('W').sum() # 'aggregate' to weekly sums by article\n",
    "\n",
    "dat_aggs = dat_aggs.reset_index()\n",
    "\n",
    "# Convert article_number to column, gross_demand_quantity to data\n",
    "dat_aggs_pivoted = dat_aggs.pivot(index = 'consumer_order_date', \n",
    "                                  columns = 'article_number', \n",
    "                                  values = 'gross_demand_quantity')"
   ]
  },
  {
   "cell_type": "code",
   "execution_count": null,
   "metadata": {
    "hideCode": false,
    "hidePrompt": false
   },
   "outputs": [],
   "source": [
    "# dat.fillna(value=0, inplace = True) # Define single transaction article std to be 0\n",
    "plt.rcParams[\"figure.figsize\"] = [18,6]\n",
    "\n",
    "dat_aggs_pivoted[dat_aggs_pivoted.columns[0:20]].plot()\n"
   ]
  },
  {
   "cell_type": "code",
   "execution_count": null,
   "metadata": {
    "hideCode": false,
    "hidePrompt": false
   },
   "outputs": [],
   "source": [
    "# S21490 (arbitrarily) for learning time series EDA\n",
    "\n",
    "datS21 = (dat_aggs[dat_aggs['article_number'] == 'S21490'].\n",
    "          set_index('consumer_order_date').\n",
    "          drop('article_number', axis = 1)\n",
    "         )\n",
    "\n",
    "weekly = datS21.resample('W').sum() # 'aggregate' to weekly sums\n",
    "\n",
    "weekly.head()\n",
    "weekly.plot()"
   ]
  },
  {
   "cell_type": "markdown",
   "metadata": {},
   "source": [
    "### 5.4.2"
   ]
  },
  {
   "cell_type": "code",
   "execution_count": null,
   "metadata": {},
   "outputs": [],
   "source": [
    "dat[dat['season'] == 'FW18']['net_qty'].describe()\n"
   ]
  },
  {
   "cell_type": "code",
   "execution_count": null,
   "metadata": {},
   "outputs": [],
   "source": [
    "FW18 = dat[dat['season'] == 'FW18']['net_qty']\n",
    "bins = [0, 10, 20, 50, 100, 200, 500, 1000, 2000, 5000, 10000, 160000]\n",
    "pd.value_counts(pd.cut(FW18, bins))"
   ]
  },
  {
   "cell_type": "code",
   "execution_count": null,
   "metadata": {},
   "outputs": [],
   "source": []
  }
 ],
 "metadata": {
  "celltoolbar": "Hide code",
  "hide_code_all_hidden": false,
  "kernelspec": {
   "display_name": "Python 3",
   "language": "python",
   "name": "python3"
  },
  "language_info": {
   "codemirror_mode": {
    "name": "ipython",
    "version": 3
   },
   "file_extension": ".py",
   "mimetype": "text/x-python",
   "name": "python",
   "nbconvert_exporter": "python",
   "pygments_lexer": "ipython3",
   "version": "3.7.1"
  }
 },
 "nbformat": 4,
 "nbformat_minor": 2
}
