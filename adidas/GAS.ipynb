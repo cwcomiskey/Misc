{
 "cells": [
  {
   "cell_type": "markdown",
   "metadata": {
    "hideCode": false,
    "hidePrompt": false
   },
   "source": [
    "# Modules, functions"
   ]
  },
  {
   "cell_type": "code",
   "execution_count": 7,
   "metadata": {
    "ExecuteTime": {
     "end_time": "2020-01-24T09:02:32.073917Z",
     "start_time": "2020-01-24T09:02:32.071113Z"
    },
    "code_folding": [],
    "hideCode": true,
    "hidePrompt": false,
    "scrolled": false
   },
   "outputs": [],
   "source": [
    "# Modules, functions -- \n",
    "\n",
    "import numpy as np\n",
    "import pandas as pd\n",
    "\n",
    "# from IPython.core.display import display, HTML\n",
    "# display(HTML(\"<style>.container { width:100% !important; }</style>\"))\n",
    "\n",
    "from IPython.core.interactiveshell import InteractiveShell\n",
    "InteractiveShell.ast_node_interactivity = \"all\"\n",
    "\n",
    "import functions as fcns # custom functions Artem/Chris wrote"
   ]
  },
  {
   "cell_type": "code",
   "execution_count": 2,
   "metadata": {
    "ExecuteTime": {
     "end_time": "2020-01-24T08:58:32.381625Z",
     "start_time": "2020-01-24T08:58:30.343671Z"
    }
   },
   "outputs": [],
   "source": [
    "run_data = pd.read_csv('data/run_data.csv')\n",
    "\n",
    "articles_of_interest = np.load('data/articles_of_interest.npy', allow_pickle=True).tolist()\n",
    "file_names = np.load('data/file_names.npy', allow_pickle=True).tolist()\n"
   ]
  },
  {
   "cell_type": "code",
   "execution_count": 3,
   "metadata": {
    "ExecuteTime": {
     "end_time": "2020-01-24T08:58:35.285854Z",
     "start_time": "2020-01-24T08:58:34.992696Z"
    },
    "hideCode": false,
    "hidePrompt": false,
    "scrolled": true
   },
   "outputs": [],
   "source": [
    "dat_GAS = run_data.copy()[['article_number', 'year', 'week', 'country', 'season', 'net_qty', 'buy_availability', 'brand']] \n",
    "dat_GAS = dat_GAS[dat_GAS.article_number.isin(articles_of_interest) & (dat_GAS.season.isin([file_names[5]]))].sort_values(['article_number', 'brand', 'country', 'year', 'week'])\n"
   ]
  },
  {
   "cell_type": "code",
   "execution_count": 4,
   "metadata": {
    "ExecuteTime": {
     "end_time": "2020-01-24T08:59:02.557672Z",
     "start_time": "2020-01-24T08:58:35.646618Z"
    },
    "hideCode": false,
    "hidePrompt": false,
    "scrolled": true
   },
   "outputs": [],
   "source": [
    "dat_GAS = dat_GAS.groupby(['article_number', 'brand', 'country']).apply(fcns.GAS_est).reset_index() \n",
    "dat_GAS = pd.DataFrame(dat_GAS.groupby(['article_number', 'year', 'week'])['GAS_est'].sum()).reset_index()\n"
   ]
  },
  {
   "cell_type": "code",
   "execution_count": 5,
   "metadata": {
    "ExecuteTime": {
     "end_time": "2020-01-24T08:59:03.054114Z",
     "start_time": "2020-01-24T08:59:02.559110Z"
    }
   },
   "outputs": [],
   "source": [
    "dat_GAS.to_excel(file_names[0], index=False)\n"
   ]
  },
  {
   "cell_type": "code",
   "execution_count": 8,
   "metadata": {
    "ExecuteTime": {
     "end_time": "2020-01-24T09:02:34.276966Z",
     "start_time": "2020-01-24T09:02:34.266533Z"
    }
   },
   "outputs": [
    {
     "data": {
      "text/plain": [
       "347"
      ]
     },
     "execution_count": 8,
     "metadata": {},
     "output_type": "execute_result"
    },
    {
     "data": {
      "text/html": [
       "<div>\n",
       "<style scoped>\n",
       "    .dataframe tbody tr th:only-of-type {\n",
       "        vertical-align: middle;\n",
       "    }\n",
       "\n",
       "    .dataframe tbody tr th {\n",
       "        vertical-align: top;\n",
       "    }\n",
       "\n",
       "    .dataframe thead th {\n",
       "        text-align: right;\n",
       "    }\n",
       "</style>\n",
       "<table border=\"1\" class=\"dataframe\">\n",
       "  <thead>\n",
       "    <tr style=\"text-align: right;\">\n",
       "      <th></th>\n",
       "      <th>article_number</th>\n",
       "      <th>year</th>\n",
       "      <th>week</th>\n",
       "      <th>GAS_est</th>\n",
       "    </tr>\n",
       "  </thead>\n",
       "  <tbody>\n",
       "    <tr>\n",
       "      <th>0</th>\n",
       "      <td>019332</td>\n",
       "      <td>2019</td>\n",
       "      <td>52</td>\n",
       "      <td>57.800000</td>\n",
       "    </tr>\n",
       "    <tr>\n",
       "      <th>1</th>\n",
       "      <td>019332</td>\n",
       "      <td>2020</td>\n",
       "      <td>1</td>\n",
       "      <td>80.558400</td>\n",
       "    </tr>\n",
       "    <tr>\n",
       "      <th>2</th>\n",
       "      <td>019332</td>\n",
       "      <td>2020</td>\n",
       "      <td>2</td>\n",
       "      <td>87.191782</td>\n",
       "    </tr>\n",
       "    <tr>\n",
       "      <th>3</th>\n",
       "      <td>019332</td>\n",
       "      <td>2020</td>\n",
       "      <td>3</td>\n",
       "      <td>66.859428</td>\n",
       "    </tr>\n",
       "    <tr>\n",
       "      <th>4</th>\n",
       "      <td>019332</td>\n",
       "      <td>2020</td>\n",
       "      <td>4</td>\n",
       "      <td>68.686015</td>\n",
       "    </tr>\n",
       "  </tbody>\n",
       "</table>\n",
       "</div>"
      ],
      "text/plain": [
       "  article_number  year  week    GAS_est\n",
       "0         019332  2019    52  57.800000\n",
       "1         019332  2020     1  80.558400\n",
       "2         019332  2020     2  87.191782\n",
       "3         019332  2020     3  66.859428\n",
       "4         019332  2020     4  68.686015"
      ]
     },
     "execution_count": 8,
     "metadata": {},
     "output_type": "execute_result"
    }
   ],
   "source": [
    "dat_GAS.article_number.unique().size\n",
    "dat_GAS.head()"
   ]
  },
  {
   "cell_type": "code",
   "execution_count": null,
   "metadata": {},
   "outputs": [],
   "source": []
  }
 ],
 "metadata": {
  "celltoolbar": "Hide code",
  "hide_code_all_hidden": false,
  "kernelspec": {
   "display_name": "Python 3",
   "language": "python",
   "name": "python3"
  },
  "language_info": {
   "codemirror_mode": {
    "name": "ipython",
    "version": 3
   },
   "file_extension": ".py",
   "mimetype": "text/x-python",
   "name": "python",
   "nbconvert_exporter": "python",
   "pygments_lexer": "ipython3",
   "version": "3.7.5"
  }
 },
 "nbformat": 4,
 "nbformat_minor": 2
}
