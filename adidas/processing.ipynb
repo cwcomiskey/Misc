{
 "cells": [
  {
   "cell_type": "code",
   "execution_count": null,
   "metadata": {
    "code_folding": [],
    "hideCode": true,
    "hidePrompt": false,
    "scrolled": false
   },
   "outputs": [],
   "source": [
    "# Modules, functions -- \n",
    "import numpy as np\n",
    "import pandas as pd\n",
    "from pandas import DataFrame, Series\n",
    "\n",
    "import functions as fcns # custom functions Artem/Chris wrote\n",
    "\n",
    "\n",
    "pd.set_option('max_columns', 500)\n",
    "pd.set_option('max_rows', 1700)"
   ]
  },
  {
   "cell_type": "code",
   "execution_count": null,
   "metadata": {},
   "outputs": [],
   "source": [
    "file_names = np.load('data/file_names.npy', allow_pickle=True).tolist()\n",
    "articles_of_interest = np.load('data/articles_of_interest.npy', allow_pickle=True).tolist()\n",
    "\n",
    "\n",
    "GAS_corrected_net_qty = file_names[0]\n",
    "seasonality_based_forecasts = file_names[1]\n",
    "\n",
    "preds = pd.read_excel(seasonality_based_forecasts) \n",
    "dat_GAS = pd.read_excel(GAS_corrected_net_qty) \n"
   ]
  },
  {
   "cell_type": "code",
   "execution_count": null,
   "metadata": {},
   "outputs": [],
   "source": [
    "# Combine weekly (1) seasonality predictions and (2) GAS corrections\n",
    "preds = pd.merge(preds, dat_GAS.round(), how = 'left', on =['article_number', 'year', 'week'])\n",
    "\n",
    "# Weekly forecast decision rules\n",
    "preds['y_hat'] = np.where(np.isnan(preds.GAS_est), preds.seas_preds, (preds.GAS_est + preds.seas_preds)/2) # Evgeniy step\n",
    "preds['y_hat'] = np.where((~np.isnan(preds.net_qty)) & (preds.y_hat < preds.net_qty), preds.net_qty, preds.y_hat) # Risk management step (judgment call)\n"
   ]
  },
  {
   "cell_type": "code",
   "execution_count": null,
   "metadata": {},
   "outputs": [],
   "source": [
    "preds_season = pd.DataFrame(preds.groupby('article_number')['y_hat', 'net_qty'].apply(sum).round()) # Sum over season"
   ]
  },
  {
   "cell_type": "code",
   "execution_count": null,
   "metadata": {},
   "outputs": [],
   "source": [
    "growth_rate = 1.10\n",
    "preds_season['y_hat'] = preds_season.y_hat * growth_rate # default growth rate"
   ]
  },
  {
   "cell_type": "code",
   "execution_count": null,
   "metadata": {},
   "outputs": [],
   "source": [
    "# # Combine DAA + eCom forecasts -- \n",
    "# ecom = pd.read_excel('data/ecom.xlsx')\n",
    "# preds_season = pd.merge(preds_season, ecom, how = 'left', on = 'article_number').round()\n",
    "# articles_of_interest = np.load('articles_of_interest.npy', allow_pickle=True).tolist()\n"
   ]
  },
  {
   "cell_type": "code",
   "execution_count": null,
   "metadata": {},
   "outputs": [],
   "source": [
    "cost_margin = pd.read_csv('data/run_data.csv', usecols=['article_number', 'price', 'cost', 'margin']).drop_duplicates()\n",
    "\n",
    "cost_margin = cost_margin[cost_margin.article_number.isin(articles_of_interest)]\n",
    "\n",
    "cost_margin = (pd.DataFrame(cost_margin.groupby('article_number')['price', 'cost', 'margin'].mean().round(2)).dropna()) # All but one NA is season_net_qty < 10\n"
   ]
  },
  {
   "cell_type": "code",
   "execution_count": null,
   "metadata": {},
   "outputs": [],
   "source": [
    "preds_season = pd.merge(preds_season, cost_margin, how = 'left', on = 'article_number')"
   ]
  },
  {
   "cell_type": "code",
   "execution_count": null,
   "metadata": {},
   "outputs": [],
   "source": [
    "\n",
    "preds_season_w_price_cost_margin = file_names[2]\n",
    "\n",
    "# w/ price, cost, margin for optimal overbuy\n",
    "preds_season.to_excel(preds_season_w_price_cost_margin, index = True) "
   ]
  }
 ],
 "metadata": {
  "celltoolbar": "Hide code",
  "hide_code_all_hidden": false,
  "kernelspec": {
   "display_name": "Python 3",
   "language": "python",
   "name": "python3"
  },
  "language_info": {
   "codemirror_mode": {
    "name": "ipython",
    "version": 3
   },
   "file_extension": ".py",
   "mimetype": "text/x-python",
   "name": "python",
   "nbconvert_exporter": "python",
   "pygments_lexer": "ipython3",
   "version": "3.7.5"
  }
 },
 "nbformat": 4,
 "nbformat_minor": 2
}
