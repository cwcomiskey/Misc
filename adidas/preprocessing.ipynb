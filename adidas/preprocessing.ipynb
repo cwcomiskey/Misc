{
 "cells": [
  {
   "cell_type": "markdown",
   "metadata": {
    "code_folding": [],
    "hideCode": true,
    "hidePrompt": false,
    "scrolled": false
   },
   "source": [
    "# Modules "
   ]
  },
  {
   "cell_type": "code",
   "execution_count": 1,
   "metadata": {
    "ExecuteTime": {
     "end_time": "2020-01-24T08:57:45.874026Z",
     "start_time": "2020-01-24T08:57:45.248425Z"
    },
    "code_folding": [],
    "hideCode": true,
    "hidePrompt": false,
    "scrolled": false
   },
   "outputs": [],
   "source": [
    "import numpy as np\n",
    "import pandas as pd\n",
    "\n",
    "pd.set_option('max_columns', 500)\n",
    "pd.set_option('max_rows', 1700)\n",
    "\n",
    "from IPython.core.interactiveshell import InteractiveShell\n",
    "InteractiveShell.ast_node_interactivity = \"all\"\n",
    "\n",
    "# from IPython.core.display import display, HTML\n",
    "# display(HTML(\"<style>.container { width:100% !important; }</style>\"))\n",
    "\n",
    "from datetime import date"
   ]
  },
  {
   "cell_type": "markdown",
   "metadata": {},
   "source": [
    "# Data"
   ]
  },
  {
   "cell_type": "code",
   "execution_count": 6,
   "metadata": {
    "ExecuteTime": {
     "end_time": "2020-01-24T09:07:14.869554Z",
     "start_time": "2020-01-24T09:07:14.865673Z"
    },
    "code_folding": []
   },
   "outputs": [],
   "source": [
    "SSYY = 'SS20' # Season zero\n",
    "\n",
    "remove_clearance = False"
   ]
  },
  {
   "cell_type": "code",
   "execution_count": 7,
   "metadata": {
    "ExecuteTime": {
     "end_time": "2020-01-24T09:07:15.726375Z",
     "start_time": "2020-01-24T09:07:15.720147Z"
    },
    "code_folding": []
   },
   "outputs": [],
   "source": [
    "d = str(date.today())\n",
    "deliverable = 'data/FW20_forecasts_' + d + '.xlsx'\n",
    "deliverable_cl = 'data/FW20_forecasts_' + d + 'incl_cl.xlsx'\n",
    "\n",
    "seasons = ['SS17', 'SS18', 'SS19', 'SS20'] # ADD THIS TO file_names TO AVOID MANUAL\n",
    "\n",
    "# --- list of file names to use ---\n",
    "if(remove_clearance):\n",
    "    file_names = ['data/dat_GAS.xlsx', 'data/preds.xlsx', 'data/preds_season_w_pcm.xlsx', \n",
    "                  'data/opt_preds_season.xlsx', deliverable, SSYY, seasons]\n",
    "elif(remove_clearance == False):\n",
    "    file_names = ['data/dat_GAS_cl.xlsx',  'data/preds_cl.xlsx', 'data/preds_season_w_pcm_cl.xlsx', \n",
    "                  'data/opt_preds_season_cl.xlsx', deliverable_cl, SSYY, seasons]\n",
    "    \n",
    "file_names = np.array(file_names)\n",
    "np.save('data/file_names', file_names)"
   ]
  },
  {
   "cell_type": "code",
   "execution_count": 8,
   "metadata": {
    "ExecuteTime": {
     "end_time": "2020-01-24T09:07:35.312099Z",
     "start_time": "2020-01-24T09:07:16.887976Z"
    }
   },
   "outputs": [
    {
     "name": "stdout",
     "output_type": "stream",
     "text": [
      "clearance_included\n"
     ]
    }
   ],
   "source": [
    "# --- data ---\n",
    "primary_file = 'data/ch4k_eu.csv'\n",
    "\n",
    "dat0 = pd.read_csv(primary_file)\n",
    "dat0 = dat0[dat0.season.isin(seasons)]\n",
    "\n",
    "# dat0 = dat0[dat0.season == 'FW19'][:10000] # subset for development\n",
    "\n",
    "# --- clearance/non-clearance --- \n",
    "if(remove_clearance):\n",
    "    dat0['clearance'] = dat0.clearance.fillna(0) \n",
    "    dat0['net_qty'] = (1 - dat0.clearance)*dat0.net_qty\n",
    "    print('clearance_removed')\n",
    "else:\n",
    "    print('clearance_included')\n",
    "    \n",
    "\n",
    "dat0.to_csv('data/run_data.csv', index=False)"
   ]
  },
  {
   "cell_type": "markdown",
   "metadata": {},
   "source": [
    "# Articles of interest"
   ]
  },
  {
   "cell_type": "code",
   "execution_count": 5,
   "metadata": {
    "ExecuteTime": {
     "end_time": "2020-01-24T08:58:23.203456Z",
     "start_time": "2020-01-24T08:58:23.091804Z"
    }
   },
   "outputs": [],
   "source": [
    "SS21 = pd.read_csv('data/SS2021_articles.csv', index_col = 0)\n",
    "articles_of_interest = dat0[dat0.article_number.isin(SS21['Article Number'])].article_number.unique()\n",
    "np.save('data/articles_of_interest', articles_of_interest)"
   ]
  },
  {
   "cell_type": "code",
   "execution_count": null,
   "metadata": {
    "code_folding": [
     0
    ]
   },
   "outputs": [],
   "source": [
    "# deprecated article wrangling --- \n",
    "\n",
    "# buyer_table = pd.read_csv('data/EU_seasons.csv', low_memory = False, error_bad_lines = False, sep = \",\").sort_values(['article_number', 'brand', 'season']) # 26 Aug\n",
    "# buyer_table = buyer_table[(buyer_table.season == file_names[5])]\n",
    "\n",
    "\n",
    "# ## adidas  \n",
    "\n",
    "# adi = pd.read_excel('data/RMA-02_ Market Range Plan_24102019.xlsx', sheet_name='BSO', skiprows=2).drop('x', axis = 1) # adidas RMA2 -- 21 October\n",
    "# adi = adi[['Article Number', 'WE eCom 26.11.2019', 'Market Retail Price']]\n",
    "# adi = adi[adi['WE eCom 26.11.2019'] != 0]\n",
    "\n",
    "# ## rbk  \n",
    "\n",
    "# rbk = pd.read_excel('data/eCom Range Download_Reebok_FW20.xlsx') \n",
    "# rbk = rbk[['Article Number', 'RBK WE eCom', 'Hub Retail Price']]\n",
    "\n",
    "# clssc_rbk = pd.read_csv('data/reebok_classics.csv').article_number # additional forecastables\n",
    "\n",
    "# ## stealths\n",
    "\n",
    "# stealth = pd.read_csv('data/stealth_carryovers_FW2020.csv', low_memory = False, error_bad_lines = False, sep = \";\")\n",
    "# # stealth2 = pd.read_csv('data/stealth_carryovers_eu_RMA2.csv').rename(columns = {'article1': 'article', 'article2': 'stealth_article'})\n",
    "# # stealth3 = pd.concat([stealth, stealth2])\n",
    "\n",
    "# # FW19_range = buyer_table.article_number.unique()\n",
    "# FW20_range = set(adi['Article Number']).union(set(rbk['Article Number']))\n",
    "# stealths = stealth[stealth.article.isin(FW20_range)].stealth_article # New forecasts: IN FW20 --- NOT IN FW19\n",
    "\n",
    "# rbk_1920 = pd.read_excel('data/rbk_1920.xlsx').article_number_FW19.unique() # model-based stealths \n",
    "\n",
    "# ## Combine all and save\n",
    "\n",
    "# articles_of_interest = (\n",
    "#         set(buyer_table.article_number).intersection(set(adi['Article Number'])). # FW19 intersect adi FW20 range\n",
    "#     union( \n",
    "#         set(buyer_table.article_number).intersection(set(rbk['Article Number']))). # FW19 intersect rbk RW20 range\n",
    "#     union(clssc_rbk).\n",
    "#     union(stealths).\n",
    "#     union(rbk_1920)\n",
    "# )\n",
    "\n",
    "# # print('Forecastables: ', len(articles_of_interest))\n",
    "# # print()\n",
    "\n",
    "# # print('adi carryovers: ', len(set(buyer_table.article_number).intersection(set(adi['Article Number']))))\n",
    "# # print('rbk carryovers: ', len(set(buyer_table.article_number).intersection(set(rbk['Article Number']))))\n",
    "# # print('clssc_rbk', len(set(clssc_rbk)))\n",
    "\n",
    "# articles_of_interest = np.array(articles_of_interest)\n",
    "# np.save('articles_of_interest', articles_of_interest)"
   ]
  },
  {
   "cell_type": "code",
   "execution_count": null,
   "metadata": {
    "code_folding": [
     0
    ]
   },
   "outputs": [],
   "source": [
    "# deprecated eCom forecasts --- \n",
    "\n",
    "# rbk = rbk.rename(columns = {'RBK WE eCom': 'WE eCom'})\n",
    "# adi = adi.rename(columns = {'WE eCom 26.11.2019': 'WE eCom'})\n",
    "\n",
    "# ecom = (pd.concat([adi[['Article Number', 'WE eCom']], rbk[['Article Number', 'WE eCom']]]).\n",
    "#         rename(columns = {'Article Number': 'article_number', 'WE eCom': 'ecom_fc'})\n",
    "#        )\n",
    "\n",
    "# ecom.to_excel('data/ecom.xlsx', index=False)"
   ]
  }
 ],
 "metadata": {
  "celltoolbar": "Hide code",
  "hide_code_all_hidden": false,
  "kernelspec": {
   "display_name": "Python 3",
   "language": "python",
   "name": "python3"
  },
  "language_info": {
   "codemirror_mode": {
    "name": "ipython",
    "version": 3
   },
   "file_extension": ".py",
   "mimetype": "text/x-python",
   "name": "python",
   "nbconvert_exporter": "python",
   "pygments_lexer": "ipython3",
   "version": "3.7.5"
  }
 },
 "nbformat": 4,
 "nbformat_minor": 2
}
