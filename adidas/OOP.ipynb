{
 "cells": [
  {
   "cell_type": "code",
   "execution_count": null,
   "metadata": {
    "code_folding": []
   },
   "outputs": [],
   "source": [
    "import math\n",
    "\n",
    "# class Point:\n",
    "#     'Represents a point in two-dimensional geometric coordinates'\n",
    "        \n",
    "#     def __init__(self, x=0, y=0):\n",
    "#         '''Initialize the position of a new point. The x and y\n",
    "#            coordinates can be specified. If they are not, the point\n",
    "#            defaults to the origin.'''\n",
    "#         self.move(x, y)\n",
    "        \n",
    "#     def move(self, x, y):\n",
    "#         \"Move the point to a new location in two-dimensional space.\"\n",
    "#         self.x = x\n",
    "#         self.y = y\n",
    "\n",
    "#     def reset(self):\n",
    "#         'Reset the point back to the geometric origin: 0, 0'\n",
    "#         self.move(0, 0)\n",
    "        \n",
    "#     def calculate_distance(self, other_point):\n",
    "#         \"\"\"Calculate the distance from this point to a second point\n",
    "#         passed as a parameter.\n",
    "#         This function uses the Pythagorean Theorem to calculate\n",
    "#         the distance between the two points. The distance is returned\n",
    "#         as a float.\"\"\"\n",
    "#         return math.sqrt((self.x - other_point.x)**2 + (self.y – other_point.y)**2)\n",
    "        \n",
    "        "
   ]
  },
  {
   "cell_type": "code",
   "execution_count": 2,
   "metadata": {
    "ExecuteTime": {
     "end_time": "2019-12-12T11:37:29.419314Z",
     "start_time": "2019-12-12T11:37:29.408718Z"
    }
   },
   "outputs": [
    {
     "data": {
      "text/plain": [
       "3"
      ]
     },
     "execution_count": 2,
     "metadata": {},
     "output_type": "execute_result"
    }
   ],
   "source": [
    "import oop as oop\n",
    "\n",
    "a = oop.Point(3, 4)\n",
    "\n",
    "a.x"
   ]
  }
 ],
 "metadata": {
  "kernelspec": {
   "display_name": "Python 3",
   "language": "python",
   "name": "python3"
  },
  "language_info": {
   "codemirror_mode": {
    "name": "ipython",
    "version": 3
   },
   "file_extension": ".py",
   "mimetype": "text/x-python",
   "name": "python",
   "nbconvert_exporter": "python",
   "pygments_lexer": "ipython3",
   "version": "3.7.5"
  }
 },
 "nbformat": 4,
 "nbformat_minor": 2
}
