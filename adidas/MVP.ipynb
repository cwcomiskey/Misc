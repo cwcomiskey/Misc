{
 "cells": [
  {
   "cell_type": "code",
   "execution_count": null,
   "metadata": {
    "hideCode": false,
    "hidePrompt": false,
    "scrolled": true
   },
   "outputs": [],
   "source": [
    "import numpy as np\n",
    "import pandas as pd\n",
    "import multiprocessing\n",
    "\n",
    "import matplotlib.pyplot as plt\n",
    "import bokeh\n",
    "import bokeh.io\n",
    "from bokeh.plotting import figure\n",
    "from bokeh.io import output_notebook, show\n",
    "\n",
    "import seaborn as sns\n",
    "\n",
    "import re\n",
    "import math\n",
    "import copy\n",
    "\n",
    "from collections import defaultdict\n",
    "import csv\n",
    "import itertools\n",
    "import datetime \n",
    "from datetime import datetime\n",
    "import time\n",
    "import dateutil.parser\n",
    "import pickle\n",
    "import random\n",
    "\n",
    "import gc\n",
    "import zipfile\n",
    "import sys, getopt\n",
    "import os\n",
    "\n",
    "from IPython.core.interactiveshell import InteractiveShell\n",
    "from io import StringIO\n",
    "\n",
    "import dask.dataframe as dd\n",
    "\n",
    "InteractiveShell.ast_node_interactivity = \"all\"\n",
    "\n",
    "%matplotlib inline\n",
    "%config InlineBackend.figure_formats = {'png', 'retina'}\n",
    "\n",
    "# Set up Bokeh for inline viewing\n",
    "bokeh.io.output_notebook()\n",
    "\n",
    "import dask.dataframe as ddf\n",
    "import dask.array as da\n",
    "\n",
    "pd.set_option('max_columns', 500)\n",
    "pd.set_option('max_rows', 800)\n",
    "\n",
    "import scipy\n"
   ]
  },
  {
   "cell_type": "code",
   "execution_count": null,
   "metadata": {
    "hideCode": false,
    "hidePrompt": false,
    "scrolled": true
   },
   "outputs": [],
   "source": [
    "def initialize_parameters(par = np.array([0.5, 0.9, 0, 1, 0])):\n",
    "    # np.random.seed(3)\n",
    "    parameters = {}\n",
    "\n",
    "    parameters['alpha'] = par[0]\n",
    "    parameters['beta'] = par[1]\n",
    "    parameters['omega'] = par[2]* (1-par[1])    # one way to choose that is omega/(1-beta) = unconditional mean \n",
    "    parameters['sigma'] = par[3]\n",
    "    parameters['f0'] = par[4]                   # one way to choose is unconditional mean \n",
    "\n",
    "    return parameters\n",
    "\n",
    "def loglik(y, f, x, sigma):\n",
    "    ll = -1/2*np.log(2*np.pi ) - 1/2*np.log(sigma) - 1/(2*sigma)*(y - x*f)**2 \n",
    "    return ll\n",
    "\n",
    "\n",
    "def score_compute(y, f, x, parameters, epsilon = 1e-7 ):\n",
    "    alpha = parameters[\"alpha\"]\n",
    "    beta = parameters[\"beta\"]\n",
    "    omega = parameters['omega']\n",
    "    sigma = parameters[\"sigma\"]\n",
    "    f0 = parameters[\"f0\"]\n",
    "    \n",
    "    score = (y - x*f)/sigma\n",
    "    # score = (y - x*f)\n",
    "    \n",
    "    return score\n",
    "\n",
    "def filterGAS(y, x, parameters):\n",
    "    \n",
    "    alpha = parameters[\"alpha\"]\n",
    "    beta = parameters[\"beta\"]\n",
    "    omega = parameters['omega']\n",
    "    sigma = parameters[\"sigma\"]\n",
    "    f0 = parameters[\"f0\"]\n",
    "    score0 = score_compute(y[0,:],  f0, x[0,:], parameters, epsilon = 1e-7) \n",
    "    f = np.zeros((len(y),1))\n",
    "    \n",
    "    f[0,:] = f0\n",
    "    for t in range(1,len(y)):\n",
    "        scoret = score_compute(y[t-1,:], f[t-1,:], x[t-1,:], parameters, epsilon = 1e-7) \n",
    "        f[t,:] = omega + alpha*scoret + beta*f[t-1,:] \n",
    "\n",
    "    return f\n",
    "\n",
    "def loglikest(par, y, x):\n",
    "    parameters = initialize_parameters(par)\n",
    "    alpha = parameters[\"alpha\"]\n",
    "    beta = parameters[\"beta\"]\n",
    "    sigma = parameters[\"sigma\"]\n",
    "    # f0 = parameters[\"f0\"]\n",
    "    \n",
    "    f = filterGAS(y, x, parameters) \n",
    "    ll = np.zeros((len(y), 1))\n",
    "    m = len(y)\n",
    "\n",
    "    for t in range(0, len(y)):\n",
    "         ll[t,:] = loglik(y[t,:], f[t,:], x[t,:], sigma)\n",
    "    loglik_res = -(np.sum(ll))/m\n",
    "        \n",
    "#     else:\n",
    "#         loglik_res=10**9 # causing gradient problems??\n",
    "\n",
    "    return loglik_res"
   ]
  },
  {
   "cell_type": "code",
   "execution_count": null,
   "metadata": {},
   "outputs": [],
   "source": [
    "def score_compute_2(y, f, x, parameters, epsilon = 1e-7 ):\n",
    "    alpha = parameters[\"alpha\"]\n",
    "    beta = parameters[\"beta\"]\n",
    "    omega = parameters['omega']\n",
    "    sigma = parameters[\"sigma\"]\n",
    "    f0 = parameters[\"f0\"]\n",
    "    \n",
    "    score = (y - x*f) # ** The 'type = 2' modification **\n",
    "    \n",
    "    return score\n",
    "\n",
    "def filterGAS_2(y, x, parameters):\n",
    "    \n",
    "    alpha = parameters[\"alpha\"]\n",
    "    beta = parameters[\"beta\"]\n",
    "    omega = parameters['omega']\n",
    "    sigma = parameters[\"sigma\"]\n",
    "    f0 = parameters[\"f0\"]\n",
    "    score0 = score_compute_2(y[0,:],  f0, x[0,:], parameters, epsilon = 1e-7) \n",
    "    f = np.zeros((len(y),1))\n",
    "    \n",
    "    f[0,:] = f0\n",
    "    for t in range(1,len(y)):\n",
    "        scoret = score_compute_2(y[t-1,:], f[t-1,:], x[t-1,:], parameters, epsilon = 1e-7) \n",
    "        f[t,:] = omega + alpha*scoret + beta*f[t-1,:] \n",
    "\n",
    "    return f\n",
    "\n",
    "def loglikest_2(par, y, x):\n",
    "    parameters = initialize_parameters(par)\n",
    "    alpha = parameters[\"alpha\"]\n",
    "    beta = parameters[\"beta\"]\n",
    "    sigma = parameters[\"sigma\"]\n",
    "    # f0 = parameters[\"f0\"]\n",
    "    \n",
    "    f = filterGAS_2(y, x, parameters) \n",
    "    ll = np.zeros((len(y), 1))\n",
    "    m = len(y)\n",
    "\n",
    "    for t in range(0, len(y)):\n",
    "         ll[t,:] = loglik(y[t,:], f[t,:], x[t,:], sigma)\n",
    "    loglik_res = -(np.sum(ll))/m\n",
    "        \n",
    "#     else:\n",
    "#         loglik_res=10**9 # causing gradient problems??\n",
    "\n",
    "    return loglik_res"
   ]
  },
  {
   "cell_type": "code",
   "execution_count": 267,
   "metadata": {
    "hideCode": false,
    "hidePrompt": false
   },
   "outputs": [],
   "source": [
    "def GAS_est(df):\n",
    "    \n",
    "    y = df.net_qty.values          # observed demand (response)\n",
    "    x = df.buy_availability.values # buy_availability (explanatory)\n",
    "\n",
    "    y = y.reshape((len(y),1)) \n",
    "    x = x.reshape((len(y),1))\n",
    "    \n",
    "    \n",
    "    \n",
    "    ret = pd.DataFrame()\n",
    "    ret['year'] = df['year']\n",
    "    ret['week'] = df['week']\n",
    "    \n",
    "    \n",
    "    \n",
    "    abc = scipy.optimize.minimize(\n",
    "        loglikest_2,                                       # function to minimize (log likelihood y|x,theta)\n",
    "        np.array([0.8, 0.9, np.mean(y), 1, np.mean(y)]),   # initial parameter values (starting)\n",
    "        args=(y, x), \n",
    "        options ={'eps':1e-09, 'maxiter': 600, 'ftol': 1e-12},\n",
    "        method='L-BFGS-B', \n",
    "        bounds=((0,  None),             # alpha\n",
    "                (-1, 1),                # beta\n",
    "                (0.001, np.mean(y)*2),  # omega \n",
    "                (0.001, None),          # sigma\n",
    "                (0.001, np.mean(y)*2)   # f\n",
    "               )\n",
    "            )\n",
    "        \n",
    "    \n",
    "    # --- CONVERGENCE control flow ---\n",
    "    if abc.success == True:\n",
    "        x1par = initialize_parameters(abc.x) \n",
    "        f_est = filterGAS_2(y, x, x1par)\n",
    "        ret['f_est'] = f_est # pd.Series(f_est.reshape(len(y))).round(2)\n",
    "        ret['Convergence'] = [abc.success] * len(y)\n",
    "        ret['Convg type'] = ['Two'] * len(y)\n",
    "        \n",
    "    # **Modification if first algorithm fails\n",
    "    elif abc.success == False:\n",
    "        abc = scipy.optimize.minimize(\n",
    "            loglikest,                                       # function to minimize (log likelihood y|x,theta)\n",
    "            np.array([0.8, 0.9, np.mean(y), 1, np.mean(y)]), # initial parameter values (starting)\n",
    "            args=(y, x), \n",
    "            options ={'eps':1e-09, 'maxiter': 600, 'ftol': 1e-12},\n",
    "            method='L-BFGS-B', \n",
    "            bounds=((0,  None),             # alpha\n",
    "                    (-1, 1),                # beta\n",
    "                    (0.001, np.mean(y)*2),  # omega \n",
    "                    (0.001, None),          # sigma\n",
    "                    (0.001, np.mean(y)*2)   # f\n",
    "                   )\n",
    "        )\n",
    "        x1par = initialize_parameters(abc.x) \n",
    "        f_est = filterGAS(y, x, x1par)\n",
    "        ret['f_est'] = f_est # pd.Series(f_est.reshape(len(y))).round(2)\n",
    "        ret['Convergence'] = [abc.success] * len(y)\n",
    "        ret['Convg type'] = ['One'] * len(y)\n",
    "\n",
    "    return ret"
   ]
  },
  {
   "cell_type": "markdown",
   "metadata": {
    "hideCode": false,
    "hidePrompt": false
   },
   "source": [
    "# Apply GAS models"
   ]
  },
  {
   "cell_type": "code",
   "execution_count": null,
   "metadata": {
    "hideCode": false,
    "hidePrompt": false,
    "scrolled": true
   },
   "outputs": [],
   "source": [
    "dat0 = pd.read_csv('ch4k_df_eu.csv', low_memory = False, index_col = 0)"
   ]
  },
  {
   "cell_type": "code",
   "execution_count": 268,
   "metadata": {},
   "outputs": [],
   "source": [
    "dat = dat0.copy()\n",
    "dat.reset_index(inplace = True)\n",
    "dat = dat[(dat.season == 'SS19') & (dat.country == 'EU') & (dat.season_net_qty > 1000)]\n",
    "\n",
    "dat.sort_values(['article_number', 'year', 'week'], inplace = True)\n",
    "\n",
    "dat.set_index(['article_number'], inplace = True)\n"
   ]
  },
  {
   "cell_type": "code",
   "execution_count": 269,
   "metadata": {
    "hideCode": false,
    "hidePrompt": false
   },
   "outputs": [
    {
     "data": {
      "text/plain": [
       "1583"
      ]
     },
     "execution_count": 269,
     "metadata": {},
     "output_type": "execute_result"
    }
   ],
   "source": [
    "# dat.shape 39525 rows\n",
    "dat.dropna(inplace=True)\n",
    "# dat.shape 37516 rows\n",
    "\n",
    "len(dat.index.unique()) # articles: from 1627 to 1583"
   ]
  },
  {
   "cell_type": "code",
   "execution_count": null,
   "metadata": {
    "hideCode": false,
    "hidePrompt": false
   },
   "outputs": [],
   "source": [
    "%%time\n",
    "\n",
    "# size = 100: 35 s\n",
    "# size = 500: 1min 21s\n",
    "# size = 1000: 2min 31s\n",
    "# size = 1627: 4min 13s\n",
    "# size = 1583, 600 max iterations -- 8min 25s\n",
    "\n",
    "#    --- SUBSET ---\n",
    "# a = np.random.choice(dat.index.unique(), size = , replace = False)\n",
    "# dat_samp = dat.loc[a ,:].copy()\n",
    "# dat_samp.reset_index(inplace = True)\n",
    "# ests = dat_samp.groupby('article_number').apply(GAS_est)\n",
    "#    ---- ---- ----\n",
    "\n",
    "f_ests = dat.groupby('article_number').apply(GAS_est)"
   ]
  },
  {
   "cell_type": "code",
   "execution_count": null,
   "metadata": {},
   "outputs": [],
   "source": [
    "f_ests.index.shape\n",
    "t = f_ests.index.droplevel()\n",
    "f_ests = f_ests.set_index(t).reset_index()\n",
    "\n",
    "f_ests.head()\n",
    "f_ests.groupby(['Convergence', 'Convg type'])['article_number'].describe()"
   ]
  },
  {
   "cell_type": "code",
   "execution_count": null,
   "metadata": {},
   "outputs": [],
   "source": [
    "dat2 = pd.merge(dat.reset_index(), f_ests, \n",
    "                left_on = ['article_number', 'year', 'week'], \n",
    "                right_on = ['article_number', 'year', 'week'])\n",
    "\n",
    "dat2.shape\n",
    "dat2.head()\n",
    "\n",
    "# NCs = dat2[dat2.Convergence == False]\n",
    "# NCs.shape\n",
    "# len(NCs.article_number.unique())\n",
    "# NCs.head()\n",
    "\n",
    "dat2[dat2['Convg type'] == 'Two'].article_number.unique()"
   ]
  },
  {
   "cell_type": "code",
   "execution_count": null,
   "metadata": {
    "hideCode": false,
    "hidePrompt": false,
    "scrolled": false
   },
   "outputs": [],
   "source": [
    "# eg = np.random.choice(dat2.article_number.unique(), size = 1)\n",
    "# eg[0]\n",
    "\n",
    "eg = np.random.choice(dat2[dat2['Convg type'] == 'Two'].article_number.unique(), size = 1)\n",
    "eg[0]\n",
    "\n",
    "eg_plot = dat2[dat2.article_number == eg[0]]\n",
    "\n",
    "eg_plot.shape\n",
    "print('Estimated actual:', round(np.sum(eg_plot.f_est))) # estimated total actual demand\n",
    "print('Observed:', np.sum(eg_plot.net_qty)) # total observed demand\n",
    "\n",
    "# eg_plot.head()\n",
    "\n",
    "# --- plots ---\n",
    "pd.DataFrame(data = eg_plot[['net_qty', 'f_est']]).plot(linewidth = 4) # plot against week instead\n",
    "plt.title('Observed & Estimated Gross Demand Quantity')\n",
    "\n",
    "pd.DataFrame(eg_plot.buy_availability).plot(linewidth = 4)\n",
    "plt.ylim(0, 1.05)\n",
    "plt.title('Buy Availability')\n",
    "plt.ylabel('Real Data')\n"
   ]
  },
  {
   "cell_type": "markdown",
   "metadata": {},
   "source": [
    "## non-convergence EDA"
   ]
  },
  {
   "cell_type": "code",
   "execution_count": null,
   "metadata": {},
   "outputs": [],
   "source": [
    "dat_nc = dat2[dat2.article_number == 'B44882']\n",
    "\n",
    "y = dat_nc.net_qty.values # observed demand -- basically the response variable\n",
    "x = dat_nc.buy_availability.values # basically the explanatory variable\n",
    "\n",
    "y = y.reshape((len(y),1)) \n",
    "x = x.reshape((len(y),1))\n",
    "\n",
    "abc = scipy.optimize.minimize(\n",
    "    loglikest, # function to minimize (log likelihood y|x,theta)\n",
    "    np.array([0.8, 0.9, np.mean(y), 1, np.mean(y)]), # initial parameter values (starting)\n",
    "    args=(y, x), \n",
    "    options ={'eps':1e-09, 'maxiter': 2000, 'ftol': 1e-12},\n",
    "    method='L-BFGS-B', \n",
    "    bounds=((0,  None),             # alpha\n",
    "            (-1, 1),                # beta\n",
    "            (0.001, np.mean(y)*2),  # omega \n",
    "            (0.001, None),          # sigma\n",
    "            (0.001, np.mean(y)*2)   # f\n",
    "           )\n",
    ")\n",
    "\n",
    "abc"
   ]
  },
  {
   "cell_type": "code",
   "execution_count": null,
   "metadata": {
    "hideCode": false,
    "hidePrompt": false,
    "scrolled": true
   },
   "outputs": [],
   "source": [
    "# ------------------------- Appendix --------------------------- "
   ]
  },
  {
   "cell_type": "code",
   "execution_count": null,
   "metadata": {
    "hideCode": false,
    "hidePrompt": false
   },
   "outputs": [],
   "source": [
    "# def test(a, b):\n",
    "#     ret = pd.DataFrame()\n",
    "#     ret[\"A\"] = [1, 2, 3]\n",
    "#     ret['B'] = [b] * 3\n",
    "#     return ret\n",
    "\n",
    "# test(5, 9)"
   ]
  },
  {
   "cell_type": "code",
   "execution_count": null,
   "metadata": {
    "hideCode": false,
    "hidePrompt": false
   },
   "outputs": [],
   "source": [
    "# a = np.random.choice(dat.index.unique(), size = 1, replace = False)\n",
    "# print('Article:', a[0])\n",
    "\n",
    "# dat_a = dat[(dat.index == a[0])].copy()\n",
    "\n",
    "# dat_a.sort_values(by = ['year', 'week'], inplace = True)\n",
    "\n",
    "# print()\n",
    "# print('Number of weeks:', dat_a['year'].count())\n",
    "# print()\n",
    "\n",
    "# y = dat_a.net_qty.values # observed demand -- basically the response variable\n",
    "# x = dat_a.buy_availability.values # basically the explanatory variable\n",
    "\n",
    "# y = y.reshape((len(y),1)) \n",
    "# x = x.reshape((len(y),1))\n",
    "\n",
    "\n",
    "# x0 = np.array([0.8, 0.9, np.mean(y), 1, np.mean(y)]) # starting value for optimisation\n",
    "#             # alpha, beta, omega, sigma, f0\n",
    "#             # See initialize_parameters for ordering\n",
    "        \n",
    "# # # function to minimize log likelihood of observed values given parameters\n",
    "# res = scipy.optimize.minimize(loglikest, \n",
    "#                               x0,        # initial parameter values (starting)\n",
    "#                               args=(y, x), \n",
    "#                                   # y1: obs demand\n",
    "#                                   # x: buy_availability\n",
    "#                               options ={'eps':1e-09, 'maxiter': 200, 'ftol': 1e-12},\n",
    "#                               method = 'L-BFGS-B', # 'TNC', , 'SLSQP'\n",
    "#                               bounds =(\n",
    "#                                   (0,  None),             # alpha\n",
    "#                                   (-1, 1),                # beta\n",
    "#                                   (0.001, np.mean(y)*2),  # omega \n",
    "#                                   (0.001, None),          # sigma\n",
    "#                                   (0.001, np.mean(y)*2)   # f0\n",
    "#                               ),\n",
    "#                              )\n",
    "# x1 = res.x.round(1) # numpy.ndarray, (5,)\n",
    "\n",
    "# print('Message:', res.message)\n",
    "# print()\n",
    "# print('Iterations:', res.nit)\n",
    "# print()\n",
    "# print('Param est conv\\'g:', res.success)\n",
    "# print()\n",
    "# print('alpha:', x1[0])\n",
    "# print('beta:', x1[1])\n",
    "# print('omega:', x1[2])\n",
    "# print('sigma:', x1[3])\n",
    "# print('f0:', x1[4])\n",
    "# print()"
   ]
  },
  {
   "cell_type": "code",
   "execution_count": null,
   "metadata": {
    "hideCode": false,
    "hidePrompt": false,
    "scrolled": false
   },
   "outputs": [],
   "source": [
    "# # Get estimated parameters and filter out the demand\n",
    "\n",
    "# x1par = initialize_parameters(res.x)\n",
    "# # x1par = initialize_parameters(x0)\n",
    "# f_est = filterGAS(y, x, x1par)\n",
    "\n",
    "# d = pd.DataFrame({'Obs_demand': y[:,0], 'Est_true_demand': f_est[:,0]})\n",
    "\n",
    "# # total real demand\n",
    "# print('Estimated true demand:', round(np.sum(f_est)))\n",
    "\n",
    "# # total observed demand\n",
    "# print('Observed demand:', np.sum(y))\n",
    "\n",
    "# # plt.rcParams[\"figure.figsize\"] = [10,5]\n",
    "\n",
    "# pd.DataFrame(data = d).plot(linewidth = 5)\n",
    "# # plt.ylim(0, 1200)\n",
    "# plt.title('Net Demand Quantity: Observed & Estimated', size = 22)\n",
    "\n",
    "# pd.DataFrame(x).plot(linewidth = 5)\n",
    "# plt.title('Buy Availability', size = 22)\n",
    "# # plt.ylabel('Real Data')\n",
    "\n",
    "# plt.xlabel('Week', size = 22)"
   ]
  },
  {
   "cell_type": "code",
   "execution_count": null,
   "metadata": {
    "hideCode": false,
    "hidePrompt": false
   },
   "outputs": [],
   "source": [
    "# dat.reset_index(inplace=True)\n",
    "\n",
    "# a = pd.DataFrame(dat.groupby('article_number')['net_qty'].sum())\n",
    "# b = dat[['article_number', 'season_net_qty']].drop_duplicates()\n",
    "# c = pd.merge(a, b, left_index=True, right_on='article_number')\n",
    "# c[np.abs(c.net_qty - c.season_net_qty) > 100]"
   ]
  },
  {
   "cell_type": "code",
   "execution_count": 265,
   "metadata": {},
   "outputs": [
    {
     "data": {
      "text/plain": [
       "6420"
      ]
     },
     "execution_count": 265,
     "metadata": {},
     "output_type": "execute_result"
    },
    {
     "data": {
      "text/plain": [
       "284343"
      ]
     },
     "execution_count": 265,
     "metadata": {},
     "output_type": "execute_result"
    },
    {
     "data": {
      "text/plain": [
       "56965"
      ]
     },
     "execution_count": 265,
     "metadata": {},
     "output_type": "execute_result"
    },
    {
     "data": {
      "text/plain": [
       "216342"
      ]
     },
     "execution_count": 265,
     "metadata": {},
     "output_type": "execute_result"
    },
    {
     "data": {
      "text/plain": [
       "279727"
      ]
     },
     "execution_count": 265,
     "metadata": {},
     "output_type": "execute_result"
    }
   ],
   "source": [
    "\n",
    "\n",
    "1804 + 4616\n",
    "58769 + 225574\n",
    "\n",
    "58769 - 1804\n",
    "220958 - 4616\n",
    "\n",
    "220958 + 58769\n",
    "\n",
    "(1804/58769)*0.07/(6420/(279727+6420))"
   ]
  }
 ],
 "metadata": {
  "celltoolbar": "Raw Cell Format",
  "hide_code_all_hidden": false,
  "kernelspec": {
   "display_name": "Python 3",
   "language": "python",
   "name": "python3"
  },
  "language_info": {
   "codemirror_mode": {
    "name": "ipython",
    "version": 3
   },
   "file_extension": ".py",
   "mimetype": "text/x-python",
   "name": "python",
   "nbconvert_exporter": "python",
   "pygments_lexer": "ipython3",
   "version": "3.7.1"
  }
 },
 "nbformat": 4,
 "nbformat_minor": 2
}
