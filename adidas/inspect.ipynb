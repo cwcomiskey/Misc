{
 "cells": [
  {
   "cell_type": "code",
   "execution_count": null,
   "metadata": {
    "code_folding": [
     0
    ],
    "hideCode": true,
    "hidePrompt": false,
    "scrolled": true
   },
   "outputs": [],
   "source": [
    "# Modules, functions -- \n",
    "\n",
    "import numpy as np\n",
    "import pandas as pd\n",
    "from pandas import DataFrame, Series\n",
    "\n",
    "# import multiprocessing\n",
    "\n",
    "import matplotlib.pyplot as plt\n",
    "# import bokeh\n",
    "# import bokeh.io\n",
    "# from bokeh.plotting import figure\n",
    "# from bokeh.io import output_notebook, show\n",
    "\n",
    "# init_notebook_mode()\n",
    "\n",
    "# import re\n",
    "# import math\n",
    "# import copy\n",
    "\n",
    "# from collections import defaultdict\n",
    "# import csv\n",
    "# import itertools\n",
    "# import datetime \n",
    "# from datetime import datetime\n",
    "# import time\n",
    "# import dateutil.parser\n",
    "# import pickle\n",
    "# import random\n",
    "\n",
    "\n",
    "from IPython.core.interactiveshell import InteractiveShell\n",
    "from io import StringIO\n",
    "\n",
    "# import dask.dataframe as dd\n",
    "#from chest import Chest\n",
    "\n",
    "InteractiveShell.ast_node_interactivity = \"all\"\n",
    "# InteractiveShell.ast_node_interactivity = \"last\"\n",
    "\n",
    "# Magic function to make matplotlib inline\n",
    "%matplotlib inline\n",
    "%config InlineBackend.figure_formats = {'png', 'retina'}\n",
    "\n",
    "# Set up Bokeh for inline viewing\n",
    "# bokeh.io.output_notebook()\n",
    "\n",
    "# import dask.dataframe as ddf\n",
    "# import dask.array as da\n",
    "\n",
    "pd.set_option('max_columns', 500)\n",
    "pd.set_option('max_rows', 1700)\n",
    "\n",
    "# import scipy\n",
    "\n",
    "# import statsmodels.api as sm\n",
    "# from statsmodels.tsa.seasonal import seasonal_decompose\n",
    "# from statsmodels.tsa.tsatools import detrend\n",
    "\n",
    "import datetime as dt\n",
    "\n",
    "from IPython.core.display import display, HTML\n",
    "display(HTML(\"<style>.container { width:100% !important; }</style>\"))\n",
    "\n",
    "import functions as fcns # custom functions Artem/Chris wrote\n"
   ]
  },
  {
   "cell_type": "markdown",
   "metadata": {},
   "source": [
    "# Compare"
   ]
  },
  {
   "cell_type": "code",
   "execution_count": 124,
   "metadata": {
    "ExecuteTime": {
     "end_time": "2020-01-24T08:36:23.521190Z",
     "start_time": "2020-01-24T08:36:23.366415Z"
    },
    "scrolled": true
   },
   "outputs": [],
   "source": [
    "c = pd.read_excel('data/SS21_forecasts_2020-01-22.xlsx', index_col=0)\n",
    "j = pd.read_csv('data/SS21_RMA1_forecast.csv')\n",
    "\n",
    "file_names = np.load('data/file_names.npy', allow_pickle=True).tolist()"
   ]
  },
  {
   "cell_type": "code",
   "execution_count": null,
   "metadata": {
    "scrolled": true
   },
   "outputs": [],
   "source": [
    "both = pd.merge(c[['article_number', 'y_hat', 'net_qty', 'Opt_Ovb']], j[['article_number', 'net_forecast', 'buy_recommendation']], on = 'article_number')"
   ]
  },
  {
   "cell_type": "code",
   "execution_count": 109,
   "metadata": {
    "ExecuteTime": {
     "end_time": "2020-01-24T07:10:23.902312Z",
     "start_time": "2020-01-24T07:10:23.867212Z"
    },
    "scrolled": true
   },
   "outputs": [
    {
     "data": {
      "text/html": [
       "<div>\n",
       "<style scoped>\n",
       "    .dataframe tbody tr th:only-of-type {\n",
       "        vertical-align: middle;\n",
       "    }\n",
       "\n",
       "    .dataframe tbody tr th {\n",
       "        vertical-align: top;\n",
       "    }\n",
       "\n",
       "    .dataframe thead th {\n",
       "        text-align: right;\n",
       "    }\n",
       "</style>\n",
       "<table border=\"1\" class=\"dataframe\">\n",
       "  <thead>\n",
       "    <tr style=\"text-align: right;\">\n",
       "      <th></th>\n",
       "      <th>article_number</th>\n",
       "      <th>y_hat</th>\n",
       "      <th>net_qty</th>\n",
       "      <th>price</th>\n",
       "      <th>cost</th>\n",
       "      <th>margin</th>\n",
       "      <th>Opt_Ovb</th>\n",
       "      <th>model_no</th>\n",
       "      <th>art_desc</th>\n",
       "      <th>brand</th>\n",
       "      <th>rmh_cat_desc</th>\n",
       "      <th>prod_grp_desc</th>\n",
       "      <th>prod_type_desc</th>\n",
       "      <th>gender_desc</th>\n",
       "      <th>age_group_desc</th>\n",
       "    </tr>\n",
       "  </thead>\n",
       "  <tbody>\n",
       "    <tr>\n",
       "      <th>0</th>\n",
       "      <td>019099</td>\n",
       "      <td>333</td>\n",
       "      <td>0</td>\n",
       "      <td>0</td>\n",
       "      <td>0</td>\n",
       "      <td>0</td>\n",
       "      <td>400</td>\n",
       "      <td>11130</td>\n",
       "      <td>SAMBA SUPER</td>\n",
       "      <td>adidas</td>\n",
       "      <td>ORIGINALS</td>\n",
       "      <td>SHOES</td>\n",
       "      <td>SHOES - LOW (NON FOOTBALL)</td>\n",
       "      <td>MEN</td>\n",
       "      <td>ADULT</td>\n",
       "    </tr>\n",
       "    <tr>\n",
       "      <th>1</th>\n",
       "      <td>019332</td>\n",
       "      <td>1082</td>\n",
       "      <td>235</td>\n",
       "      <td>85</td>\n",
       "      <td>15</td>\n",
       "      <td>70</td>\n",
       "      <td>1299</td>\n",
       "      <td>20067</td>\n",
       "      <td>SAM SUPER SUEDE</td>\n",
       "      <td>adidas</td>\n",
       "      <td>ORIGINALS</td>\n",
       "      <td>SHOES</td>\n",
       "      <td>SHOES - LOW (NON FOOTBALL)</td>\n",
       "      <td>MEN</td>\n",
       "      <td>ADULT</td>\n",
       "    </tr>\n",
       "    <tr>\n",
       "      <th>2</th>\n",
       "      <td>019351</td>\n",
       "      <td>1973</td>\n",
       "      <td>245</td>\n",
       "      <td>75</td>\n",
       "      <td>11</td>\n",
       "      <td>64</td>\n",
       "      <td>2974</td>\n",
       "      <td>88653</td>\n",
       "      <td>SAMOA</td>\n",
       "      <td>adidas</td>\n",
       "      <td>ORIGINALS</td>\n",
       "      <td>SHOES</td>\n",
       "      <td>SHOES - LOW (NON FOOTBALL)</td>\n",
       "      <td>MEN</td>\n",
       "      <td>ADULT</td>\n",
       "    </tr>\n",
       "  </tbody>\n",
       "</table>\n",
       "</div>"
      ],
      "text/plain": [
       "  article_number  y_hat  net_qty  price  cost  margin  Opt_Ovb model_no  \\\n",
       "0         019099    333        0      0     0       0      400    11130   \n",
       "1         019332   1082      235     85    15      70     1299    20067   \n",
       "2         019351   1973      245     75    11      64     2974    88653   \n",
       "\n",
       "          art_desc   brand rmh_cat_desc prod_grp_desc  \\\n",
       "0      SAMBA SUPER  adidas    ORIGINALS         SHOES   \n",
       "1  SAM SUPER SUEDE  adidas    ORIGINALS         SHOES   \n",
       "2            SAMOA  adidas    ORIGINALS         SHOES   \n",
       "\n",
       "               prod_type_desc gender_desc age_group_desc  \n",
       "0  SHOES - LOW (NON FOOTBALL)         MEN          ADULT  \n",
       "1  SHOES - LOW (NON FOOTBALL)         MEN          ADULT  \n",
       "2  SHOES - LOW (NON FOOTBALL)         MEN          ADULT  "
      ]
     },
     "execution_count": 109,
     "metadata": {},
     "output_type": "execute_result"
    }
   ],
   "source": [
    "c.head(3)\n"
   ]
  },
  {
   "cell_type": "code",
   "execution_count": null,
   "metadata": {
    "scrolled": true
   },
   "outputs": [],
   "source": [
    "both[both.y_hat != both.net_forecast]\n",
    "both[both.Opt_Ovb != both.buy_recommendation]\n"
   ]
  },
  {
   "cell_type": "markdown",
   "metadata": {},
   "source": [
    "# Inspect "
   ]
  },
  {
   "cell_type": "code",
   "execution_count": 122,
   "metadata": {
    "ExecuteTime": {
     "end_time": "2020-01-24T07:21:16.281576Z",
     "start_time": "2020-01-24T07:21:16.265904Z"
    },
    "scrolled": true
   },
   "outputs": [
    {
     "data": {
      "text/html": [
       "<div>\n",
       "<style scoped>\n",
       "    .dataframe tbody tr th:only-of-type {\n",
       "        vertical-align: middle;\n",
       "    }\n",
       "\n",
       "    .dataframe tbody tr th {\n",
       "        vertical-align: top;\n",
       "    }\n",
       "\n",
       "    .dataframe thead th {\n",
       "        text-align: right;\n",
       "    }\n",
       "</style>\n",
       "<table border=\"1\" class=\"dataframe\">\n",
       "  <thead>\n",
       "    <tr style=\"text-align: right;\">\n",
       "      <th></th>\n",
       "      <th>article_number</th>\n",
       "      <th>y_hat</th>\n",
       "      <th>net_qty</th>\n",
       "      <th>price</th>\n",
       "      <th>cost</th>\n",
       "      <th>margin</th>\n",
       "      <th>Opt_Ovb</th>\n",
       "      <th>model_no</th>\n",
       "      <th>art_desc</th>\n",
       "      <th>brand</th>\n",
       "      <th>rmh_cat_desc</th>\n",
       "      <th>prod_grp_desc</th>\n",
       "      <th>prod_type_desc</th>\n",
       "      <th>gender_desc</th>\n",
       "      <th>age_group_desc</th>\n",
       "    </tr>\n",
       "  </thead>\n",
       "  <tbody>\n",
       "    <tr>\n",
       "      <th>242</th>\n",
       "      <td>ED7820</td>\n",
       "      <td>50189</td>\n",
       "      <td>2526</td>\n",
       "      <td>28</td>\n",
       "      <td>4</td>\n",
       "      <td>23</td>\n",
       "      <td>60810</td>\n",
       "      <td>GDH76</td>\n",
       "      <td>3STRIPES LEGG</td>\n",
       "      <td>adidas</td>\n",
       "      <td>ORIGINALS</td>\n",
       "      <td>PANTS</td>\n",
       "      <td>PANTS (1/1)</td>\n",
       "      <td>WOMEN</td>\n",
       "      <td>JUNIOR</td>\n",
       "    </tr>\n",
       "    <tr>\n",
       "      <th>560</th>\n",
       "      <td>G27706</td>\n",
       "      <td>39258</td>\n",
       "      <td>5039</td>\n",
       "      <td>99</td>\n",
       "      <td>16</td>\n",
       "      <td>84</td>\n",
       "      <td>47705</td>\n",
       "      <td>DRA67</td>\n",
       "      <td>CONTINENTAL 80</td>\n",
       "      <td>adidas</td>\n",
       "      <td>ORIGINALS</td>\n",
       "      <td>SHOES</td>\n",
       "      <td>SHOES - LOW (NON FOOTBALL)</td>\n",
       "      <td>MEN</td>\n",
       "      <td>ADULT</td>\n",
       "    </tr>\n",
       "    <tr>\n",
       "      <th>587</th>\n",
       "      <td>S79168</td>\n",
       "      <td>61783</td>\n",
       "      <td>0</td>\n",
       "      <td>180</td>\n",
       "      <td>43</td>\n",
       "      <td>137</td>\n",
       "      <td>70843</td>\n",
       "      <td>KAA57</td>\n",
       "      <td>NMD_R1 PK</td>\n",
       "      <td>adidas</td>\n",
       "      <td>ORIGINALS</td>\n",
       "      <td>SHOES</td>\n",
       "      <td>SHOES - LOW (NON FOOTBALL)</td>\n",
       "      <td>MEN</td>\n",
       "      <td>ADULT</td>\n",
       "    </tr>\n",
       "  </tbody>\n",
       "</table>\n",
       "</div>"
      ],
      "text/plain": [
       "    article_number  y_hat  net_qty  price  cost  margin  Opt_Ovb model_no  \\\n",
       "242         ED7820  50189     2526     28     4      23    60810    GDH76   \n",
       "560         G27706  39258     5039     99    16      84    47705    DRA67   \n",
       "587         S79168  61783        0    180    43     137    70843    KAA57   \n",
       "\n",
       "           art_desc   brand rmh_cat_desc prod_grp_desc  \\\n",
       "242   3STRIPES LEGG  adidas    ORIGINALS         PANTS   \n",
       "560  CONTINENTAL 80  adidas    ORIGINALS         SHOES   \n",
       "587       NMD_R1 PK  adidas    ORIGINALS         SHOES   \n",
       "\n",
       "                 prod_type_desc gender_desc age_group_desc  \n",
       "242                 PANTS (1/1)       WOMEN         JUNIOR  \n",
       "560  SHOES - LOW (NON FOOTBALL)         MEN          ADULT  \n",
       "587  SHOES - LOW (NON FOOTBALL)         MEN          ADULT  "
      ]
     },
     "execution_count": 122,
     "metadata": {},
     "output_type": "execute_result"
    }
   ],
   "source": [
    "c[c.Opt_Ovb > 30000]  #.sort_values('y_hat', ascending = False)"
   ]
  },
  {
   "cell_type": "markdown",
   "metadata": {},
   "source": [
    "# Magnifying Glass"
   ]
  },
  {
   "cell_type": "code",
   "execution_count": 127,
   "metadata": {
    "ExecuteTime": {
     "end_time": "2020-01-24T08:37:44.469159Z",
     "start_time": "2020-01-24T08:37:43.749473Z"
    },
    "scrolled": true
   },
   "outputs": [],
   "source": [
    "file_names = np.load('data/file_names.npy', allow_pickle=True).tolist()\n",
    "\n",
    "seas = pd.read_excel(file_names[1], index_col=0)"
   ]
  },
  {
   "cell_type": "code",
   "execution_count": 169,
   "metadata": {
    "ExecuteTime": {
     "end_time": "2020-01-24T09:06:38.572179Z",
     "start_time": "2020-01-24T09:06:38.569508Z"
    },
    "code_folding": [],
    "hideCode": true,
    "hideOutput": false,
    "hidePrompt": false,
    "scrolled": true
   },
   "outputs": [],
   "source": [
    "# Magnifying glass - article \n",
    "\n",
    "aoi = 'AQ1701'"
   ]
  },
  {
   "cell_type": "code",
   "execution_count": 170,
   "metadata": {
    "ExecuteTime": {
     "end_time": "2020-01-24T09:06:41.501918Z",
     "start_time": "2020-01-24T09:06:40.801786Z"
    },
    "scrolled": true
   },
   "outputs": [
    {
     "data": {
      "text/plain": [
       "<matplotlib.axes._subplots.AxesSubplot at 0x1b26be790>"
      ]
     },
     "execution_count": 170,
     "metadata": {},
     "output_type": "execute_result"
    },
    {
     "data": {
      "image/png": "[encoded data removed]",
      "text/plain": [
       "<Figure size 1440x504 with 1 Axes>"
      ]
     },
     "metadata": {
      "image/png": {
       "height": 425,
       "width": 1156
      },
      "needs_background": "light"
     },
     "output_type": "display_data"
    }
   ],
   "source": [
    "seas[seas.index == aoi][['seas_preds', 'net_qty']].plot(linewidth = 4)"
   ]
  },
  {
   "cell_type": "code",
   "execution_count": 171,
   "metadata": {
    "ExecuteTime": {
     "end_time": "2020-01-24T09:06:50.358984Z",
     "start_time": "2020-01-24T09:06:48.391499Z"
    },
    "scrolled": true
   },
   "outputs": [],
   "source": [
    "run_data = pd.read_csv('data/run_data.csv')\n"
   ]
  },
  {
   "cell_type": "code",
   "execution_count": 173,
   "metadata": {
    "ExecuteTime": {
     "end_time": "2020-01-24T09:07:40.401983Z",
     "start_time": "2020-01-24T09:07:40.302694Z"
    },
    "scrolled": true
   },
   "outputs": [
    {
     "ename": "TypeError",
     "evalue": "no numeric data to plot",
     "output_type": "error",
     "traceback": [
      "\u001b[0;31m---------------------------------------------------------------------------\u001b[0m",
      "\u001b[0;31mTypeError\u001b[0m                                 Traceback (most recent call last)",
      "\u001b[0;32m<ipython-input-173-7aa64ba7fd76>\u001b[0m in \u001b[0;36m<module>\u001b[0;34m\u001b[0m\n\u001b[1;32m      7\u001b[0m \u001b[0;34m\u001b[0m\u001b[0m\n\u001b[1;32m      8\u001b[0m \u001b[0mplt\u001b[0m\u001b[0;34m.\u001b[0m\u001b[0mrcParams\u001b[0m\u001b[0;34m[\u001b[0m\u001b[0;34m\"figure.figsize\"\u001b[0m\u001b[0;34m]\u001b[0m \u001b[0;34m=\u001b[0m \u001b[0;34m[\u001b[0m\u001b[0;36m20\u001b[0m\u001b[0;34m,\u001b[0m\u001b[0;36m7\u001b[0m\u001b[0;34m]\u001b[0m\u001b[0;34m\u001b[0m\u001b[0;34m\u001b[0m\u001b[0m\n\u001b[0;32m----> 9\u001b[0;31m \u001b[0mdat_aoi\u001b[0m\u001b[0;34m[\u001b[0m\u001b[0;34m[\u001b[0m\u001b[0;34m'date'\u001b[0m\u001b[0;34m,\u001b[0m \u001b[0;34m'net_qty'\u001b[0m\u001b[0;34m]\u001b[0m\u001b[0;34m]\u001b[0m\u001b[0;34m.\u001b[0m\u001b[0mset_index\u001b[0m\u001b[0;34m(\u001b[0m\u001b[0;34m'date'\u001b[0m\u001b[0;34m)\u001b[0m\u001b[0;34m.\u001b[0m\u001b[0mplot\u001b[0m\u001b[0;34m(\u001b[0m\u001b[0mlinewidth\u001b[0m \u001b[0;34m=\u001b[0m \u001b[0;36m4\u001b[0m\u001b[0;34m)\u001b[0m\u001b[0;34m\u001b[0m\u001b[0;34m\u001b[0m\u001b[0m\n\u001b[0m",
      "\u001b[0;32m/usr/local/lib/python3.7/site-packages/pandas/plotting/_core.py\u001b[0m in \u001b[0;36m__call__\u001b[0;34m(self, *args, **kwargs)\u001b[0m\n\u001b[1;32m    792\u001b[0m                     \u001b[0mdata\u001b[0m\u001b[0;34m.\u001b[0m\u001b[0mcolumns\u001b[0m \u001b[0;34m=\u001b[0m \u001b[0mlabel_name\u001b[0m\u001b[0;34m\u001b[0m\u001b[0;34m\u001b[0m\u001b[0m\n\u001b[1;32m    793\u001b[0m \u001b[0;34m\u001b[0m\u001b[0m\n\u001b[0;32m--> 794\u001b[0;31m         \u001b[0;32mreturn\u001b[0m \u001b[0mplot_backend\u001b[0m\u001b[0;34m.\u001b[0m\u001b[0mplot\u001b[0m\u001b[0;34m(\u001b[0m\u001b[0mdata\u001b[0m\u001b[0;34m,\u001b[0m \u001b[0mkind\u001b[0m\u001b[0;34m=\u001b[0m\u001b[0mkind\u001b[0m\u001b[0;34m,\u001b[0m \u001b[0;34m**\u001b[0m\u001b[0mkwargs\u001b[0m\u001b[0;34m)\u001b[0m\u001b[0;34m\u001b[0m\u001b[0;34m\u001b[0m\u001b[0m\n\u001b[0m\u001b[1;32m    795\u001b[0m \u001b[0;34m\u001b[0m\u001b[0m\n\u001b[1;32m    796\u001b[0m     \u001b[0;32mdef\u001b[0m \u001b[0mline\u001b[0m\u001b[0;34m(\u001b[0m\u001b[0mself\u001b[0m\u001b[0;34m,\u001b[0m \u001b[0mx\u001b[0m\u001b[0;34m=\u001b[0m\u001b[0;32mNone\u001b[0m\u001b[0;34m,\u001b[0m \u001b[0my\u001b[0m\u001b[0;34m=\u001b[0m\u001b[0;32mNone\u001b[0m\u001b[0;34m,\u001b[0m \u001b[0;34m**\u001b[0m\u001b[0mkwargs\u001b[0m\u001b[0;34m)\u001b[0m\u001b[0;34m:\u001b[0m\u001b[0;34m\u001b[0m\u001b[0;34m\u001b[0m\u001b[0m\n",
      "\u001b[0;32m/usr/local/lib/python3.7/site-packages/pandas/plotting/_matplotlib/__init__.py\u001b[0m in \u001b[0;36mplot\u001b[0;34m(data, kind, **kwargs)\u001b[0m\n\u001b[1;32m     60\u001b[0m             \u001b[0mkwargs\u001b[0m\u001b[0;34m[\u001b[0m\u001b[0;34m\"ax\"\u001b[0m\u001b[0;34m]\u001b[0m \u001b[0;34m=\u001b[0m \u001b[0mgetattr\u001b[0m\u001b[0;34m(\u001b[0m\u001b[0max\u001b[0m\u001b[0;34m,\u001b[0m \u001b[0;34m\"left_ax\"\u001b[0m\u001b[0;34m,\u001b[0m \u001b[0max\u001b[0m\u001b[0;34m)\u001b[0m\u001b[0;34m\u001b[0m\u001b[0;34m\u001b[0m\u001b[0m\n\u001b[1;32m     61\u001b[0m     \u001b[0mplot_obj\u001b[0m \u001b[0;34m=\u001b[0m \u001b[0mPLOT_CLASSES\u001b[0m\u001b[0;34m[\u001b[0m\u001b[0mkind\u001b[0m\u001b[0;34m]\u001b[0m\u001b[0;34m(\u001b[0m\u001b[0mdata\u001b[0m\u001b[0;34m,\u001b[0m \u001b[0;34m**\u001b[0m\u001b[0mkwargs\u001b[0m\u001b[0;34m)\u001b[0m\u001b[0;34m\u001b[0m\u001b[0;34m\u001b[0m\u001b[0m\n\u001b[0;32m---> 62\u001b[0;31m     \u001b[0mplot_obj\u001b[0m\u001b[0;34m.\u001b[0m\u001b[0mgenerate\u001b[0m\u001b[0;34m(\u001b[0m\u001b[0;34m)\u001b[0m\u001b[0;34m\u001b[0m\u001b[0;34m\u001b[0m\u001b[0m\n\u001b[0m\u001b[1;32m     63\u001b[0m     \u001b[0mplot_obj\u001b[0m\u001b[0;34m.\u001b[0m\u001b[0mdraw\u001b[0m\u001b[0;34m(\u001b[0m\u001b[0;34m)\u001b[0m\u001b[0;34m\u001b[0m\u001b[0;34m\u001b[0m\u001b[0m\n\u001b[1;32m     64\u001b[0m     \u001b[0;32mreturn\u001b[0m \u001b[0mplot_obj\u001b[0m\u001b[0;34m.\u001b[0m\u001b[0mresult\u001b[0m\u001b[0;34m\u001b[0m\u001b[0;34m\u001b[0m\u001b[0m\n",
      "\u001b[0;32m/usr/local/lib/python3.7/site-packages/pandas/plotting/_matplotlib/core.py\u001b[0m in \u001b[0;36mgenerate\u001b[0;34m(self)\u001b[0m\n\u001b[1;32m    277\u001b[0m     \u001b[0;32mdef\u001b[0m \u001b[0mgenerate\u001b[0m\u001b[0;34m(\u001b[0m\u001b[0mself\u001b[0m\u001b[0;34m)\u001b[0m\u001b[0;34m:\u001b[0m\u001b[0;34m\u001b[0m\u001b[0;34m\u001b[0m\u001b[0m\n\u001b[1;32m    278\u001b[0m         \u001b[0mself\u001b[0m\u001b[0;34m.\u001b[0m\u001b[0m_args_adjust\u001b[0m\u001b[0;34m(\u001b[0m\u001b[0;34m)\u001b[0m\u001b[0;34m\u001b[0m\u001b[0;34m\u001b[0m\u001b[0m\n\u001b[0;32m--> 279\u001b[0;31m         \u001b[0mself\u001b[0m\u001b[0;34m.\u001b[0m\u001b[0m_compute_plot_data\u001b[0m\u001b[0;34m(\u001b[0m\u001b[0;34m)\u001b[0m\u001b[0;34m\u001b[0m\u001b[0;34m\u001b[0m\u001b[0m\n\u001b[0m\u001b[1;32m    280\u001b[0m         \u001b[0mself\u001b[0m\u001b[0;34m.\u001b[0m\u001b[0m_setup_subplots\u001b[0m\u001b[0;34m(\u001b[0m\u001b[0;34m)\u001b[0m\u001b[0;34m\u001b[0m\u001b[0;34m\u001b[0m\u001b[0m\n\u001b[1;32m    281\u001b[0m         \u001b[0mself\u001b[0m\u001b[0;34m.\u001b[0m\u001b[0m_make_plot\u001b[0m\u001b[0;34m(\u001b[0m\u001b[0;34m)\u001b[0m\u001b[0;34m\u001b[0m\u001b[0;34m\u001b[0m\u001b[0m\n",
      "\u001b[0;32m/usr/local/lib/python3.7/site-packages/pandas/plotting/_matplotlib/core.py\u001b[0m in \u001b[0;36m_compute_plot_data\u001b[0;34m(self)\u001b[0m\n\u001b[1;32m    412\u001b[0m         \u001b[0;31m# no non-numeric frames or series allowed\u001b[0m\u001b[0;34m\u001b[0m\u001b[0;34m\u001b[0m\u001b[0;34m\u001b[0m\u001b[0m\n\u001b[1;32m    413\u001b[0m         \u001b[0;32mif\u001b[0m \u001b[0mis_empty\u001b[0m\u001b[0;34m:\u001b[0m\u001b[0;34m\u001b[0m\u001b[0;34m\u001b[0m\u001b[0m\n\u001b[0;32m--> 414\u001b[0;31m             \u001b[0;32mraise\u001b[0m \u001b[0mTypeError\u001b[0m\u001b[0;34m(\u001b[0m\u001b[0;34m\"no numeric data to plot\"\u001b[0m\u001b[0;34m)\u001b[0m\u001b[0;34m\u001b[0m\u001b[0;34m\u001b[0m\u001b[0m\n\u001b[0m\u001b[1;32m    415\u001b[0m \u001b[0;34m\u001b[0m\u001b[0m\n\u001b[1;32m    416\u001b[0m         \u001b[0;31m# GH25587: cast ExtensionArray of pandas (IntegerArray, etc.) to\u001b[0m\u001b[0;34m\u001b[0m\u001b[0;34m\u001b[0m\u001b[0;34m\u001b[0m\u001b[0m\n",
      "\u001b[0;31mTypeError\u001b[0m: no numeric data to plot"
     ]
    }
   ],
   "source": [
    "dat_aoi = run_data[run_data.article_number == aoi].copy()\n",
    "dat_aoi = pd.merge(pd.DataFrame(dat_aoi.groupby(['year', 'week'])['net_qty'].sum()).reset_index(), dat_aoi[['year', 'week']].drop_duplicates())\n",
    "\n",
    "dat_aoi.year = [str(x) for x in dat_aoi.year]\n",
    "dat_aoi.week = [str(x) for x in dat_aoi.week]\n",
    "dat_aoi['date'] = [dt.datetime.strptime(x[0] + '-' + x[1] + '-1', \"%Y-%W-%w\") for x in zip(dat_aoi.year, dat_aoi.week)]\n",
    "\n",
    "plt.rcParams[\"figure.figsize\"] = [20,7]\n",
    "dat_aoi[['date', 'net_qty']].set_index('date').plot(linewidth = 4)"
   ]
  },
  {
   "cell_type": "code",
   "execution_count": 159,
   "metadata": {
    "ExecuteTime": {
     "end_time": "2020-01-24T08:53:45.497643Z",
     "start_time": "2020-01-24T08:53:45.483975Z"
    },
    "scrolled": false
   },
   "outputs": [
    {
     "data": {
      "text/html": [
       "<div>\n",
       "<style scoped>\n",
       "    .dataframe tbody tr th:only-of-type {\n",
       "        vertical-align: middle;\n",
       "    }\n",
       "\n",
       "    .dataframe tbody tr th {\n",
       "        vertical-align: top;\n",
       "    }\n",
       "\n",
       "    .dataframe thead th {\n",
       "        text-align: right;\n",
       "    }\n",
       "</style>\n",
       "<table border=\"1\" class=\"dataframe\">\n",
       "  <thead>\n",
       "    <tr style=\"text-align: right;\">\n",
       "      <th></th>\n",
       "      <th>year</th>\n",
       "      <th>week</th>\n",
       "      <th>net_qty</th>\n",
       "      <th>date</th>\n",
       "    </tr>\n",
       "  </thead>\n",
       "  <tbody>\n",
       "    <tr>\n",
       "      <th>0</th>\n",
       "      <td>2018</td>\n",
       "      <td>48</td>\n",
       "      <td>210.00</td>\n",
       "      <td>2018-11-26</td>\n",
       "    </tr>\n",
       "    <tr>\n",
       "      <th>1</th>\n",
       "      <td>2018</td>\n",
       "      <td>49</td>\n",
       "      <td>1444.00</td>\n",
       "      <td>2018-12-03</td>\n",
       "    </tr>\n",
       "    <tr>\n",
       "      <th>2</th>\n",
       "      <td>2018</td>\n",
       "      <td>50</td>\n",
       "      <td>1811.00</td>\n",
       "      <td>2018-12-10</td>\n",
       "    </tr>\n",
       "    <tr>\n",
       "      <th>3</th>\n",
       "      <td>2018</td>\n",
       "      <td>51</td>\n",
       "      <td>1389.00</td>\n",
       "      <td>2018-12-17</td>\n",
       "    </tr>\n",
       "    <tr>\n",
       "      <th>4</th>\n",
       "      <td>2018</td>\n",
       "      <td>52</td>\n",
       "      <td>659.00</td>\n",
       "      <td>2018-12-24</td>\n",
       "    </tr>\n",
       "    <tr>\n",
       "      <th>5</th>\n",
       "      <td>2019</td>\n",
       "      <td>1</td>\n",
       "      <td>562.00</td>\n",
       "      <td>2019-01-07</td>\n",
       "    </tr>\n",
       "    <tr>\n",
       "      <th>6</th>\n",
       "      <td>2019</td>\n",
       "      <td>2</td>\n",
       "      <td>463.77</td>\n",
       "      <td>2019-01-14</td>\n",
       "    </tr>\n",
       "    <tr>\n",
       "      <th>7</th>\n",
       "      <td>2019</td>\n",
       "      <td>3</td>\n",
       "      <td>397.77</td>\n",
       "      <td>2019-01-21</td>\n",
       "    </tr>\n",
       "    <tr>\n",
       "      <th>8</th>\n",
       "      <td>2019</td>\n",
       "      <td>4</td>\n",
       "      <td>519.10</td>\n",
       "      <td>2019-01-28</td>\n",
       "    </tr>\n",
       "    <tr>\n",
       "      <th>9</th>\n",
       "      <td>2019</td>\n",
       "      <td>5</td>\n",
       "      <td>831.00</td>\n",
       "      <td>2019-02-04</td>\n",
       "    </tr>\n",
       "    <tr>\n",
       "      <th>10</th>\n",
       "      <td>2019</td>\n",
       "      <td>6</td>\n",
       "      <td>2117.00</td>\n",
       "      <td>2019-02-11</td>\n",
       "    </tr>\n",
       "    <tr>\n",
       "      <th>11</th>\n",
       "      <td>2019</td>\n",
       "      <td>7</td>\n",
       "      <td>2155.00</td>\n",
       "      <td>2019-02-18</td>\n",
       "    </tr>\n",
       "    <tr>\n",
       "      <th>12</th>\n",
       "      <td>2019</td>\n",
       "      <td>8</td>\n",
       "      <td>2648.00</td>\n",
       "      <td>2019-02-25</td>\n",
       "    </tr>\n",
       "    <tr>\n",
       "      <th>13</th>\n",
       "      <td>2019</td>\n",
       "      <td>9</td>\n",
       "      <td>1626.00</td>\n",
       "      <td>2019-03-04</td>\n",
       "    </tr>\n",
       "    <tr>\n",
       "      <th>14</th>\n",
       "      <td>2019</td>\n",
       "      <td>10</td>\n",
       "      <td>1405.00</td>\n",
       "      <td>2019-03-11</td>\n",
       "    </tr>\n",
       "    <tr>\n",
       "      <th>15</th>\n",
       "      <td>2019</td>\n",
       "      <td>11</td>\n",
       "      <td>1157.64</td>\n",
       "      <td>2019-03-18</td>\n",
       "    </tr>\n",
       "    <tr>\n",
       "      <th>16</th>\n",
       "      <td>2019</td>\n",
       "      <td>12</td>\n",
       "      <td>1190.00</td>\n",
       "      <td>2019-03-25</td>\n",
       "    </tr>\n",
       "    <tr>\n",
       "      <th>17</th>\n",
       "      <td>2019</td>\n",
       "      <td>13</td>\n",
       "      <td>1811.00</td>\n",
       "      <td>2019-04-01</td>\n",
       "    </tr>\n",
       "    <tr>\n",
       "      <th>18</th>\n",
       "      <td>2019</td>\n",
       "      <td>14</td>\n",
       "      <td>1758.00</td>\n",
       "      <td>2019-04-08</td>\n",
       "    </tr>\n",
       "    <tr>\n",
       "      <th>19</th>\n",
       "      <td>2019</td>\n",
       "      <td>15</td>\n",
       "      <td>1722.00</td>\n",
       "      <td>2019-04-15</td>\n",
       "    </tr>\n",
       "    <tr>\n",
       "      <th>20</th>\n",
       "      <td>2019</td>\n",
       "      <td>16</td>\n",
       "      <td>1611.00</td>\n",
       "      <td>2019-04-22</td>\n",
       "    </tr>\n",
       "    <tr>\n",
       "      <th>21</th>\n",
       "      <td>2019</td>\n",
       "      <td>17</td>\n",
       "      <td>1654.00</td>\n",
       "      <td>2019-04-29</td>\n",
       "    </tr>\n",
       "    <tr>\n",
       "      <th>22</th>\n",
       "      <td>2019</td>\n",
       "      <td>18</td>\n",
       "      <td>1647.00</td>\n",
       "      <td>2019-05-06</td>\n",
       "    </tr>\n",
       "    <tr>\n",
       "      <th>23</th>\n",
       "      <td>2019</td>\n",
       "      <td>19</td>\n",
       "      <td>1522.00</td>\n",
       "      <td>2019-05-13</td>\n",
       "    </tr>\n",
       "    <tr>\n",
       "      <th>24</th>\n",
       "      <td>2019</td>\n",
       "      <td>20</td>\n",
       "      <td>1578.00</td>\n",
       "      <td>2019-05-20</td>\n",
       "    </tr>\n",
       "    <tr>\n",
       "      <th>25</th>\n",
       "      <td>2019</td>\n",
       "      <td>21</td>\n",
       "      <td>1730.00</td>\n",
       "      <td>2019-05-27</td>\n",
       "    </tr>\n",
       "    <tr>\n",
       "      <th>26</th>\n",
       "      <td>2019</td>\n",
       "      <td>22</td>\n",
       "      <td>1229.00</td>\n",
       "      <td>2019-06-03</td>\n",
       "    </tr>\n",
       "    <tr>\n",
       "      <th>27</th>\n",
       "      <td>2019</td>\n",
       "      <td>49</td>\n",
       "      <td>765.00</td>\n",
       "      <td>2019-12-09</td>\n",
       "    </tr>\n",
       "    <tr>\n",
       "      <th>28</th>\n",
       "      <td>2019</td>\n",
       "      <td>50</td>\n",
       "      <td>1337.00</td>\n",
       "      <td>2019-12-16</td>\n",
       "    </tr>\n",
       "    <tr>\n",
       "      <th>29</th>\n",
       "      <td>2019</td>\n",
       "      <td>51</td>\n",
       "      <td>1059.00</td>\n",
       "      <td>2019-12-23</td>\n",
       "    </tr>\n",
       "    <tr>\n",
       "      <th>30</th>\n",
       "      <td>2019</td>\n",
       "      <td>52</td>\n",
       "      <td>698.00</td>\n",
       "      <td>2019-12-30</td>\n",
       "    </tr>\n",
       "    <tr>\n",
       "      <th>31</th>\n",
       "      <td>2020</td>\n",
       "      <td>1</td>\n",
       "      <td>562.00</td>\n",
       "      <td>2020-01-06</td>\n",
       "    </tr>\n",
       "    <tr>\n",
       "      <th>32</th>\n",
       "      <td>2020</td>\n",
       "      <td>2</td>\n",
       "      <td>435.00</td>\n",
       "      <td>2020-01-13</td>\n",
       "    </tr>\n",
       "    <tr>\n",
       "      <th>33</th>\n",
       "      <td>2020</td>\n",
       "      <td>3</td>\n",
       "      <td>183.00</td>\n",
       "      <td>2020-01-20</td>\n",
       "    </tr>\n",
       "  </tbody>\n",
       "</table>\n",
       "</div>"
      ],
      "text/plain": [
       "    year week  net_qty       date\n",
       "0   2018   48   210.00 2018-11-26\n",
       "1   2018   49  1444.00 2018-12-03\n",
       "2   2018   50  1811.00 2018-12-10\n",
       "3   2018   51  1389.00 2018-12-17\n",
       "4   2018   52   659.00 2018-12-24\n",
       "5   2019    1   562.00 2019-01-07\n",
       "6   2019    2   463.77 2019-01-14\n",
       "7   2019    3   397.77 2019-01-21\n",
       "8   2019    4   519.10 2019-01-28\n",
       "9   2019    5   831.00 2019-02-04\n",
       "10  2019    6  2117.00 2019-02-11\n",
       "11  2019    7  2155.00 2019-02-18\n",
       "12  2019    8  2648.00 2019-02-25\n",
       "13  2019    9  1626.00 2019-03-04\n",
       "14  2019   10  1405.00 2019-03-11\n",
       "15  2019   11  1157.64 2019-03-18\n",
       "16  2019   12  1190.00 2019-03-25\n",
       "17  2019   13  1811.00 2019-04-01\n",
       "18  2019   14  1758.00 2019-04-08\n",
       "19  2019   15  1722.00 2019-04-15\n",
       "20  2019   16  1611.00 2019-04-22\n",
       "21  2019   17  1654.00 2019-04-29\n",
       "22  2019   18  1647.00 2019-05-06\n",
       "23  2019   19  1522.00 2019-05-13\n",
       "24  2019   20  1578.00 2019-05-20\n",
       "25  2019   21  1730.00 2019-05-27\n",
       "26  2019   22  1229.00 2019-06-03\n",
       "27  2019   49   765.00 2019-12-09\n",
       "28  2019   50  1337.00 2019-12-16\n",
       "29  2019   51  1059.00 2019-12-23\n",
       "30  2019   52   698.00 2019-12-30\n",
       "31  2020    1   562.00 2020-01-06\n",
       "32  2020    2   435.00 2020-01-13\n",
       "33  2020    3   183.00 2020-01-20"
      ]
     },
     "execution_count": 159,
     "metadata": {},
     "output_type": "execute_result"
    }
   ],
   "source": [
    "dat_aoi.sort_values('date')"
   ]
  },
  {
   "cell_type": "code",
   "execution_count": 160,
   "metadata": {
    "ExecuteTime": {
     "end_time": "2020-01-24T09:04:35.437832Z",
     "start_time": "2020-01-24T09:04:35.211556Z"
    },
    "scrolled": true
   },
   "outputs": [],
   "source": [
    "c = pd.read_excel('data/SS21_forecasts_2020-01-22.xlsx', index_col=0)\n",
    "today = pd.read_excel(file_names[0])"
   ]
  },
  {
   "cell_type": "code",
   "execution_count": 164,
   "metadata": {
    "ExecuteTime": {
     "end_time": "2020-01-24T09:05:16.238420Z",
     "start_time": "2020-01-24T09:05:16.234141Z"
    },
    "scrolled": true
   },
   "outputs": [],
   "source": [
    "missings = c[~c.article_number.isin(today.article_number.unique())]"
   ]
  },
  {
   "cell_type": "code",
   "execution_count": 174,
   "metadata": {
    "ExecuteTime": {
     "end_time": "2020-01-24T09:09:39.117897Z",
     "start_time": "2020-01-24T09:09:33.692496Z"
    },
    "scrolled": true
   },
   "outputs": [],
   "source": [
    "primary_file = 'data/ch4k_eu.csv'\n",
    "\n",
    "dat0 = pd.read_csv(primary_file)"
   ]
  },
  {
   "cell_type": "code",
   "execution_count": 175,
   "metadata": {
    "ExecuteTime": {
     "end_time": "2020-01-24T09:09:56.319965Z",
     "start_time": "2020-01-24T09:09:56.139889Z"
    },
    "scrolled": true
   },
   "outputs": [
    {
     "data": {
      "text/html": [
       "<div>\n",
       "<style scoped>\n",
       "    .dataframe tbody tr th:only-of-type {\n",
       "        vertical-align: middle;\n",
       "    }\n",
       "\n",
       "    .dataframe tbody tr th {\n",
       "        vertical-align: top;\n",
       "    }\n",
       "\n",
       "    .dataframe thead th {\n",
       "        text-align: right;\n",
       "    }\n",
       "</style>\n",
       "<table border=\"1\" class=\"dataframe\">\n",
       "  <thead>\n",
       "    <tr style=\"text-align: right;\">\n",
       "      <th></th>\n",
       "      <th>article_number</th>\n",
       "      <th>brand</th>\n",
       "      <th>year</th>\n",
       "      <th>week</th>\n",
       "      <th>country</th>\n",
       "      <th>season</th>\n",
       "      <th>season_year</th>\n",
       "      <th>gross_demand_quantity</th>\n",
       "      <th>net_qty</th>\n",
       "      <th>clearance</th>\n",
       "      <th>outlet</th>\n",
       "      <th>price</th>\n",
       "      <th>cost</th>\n",
       "      <th>margin</th>\n",
       "      <th>season_gross_demand_quantity</th>\n",
       "      <th>season_net_qty</th>\n",
       "      <th>buy_availability</th>\n",
       "      <th>model_no</th>\n",
       "      <th>art_desc</th>\n",
       "      <th>sports_cat_desc</th>\n",
       "      <th>rmh_cat_desc</th>\n",
       "      <th>franchise</th>\n",
       "      <th>gender_desc</th>\n",
       "      <th>age_group_desc</th>\n",
       "      <th>prod_grp_desc</th>\n",
       "      <th>prod_type_desc</th>\n",
       "    </tr>\n",
       "  </thead>\n",
       "  <tbody>\n",
       "  </tbody>\n",
       "</table>\n",
       "</div>"
      ],
      "text/plain": [
       "Empty DataFrame\n",
       "Columns: [article_number, brand, year, week, country, season, season_year, gross_demand_quantity, net_qty, clearance, outlet, price, cost, margin, season_gross_demand_quantity, season_net_qty, buy_availability, model_no, art_desc, sports_cat_desc, rmh_cat_desc, franchise, gender_desc, age_group_desc, prod_grp_desc, prod_type_desc]\n",
       "Index: []"
      ]
     },
     "execution_count": 175,
     "metadata": {},
     "output_type": "execute_result"
    }
   ],
   "source": [
    "dat0[dat0.article_number == 'AQ1701']"
   ]
  }
 ],
 "metadata": {
  "celltoolbar": "Hide code",
  "hide_code_all_hidden": false,
  "kernelspec": {
   "display_name": "Python 3",
   "language": "python",
   "name": "python3"
  },
  "language_info": {
   "codemirror_mode": {
    "name": "ipython",
    "version": 3
   },
   "file_extension": ".py",
   "mimetype": "text/x-python",
   "name": "python",
   "nbconvert_exporter": "python",
   "pygments_lexer": "ipython3",
   "version": "3.7.5"
  }
 },
 "nbformat": 4,
 "nbformat_minor": 2
}
