{
 "cells": [
  {
   "cell_type": "code",
   "execution_count": null,
   "metadata": {
    "code_folding": [],
    "hideCode": true,
    "hidePrompt": false,
    "scrolled": false
   },
   "outputs": [],
   "source": [
    "# Modules \n",
    "\n",
    "import numpy as np\n",
    "import pandas as pd\n",
    "\n",
    "# from IPython.core.interactiveshell import InteractiveShell\n",
    "# InteractiveShell.ast_node_interactivity = \"all\"\n",
    "\n",
    "# from IPython.core.display import display, HTML\n",
    "# display(HTML(\"<style>.container { width:100% !important; }</style>\"))\n",
    "\n",
    "from datetime import date"
   ]
  },
  {
   "cell_type": "markdown",
   "metadata": {},
   "source": [
    "# Curate for Delivery"
   ]
  },
  {
   "cell_type": "code",
   "execution_count": null,
   "metadata": {},
   "outputs": [],
   "source": [
    "run_data = pd.read_csv('data/run_data.csv')\n",
    "file_names = np.load('data/file_names.npy', allow_pickle=True).tolist()\n",
    "\n",
    "preds_w_optimal_overbuy = file_names[3]\n",
    "preds_season = pd.read_excel(preds_w_optimal_overbuy)"
   ]
  },
  {
   "cell_type": "code",
   "execution_count": null,
   "metadata": {},
   "outputs": [],
   "source": [
    "# aa = (pd.read_excel('data/DTC Range FW19_20191104.xlsx', sheet_name='Range', skiprows=5, \n",
    "#     usecols=['Article Number (6 digits)', 'TOTAL ecom SO', 'total Market FC (eCom & Partner)', 'TOTAL ecom RDP '])\n",
    "#         .rename(columns = {'Article Number (6 digits)': 'article_number',\n",
    "#                            'TOTAL ecom SO': 'FW19_eCom_SO', \n",
    "#                            'total Market FC (eCom & Partner)': 'FW19_eCom_total_market_FC', \n",
    "#                            'TOTAL ecom RDP ': 'FW19_eCom_RDP'}))\n",
    "\n"
   ]
  },
  {
   "cell_type": "code",
   "execution_count": null,
   "metadata": {},
   "outputs": [],
   "source": [
    "# preds_season = pd.merge(preds_season, aa, how = 'left', on = 'article_number')\n"
   ]
  },
  {
   "cell_type": "code",
   "execution_count": null,
   "metadata": {},
   "outputs": [],
   "source": [
    "preds_season = pd.merge(\n",
    "    preds_season, \n",
    "    run_data[['article_number', 'model_no', 'art_desc', 'brand', 'rmh_cat_desc', 'prod_grp_desc', 'prod_type_desc',\n",
    "          'gender_desc', 'age_group_desc']].drop_duplicates(), on='article_number', how = 'left')\n",
    "\n",
    "preds_season = preds_season[preds_season.rmh_cat_desc != 'DUMMY']"
   ]
  },
  {
   "cell_type": "code",
   "execution_count": null,
   "metadata": {},
   "outputs": [],
   "source": [
    "# preds_season = preds_season.rename(columns = {\n",
    "#     'ecom_fc': 'FW20_eCom_FC',\n",
    "#     'y_hat': 'net_forecast', 'Opt_Ovb': 'buy_recommendation', \n",
    "#     'art_desc': 'description', \n",
    "#     'prod_type_desc': 'type', 'rmh_cat_desc': 'RMH'})"
   ]
  },
  {
   "cell_type": "code",
   "execution_count": null,
   "metadata": {},
   "outputs": [],
   "source": [
    "# preds_season = preds_season[['article_number',  'brand', 'model_no', 'description', 'type', 'RMH', \n",
    "#                              'price', 'cost', 'margin', 'net_forecast', 'buy_recommendation', 'FW20_eCom_FC',\n",
    "#                              'FW19_eCom_total_market_FC', 'FW19_eCom_SO', 'FW19_eCom_RDP']] \n",
    "\n",
    "# preds_season = preds_season.set_index('article_number')"
   ]
  },
  {
   "cell_type": "code",
   "execution_count": null,
   "metadata": {},
   "outputs": [],
   "source": [
    "preds_season = preds_season.replace('Error', 0)"
   ]
  },
  {
   "cell_type": "code",
   "execution_count": null,
   "metadata": {},
   "outputs": [],
   "source": [
    "# Convert to integers to remove '.0' endings\n",
    "for c in preds_season.columns:\n",
    "    if type(preds_season[c][0:1][0]) == np.float64:\n",
    "        preds_season.loc[:, c] = preds_season[c].fillna(0).replace(np.inf, 0).round().astype(int)"
   ]
  },
  {
   "cell_type": "code",
   "execution_count": null,
   "metadata": {},
   "outputs": [],
   "source": [
    "deliverable_format = file_names[4]\n",
    "preds_season.to_excel(deliverable_format)"
   ]
  }
 ],
 "metadata": {
  "celltoolbar": "Hide code",
  "hide_code_all_hidden": false,
  "kernelspec": {
   "display_name": "Python 3",
   "language": "python",
   "name": "python3"
  },
  "language_info": {
   "codemirror_mode": {
    "name": "ipython",
    "version": 3
   },
   "file_extension": ".py",
   "mimetype": "text/x-python",
   "name": "python",
   "nbconvert_exporter": "python",
   "pygments_lexer": "ipython3",
   "version": "3.7.5"
  }
 },
 "nbformat": 4,
 "nbformat_minor": 2
}
