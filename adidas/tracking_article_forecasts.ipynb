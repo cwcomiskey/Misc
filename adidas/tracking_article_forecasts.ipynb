{
 "cells": [
  {
   "cell_type": "code",
   "execution_count": 3,
   "metadata": {
    "ExecuteTime": {
     "end_time": "2020-01-23T11:20:49.054848Z",
     "start_time": "2020-01-23T11:20:47.403482Z"
    },
    "code_folding": [
     0
    ],
    "hideCode": true,
    "hidePrompt": false,
    "scrolled": false
   },
   "outputs": [
    {
     "data": {
      "text/html": [
       "<style>.container { width:100% !important; }</style>"
      ],
      "text/plain": [
       "<IPython.core.display.HTML object>"
      ]
     },
     "metadata": {},
     "output_type": "display_data"
    }
   ],
   "source": [
    "# Modules, functions -- \n",
    "\n",
    "import numpy as np\n",
    "import pandas as pd\n",
    "from pandas import DataFrame, Series\n",
    "\n",
    "# import multiprocessing\n",
    "\n",
    "import matplotlib.pyplot as plt\n",
    "# import bokeh\n",
    "# import bokeh.io\n",
    "# from bokeh.plotting import figure\n",
    "# from bokeh.io import output_notebook, show\n",
    "\n",
    "# init_notebook_mode()\n",
    "\n",
    "# import seaborn as sns\n",
    "\n",
    "# import re\n",
    "# import math\n",
    "# import copy\n",
    "\n",
    "# from collections import defaultdict\n",
    "# import csv\n",
    "# import itertools\n",
    "# import datetime \n",
    "# from datetime import datetime\n",
    "# import time\n",
    "# import dateutil.parser\n",
    "# import pickle\n",
    "# import random\n",
    "\n",
    "# import gc\n",
    "# import zipfile\n",
    "# import sys, getopt\n",
    "# import os\n",
    "\n",
    "from IPython.core.interactiveshell import InteractiveShell\n",
    "from io import StringIO\n",
    "\n",
    "# import dask.dataframe as dd\n",
    "#from chest import Chest\n",
    "\n",
    "InteractiveShell.ast_node_interactivity = \"all\"\n",
    "# InteractiveShell.ast_node_interactivity = \"last\"\n",
    "\n",
    "# Magic function to make matplotlib inline\n",
    "%matplotlib inline\n",
    "%config InlineBackend.figure_formats = {'png', 'retina'}\n",
    "\n",
    "# Set up Bokeh for inline viewing\n",
    "# bokeh.io.output_notebook()\n",
    "\n",
    "# import dask.dataframe as ddf\n",
    "# import dask.array as da\n",
    "\n",
    "pd.set_option('max_columns', 500)\n",
    "pd.set_option('max_rows', 1700)\n",
    "\n",
    "# import scipy\n",
    "\n",
    "# import statsmodels.api as sm\n",
    "# from statsmodels.tsa.seasonal import seasonal_decompose\n",
    "# from statsmodels.tsa.tsatools import detrend\n",
    "\n",
    "import datetime as dt\n",
    "\n",
    "from IPython.core.display import display, HTML\n",
    "display(HTML(\"<style>.container { width:100% !important; }</style>\"))\n",
    "\n",
    "import functions as fcns # custom functions Artem/Chris wrote\n"
   ]
  },
  {
   "cell_type": "code",
   "execution_count": 79,
   "metadata": {
    "ExecuteTime": {
     "end_time": "2020-01-23T11:38:23.319736Z",
     "start_time": "2020-01-23T11:38:23.316319Z"
    }
   },
   "outputs": [],
   "source": [
    "# Issue: some weeks count more than others, and seasonality matters\n",
    "# Being close in a big week should count more than being close in a poor week\n",
    "\n",
    "f = np.array([55, 77, 99, 10]) # forecast\n",
    "o = np.array([50, 70, 90, 20]) # observed\n"
   ]
  },
  {
   "cell_type": "code",
   "execution_count": 80,
   "metadata": {
    "ExecuteTime": {
     "end_time": "2020-01-23T11:38:23.593005Z",
     "start_time": "2020-01-23T11:38:23.589858Z"
    }
   },
   "outputs": [],
   "source": [
    "pct_chng = (o - f)/f # weekly percent deviation from forecast\n",
    "wgt = o              # weights -- observed quantites\n",
    "denom = o.sum()      # denominator"
   ]
  },
  {
   "cell_type": "code",
   "execution_count": 81,
   "metadata": {
    "ExecuteTime": {
     "end_time": "2020-01-23T11:38:23.867449Z",
     "start_time": "2020-01-23T11:38:23.863110Z"
    }
   },
   "outputs": [
    {
     "data": {
      "text/plain": [
       "0.004"
      ]
     },
     "execution_count": 81,
     "metadata": {},
     "output_type": "execute_result"
    }
   ],
   "source": [
    "# Weighted percent difference\n",
    "\n",
    "sigma = (wgt*pct_chng)\n",
    "round(sigma.sum()/denom, 3)"
   ]
  },
  {
   "cell_type": "code",
   "execution_count": 82,
   "metadata": {
    "ExecuteTime": {
     "end_time": "2020-01-23T11:38:24.221849Z",
     "start_time": "2020-01-23T11:38:24.215328Z"
    }
   },
   "outputs": [
    {
     "data": {
      "text/plain": [
       "-0.046"
      ]
     },
     "execution_count": 82,
     "metadata": {},
     "output_type": "execute_result"
    },
    {
     "data": {
      "text/plain": [
       "0.182"
      ]
     },
     "execution_count": 82,
     "metadata": {},
     "output_type": "execute_result"
    }
   ],
   "source": [
    "\n",
    "round((o.sum()/f.sum()) - 1, 3) # raw pct difference\n",
    "\n",
    "pct_chng.mean().round(3)        # unweighted average weekly pct difference"
   ]
  },
  {
   "cell_type": "code",
   "execution_count": null,
   "metadata": {},
   "outputs": [],
   "source": []
  }
 ],
 "metadata": {
  "celltoolbar": "Hide code",
  "hide_code_all_hidden": false,
  "kernelspec": {
   "display_name": "Python 3",
   "language": "python",
   "name": "python3"
  },
  "language_info": {
   "codemirror_mode": {
    "name": "ipython",
    "version": 3
   },
   "file_extension": ".py",
   "mimetype": "text/x-python",
   "name": "python",
   "nbconvert_exporter": "python",
   "pygments_lexer": "ipython3",
   "version": "3.7.5"
  }
 },
 "nbformat": 4,
 "nbformat_minor": 2
}
