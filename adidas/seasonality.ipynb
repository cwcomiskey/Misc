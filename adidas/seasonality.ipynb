{
 "cells": [
  {
   "cell_type": "code",
   "execution_count": null,
   "metadata": {
    "code_folding": [],
    "hideCode": true,
    "hidePrompt": false,
    "scrolled": false
   },
   "outputs": [],
   "source": [
    "import numpy as np\n",
    "import pandas as pd\n",
    "from pandas import DataFrame, Series\n",
    "\n",
    "from IPython.core.interactiveshell import InteractiveShell\n",
    "\n",
    "InteractiveShell.ast_node_interactivity = \"all\"\n",
    "\n",
    "# from IPython.core.display import display, HTML\n",
    "# display(HTML(\"<style>.container { width:100% !important; }</style>\"))\n",
    "\n",
    "import functions as fcns # custom functions Artem/Chris wrote\n"
   ]
  },
  {
   "cell_type": "code",
   "execution_count": null,
   "metadata": {},
   "outputs": [],
   "source": [
    "run_data = pd.read_csv('data/run_data.csv') \n",
    "articles_of_interest = np.load('data/articles_of_interest.npy', allow_pickle=True).tolist()\n",
    "file_names = np.load('data/file_names.npy', allow_pickle=True).tolist()\n"
   ]
  },
  {
   "cell_type": "code",
   "execution_count": null,
   "metadata": {
    "code_folding": [],
    "hideCode": false,
    "hidePrompt": false
   },
   "outputs": [],
   "source": [
    "\n",
    "seasonality_dat = (\n",
    "    run_data[['article_number', 'brand', 'year', 'week', 'country', 'season', 'net_qty', 'sports_cat_desc', \n",
    "              'rmh_cat_desc', 'gender_desc', 'age_group_desc', 'franchise', 'prod_grp_desc']].\n",
    "    dropna().\n",
    "    sort_values(['article_number', 'year', 'week']).\n",
    "    copy())\n",
    "\n",
    "seasonality_dat['net_qty2'] = seasonality_dat.groupby(['article_number', 'brand', 'season', 'year', 'week'])['net_qty'].transform(sum)\n",
    "seasonality_dat = seasonality_dat.drop(['brand', 'country', 'net_qty'], axis = 1).drop_duplicates().rename(columns = {'net_qty2': 'net_qty'})\n",
    "\n",
    "# -- Reliable, mirror seasons --\n",
    "seasonality_dat = seasonality_dat[seasonality_dat.season.isin(file_names[6])] \n"
   ]
  },
  {
   "cell_type": "code",
   "execution_count": null,
   "metadata": {
    "code_folding": [],
    "hideCode": false,
    "hidePrompt": false,
    "scrolled": true
   },
   "outputs": [],
   "source": [
    "# ---- Calculate cat-level weekly means across *ALL SEASONS* ---- \n",
    "seasonality_sport = fcns.calc_cat_level_means(df = seasonality_dat, cat = 'sports_cat_desc', new_col_name = 'sport_weekly_mean')\n",
    "seasonality_rmh = fcns.calc_cat_level_means(seasonality_dat, 'rmh_cat_desc', 'rmh_weekly_mean')\n",
    "seasonality_gndr = fcns.calc_cat_level_means(seasonality_dat, 'gender_desc', 'gender_weekly_mean')\n",
    "seasonality_agegrp = fcns.calc_cat_level_means(seasonality_dat, 'age_group_desc', 'age_weekly_mean')\n",
    "seasonality_frnchse = fcns.calc_cat_level_means(seasonality_dat, 'franchise', 'franchise_weekly_mean')\n",
    "seasonality_prdgrp = fcns.calc_cat_level_means(seasonality_dat, 'prod_grp_desc', 'prd_grp_weekly_mean')\n",
    "\n",
    "\n",
    "seasonality_dat = seasonality_dat[(seasonality_dat.article_number.isin(articles_of_interest))].sort_values(['article_number', 'year', 'week'])\n",
    "\n"
   ]
  },
  {
   "cell_type": "code",
   "execution_count": null,
   "metadata": {
    "hideCode": false,
    "hidePrompt": false
   },
   "outputs": [],
   "source": [
    "# regress articles of interest on seasonality\n",
    "preds = (seasonality_dat.groupby(['article_number']).\n",
    "         apply(fcns.regress, \n",
    "               cat1 = seasonality_sport, cat2 = seasonality_rmh, cat3 = seasonality_gndr,\n",
    "               cat4 = seasonality_agegrp, cat5 = seasonality_frnchse, cat6 = seasonality_prdgrp).\n",
    "         reset_index()\n",
    "        )"
   ]
  },
  {
   "cell_type": "code",
   "execution_count": null,
   "metadata": {
    "hideCode": false,
    "hidePrompt": false
   },
   "outputs": [],
   "source": [
    "# Merge back with net_qty\n",
    "preds = (pd.merge(preds, seasonality_dat[seasonality_dat.season == file_names[5]], how = 'left').\n",
    "         sort_values(['article_number', 'year', 'week'])[['article_number', 'year', 'week', 'net_qty', 'seas_preds']]\n",
    "        )\n",
    "         \n"
   ]
  },
  {
   "cell_type": "code",
   "execution_count": null,
   "metadata": {
    "hideCode": false,
    "hidePrompt": false
   },
   "outputs": [],
   "source": [
    "# Non-negative forecast rule\n",
    "preds['seas_preds'] = np.where(preds.seas_preds > 0, preds.seas_preds, 0) "
   ]
  },
  {
   "cell_type": "code",
   "execution_count": null,
   "metadata": {},
   "outputs": [],
   "source": [
    "preds.to_excel(file_names[1], index=False)"
   ]
  },
  {
   "cell_type": "code",
   "execution_count": null,
   "metadata": {},
   "outputs": [],
   "source": [
    "file_names[1]"
   ]
  }
 ],
 "metadata": {
  "celltoolbar": "Hide code",
  "hide_code_all_hidden": false,
  "kernelspec": {
   "display_name": "Python 3",
   "language": "python",
   "name": "python3"
  },
  "language_info": {
   "codemirror_mode": {
    "name": "ipython",
    "version": 3
   },
   "file_extension": ".py",
   "mimetype": "text/x-python",
   "name": "python",
   "nbconvert_exporter": "python",
   "pygments_lexer": "ipython3",
   "version": "3.7.5"
  }
 },
 "nbformat": 4,
 "nbformat_minor": 2
}
