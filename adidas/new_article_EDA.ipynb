{
 "cells": [
  {
   "cell_type": "code",
   "execution_count": 39,
   "metadata": {
    "ExecuteTime": {
     "end_time": "2019-10-30T14:49:20.893452Z",
     "start_time": "2019-10-30T14:49:20.581912Z"
    },
    "hideCode": false,
    "hidePrompt": false,
    "scrolled": true
   },
   "outputs": [
    {
     "data": {
      "text/html": [
       "\n",
       "    <div class=\"bk-root\">\n",
       "        <a href=\"https://bokeh.pydata.org\" target=\"_blank\" class=\"bk-logo bk-logo-small bk-logo-notebook\"></a>\n",
       "        <span id=\"1002\">Loading BokehJS ...</span>\n",
       "    </div>"
      ]
     },
     "metadata": {},
     "output_type": "display_data"
    },
    {
     "data": {
      "application/javascript": [
       "\n",
       "(function(root) {\n",
       "  function now() {\n",
       "    return new Date();\n",
       "  }\n",
       "\n",
       "  var force = true;\n",
       "\n",
       "  if (typeof (root._bokeh_onload_callbacks) === \"undefined\" || force === true) {\n",
       "    root._bokeh_onload_callbacks = [];\n",
       "    root._bokeh_is_loading = undefined;\n",
       "  }\n",
       "\n",
       "  var JS_MIME_TYPE = 'application/javascript';\n",
       "  var HTML_MIME_TYPE = 'text/html';\n",
       "  var EXEC_MIME_TYPE = 'application/vnd.bokehjs_exec.v0+json';\n",
       "  var CLASS_NAME = 'output_bokeh rendered_html';\n",
       "\n",
       "  /**\n",
       "   * Render data to the DOM node\n",
       "   */\n",
       "  function render(props, node) {\n",
       "    var script = document.createElement(\"script\");\n",
       "    node.appendChild(script);\n",
       "  }\n",
       "\n",
       "  /**\n",
       "   * Handle when an output is cleared or removed\n",
       "   */\n",
       "  function handleClearOutput(event, handle) {\n",
       "    var cell = handle.cell;\n",
       "\n",
       "    var id = cell.output_area._bokeh_element_id;\n",
       "    var server_id = cell.output_area._bokeh_server_id;\n",
       "    // Clean up Bokeh references\n",
       "    if (id != null && id in Bokeh.index) {\n",
       "      Bokeh.index[id].model.document.clear();\n",
       "      delete Bokeh.index[id];\n",
       "    }\n",
       "\n",
       "    if (server_id !== undefined) {\n",
       "      // Clean up Bokeh references\n",
       "      var cmd = \"from bokeh.io.state import curstate; print(curstate().uuid_to_server['\" + server_id + \"'].get_sessions()[0].document.roots[0]._id)\";\n",
       "      cell.notebook.kernel.execute(cmd, {\n",
       "        iopub: {\n",
       "          output: function(msg) {\n",
       "            var id = msg.content.text.trim();\n",
       "            if (id in Bokeh.index) {\n",
       "              Bokeh.index[id].model.document.clear();\n",
       "              delete Bokeh.index[id];\n",
       "            }\n",
       "          }\n",
       "        }\n",
       "      });\n",
       "      // Destroy server and session\n",
       "      var cmd = \"import bokeh.io.notebook as ion; ion.destroy_server('\" + server_id + \"')\";\n",
       "      cell.notebook.kernel.execute(cmd);\n",
       "    }\n",
       "  }\n",
       "\n",
       "  /**\n",
       "   * Handle when a new output is added\n",
       "   */\n",
       "  function handleAddOutput(event, handle) {\n",
       "    var output_area = handle.output_area;\n",
       "    var output = handle.output;\n",
       "\n",
       "    // limit handleAddOutput to display_data with EXEC_MIME_TYPE content only\n",
       "    if ((output.output_type != \"display_data\") || (!output.data.hasOwnProperty(EXEC_MIME_TYPE))) {\n",
       "      return\n",
       "    }\n",
       "\n",
       "    var toinsert = output_area.element.find(\".\" + CLASS_NAME.split(' ')[0]);\n",
       "\n",
       "    if (output.metadata[EXEC_MIME_TYPE][\"id\"] !== undefined) {\n",
       "      toinsert[toinsert.length - 1].firstChild.textContent = output.data[JS_MIME_TYPE];\n",
       "      // store reference to embed id on output_area\n",
       "      output_area._bokeh_element_id = output.metadata[EXEC_MIME_TYPE][\"id\"];\n",
       "    }\n",
       "    if (output.metadata[EXEC_MIME_TYPE][\"server_id\"] !== undefined) {\n",
       "      var bk_div = document.createElement(\"div\");\n",
       "      bk_div.innerHTML = output.data[HTML_MIME_TYPE];\n",
       "      var script_attrs = bk_div.children[0].attributes;\n",
       "      for (var i = 0; i < script_attrs.length; i++) {\n",
       "        toinsert[toinsert.length - 1].firstChild.setAttribute(script_attrs[i].name, script_attrs[i].value);\n",
       "      }\n",
       "      // store reference to server id on output_area\n",
       "      output_area._bokeh_server_id = output.metadata[EXEC_MIME_TYPE][\"server_id\"];\n",
       "    }\n",
       "  }\n",
       "\n",
       "  function register_renderer(events, OutputArea) {\n",
       "\n",
       "    function append_mime(data, metadata, element) {\n",
       "      // create a DOM node to render to\n",
       "      var toinsert = this.create_output_subarea(\n",
       "        metadata,\n",
       "        CLASS_NAME,\n",
       "        EXEC_MIME_TYPE\n",
       "      );\n",
       "      this.keyboard_manager.register_events(toinsert);\n",
       "      // Render to node\n",
       "      var props = {data: data, metadata: metadata[EXEC_MIME_TYPE]};\n",
       "      render(props, toinsert[toinsert.length - 1]);\n",
       "      element.append(toinsert);\n",
       "      return toinsert\n",
       "    }\n",
       "\n",
       "    /* Handle when an output is cleared or removed */\n",
       "    events.on('clear_output.CodeCell', handleClearOutput);\n",
       "    events.on('delete.Cell', handleClearOutput);\n",
       "\n",
       "    /* Handle when a new output is added */\n",
       "    events.on('output_added.OutputArea', handleAddOutput);\n",
       "\n",
       "    /**\n",
       "     * Register the mime type and append_mime function with output_area\n",
       "     */\n",
       "    OutputArea.prototype.register_mime_type(EXEC_MIME_TYPE, append_mime, {\n",
       "      /* Is output safe? */\n",
       "      safe: true,\n",
       "      /* Index of renderer in `output_area.display_order` */\n",
       "      index: 0\n",
       "    });\n",
       "  }\n",
       "\n",
       "  // register the mime type if in Jupyter Notebook environment and previously unregistered\n",
       "  if (root.Jupyter !== undefined) {\n",
       "    var events = require('base/js/events');\n",
       "    var OutputArea = require('notebook/js/outputarea').OutputArea;\n",
       "\n",
       "    if (OutputArea.prototype.mime_types().indexOf(EXEC_MIME_TYPE) == -1) {\n",
       "      register_renderer(events, OutputArea);\n",
       "    }\n",
       "  }\n",
       "\n",
       "  \n",
       "  if (typeof (root._bokeh_timeout) === \"undefined\" || force === true) {\n",
       "    root._bokeh_timeout = Date.now() + 5000;\n",
       "    root._bokeh_failed_load = false;\n",
       "  }\n",
       "\n",
       "  var NB_LOAD_WARNING = {'data': {'text/html':\n",
       "     \"<div style='background-color: #fdd'>\\n\"+\n",
       "     \"<p>\\n\"+\n",
       "     \"BokehJS does not appear to have successfully loaded. If loading BokehJS from CDN, this \\n\"+\n",
       "     \"may be due to a slow or bad network connection. Possible fixes:\\n\"+\n",
       "     \"</p>\\n\"+\n",
       "     \"<ul>\\n\"+\n",
       "     \"<li>re-rerun `output_notebook()` to attempt to load from CDN again, or</li>\\n\"+\n",
       "     \"<li>use INLINE resources instead, as so:</li>\\n\"+\n",
       "     \"</ul>\\n\"+\n",
       "     \"<code>\\n\"+\n",
       "     \"from bokeh.resources import INLINE\\n\"+\n",
       "     \"output_notebook(resources=INLINE)\\n\"+\n",
       "     \"</code>\\n\"+\n",
       "     \"</div>\"}};\n",
       "\n",
       "  function display_loaded() {\n",
       "    var el = document.getElementById(\"1002\");\n",
       "    if (el != null) {\n",
       "      el.textContent = \"BokehJS is loading...\";\n",
       "    }\n",
       "    if (root.Bokeh !== undefined) {\n",
       "      if (el != null) {\n",
       "        el.textContent = \"BokehJS \" + root.Bokeh.version + \" successfully loaded.\";\n",
       "      }\n",
       "    } else if (Date.now() < root._bokeh_timeout) {\n",
       "      setTimeout(display_loaded, 100)\n",
       "    }\n",
       "  }\n",
       "\n",
       "\n",
       "  function run_callbacks() {\n",
       "    try {\n",
       "      root._bokeh_onload_callbacks.forEach(function(callback) { callback() });\n",
       "    }\n",
       "    finally {\n",
       "      delete root._bokeh_onload_callbacks\n",
       "    }\n",
       "    console.info(\"Bokeh: all callbacks have finished\");\n",
       "  }\n",
       "\n",
       "  function load_libs(js_urls, callback) {\n",
       "    root._bokeh_onload_callbacks.push(callback);\n",
       "    if (root._bokeh_is_loading > 0) {\n",
       "      console.log(\"Bokeh: BokehJS is being loaded, scheduling callback at\", now());\n",
       "      return null;\n",
       "    }\n",
       "    if (js_urls == null || js_urls.length === 0) {\n",
       "      run_callbacks();\n",
       "      return null;\n",
       "    }\n",
       "    console.log(\"Bokeh: BokehJS not loaded, scheduling load and callback at\", now());\n",
       "    root._bokeh_is_loading = js_urls.length;\n",
       "    for (var i = 0; i < js_urls.length; i++) {\n",
       "      var url = js_urls[i];\n",
       "      var s = document.createElement('script');\n",
       "      s.src = url;\n",
       "      s.async = false;\n",
       "      s.onreadystatechange = s.onload = function() {\n",
       "        root._bokeh_is_loading--;\n",
       "        if (root._bokeh_is_loading === 0) {\n",
       "          console.log(\"Bokeh: all BokehJS libraries loaded\");\n",
       "          run_callbacks()\n",
       "        }\n",
       "      };\n",
       "      s.onerror = function() {\n",
       "        console.warn(\"failed to load library \" + url);\n",
       "      };\n",
       "      console.log(\"Bokeh: injecting script tag for BokehJS library: \", url);\n",
       "      document.getElementsByTagName(\"head\")[0].appendChild(s);\n",
       "    }\n",
       "  };var element = document.getElementById(\"1002\");\n",
       "  if (element == null) {\n",
       "    console.log(\"Bokeh: ERROR: autoload.js configured with elementid '1002' but no matching script tag was found. \")\n",
       "    return false;\n",
       "  }\n",
       "\n",
       "  var js_urls = [\"https://cdn.pydata.org/bokeh/release/bokeh-1.0.2.min.js\", \"https://cdn.pydata.org/bokeh/release/bokeh-widgets-1.0.2.min.js\", \"https://cdn.pydata.org/bokeh/release/bokeh-tables-1.0.2.min.js\", \"https://cdn.pydata.org/bokeh/release/bokeh-gl-1.0.2.min.js\"];\n",
       "\n",
       "  var inline_js = [\n",
       "    function(Bokeh) {\n",
       "      Bokeh.set_log_level(\"info\");\n",
       "    },\n",
       "    \n",
       "    function(Bokeh) {\n",
       "      \n",
       "    },\n",
       "    function(Bokeh) {\n",
       "      console.log(\"Bokeh: injecting CSS: https://cdn.pydata.org/bokeh/release/bokeh-1.0.2.min.css\");\n",
       "      Bokeh.embed.inject_css(\"https://cdn.pydata.org/bokeh/release/bokeh-1.0.2.min.css\");\n",
       "      console.log(\"Bokeh: injecting CSS: https://cdn.pydata.org/bokeh/release/bokeh-widgets-1.0.2.min.css\");\n",
       "      Bokeh.embed.inject_css(\"https://cdn.pydata.org/bokeh/release/bokeh-widgets-1.0.2.min.css\");\n",
       "      console.log(\"Bokeh: injecting CSS: https://cdn.pydata.org/bokeh/release/bokeh-tables-1.0.2.min.css\");\n",
       "      Bokeh.embed.inject_css(\"https://cdn.pydata.org/bokeh/release/bokeh-tables-1.0.2.min.css\");\n",
       "    }\n",
       "  ];\n",
       "\n",
       "  function run_inline_js() {\n",
       "    \n",
       "    if ((root.Bokeh !== undefined) || (force === true)) {\n",
       "      for (var i = 0; i < inline_js.length; i++) {\n",
       "        inline_js[i].call(root, root.Bokeh);\n",
       "      }if (force === true) {\n",
       "        display_loaded();\n",
       "      }} else if (Date.now() < root._bokeh_timeout) {\n",
       "      setTimeout(run_inline_js, 100);\n",
       "    } else if (!root._bokeh_failed_load) {\n",
       "      console.log(\"Bokeh: BokehJS failed to load within specified timeout.\");\n",
       "      root._bokeh_failed_load = true;\n",
       "    } else if (force !== true) {\n",
       "      var cell = $(document.getElementById(\"1002\")).parents('.cell').data().cell;\n",
       "      cell.output_area.append_execute_result(NB_LOAD_WARNING)\n",
       "    }\n",
       "\n",
       "  }\n",
       "\n",
       "  if (root._bokeh_is_loading === 0) {\n",
       "    console.log(\"Bokeh: BokehJS loaded, going straight to plotting\");\n",
       "    run_inline_js();\n",
       "  } else {\n",
       "    load_libs(js_urls, function() {\n",
       "      console.log(\"Bokeh: BokehJS plotting callback run at\", now());\n",
       "      run_inline_js();\n",
       "    });\n",
       "  }\n",
       "}(window));"
      ],
      "application/vnd.bokehjs_load.v0+json": "\n(function(root) {\n  function now() {\n    return new Date();\n  }\n\n  var force = true;\n\n  if (typeof (root._bokeh_onload_callbacks) === \"undefined\" || force === true) {\n    root._bokeh_onload_callbacks = [];\n    root._bokeh_is_loading = undefined;\n  }\n\n  \n\n  \n  if (typeof (root._bokeh_timeout) === \"undefined\" || force === true) {\n    root._bokeh_timeout = Date.now() + 5000;\n    root._bokeh_failed_load = false;\n  }\n\n  var NB_LOAD_WARNING = {'data': {'text/html':\n     \"<div style='background-color: #fdd'>\\n\"+\n     \"<p>\\n\"+\n     \"BokehJS does not appear to have successfully loaded. If loading BokehJS from CDN, this \\n\"+\n     \"may be due to a slow or bad network connection. Possible fixes:\\n\"+\n     \"</p>\\n\"+\n     \"<ul>\\n\"+\n     \"<li>re-rerun `output_notebook()` to attempt to load from CDN again, or</li>\\n\"+\n     \"<li>use INLINE resources instead, as so:</li>\\n\"+\n     \"</ul>\\n\"+\n     \"<code>\\n\"+\n     \"from bokeh.resources import INLINE\\n\"+\n     \"output_notebook(resources=INLINE)\\n\"+\n     \"</code>\\n\"+\n     \"</div>\"}};\n\n  function display_loaded() {\n    var el = document.getElementById(\"1002\");\n    if (el != null) {\n      el.textContent = \"BokehJS is loading...\";\n    }\n    if (root.Bokeh !== undefined) {\n      if (el != null) {\n        el.textContent = \"BokehJS \" + root.Bokeh.version + \" successfully loaded.\";\n      }\n    } else if (Date.now() < root._bokeh_timeout) {\n      setTimeout(display_loaded, 100)\n    }\n  }\n\n\n  function run_callbacks() {\n    try {\n      root._bokeh_onload_callbacks.forEach(function(callback) { callback() });\n    }\n    finally {\n      delete root._bokeh_onload_callbacks\n    }\n    console.info(\"Bokeh: all callbacks have finished\");\n  }\n\n  function load_libs(js_urls, callback) {\n    root._bokeh_onload_callbacks.push(callback);\n    if (root._bokeh_is_loading > 0) {\n      console.log(\"Bokeh: BokehJS is being loaded, scheduling callback at\", now());\n      return null;\n    }\n    if (js_urls == null || js_urls.length === 0) {\n      run_callbacks();\n      return null;\n    }\n    console.log(\"Bokeh: BokehJS not loaded, scheduling load and callback at\", now());\n    root._bokeh_is_loading = js_urls.length;\n    for (var i = 0; i < js_urls.length; i++) {\n      var url = js_urls[i];\n      var s = document.createElement('script');\n      s.src = url;\n      s.async = false;\n      s.onreadystatechange = s.onload = function() {\n        root._bokeh_is_loading--;\n        if (root._bokeh_is_loading === 0) {\n          console.log(\"Bokeh: all BokehJS libraries loaded\");\n          run_callbacks()\n        }\n      };\n      s.onerror = function() {\n        console.warn(\"failed to load library \" + url);\n      };\n      console.log(\"Bokeh: injecting script tag for BokehJS library: \", url);\n      document.getElementsByTagName(\"head\")[0].appendChild(s);\n    }\n  };var element = document.getElementById(\"1002\");\n  if (element == null) {\n    console.log(\"Bokeh: ERROR: autoload.js configured with elementid '1002' but no matching script tag was found. \")\n    return false;\n  }\n\n  var js_urls = [\"https://cdn.pydata.org/bokeh/release/bokeh-1.0.2.min.js\", \"https://cdn.pydata.org/bokeh/release/bokeh-widgets-1.0.2.min.js\", \"https://cdn.pydata.org/bokeh/release/bokeh-tables-1.0.2.min.js\", \"https://cdn.pydata.org/bokeh/release/bokeh-gl-1.0.2.min.js\"];\n\n  var inline_js = [\n    function(Bokeh) {\n      Bokeh.set_log_level(\"info\");\n    },\n    \n    function(Bokeh) {\n      \n    },\n    function(Bokeh) {\n      console.log(\"Bokeh: injecting CSS: https://cdn.pydata.org/bokeh/release/bokeh-1.0.2.min.css\");\n      Bokeh.embed.inject_css(\"https://cdn.pydata.org/bokeh/release/bokeh-1.0.2.min.css\");\n      console.log(\"Bokeh: injecting CSS: https://cdn.pydata.org/bokeh/release/bokeh-widgets-1.0.2.min.css\");\n      Bokeh.embed.inject_css(\"https://cdn.pydata.org/bokeh/release/bokeh-widgets-1.0.2.min.css\");\n      console.log(\"Bokeh: injecting CSS: https://cdn.pydata.org/bokeh/release/bokeh-tables-1.0.2.min.css\");\n      Bokeh.embed.inject_css(\"https://cdn.pydata.org/bokeh/release/bokeh-tables-1.0.2.min.css\");\n    }\n  ];\n\n  function run_inline_js() {\n    \n    if ((root.Bokeh !== undefined) || (force === true)) {\n      for (var i = 0; i < inline_js.length; i++) {\n        inline_js[i].call(root, root.Bokeh);\n      }if (force === true) {\n        display_loaded();\n      }} else if (Date.now() < root._bokeh_timeout) {\n      setTimeout(run_inline_js, 100);\n    } else if (!root._bokeh_failed_load) {\n      console.log(\"Bokeh: BokehJS failed to load within specified timeout.\");\n      root._bokeh_failed_load = true;\n    } else if (force !== true) {\n      var cell = $(document.getElementById(\"1002\")).parents('.cell').data().cell;\n      cell.output_area.append_execute_result(NB_LOAD_WARNING)\n    }\n\n  }\n\n  if (root._bokeh_is_loading === 0) {\n    console.log(\"Bokeh: BokehJS loaded, going straight to plotting\");\n    run_inline_js();\n  } else {\n    load_libs(js_urls, function() {\n      console.log(\"Bokeh: BokehJS plotting callback run at\", now());\n      run_inline_js();\n    });\n  }\n}(window));"
     },
     "metadata": {},
     "output_type": "display_data"
    }
   ],
   "source": [
    "import numpy as np\n",
    "import pandas as pd\n",
    "import multiprocessing\n",
    "\n",
    "import matplotlib.pyplot as plt\n",
    "import bokeh\n",
    "import bokeh.io\n",
    "from bokeh.plotting import figure\n",
    "from bokeh.io import output_notebook, show\n",
    "\n",
    "# init_notebook_mode()\n",
    "\n",
    "import seaborn as sns\n",
    "\n",
    "import re\n",
    "import math\n",
    "import copy\n",
    "\n",
    "from collections import defaultdict\n",
    "import csv\n",
    "import itertools\n",
    "import datetime \n",
    "from datetime import datetime\n",
    "import time\n",
    "import dateutil.parser\n",
    "import pickle\n",
    "import random\n",
    "\n",
    "import gc\n",
    "import zipfile\n",
    "import sys, getopt\n",
    "import os\n",
    "\n",
    "from IPython.core.interactiveshell import InteractiveShell\n",
    "from io import StringIO\n",
    "\n",
    "import dask.dataframe as dd\n",
    "#from chest import Chest\n",
    "\n",
    "InteractiveShell.ast_node_interactivity = \"all\"\n",
    "#InteractiveShell.ast_node_interactivity = \"last\"\n",
    "\n",
    "# Magic function to make matplotlib inline\n",
    "%matplotlib inline\n",
    "%config InlineBackend.figure_formats = {'png', 'retina'}\n",
    "\n",
    "# Set up Bokeh for inline viewing\n",
    "bokeh.io.output_notebook()\n",
    "\n",
    "import dask.dataframe as ddf\n",
    "import dask.array as da\n",
    "\n",
    "pd.set_option('max_columns', 500)\n",
    "pd.set_option('max_rows', 800)\n",
    "\n",
    "import scipy\n",
    "\n",
    "import statsmodels.api as sm\n",
    "from statsmodels.tsa.seasonal import seasonal_decompose\n",
    "from statsmodels.tsa.tsatools import detrend\n",
    "\n",
    "import datetime as dt\n",
    "\n",
    "from sklearn.tree import DecisionTreeClassifier"
   ]
  },
  {
   "cell_type": "markdown",
   "metadata": {
    "hideCode": false,
    "hidePrompt": false
   },
   "source": [
    "# Data"
   ]
  },
  {
   "cell_type": "code",
   "execution_count": 4,
   "metadata": {
    "ExecuteTime": {
     "end_time": "2019-10-30T14:38:42.949244Z",
     "start_time": "2019-10-30T14:38:06.862218Z"
    },
    "hideCode": false,
    "hidePrompt": false,
    "scrolled": true
   },
   "outputs": [],
   "source": [
    "dat0 = pd.read_csv('data/ch4k_df.csv')\n",
    "ref_dat0 = pd.read_csv('data/Article reference data.csv', low_memory = False, error_bad_lines = False, \n",
    "                       usecols = ['article_no', 'model_no', 'art_desc', 'sports_cat_desc', 'rmh_cat_desc', \n",
    "                                  'franchise', 'gender_desc', 'age_group_desc', 'prod_grp_desc', 'prod_type_desc',\n",
    "                                  'brand_desc', 'bus_unit_desc', 'rmh_cat_desc'])\n",
    "\n",
    "# Remove clearance transactions!!\n",
    "dat0['clearance'] = dat0.clearance.fillna(0) \n",
    "dat0['net_qty'] = (1 - dat0.clearance)*dat0.net_qty"
   ]
  },
  {
   "cell_type": "markdown",
   "metadata": {
    "hideCode": false,
    "hidePrompt": false
   },
   "source": [
    "# Magic"
   ]
  },
  {
   "cell_type": "code",
   "execution_count": 16,
   "metadata": {
    "ExecuteTime": {
     "end_time": "2019-10-30T14:41:54.534416Z",
     "start_time": "2019-10-30T14:41:52.918897Z"
    },
    "hideCode": false,
    "hidePrompt": false,
    "scrolled": true
   },
   "outputs": [],
   "source": [
    "dat = dat0.copy()\n",
    "\n",
    "# dat = dat[(dat.net_qty > 0) & (dat.season.isin(['FW15', 'FW16', 'FW17', 'FW18', 'FW19']))].round()\n",
    "\n",
    "dat = dat[(dat.net_qty > 0) & (dat.season.isin(['SS17', 'SS18', 'SS19']))] # 'SS15', 'SS16', "
   ]
  },
  {
   "cell_type": "code",
   "execution_count": null,
   "metadata": {
    "ExecuteTime": {
     "end_time": "2019-10-29T10:51:46.480526Z",
     "start_time": "2019-10-29T10:51:46.106904Z"
    },
    "hideCode": false,
    "hidePrompt": false,
    "scrolled": true
   },
   "outputs": [],
   "source": [
    "SS19 = pd.read_excel('data/ecom_SS19.xlsx').dropna()\n",
    "SS19.shape\n",
    "\n",
    "SS19 = SS19[SS19.carryover_FW18 == 'NO'] # new articles only\n"
   ]
  },
  {
   "cell_type": "code",
   "execution_count": 17,
   "metadata": {
    "ExecuteTime": {
     "end_time": "2019-10-30T14:42:38.733059Z",
     "start_time": "2019-10-30T14:41:55.128314Z"
    },
    "hideCode": false
   },
   "outputs": [
    {
     "name": "stderr",
     "output_type": "stream",
     "text": [
      "/usr/local/anaconda3/lib/python3.7/site-packages/ipykernel_launcher.py:5: RuntimeWarning: Mean of empty slice\n",
      "  \"\"\"\n"
     ]
    }
   ],
   "source": [
    "# Within article price, cost, margin averages\n",
    "dat[['price', 'cost', 'margin']] = (\n",
    "    dat.\n",
    "    groupby('article_number', group_keys=False)[['price', 'cost', 'margin']].\n",
    "    transform(lambda x: np.nanmean(x).round(2))\n",
    "             )\n"
   ]
  },
  {
   "cell_type": "code",
   "execution_count": 18,
   "metadata": {
    "ExecuteTime": {
     "end_time": "2019-10-30T14:42:38.903407Z",
     "start_time": "2019-10-30T14:42:38.735037Z"
    },
    "hideCode": false
   },
   "outputs": [],
   "source": [
    "# Remove articles where 'price = NA' in all transactions\n",
    "dat = dat[~dat.price.isna()]\n"
   ]
  },
  {
   "cell_type": "code",
   "execution_count": null,
   "metadata": {
    "ExecuteTime": {
     "end_time": "2019-10-29T11:30:50.182160Z",
     "start_time": "2019-10-29T11:30:50.154633Z"
    },
    "hideCode": true
   },
   "outputs": [],
   "source": [
    "dat.buy_availability.isna().sum()\n",
    "(dat.buy_availability == 0).sum()"
   ]
  },
  {
   "cell_type": "code",
   "execution_count": 19,
   "metadata": {
    "ExecuteTime": {
     "end_time": "2019-10-30T14:42:39.410625Z",
     "start_time": "2019-10-30T14:42:38.904660Z"
    },
    "hideCode": false
   },
   "outputs": [],
   "source": [
    "dat = dat.sort_values(['article_number', 'country', 'year', 'week'])\n",
    "\n",
    "# ---- Replace NAs and zeros (w/ no impact replacements) ----\n",
    "dat['buy_availability'] = dat.buy_availability.fillna(1) # assume full availability\n",
    "dat['buy_availability'] = np.where(dat.buy_availability == 0, 1, dat.buy_availability) # replace 0 "
   ]
  },
  {
   "cell_type": "code",
   "execution_count": 21,
   "metadata": {
    "ExecuteTime": {
     "end_time": "2019-10-30T14:44:10.907341Z",
     "start_time": "2019-10-30T14:43:52.921806Z"
    },
    "hideCode": false
   },
   "outputs": [],
   "source": [
    "# ---- Smooth buy_availability ----\n",
    "def roll(df):\n",
    "    return df.rolling(window = 5, min_periods = 1, center = True).mean()\n",
    "\n",
    "# dat['buy_availability3'] = dat.groupby(['article_number', 'country'])['buy_availability3'].apply(roll)\n",
    "dat['buy_availability'] = dat.groupby(['article_number', 'country'])['buy_availability'].apply(roll)\n",
    "\n",
    "# ---- Corrected net_qty ----\n",
    "dat['corr_net_qty'] = (dat.net_qty / dat.buy_availability).round()"
   ]
  },
  {
   "cell_type": "code",
   "execution_count": 22,
   "metadata": {
    "ExecuteTime": {
     "end_time": "2019-10-30T14:44:29.244223Z",
     "start_time": "2019-10-30T14:44:10.909536Z"
    },
    "hideCode": false
   },
   "outputs": [],
   "source": [
    "# corr_season_net_qty = pd.DataFrame(dat.groupby(['article_number', 'season'], group_keys = False)['corr_net_qty'].apply(sum)).reset_index()\n",
    "# dat['avg_buy_availability'] = dat.groupby(['article_number', 'season'])['buy_availability3'].transform(lambda x: np.nanmean(x).round(3))\n",
    "\n",
    "dat['corr_season_net_qty'] = dat.groupby(['article_number', 'season'])['corr_net_qty'].transform(lambda x: np.sum(x))\n",
    "dat['corr_season_net_qty'] = np.where(dat.corr_season_net_qty > dat.season_net_qty, dat.corr_season_net_qty, dat.season_net_qty) # only if >\n",
    "\n",
    "dat['avg_buy_availability'] = dat.groupby(['article_number', 'season'])['buy_availability'].transform(lambda x: np.nanmean(x).round(3))\n",
    "\n"
   ]
  },
  {
   "cell_type": "code",
   "execution_count": 23,
   "metadata": {
    "ExecuteTime": {
     "end_time": "2019-10-30T14:44:29.658223Z",
     "start_time": "2019-10-30T14:44:29.245503Z"
    },
    "hideCode": false
   },
   "outputs": [],
   "source": [
    "\n",
    "dat = (\n",
    "    dat.\n",
    "    sort_values(['article_number', 'season']).\n",
    "    drop_duplicates(subset = 'article_number')\n",
    ")"
   ]
  },
  {
   "cell_type": "code",
   "execution_count": null,
   "metadata": {
    "ExecuteTime": {
     "end_time": "2019-10-29T11:41:48.017219Z",
     "start_time": "2019-10-29T11:41:47.991503Z"
    },
    "hideCode": false
   },
   "outputs": [],
   "source": [
    "dat = dat[['article_number', 'brand', 'season', 'season_net_qty', 'corr_season_net_qty', 'avg_buy_availability', \n",
    "           'art_desc', 'sports_cat_desc', 'rmh_cat_desc', 'franchise', \n",
    "           'gender_desc', 'age_group_desc', 'prod_grp_desc', 'prod_type_desc', \n",
    "           'price', 'cost', 'margin']]\n",
    "\n",
    "\n"
   ]
  },
  {
   "cell_type": "code",
   "execution_count": null,
   "metadata": {
    "ExecuteTime": {
     "end_time": "2019-10-29T11:49:32.760289Z",
     "start_time": "2019-10-29T11:49:32.732595Z"
    },
    "hideCode": false
   },
   "outputs": [],
   "source": [
    "dat = dat.set_index('article_number')\n"
   ]
  },
  {
   "cell_type": "code",
   "execution_count": null,
   "metadata": {
    "ExecuteTime": {
     "end_time": "2019-10-29T11:50:13.383582Z",
     "start_time": "2019-10-29T11:50:13.372805Z"
    }
   },
   "outputs": [],
   "source": [
    "dat.shape\n",
    "dat = dat[dat.corr_season_net_qty > 100]\n",
    "dat.shape"
   ]
  },
  {
   "cell_type": "code",
   "execution_count": null,
   "metadata": {
    "ExecuteTime": {
     "end_time": "2019-10-29T11:52:52.479750Z",
     "start_time": "2019-10-29T11:52:52.473454Z"
    },
    "hideCode": false,
    "hidePrompt": false,
    "scrolled": true
   },
   "outputs": [],
   "source": [
    "# art = np.random.choice(dat.index, size = 500, replace = False)\n",
    "\n",
    "# Just articles new in SS19, with season_net_qty > 200\n",
    "art = set(SS19.article_number).intersection(set(dat.index))\n"
   ]
  },
  {
   "cell_type": "code",
   "execution_count": null,
   "metadata": {
    "ExecuteTime": {
     "end_time": "2019-10-29T11:51:42.085995Z",
     "start_time": "2019-10-29T11:51:42.066161Z"
    }
   },
   "outputs": [],
   "source": [
    "pd.crosstab(index = dat.season, columns = 'count')"
   ]
  },
  {
   "cell_type": "code",
   "execution_count": null,
   "metadata": {
    "ExecuteTime": {
     "end_time": "2019-10-29T12:41:35.303949Z",
     "start_time": "2019-10-29T11:53:00.347055Z"
    },
    "hideCode": true,
    "hidePrompt": false,
    "scrolled": true
   },
   "outputs": [],
   "source": [
    "from itertools import permutations \n",
    "from itertools import combinations\n",
    "\n",
    "d = {}\n",
    "cats = ['sports_cat_desc', 'rmh_cat_desc', 'franchise', 'gender_desc', 'age_group_desc', 'prod_grp_desc', 'prod_type_desc']\n",
    "\n",
    "# Create tidy dataframe, add results to it\n",
    "\n",
    "for a in art:\n",
    "    p = dat.loc[a, 'price']\n",
    "    \n",
    "    net_qtys = pd.Series()\n",
    "    \n",
    "    dat_p = dat[(dat.price >= 0.9*p) & (dat.price <= 1.1*p)]\n",
    "    \n",
    "    for c in cats: \n",
    "        dat_a = dat_p[dat_p[c] == dat_p.loc[a, c]] # filter to that level of that category        \n",
    "        net_qtys = net_qtys.append(dat_a.corr_season_net_qty)\n",
    "    \n",
    "    for c2 in combinations(cats, 2):\n",
    "        dat_a = dat_p[(dat_p[c2[0]] == dat_p.loc[a, c2[0]]) &\n",
    "                      (dat_p[c2[1]] == dat_p.loc[a, c2[1]])]\n",
    "        net_qtys = net_qtys.append(dat_a.corr_season_net_qty)\n",
    "        \n",
    "    for c3 in combinations(cats, 3):\n",
    "        dat_a = dat_p[(dat_p[c3[0]] == dat_p.loc[a, c3[0]]) &\n",
    "                      (dat_p[c3[1]] == dat_p.loc[a, c3[1]]) &\n",
    "                      (dat_p[c3[2]] == dat_p.loc[a, c3[2]])]\n",
    "        net_qtys = net_qtys.append(dat_a.corr_season_net_qty)\n",
    "    \n",
    "    for c4 in combinations(cats, 4):\n",
    "        dat_a = dat_p[(dat_p[c4[0]] == dat_p.loc[a, c4[0]]) &\n",
    "                      (dat_p[c4[1]] == dat_p.loc[a, c4[1]]) &\n",
    "                      (dat_p[c4[2]] == dat_p.loc[a, c4[2]]) &\n",
    "                      (dat_p[c4[3]] == dat_p.loc[a, c4[3]])]\n",
    "        net_qtys = net_qtys.append(dat_a.corr_season_net_qty)\n",
    "    \n",
    "    for c4 in combinations(cats, 5):\n",
    "        dat_a = dat_p[(dat_p[c4[0]] == dat_p.loc[a, c4[0]]) &\n",
    "                      (dat_p[c4[1]] == dat_p.loc[a, c4[1]]) &\n",
    "                      (dat_p[c4[2]] == dat_p.loc[a, c4[2]]) &\n",
    "                      (dat_p[c4[3]] == dat_p.loc[a, c4[3]]) &\n",
    "                      (dat_p[c4[4]] == dat_p.loc[a, c4[4]])]\n",
    "        net_qtys = net_qtys.append(dat_a.corr_season_net_qty)\n",
    "    \n",
    "    for c4 in combinations(cats, 6):\n",
    "        dat_a = dat_p[(dat_p[c4[0]] == dat_p.loc[a, c4[0]]) &\n",
    "                      (dat_p[c4[1]] == dat_p.loc[a, c4[1]]) &\n",
    "                      (dat_p[c4[2]] == dat_p.loc[a, c4[2]]) &\n",
    "                      (dat_p[c4[3]] == dat_p.loc[a, c4[3]]) &\n",
    "                      (dat_p[c4[4]] == dat_p.loc[a, c4[4]]) &\n",
    "                      (dat_p[c4[5]] == dat_p.loc[a, c4[5]])]\n",
    "        net_qtys = net_qtys.append(dat_a.corr_season_net_qty)\n",
    "    \n",
    "    d[a] = {\n",
    "        'mean': net_qtys.mean(),\n",
    "        'max': net_qtys.max(),\n",
    "        '50': np.percentile(net_qtys, 50),\n",
    "        '70': np.percentile(net_qtys, 70),\n",
    "        '80': np.percentile(net_qtys, 80),\n",
    "        '90': np.percentile(net_qtys, 90),\n",
    "        'length': len(net_qtys)\n",
    "           }\n",
    "    if len(d) % 50 == 0:\n",
    "        print(len(d))\n",
    "        \n",
    "        "
   ]
  },
  {
   "cell_type": "code",
   "execution_count": null,
   "metadata": {
    "ExecuteTime": {
     "end_time": "2019-10-30T12:09:34.570776Z",
     "start_time": "2019-10-30T12:09:34.551307Z"
    },
    "hideCode": false,
    "hidePrompt": false
   },
   "outputs": [],
   "source": [
    "dat_art = dat[dat.index.isin(art)]\n"
   ]
  },
  {
   "cell_type": "code",
   "execution_count": null,
   "metadata": {
    "ExecuteTime": {
     "end_time": "2019-10-29T13:21:53.266013Z",
     "start_time": "2019-10-29T13:21:53.261813Z"
    },
    "hideCode": true,
    "hidePrompt": false,
    "scrolled": true
   },
   "outputs": [],
   "source": [
    "# Profit\n",
    "def P(d, margin, cost, b):\n",
    "    if d > b:    # CANNOT satisfy demand\n",
    "        return b*margin\n",
    "    \n",
    "    elif d <= b: # CAN satisfy demand\n",
    "        return d*margin - (b - d)*cost\n",
    "    \n",
    "    else:\n",
    "        print('Error')"
   ]
  },
  {
   "cell_type": "code",
   "execution_count": null,
   "metadata": {
    "ExecuteTime": {
     "end_time": "2019-10-30T12:17:53.688094Z",
     "start_time": "2019-10-30T12:17:53.676059Z"
    },
    "hideCode": false,
    "hidePrompt": false
   },
   "outputs": [],
   "source": [
    "pct = '90'\n",
    "\n",
    "preds = pd.DataFrame([(a, d[a]['mean'], d[a][pct], d[a]['length']) for a in d.keys()]).round()\n",
    "preds.columns = ('article_number', 'mean', 'pred_pct', 'length')\n",
    "preds = preds.set_index('article_number')"
   ]
  },
  {
   "cell_type": "code",
   "execution_count": null,
   "metadata": {
    "ExecuteTime": {
     "end_time": "2019-10-30T12:10:34.466687Z",
     "start_time": "2019-10-30T12:10:34.462180Z"
    },
    "hideCode": false,
    "hidePrompt": false
   },
   "outputs": [],
   "source": [
    "# preds['pred'] = np.where(preds['length'] < 20000, preds['mean'], preds['pred_pct'])\n"
   ]
  },
  {
   "cell_type": "code",
   "execution_count": null,
   "metadata": {
    "ExecuteTime": {
     "end_time": "2019-10-30T12:10:02.191186Z",
     "start_time": "2019-10-30T12:10:02.183467Z"
    }
   },
   "outputs": [],
   "source": [
    "preds.head()"
   ]
  },
  {
   "cell_type": "code",
   "execution_count": null,
   "metadata": {
    "ExecuteTime": {
     "end_time": "2019-10-30T12:18:03.367606Z",
     "start_time": "2019-10-30T12:18:03.339535Z"
    },
    "hideCode": false,
    "hidePrompt": false,
    "scrolled": true
   },
   "outputs": [],
   "source": [
    "dat_art2 = pd.merge(\n",
    "    dat_art, preds,\n",
    "    left_index=True, right_index=True,how = 'left'\n",
    ")\n",
    "\n",
    "dat_art2 = dat_art2[['season', 'season_net_qty', 'corr_season_net_qty', 'mean', 'pred_pct', 'length', \n",
    "                     # 'pred',\n",
    "                     'art_desc', 'sports_cat_desc', 'rmh_cat_desc', 'franchise', 'gender_desc', 'age_group_desc', 'prod_grp_desc', 'prod_type_desc', 'price', 'margin', 'cost']] # .sort_values('APE', ascending = False)\n",
    "\n",
    "dat_art4 = pd.merge(\n",
    "    dat_art2, SS19[['article_number', 'Ecom_FC_RMA']],\n",
    "    left_index = True, right_on = 'article_number', how = 'left').drop('article_number', axis = 1)\n"
   ]
  },
  {
   "cell_type": "code",
   "execution_count": null,
   "metadata": {
    "ExecuteTime": {
     "end_time": "2019-10-30T12:18:09.195756Z",
     "start_time": "2019-10-30T12:18:08.915947Z"
    },
    "hideCode": false,
    "hidePrompt": false
   },
   "outputs": [],
   "source": [
    "#P(row['season_net_qty'], row['margin'], row['cost'], row['pred'])\n",
    "\n",
    "dat_art4['eCom_profit'] = dat_art4.apply(lambda row: P(row['corr_season_net_qty'], row['margin'], row['cost'], row['Ecom_FC_RMA']), axis=1)\n",
    "dat_art4['DAA_profit_pct']  = dat_art4.apply(lambda row: P(row['corr_season_net_qty'], row['margin'], row['cost'], row['pred_pct']), axis=1)\n",
    "\n",
    "# dat_art4['DAA_profit_pred']  = dat_art4.apply(lambda row: P(row['corr_season_net_qty'], row['margin'], row['cost'], row['pred']), axis=1)\n",
    "\n",
    "# dat_art4['DAA_profit_m']  = dat_art4.apply(lambda row: P(row['corr_season_net_qty'], row['margin'], row['cost'], row['mean']), axis=1)\n",
    "\n"
   ]
  },
  {
   "cell_type": "code",
   "execution_count": null,
   "metadata": {
    "ExecuteTime": {
     "end_time": "2019-10-30T12:18:18.095621Z",
     "start_time": "2019-10-30T12:18:18.086252Z"
    },
    "hideCode": false,
    "hidePrompt": false
   },
   "outputs": [],
   "source": [
    "pct\n",
    "dat_art4[(dat_art4.corr_season_net_qty > 500)][['DAA_profit_pct', 'eCom_profit']].sum().round()\n",
    "\n",
    "# '90' # empirical percentile used\n",
    "# DAA_profit_pct     113660189.0\n",
    "# eCom_profit        112574442.0\n",
    "# dtype: float64\n",
    "\n"
   ]
  },
  {
   "cell_type": "code",
   "execution_count": null,
   "metadata": {
    "ExecuteTime": {
     "end_time": "2019-10-30T12:19:39.091021Z",
     "start_time": "2019-10-30T12:19:38.977759Z"
    }
   },
   "outputs": [],
   "source": [
    "dat_art4['diff']  = dat_art4.apply(lambda row: row['pred_pct'] - row['corr_season_net_qty'], axis=1)\n"
   ]
  },
  {
   "cell_type": "code",
   "execution_count": null,
   "metadata": {
    "ExecuteTime": {
     "end_time": "2019-10-30T12:20:18.712922Z",
     "start_time": "2019-10-30T12:20:18.708463Z"
    }
   },
   "outputs": [],
   "source": [
    "dat_art4.columns"
   ]
  },
  {
   "cell_type": "code",
   "execution_count": null,
   "metadata": {
    "ExecuteTime": {
     "end_time": "2019-10-30T12:44:56.216788Z",
     "start_time": "2019-10-30T12:44:56.193120Z"
    }
   },
   "outputs": [],
   "source": [
    "l = np.array([0, 500, 1000, 2000, 5000, 10000, 75000])\n",
    "dat_art4.loc[:,'prediction_bins'] = pd.cut(dat_art4['pred_pct'], bins = l)\n",
    "\n",
    "# p = np.array([0, 50, 100, 150, 200, 300, 1000])\n",
    "# dat_mini.loc[:,'price_bin'] = pd.cut(dat_mini.price, bins = p)\n",
    "\n",
    "dat_art4.groupby('prediction_bins')[['DAA_profit_pct', 'eCom_profit']].apply(np.mean).round()"
   ]
  },
  {
   "cell_type": "code",
   "execution_count": null,
   "metadata": {
    "ExecuteTime": {
     "end_time": "2019-10-30T12:51:49.222066Z",
     "start_time": "2019-10-30T12:51:49.143050Z"
    }
   },
   "outputs": [],
   "source": [
    "dat_art4.groupby('prediction_bins')[['price']].apply(np.mean).round()"
   ]
  },
  {
   "cell_type": "code",
   "execution_count": null,
   "metadata": {
    "ExecuteTime": {
     "end_time": "2019-10-30T12:17:24.166345Z",
     "start_time": "2019-10-30T12:17:23.892272Z"
    }
   },
   "outputs": [],
   "source": [
    "d500['diff'].hist()"
   ]
  },
  {
   "cell_type": "code",
   "execution_count": null,
   "metadata": {
    "ExecuteTime": {
     "end_time": "2019-10-30T12:31:50.201290Z",
     "start_time": "2019-10-30T12:31:49.883832Z"
    }
   },
   "outputs": [],
   "source": [
    "x = 'corr_season_net_qty'\n",
    "y = 'pred_pct'\n",
    "\n",
    "plt.rcParams[\"figure.figsize\"] = [12,6]\n",
    "plt.scatter(dat_art4[x], dat_art4[y], alpha = 0.1)\n",
    "\n",
    "plt.xlabel(x)\n",
    "plt.ylabel(y)\n",
    "\n",
    "x = np.linspace(0, 20000,100)\n",
    "y = x\n",
    "plt.plot(x, y, '-b')\n"
   ]
  },
  {
   "cell_type": "code",
   "execution_count": null,
   "metadata": {
    "ExecuteTime": {
     "end_time": "2019-10-21T13:30:49.155925Z",
     "start_time": "2019-10-21T13:30:48.981965Z"
    },
    "hideCode": false,
    "hidePrompt": false,
    "scrolled": true
   },
   "outputs": [],
   "source": [
    "# Histogram\n",
    "\n",
    "plt.hist(net_qtys, bins = [0, 100, 250, 500, 750, 1000, 1250, 1500, 1750, 2000, 5000], density = True)\n",
    "\n",
    "pass;"
   ]
  },
  {
   "cell_type": "code",
   "execution_count": null,
   "metadata": {
    "ExecuteTime": {
     "end_time": "2019-10-24T09:23:01.010037Z",
     "start_time": "2019-10-24T09:23:00.995799Z"
    },
    "hideCode": false,
    "hidePrompt": false,
    "scrolled": true
   },
   "outputs": [],
   "source": [
    "# Empirical distributions\n",
    "\n",
    "import numpy as np\n",
    "from statsmodels.distributions.empirical_distribution import ECDF\n",
    "\n",
    "ecdf = ECDF(net_qtys)\n",
    "\n",
    "ecdf([100, 500, 1000, 3000])\n",
    "\n",
    "np.percentile(net_qtys, 75)\n",
    "net_qtys.describe()"
   ]
  },
  {
   "cell_type": "markdown",
   "metadata": {
    "hideCode": false,
    "hidePrompt": false
   },
   "source": [
    "# Decision Tree"
   ]
  },
  {
   "cell_type": "code",
   "execution_count": 40,
   "metadata": {
    "ExecuteTime": {
     "end_time": "2019-10-30T14:50:08.399137Z",
     "start_time": "2019-10-30T14:50:08.353014Z"
    }
   },
   "outputs": [],
   "source": [
    "from sklearn.tree import DecisionTreeClassifier\n",
    "from sklearn.model_selection import train_test_split\n",
    "from sklearn.datasets import load_breast_cancer \n"
   ]
  },
  {
   "cell_type": "markdown",
   "metadata": {
    "heading_collapsed": true,
    "hideCode": false,
    "hidePrompt": false
   },
   "source": [
    "## Example"
   ]
  },
  {
   "cell_type": "code",
   "execution_count": null,
   "metadata": {
    "ExecuteTime": {
     "end_time": "2019-10-24T13:18:19.960151Z",
     "start_time": "2019-10-24T13:18:19.936621Z"
    },
    "hidden": true,
    "hideCode": false,
    "hidePrompt": false
   },
   "outputs": [],
   "source": [
    "cancer = load_breast_cancer() \n",
    "\n",
    "print(\"cancer.keys(): \\n{}\".format(cancer.keys()))\n",
    "print()\n",
    "\n",
    "print(\"Shape of cancer data: {}\".format(cancer.data.shape))\n",
    "print()\n",
    "\n",
    "print(\"Sample counts per class:\\n{}\".format(\n",
    "{n: v for n, v in zip(cancer.target_names, np.bincount(cancer.target))}))\n",
    "print()\n",
    "\n",
    "print(\"Feature names:\\n{}\".format(cancer.feature_names))\n",
    "\n"
   ]
  },
  {
   "cell_type": "code",
   "execution_count": null,
   "metadata": {
    "ExecuteTime": {
     "end_time": "2019-10-24T13:32:25.585587Z",
     "start_time": "2019-10-24T13:32:25.580427Z"
    },
    "hidden": true,
    "hideCode": false,
    "hidePrompt": false
   },
   "outputs": [],
   "source": [
    "type(cancer.data)\n",
    "type(cancer.target)"
   ]
  },
  {
   "cell_type": "code",
   "execution_count": null,
   "metadata": {
    "ExecuteTime": {
     "end_time": "2019-10-24T13:16:33.562795Z",
     "start_time": "2019-10-24T13:16:33.525520Z"
    },
    "hidden": true,
    "hideCode": false,
    "hidePrompt": false
   },
   "outputs": [],
   "source": [
    "\n",
    "\n",
    "cancer = load_breast_cancer()\n",
    "\n",
    "X_train, X_test, y_train, y_test = train_test_split(\n",
    "    cancer.data, cancer.target, stratify=cancer.target, random_state=42\n",
    ")"
   ]
  },
  {
   "cell_type": "code",
   "execution_count": null,
   "metadata": {
    "ExecuteTime": {
     "end_time": "2019-10-24T13:32:37.790938Z",
     "start_time": "2019-10-24T13:32:37.787250Z"
    },
    "hidden": true,
    "hideCode": false,
    "hidePrompt": false
   },
   "outputs": [],
   "source": [
    "type(X_train)"
   ]
  },
  {
   "cell_type": "code",
   "execution_count": null,
   "metadata": {
    "ExecuteTime": {
     "end_time": "2019-10-24T13:16:33.562795Z",
     "start_time": "2019-10-24T13:16:33.525520Z"
    },
    "hidden": true,
    "hideCode": false,
    "hidePrompt": false
   },
   "outputs": [],
   "source": [
    "tree = DecisionTreeClassifier(random_state=0)\n",
    "tree.fit(X_train, y_train)\n",
    "\n",
    "print(\"Accuracy on training set: {:.3f}\".format(tree.score(X_train, y_train))) \n",
    "print(\"Accuracy on test set: {:.3f}\".format(tree.score(X_test, y_test)))"
   ]
  },
  {
   "cell_type": "markdown",
   "metadata": {
    "hideCode": false,
    "hidePrompt": false
   },
   "source": [
    "## decision tree article forecasting"
   ]
  },
  {
   "cell_type": "code",
   "execution_count": 4,
   "metadata": {
    "ExecuteTime": {
     "end_time": "2019-10-30T14:38:42.949244Z",
     "start_time": "2019-10-30T14:38:06.862218Z"
    },
    "hideCode": false,
    "hidePrompt": false,
    "scrolled": true
   },
   "outputs": [],
   "source": [
    "dat0 = pd.read_csv('data/ch4k_df.csv')\n",
    "ref_dat0 = pd.read_csv('data/Article reference data.csv', low_memory = False, error_bad_lines = False, \n",
    "                       usecols = ['article_no', 'model_no', 'art_desc', 'sports_cat_desc', 'rmh_cat_desc', \n",
    "                                  'franchise', 'gender_desc', 'age_group_desc', 'prod_grp_desc', 'prod_type_desc',\n",
    "                                  'brand_desc', 'bus_unit_desc', 'rmh_cat_desc'])\n",
    "\n",
    "# Remove clearance transactions!!\n",
    "dat0['clearance'] = dat0.clearance.fillna(0) \n",
    "dat0['net_qty'] = (1 - dat0.clearance)*dat0.net_qty"
   ]
  },
  {
   "cell_type": "code",
   "execution_count": 16,
   "metadata": {
    "ExecuteTime": {
     "end_time": "2019-10-30T14:41:54.534416Z",
     "start_time": "2019-10-30T14:41:52.918897Z"
    },
    "hideCode": false,
    "hidePrompt": false,
    "scrolled": true
   },
   "outputs": [],
   "source": [
    "dat = dat0.copy()\n",
    "\n",
    "# dat = dat[(dat.net_qty > 0) & (dat.season.isin(['FW15', 'FW16', 'FW17', 'FW18', 'FW19']))].round()\n",
    "\n",
    "dat = dat[(dat.net_qty > 0) & (dat.season.isin(['SS17', 'SS18', 'SS19']))] # 'SS15', 'SS16', "
   ]
  },
  {
   "cell_type": "code",
   "execution_count": 28,
   "metadata": {
    "ExecuteTime": {
     "end_time": "2019-10-30T14:46:55.950843Z",
     "start_time": "2019-10-30T14:46:55.579873Z"
    },
    "hideCode": false,
    "hidePrompt": false,
    "scrolled": true
   },
   "outputs": [
    {
     "data": {
      "text/plain": [
       "(7604, 3)"
      ]
     },
     "execution_count": 28,
     "metadata": {},
     "output_type": "execute_result"
    }
   ],
   "source": [
    "SS19 = pd.read_excel('data/ecom_SS19.xlsx').dropna()\n",
    "SS19.shape\n",
    "\n",
    "SS19 = SS19[SS19.carryover_FW18 == 'NO'] # new articles only\n"
   ]
  },
  {
   "cell_type": "code",
   "execution_count": 17,
   "metadata": {
    "ExecuteTime": {
     "end_time": "2019-10-30T14:42:38.733059Z",
     "start_time": "2019-10-30T14:41:55.128314Z"
    },
    "hideCode": false
   },
   "outputs": [
    {
     "name": "stderr",
     "output_type": "stream",
     "text": [
      "/usr/local/anaconda3/lib/python3.7/site-packages/ipykernel_launcher.py:5: RuntimeWarning: Mean of empty slice\n",
      "  \"\"\"\n"
     ]
    }
   ],
   "source": [
    "# Within article price, cost, margin averages\n",
    "dat[['price', 'cost', 'margin']] = (\n",
    "    dat.\n",
    "    groupby('article_number', group_keys=False)[['price', 'cost', 'margin']].\n",
    "    transform(lambda x: np.nanmean(x).round(2))\n",
    "             )\n"
   ]
  },
  {
   "cell_type": "code",
   "execution_count": 18,
   "metadata": {
    "ExecuteTime": {
     "end_time": "2019-10-30T14:42:38.903407Z",
     "start_time": "2019-10-30T14:42:38.735037Z"
    },
    "hideCode": false
   },
   "outputs": [],
   "source": [
    "# Remove articles where 'price = NA' in all transactions\n",
    "dat = dat[~dat.price.isna()]\n"
   ]
  },
  {
   "cell_type": "code",
   "execution_count": 19,
   "metadata": {
    "ExecuteTime": {
     "end_time": "2019-10-30T14:42:39.410625Z",
     "start_time": "2019-10-30T14:42:38.904660Z"
    },
    "hideCode": false
   },
   "outputs": [],
   "source": [
    "dat = dat.sort_values(['article_number', 'country', 'year', 'week'])\n",
    "\n",
    "# ---- Replace NAs and zeros (w/ no impact replacements) ----\n",
    "dat['buy_availability'] = dat.buy_availability.fillna(1) # assume full availability\n",
    "dat['buy_availability'] = np.where(dat.buy_availability == 0, 1, dat.buy_availability) # replace 0 "
   ]
  },
  {
   "cell_type": "code",
   "execution_count": null,
   "metadata": {
    "ExecuteTime": {
     "start_time": "2019-10-30T14:42:16.046Z"
    },
    "hideCode": false
   },
   "outputs": [],
   "source": [
    "# ---- Smooth buy_availability ----\n",
    "def roll(df):\n",
    "    return df.rolling(window = 5, min_periods = 1, center = True).mean()\n",
    "\n",
    "# dat['buy_availability3'] = dat.groupby(['article_number', 'country'])['buy_availability3'].apply(roll)\n",
    "dat['buy_availability'] = dat.groupby(['article_number', 'country'])['buy_availability'].apply(roll)\n",
    "\n",
    "# ---- Corrected net_qty ----\n",
    "dat['corr_net_qty'] = (dat.net_qty / dat.buy_availability).round()"
   ]
  },
  {
   "cell_type": "code",
   "execution_count": null,
   "metadata": {
    "ExecuteTime": {
     "start_time": "2019-10-30T14:42:20.457Z"
    },
    "hideCode": false
   },
   "outputs": [],
   "source": [
    "# corr_season_net_qty = pd.DataFrame(dat.groupby(['article_number', 'season'], group_keys = False)['corr_net_qty'].apply(sum)).reset_index()\n",
    "# dat['avg_buy_availability'] = dat.groupby(['article_number', 'season'])['buy_availability3'].transform(lambda x: np.nanmean(x).round(3))\n",
    "\n",
    "dat['corr_season_net_qty'] = dat.groupby(['article_number', 'season'])['corr_net_qty'].transform(lambda x: np.sum(x))\n",
    "dat['corr_season_net_qty'] = np.where(dat.corr_season_net_qty > dat.season_net_qty, dat.corr_season_net_qty, dat.season_net_qty) # only if >\n",
    "\n",
    "dat['avg_buy_availability'] = dat.groupby(['article_number', 'season'])['buy_availability'].transform(lambda x: np.nanmean(x).round(3))\n",
    "\n"
   ]
  },
  {
   "cell_type": "code",
   "execution_count": null,
   "metadata": {
    "ExecuteTime": {
     "start_time": "2019-10-30T14:42:25.812Z"
    },
    "hideCode": false
   },
   "outputs": [],
   "source": [
    "\n",
    "dat = (\n",
    "    dat.\n",
    "    sort_values(['article_number', 'season']).\n",
    "    drop_duplicates(subset = 'article_number')\n",
    ")"
   ]
  },
  {
   "cell_type": "code",
   "execution_count": 24,
   "metadata": {
    "ExecuteTime": {
     "end_time": "2019-10-30T14:46:23.390529Z",
     "start_time": "2019-10-30T14:46:23.376723Z"
    },
    "hideCode": false
   },
   "outputs": [],
   "source": [
    "dat = dat[['article_number', 'brand', 'season', 'season_net_qty', 'corr_season_net_qty', 'avg_buy_availability', \n",
    "           'art_desc', 'sports_cat_desc', 'rmh_cat_desc', 'franchise', \n",
    "           'gender_desc', 'age_group_desc', 'prod_grp_desc', 'prod_type_desc', \n",
    "           'price', 'cost', 'margin']]\n",
    "\n",
    "\n"
   ]
  },
  {
   "cell_type": "code",
   "execution_count": 25,
   "metadata": {
    "ExecuteTime": {
     "end_time": "2019-10-30T14:46:25.043644Z",
     "start_time": "2019-10-30T14:46:25.017741Z"
    },
    "hideCode": false
   },
   "outputs": [],
   "source": [
    "dat = dat.set_index('article_number')\n"
   ]
  },
  {
   "cell_type": "code",
   "execution_count": 26,
   "metadata": {
    "ExecuteTime": {
     "end_time": "2019-10-30T14:46:27.365388Z",
     "start_time": "2019-10-30T14:46:27.353626Z"
    }
   },
   "outputs": [
    {
     "data": {
      "text/plain": [
       "(30615, 16)"
      ]
     },
     "execution_count": 26,
     "metadata": {},
     "output_type": "execute_result"
    },
    {
     "data": {
      "text/plain": [
       "(15804, 16)"
      ]
     },
     "execution_count": 26,
     "metadata": {},
     "output_type": "execute_result"
    }
   ],
   "source": [
    "dat.shape\n",
    "dat = dat[dat.corr_season_net_qty > 100]\n",
    "dat.shape"
   ]
  },
  {
   "cell_type": "code",
   "execution_count": 29,
   "metadata": {
    "ExecuteTime": {
     "end_time": "2019-10-30T14:47:26.347535Z",
     "start_time": "2019-10-30T14:47:26.341163Z"
    },
    "hideCode": false,
    "hidePrompt": false,
    "scrolled": true
   },
   "outputs": [],
   "source": [
    "# art = np.random.choice(dat.index, size = 500, replace = False)\n",
    "\n",
    "# Just articles new in SS19, with season_net_qty > 200\n",
    "art = set(SS19.article_number).intersection(set(dat.index))\n"
   ]
  },
  {
   "cell_type": "code",
   "execution_count": 31,
   "metadata": {
    "ExecuteTime": {
     "end_time": "2019-10-30T14:47:44.649381Z",
     "start_time": "2019-10-30T14:47:44.643949Z"
    },
    "hideCode": false,
    "hidePrompt": false
   },
   "outputs": [],
   "source": [
    "mini = np.random.choice(dat.index, size = 50, replace = False)\n",
    "dat_mini = dat[dat.index.isin(mini)].copy()"
   ]
  },
  {
   "cell_type": "code",
   "execution_count": 37,
   "metadata": {
    "ExecuteTime": {
     "end_time": "2019-10-30T14:48:22.665607Z",
     "start_time": "2019-10-30T14:48:22.602648Z"
    },
    "hideCode": false,
    "hidePrompt": false
   },
   "outputs": [
    {
     "data": {
      "text/html": [
       "<div>\n",
       "<style scoped>\n",
       "    .dataframe tbody tr th:only-of-type {\n",
       "        vertical-align: middle;\n",
       "    }\n",
       "\n",
       "    .dataframe tbody tr th {\n",
       "        vertical-align: top;\n",
       "    }\n",
       "\n",
       "    .dataframe thead th {\n",
       "        text-align: right;\n",
       "    }\n",
       "</style>\n",
       "<table border=\"1\" class=\"dataframe\">\n",
       "  <thead>\n",
       "    <tr style=\"text-align: right;\">\n",
       "      <th></th>\n",
       "      <th>net_qty_bin</th>\n",
       "      <th>sports_cat_desc</th>\n",
       "      <th>rmh_cat_desc</th>\n",
       "      <th>franchise</th>\n",
       "      <th>gender_desc</th>\n",
       "      <th>age_group_desc</th>\n",
       "      <th>prod_grp_desc</th>\n",
       "      <th>prod_type_desc</th>\n",
       "      <th>price_bin</th>\n",
       "    </tr>\n",
       "    <tr>\n",
       "      <th>article_number</th>\n",
       "      <th></th>\n",
       "      <th></th>\n",
       "      <th></th>\n",
       "      <th></th>\n",
       "      <th></th>\n",
       "      <th></th>\n",
       "      <th></th>\n",
       "      <th></th>\n",
       "      <th></th>\n",
       "    </tr>\n",
       "  </thead>\n",
       "  <tbody>\n",
       "    <tr>\n",
       "      <th>AB3889</th>\n",
       "      <td>(1000, 1500]</td>\n",
       "      <td>ORIGINALS</td>\n",
       "      <td>ORIGINALS</td>\n",
       "      <td>NOT APPLICABLE</td>\n",
       "      <td>UNISEX</td>\n",
       "      <td>ADULT</td>\n",
       "      <td>SOCKS</td>\n",
       "      <td>NO SHOW SOCKS</td>\n",
       "      <td>(0, 50]</td>\n",
       "    </tr>\n",
       "    <tr>\n",
       "      <th>AI5184</th>\n",
       "      <td>(0, 500]</td>\n",
       "      <td>FOOTBALL/SOCCER</td>\n",
       "      <td>FOOTBALL LICENSED</td>\n",
       "      <td>NOT APPLICABLE</td>\n",
       "      <td>MEN</td>\n",
       "      <td>ADULT</td>\n",
       "      <td>JERSEYS</td>\n",
       "      <td>JERSEY (LONG SLEEVE)</td>\n",
       "      <td>(50, 100]</td>\n",
       "    </tr>\n",
       "    <tr>\n",
       "      <th>AI6706</th>\n",
       "      <td>(0, 500]</td>\n",
       "      <td>FOOTBALL/SOCCER</td>\n",
       "      <td>FOOTBALL LICENSED</td>\n",
       "      <td>NOT APPLICABLE</td>\n",
       "      <td>MEN</td>\n",
       "      <td>ADULT</td>\n",
       "      <td>SOCKS</td>\n",
       "      <td>KNEE SOCKS</td>\n",
       "      <td>(0, 50]</td>\n",
       "    </tr>\n",
       "    <tr>\n",
       "      <th>AZ6375</th>\n",
       "      <td>(0, 500]</td>\n",
       "      <td>TRAINING</td>\n",
       "      <td>TRAINING</td>\n",
       "      <td>NOT APPLICABLE</td>\n",
       "      <td>WOMEN</td>\n",
       "      <td>ADULT</td>\n",
       "      <td>SOCKS</td>\n",
       "      <td>KNEE SOCKS</td>\n",
       "      <td>(0, 50]</td>\n",
       "    </tr>\n",
       "    <tr>\n",
       "      <th>AZ9709</th>\n",
       "      <td>(0, 500]</td>\n",
       "      <td>FOOTBALL/SOCCER</td>\n",
       "      <td>FOOTBALL GENERIC</td>\n",
       "      <td>NOT APPLICABLE</td>\n",
       "      <td>MEN</td>\n",
       "      <td>ADULT</td>\n",
       "      <td>PANTS</td>\n",
       "      <td>PANTS (1/1)</td>\n",
       "      <td>(50, 100]</td>\n",
       "    </tr>\n",
       "  </tbody>\n",
       "</table>\n",
       "</div>"
      ],
      "text/plain": [
       "                 net_qty_bin  sports_cat_desc       rmh_cat_desc  \\\n",
       "article_number                                                     \n",
       "AB3889          (1000, 1500]        ORIGINALS          ORIGINALS   \n",
       "AI5184              (0, 500]  FOOTBALL/SOCCER  FOOTBALL LICENSED   \n",
       "AI6706              (0, 500]  FOOTBALL/SOCCER  FOOTBALL LICENSED   \n",
       "AZ6375              (0, 500]         TRAINING           TRAINING   \n",
       "AZ9709              (0, 500]  FOOTBALL/SOCCER   FOOTBALL GENERIC   \n",
       "\n",
       "                     franchise gender_desc age_group_desc prod_grp_desc  \\\n",
       "article_number                                                            \n",
       "AB3889          NOT APPLICABLE      UNISEX          ADULT         SOCKS   \n",
       "AI5184          NOT APPLICABLE         MEN          ADULT       JERSEYS   \n",
       "AI6706          NOT APPLICABLE         MEN          ADULT         SOCKS   \n",
       "AZ6375          NOT APPLICABLE       WOMEN          ADULT         SOCKS   \n",
       "AZ9709          NOT APPLICABLE         MEN          ADULT         PANTS   \n",
       "\n",
       "                      prod_type_desc  price_bin  \n",
       "article_number                                   \n",
       "AB3889                 NO SHOW SOCKS    (0, 50]  \n",
       "AI5184          JERSEY (LONG SLEEVE)  (50, 100]  \n",
       "AI6706                    KNEE SOCKS    (0, 50]  \n",
       "AZ6375                    KNEE SOCKS    (0, 50]  \n",
       "AZ9709                   PANTS (1/1)  (50, 100]  "
      ]
     },
     "execution_count": 37,
     "metadata": {},
     "output_type": "execute_result"
    },
    {
     "data": {
      "text/html": [
       "<div>\n",
       "<style scoped>\n",
       "    .dataframe tbody tr th:only-of-type {\n",
       "        vertical-align: middle;\n",
       "    }\n",
       "\n",
       "    .dataframe tbody tr th {\n",
       "        vertical-align: top;\n",
       "    }\n",
       "\n",
       "    .dataframe thead th {\n",
       "        text-align: right;\n",
       "    }\n",
       "</style>\n",
       "<table border=\"1\" class=\"dataframe\">\n",
       "  <thead>\n",
       "    <tr style=\"text-align: right;\">\n",
       "      <th></th>\n",
       "      <th>net_qty_bin_(0, 500]</th>\n",
       "      <th>net_qty_bin_(500, 1000]</th>\n",
       "      <th>net_qty_bin_(1000, 1500]</th>\n",
       "      <th>net_qty_bin_(1500, 2000]</th>\n",
       "      <th>net_qty_bin_(2000, 3000]</th>\n",
       "      <th>net_qty_bin_(3000, 5000]</th>\n",
       "      <th>net_qty_bin_(5000, 10000]</th>\n",
       "      <th>net_qty_bin_(10000, 50000]</th>\n",
       "      <th>sports_cat_desc_FOOTBALL/SOCCER</th>\n",
       "      <th>sports_cat_desc_GOLF</th>\n",
       "      <th>sports_cat_desc_NOT SPORTS SPECIFIC</th>\n",
       "      <th>sports_cat_desc_ORIGINALS</th>\n",
       "      <th>sports_cat_desc_RUNNING</th>\n",
       "      <th>sports_cat_desc_SKATEBOARDING</th>\n",
       "      <th>sports_cat_desc_STUDIO</th>\n",
       "      <th>sports_cat_desc_SWIM</th>\n",
       "      <th>sports_cat_desc_TENNIS</th>\n",
       "      <th>sports_cat_desc_TRAINING</th>\n",
       "      <th>rmh_cat_desc_ACTION SPORTS</th>\n",
       "      <th>rmh_cat_desc_CLASSICS</th>\n",
       "      <th>rmh_cat_desc_CORE SPORTS</th>\n",
       "      <th>rmh_cat_desc_CORE SPORTS INSPIRED</th>\n",
       "      <th>rmh_cat_desc_FOOTBALL GENERIC</th>\n",
       "      <th>rmh_cat_desc_FOOTBALL LICENSED</th>\n",
       "      <th>rmh_cat_desc_GOLF</th>\n",
       "      <th>rmh_cat_desc_ORIGINALS</th>\n",
       "      <th>rmh_cat_desc_RUNNING</th>\n",
       "      <th>rmh_cat_desc_SLIDE</th>\n",
       "      <th>rmh_cat_desc_SWIM</th>\n",
       "      <th>rmh_cat_desc_TENNIS</th>\n",
       "      <th>rmh_cat_desc_TRAINING</th>\n",
       "      <th>franchise_BARRICADE</th>\n",
       "      <th>franchise_CLUB C</th>\n",
       "      <th>franchise_KRAFT SHORT</th>\n",
       "      <th>franchise_NOT APPLICABLE</th>\n",
       "      <th>franchise_SAMBA</th>\n",
       "      <th>franchise_STAN SMITH</th>\n",
       "      <th>franchise_SUPERSTAR</th>\n",
       "      <th>franchise_X</th>\n",
       "      <th>gender_desc_MEN</th>\n",
       "      <th>gender_desc_UNISEX</th>\n",
       "      <th>gender_desc_WOMEN</th>\n",
       "      <th>age_group_desc_ADULT</th>\n",
       "      <th>age_group_desc_INFANT</th>\n",
       "      <th>age_group_desc_JUNIOR</th>\n",
       "      <th>age_group_desc_KIDS</th>\n",
       "      <th>prod_grp_desc_APPAREL ACCESSORIES</th>\n",
       "      <th>prod_grp_desc_BAGS</th>\n",
       "      <th>prod_grp_desc_JERSEYS</th>\n",
       "      <th>prod_grp_desc_PANTS</th>\n",
       "      <th>prod_grp_desc_SANDALS/SLIPPERS</th>\n",
       "      <th>prod_grp_desc_SHOES</th>\n",
       "      <th>prod_grp_desc_SHORTS</th>\n",
       "      <th>prod_grp_desc_SOCKS</th>\n",
       "      <th>prod_grp_desc_SUITS</th>\n",
       "      <th>prod_grp_desc_SWEATSHIRTS</th>\n",
       "      <th>prod_grp_desc_SWIMWEAR</th>\n",
       "      <th>prod_grp_desc_T-SHIRTS</th>\n",
       "      <th>prod_grp_desc_TIGHTS</th>\n",
       "      <th>prod_grp_desc_TOPS</th>\n",
       "      <th>prod_grp_desc_TRACK TOPS</th>\n",
       "      <th>prod_type_desc_BACKPACK</th>\n",
       "      <th>prod_type_desc_CRIB SHOES</th>\n",
       "      <th>prod_type_desc_DUFFEL</th>\n",
       "      <th>prod_type_desc_FOOTBALL SHOES (ARTIFICIAL GRASS)</th>\n",
       "      <th>prod_type_desc_GRAPHIC TEE (LONG SLEEVE)</th>\n",
       "      <th>prod_type_desc_GRAPHIC TEE (SHORT SLEEVE)</th>\n",
       "      <th>prod_type_desc_HOODED TRACK TOP</th>\n",
       "      <th>prod_type_desc_JERSEY (LONG SLEEVE)</th>\n",
       "      <th>prod_type_desc_JERSEY (SHORT SLEEVE)</th>\n",
       "      <th>prod_type_desc_KNEE SOCKS</th>\n",
       "      <th>prod_type_desc_NO SHOW SOCKS</th>\n",
       "      <th>prod_type_desc_PANTS (1/1)</th>\n",
       "      <th>prod_type_desc_SHOES - LOW (NON FOOTBALL)</th>\n",
       "      <th>prod_type_desc_SHORTS (1/2)</th>\n",
       "      <th>prod_type_desc_SHORTS (1/4)</th>\n",
       "      <th>prod_type_desc_SHOULDER BAG</th>\n",
       "      <th>prod_type_desc_SLIDES</th>\n",
       "      <th>prod_type_desc_SWEATSHIRT (LONG SLEEVE)</th>\n",
       "      <th>prod_type_desc_SWIM SHORTS</th>\n",
       "      <th>prod_type_desc_SWIMSUIT</th>\n",
       "      <th>prod_type_desc_T-SHIRT (SLEEVELESS)</th>\n",
       "      <th>prod_type_desc_TANK</th>\n",
       "      <th>prod_type_desc_TIGHTS (1/1)</th>\n",
       "      <th>prod_type_desc_TRACKSUIT</th>\n",
       "      <th>prod_type_desc_TRACKSUIT JACKET</th>\n",
       "      <th>prod_type_desc_VULCANIZED SHOES LOW</th>\n",
       "      <th>prod_type_desc_WORKOUT BRA - LIGHT SUPPORT</th>\n",
       "      <th>prod_type_desc_WRISTBAND</th>\n",
       "      <th>price_bin_(0, 50]</th>\n",
       "      <th>price_bin_(50, 100]</th>\n",
       "      <th>price_bin_(100, 150]</th>\n",
       "      <th>price_bin_(150, 200]</th>\n",
       "      <th>price_bin_(200, 300]</th>\n",
       "      <th>price_bin_(300, 1000]</th>\n",
       "    </tr>\n",
       "    <tr>\n",
       "      <th>article_number</th>\n",
       "      <th></th>\n",
       "      <th></th>\n",
       "      <th></th>\n",
       "      <th></th>\n",
       "      <th></th>\n",
       "      <th></th>\n",
       "      <th></th>\n",
       "      <th></th>\n",
       "      <th></th>\n",
       "      <th></th>\n",
       "      <th></th>\n",
       "      <th></th>\n",
       "      <th></th>\n",
       "      <th></th>\n",
       "      <th></th>\n",
       "      <th></th>\n",
       "      <th></th>\n",
       "      <th></th>\n",
       "      <th></th>\n",
       "      <th></th>\n",
       "      <th></th>\n",
       "      <th></th>\n",
       "      <th></th>\n",
       "      <th></th>\n",
       "      <th></th>\n",
       "      <th></th>\n",
       "      <th></th>\n",
       "      <th></th>\n",
       "      <th></th>\n",
       "      <th></th>\n",
       "      <th></th>\n",
       "      <th></th>\n",
       "      <th></th>\n",
       "      <th></th>\n",
       "      <th></th>\n",
       "      <th></th>\n",
       "      <th></th>\n",
       "      <th></th>\n",
       "      <th></th>\n",
       "      <th></th>\n",
       "      <th></th>\n",
       "      <th></th>\n",
       "      <th></th>\n",
       "      <th></th>\n",
       "      <th></th>\n",
       "      <th></th>\n",
       "      <th></th>\n",
       "      <th></th>\n",
       "      <th></th>\n",
       "      <th></th>\n",
       "      <th></th>\n",
       "      <th></th>\n",
       "      <th></th>\n",
       "      <th></th>\n",
       "      <th></th>\n",
       "      <th></th>\n",
       "      <th></th>\n",
       "      <th></th>\n",
       "      <th></th>\n",
       "      <th></th>\n",
       "      <th></th>\n",
       "      <th></th>\n",
       "      <th></th>\n",
       "      <th></th>\n",
       "      <th></th>\n",
       "      <th></th>\n",
       "      <th></th>\n",
       "      <th></th>\n",
       "      <th></th>\n",
       "      <th></th>\n",
       "      <th></th>\n",
       "      <th></th>\n",
       "      <th></th>\n",
       "      <th></th>\n",
       "      <th></th>\n",
       "      <th></th>\n",
       "      <th></th>\n",
       "      <th></th>\n",
       "      <th></th>\n",
       "      <th></th>\n",
       "      <th></th>\n",
       "      <th></th>\n",
       "      <th></th>\n",
       "      <th></th>\n",
       "      <th></th>\n",
       "      <th></th>\n",
       "      <th></th>\n",
       "      <th></th>\n",
       "      <th></th>\n",
       "      <th></th>\n",
       "      <th></th>\n",
       "      <th></th>\n",
       "      <th></th>\n",
       "      <th></th>\n",
       "      <th></th>\n",
       "    </tr>\n",
       "  </thead>\n",
       "  <tbody>\n",
       "    <tr>\n",
       "      <th>AB3889</th>\n",
       "      <td>0</td>\n",
       "      <td>0</td>\n",
       "      <td>1</td>\n",
       "      <td>0</td>\n",
       "      <td>0</td>\n",
       "      <td>0</td>\n",
       "      <td>0</td>\n",
       "      <td>0</td>\n",
       "      <td>0</td>\n",
       "      <td>0</td>\n",
       "      <td>0</td>\n",
       "      <td>1</td>\n",
       "      <td>0</td>\n",
       "      <td>0</td>\n",
       "      <td>0</td>\n",
       "      <td>0</td>\n",
       "      <td>0</td>\n",
       "      <td>0</td>\n",
       "      <td>0</td>\n",
       "      <td>0</td>\n",
       "      <td>0</td>\n",
       "      <td>0</td>\n",
       "      <td>0</td>\n",
       "      <td>0</td>\n",
       "      <td>0</td>\n",
       "      <td>1</td>\n",
       "      <td>0</td>\n",
       "      <td>0</td>\n",
       "      <td>0</td>\n",
       "      <td>0</td>\n",
       "      <td>0</td>\n",
       "      <td>0</td>\n",
       "      <td>0</td>\n",
       "      <td>0</td>\n",
       "      <td>1</td>\n",
       "      <td>0</td>\n",
       "      <td>0</td>\n",
       "      <td>0</td>\n",
       "      <td>0</td>\n",
       "      <td>0</td>\n",
       "      <td>1</td>\n",
       "      <td>0</td>\n",
       "      <td>1</td>\n",
       "      <td>0</td>\n",
       "      <td>0</td>\n",
       "      <td>0</td>\n",
       "      <td>0</td>\n",
       "      <td>0</td>\n",
       "      <td>0</td>\n",
       "      <td>0</td>\n",
       "      <td>0</td>\n",
       "      <td>0</td>\n",
       "      <td>0</td>\n",
       "      <td>1</td>\n",
       "      <td>0</td>\n",
       "      <td>0</td>\n",
       "      <td>0</td>\n",
       "      <td>0</td>\n",
       "      <td>0</td>\n",
       "      <td>0</td>\n",
       "      <td>0</td>\n",
       "      <td>0</td>\n",
       "      <td>0</td>\n",
       "      <td>0</td>\n",
       "      <td>0</td>\n",
       "      <td>0</td>\n",
       "      <td>0</td>\n",
       "      <td>0</td>\n",
       "      <td>0</td>\n",
       "      <td>0</td>\n",
       "      <td>0</td>\n",
       "      <td>1</td>\n",
       "      <td>0</td>\n",
       "      <td>0</td>\n",
       "      <td>0</td>\n",
       "      <td>0</td>\n",
       "      <td>0</td>\n",
       "      <td>0</td>\n",
       "      <td>0</td>\n",
       "      <td>0</td>\n",
       "      <td>0</td>\n",
       "      <td>0</td>\n",
       "      <td>0</td>\n",
       "      <td>0</td>\n",
       "      <td>0</td>\n",
       "      <td>0</td>\n",
       "      <td>0</td>\n",
       "      <td>0</td>\n",
       "      <td>0</td>\n",
       "      <td>1</td>\n",
       "      <td>0</td>\n",
       "      <td>0</td>\n",
       "      <td>0</td>\n",
       "      <td>0</td>\n",
       "      <td>0</td>\n",
       "    </tr>\n",
       "    <tr>\n",
       "      <th>AI5184</th>\n",
       "      <td>1</td>\n",
       "      <td>0</td>\n",
       "      <td>0</td>\n",
       "      <td>0</td>\n",
       "      <td>0</td>\n",
       "      <td>0</td>\n",
       "      <td>0</td>\n",
       "      <td>0</td>\n",
       "      <td>1</td>\n",
       "      <td>0</td>\n",
       "      <td>0</td>\n",
       "      <td>0</td>\n",
       "      <td>0</td>\n",
       "      <td>0</td>\n",
       "      <td>0</td>\n",
       "      <td>0</td>\n",
       "      <td>0</td>\n",
       "      <td>0</td>\n",
       "      <td>0</td>\n",
       "      <td>0</td>\n",
       "      <td>0</td>\n",
       "      <td>0</td>\n",
       "      <td>0</td>\n",
       "      <td>1</td>\n",
       "      <td>0</td>\n",
       "      <td>0</td>\n",
       "      <td>0</td>\n",
       "      <td>0</td>\n",
       "      <td>0</td>\n",
       "      <td>0</td>\n",
       "      <td>0</td>\n",
       "      <td>0</td>\n",
       "      <td>0</td>\n",
       "      <td>0</td>\n",
       "      <td>1</td>\n",
       "      <td>0</td>\n",
       "      <td>0</td>\n",
       "      <td>0</td>\n",
       "      <td>0</td>\n",
       "      <td>1</td>\n",
       "      <td>0</td>\n",
       "      <td>0</td>\n",
       "      <td>1</td>\n",
       "      <td>0</td>\n",
       "      <td>0</td>\n",
       "      <td>0</td>\n",
       "      <td>0</td>\n",
       "      <td>0</td>\n",
       "      <td>1</td>\n",
       "      <td>0</td>\n",
       "      <td>0</td>\n",
       "      <td>0</td>\n",
       "      <td>0</td>\n",
       "      <td>0</td>\n",
       "      <td>0</td>\n",
       "      <td>0</td>\n",
       "      <td>0</td>\n",
       "      <td>0</td>\n",
       "      <td>0</td>\n",
       "      <td>0</td>\n",
       "      <td>0</td>\n",
       "      <td>0</td>\n",
       "      <td>0</td>\n",
       "      <td>0</td>\n",
       "      <td>0</td>\n",
       "      <td>0</td>\n",
       "      <td>0</td>\n",
       "      <td>0</td>\n",
       "      <td>1</td>\n",
       "      <td>0</td>\n",
       "      <td>0</td>\n",
       "      <td>0</td>\n",
       "      <td>0</td>\n",
       "      <td>0</td>\n",
       "      <td>0</td>\n",
       "      <td>0</td>\n",
       "      <td>0</td>\n",
       "      <td>0</td>\n",
       "      <td>0</td>\n",
       "      <td>0</td>\n",
       "      <td>0</td>\n",
       "      <td>0</td>\n",
       "      <td>0</td>\n",
       "      <td>0</td>\n",
       "      <td>0</td>\n",
       "      <td>0</td>\n",
       "      <td>0</td>\n",
       "      <td>0</td>\n",
       "      <td>0</td>\n",
       "      <td>0</td>\n",
       "      <td>1</td>\n",
       "      <td>0</td>\n",
       "      <td>0</td>\n",
       "      <td>0</td>\n",
       "      <td>0</td>\n",
       "    </tr>\n",
       "    <tr>\n",
       "      <th>AI6706</th>\n",
       "      <td>1</td>\n",
       "      <td>0</td>\n",
       "      <td>0</td>\n",
       "      <td>0</td>\n",
       "      <td>0</td>\n",
       "      <td>0</td>\n",
       "      <td>0</td>\n",
       "      <td>0</td>\n",
       "      <td>1</td>\n",
       "      <td>0</td>\n",
       "      <td>0</td>\n",
       "      <td>0</td>\n",
       "      <td>0</td>\n",
       "      <td>0</td>\n",
       "      <td>0</td>\n",
       "      <td>0</td>\n",
       "      <td>0</td>\n",
       "      <td>0</td>\n",
       "      <td>0</td>\n",
       "      <td>0</td>\n",
       "      <td>0</td>\n",
       "      <td>0</td>\n",
       "      <td>0</td>\n",
       "      <td>1</td>\n",
       "      <td>0</td>\n",
       "      <td>0</td>\n",
       "      <td>0</td>\n",
       "      <td>0</td>\n",
       "      <td>0</td>\n",
       "      <td>0</td>\n",
       "      <td>0</td>\n",
       "      <td>0</td>\n",
       "      <td>0</td>\n",
       "      <td>0</td>\n",
       "      <td>1</td>\n",
       "      <td>0</td>\n",
       "      <td>0</td>\n",
       "      <td>0</td>\n",
       "      <td>0</td>\n",
       "      <td>1</td>\n",
       "      <td>0</td>\n",
       "      <td>0</td>\n",
       "      <td>1</td>\n",
       "      <td>0</td>\n",
       "      <td>0</td>\n",
       "      <td>0</td>\n",
       "      <td>0</td>\n",
       "      <td>0</td>\n",
       "      <td>0</td>\n",
       "      <td>0</td>\n",
       "      <td>0</td>\n",
       "      <td>0</td>\n",
       "      <td>0</td>\n",
       "      <td>1</td>\n",
       "      <td>0</td>\n",
       "      <td>0</td>\n",
       "      <td>0</td>\n",
       "      <td>0</td>\n",
       "      <td>0</td>\n",
       "      <td>0</td>\n",
       "      <td>0</td>\n",
       "      <td>0</td>\n",
       "      <td>0</td>\n",
       "      <td>0</td>\n",
       "      <td>0</td>\n",
       "      <td>0</td>\n",
       "      <td>0</td>\n",
       "      <td>0</td>\n",
       "      <td>0</td>\n",
       "      <td>0</td>\n",
       "      <td>1</td>\n",
       "      <td>0</td>\n",
       "      <td>0</td>\n",
       "      <td>0</td>\n",
       "      <td>0</td>\n",
       "      <td>0</td>\n",
       "      <td>0</td>\n",
       "      <td>0</td>\n",
       "      <td>0</td>\n",
       "      <td>0</td>\n",
       "      <td>0</td>\n",
       "      <td>0</td>\n",
       "      <td>0</td>\n",
       "      <td>0</td>\n",
       "      <td>0</td>\n",
       "      <td>0</td>\n",
       "      <td>0</td>\n",
       "      <td>0</td>\n",
       "      <td>0</td>\n",
       "      <td>1</td>\n",
       "      <td>0</td>\n",
       "      <td>0</td>\n",
       "      <td>0</td>\n",
       "      <td>0</td>\n",
       "      <td>0</td>\n",
       "    </tr>\n",
       "    <tr>\n",
       "      <th>AZ6375</th>\n",
       "      <td>1</td>\n",
       "      <td>0</td>\n",
       "      <td>0</td>\n",
       "      <td>0</td>\n",
       "      <td>0</td>\n",
       "      <td>0</td>\n",
       "      <td>0</td>\n",
       "      <td>0</td>\n",
       "      <td>0</td>\n",
       "      <td>0</td>\n",
       "      <td>0</td>\n",
       "      <td>0</td>\n",
       "      <td>0</td>\n",
       "      <td>0</td>\n",
       "      <td>0</td>\n",
       "      <td>0</td>\n",
       "      <td>0</td>\n",
       "      <td>1</td>\n",
       "      <td>0</td>\n",
       "      <td>0</td>\n",
       "      <td>0</td>\n",
       "      <td>0</td>\n",
       "      <td>0</td>\n",
       "      <td>0</td>\n",
       "      <td>0</td>\n",
       "      <td>0</td>\n",
       "      <td>0</td>\n",
       "      <td>0</td>\n",
       "      <td>0</td>\n",
       "      <td>0</td>\n",
       "      <td>1</td>\n",
       "      <td>0</td>\n",
       "      <td>0</td>\n",
       "      <td>0</td>\n",
       "      <td>1</td>\n",
       "      <td>0</td>\n",
       "      <td>0</td>\n",
       "      <td>0</td>\n",
       "      <td>0</td>\n",
       "      <td>0</td>\n",
       "      <td>0</td>\n",
       "      <td>1</td>\n",
       "      <td>1</td>\n",
       "      <td>0</td>\n",
       "      <td>0</td>\n",
       "      <td>0</td>\n",
       "      <td>0</td>\n",
       "      <td>0</td>\n",
       "      <td>0</td>\n",
       "      <td>0</td>\n",
       "      <td>0</td>\n",
       "      <td>0</td>\n",
       "      <td>0</td>\n",
       "      <td>1</td>\n",
       "      <td>0</td>\n",
       "      <td>0</td>\n",
       "      <td>0</td>\n",
       "      <td>0</td>\n",
       "      <td>0</td>\n",
       "      <td>0</td>\n",
       "      <td>0</td>\n",
       "      <td>0</td>\n",
       "      <td>0</td>\n",
       "      <td>0</td>\n",
       "      <td>0</td>\n",
       "      <td>0</td>\n",
       "      <td>0</td>\n",
       "      <td>0</td>\n",
       "      <td>0</td>\n",
       "      <td>0</td>\n",
       "      <td>1</td>\n",
       "      <td>0</td>\n",
       "      <td>0</td>\n",
       "      <td>0</td>\n",
       "      <td>0</td>\n",
       "      <td>0</td>\n",
       "      <td>0</td>\n",
       "      <td>0</td>\n",
       "      <td>0</td>\n",
       "      <td>0</td>\n",
       "      <td>0</td>\n",
       "      <td>0</td>\n",
       "      <td>0</td>\n",
       "      <td>0</td>\n",
       "      <td>0</td>\n",
       "      <td>0</td>\n",
       "      <td>0</td>\n",
       "      <td>0</td>\n",
       "      <td>0</td>\n",
       "      <td>1</td>\n",
       "      <td>0</td>\n",
       "      <td>0</td>\n",
       "      <td>0</td>\n",
       "      <td>0</td>\n",
       "      <td>0</td>\n",
       "    </tr>\n",
       "    <tr>\n",
       "      <th>AZ9709</th>\n",
       "      <td>1</td>\n",
       "      <td>0</td>\n",
       "      <td>0</td>\n",
       "      <td>0</td>\n",
       "      <td>0</td>\n",
       "      <td>0</td>\n",
       "      <td>0</td>\n",
       "      <td>0</td>\n",
       "      <td>1</td>\n",
       "      <td>0</td>\n",
       "      <td>0</td>\n",
       "      <td>0</td>\n",
       "      <td>0</td>\n",
       "      <td>0</td>\n",
       "      <td>0</td>\n",
       "      <td>0</td>\n",
       "      <td>0</td>\n",
       "      <td>0</td>\n",
       "      <td>0</td>\n",
       "      <td>0</td>\n",
       "      <td>0</td>\n",
       "      <td>0</td>\n",
       "      <td>1</td>\n",
       "      <td>0</td>\n",
       "      <td>0</td>\n",
       "      <td>0</td>\n",
       "      <td>0</td>\n",
       "      <td>0</td>\n",
       "      <td>0</td>\n",
       "      <td>0</td>\n",
       "      <td>0</td>\n",
       "      <td>0</td>\n",
       "      <td>0</td>\n",
       "      <td>0</td>\n",
       "      <td>1</td>\n",
       "      <td>0</td>\n",
       "      <td>0</td>\n",
       "      <td>0</td>\n",
       "      <td>0</td>\n",
       "      <td>1</td>\n",
       "      <td>0</td>\n",
       "      <td>0</td>\n",
       "      <td>1</td>\n",
       "      <td>0</td>\n",
       "      <td>0</td>\n",
       "      <td>0</td>\n",
       "      <td>0</td>\n",
       "      <td>0</td>\n",
       "      <td>0</td>\n",
       "      <td>1</td>\n",
       "      <td>0</td>\n",
       "      <td>0</td>\n",
       "      <td>0</td>\n",
       "      <td>0</td>\n",
       "      <td>0</td>\n",
       "      <td>0</td>\n",
       "      <td>0</td>\n",
       "      <td>0</td>\n",
       "      <td>0</td>\n",
       "      <td>0</td>\n",
       "      <td>0</td>\n",
       "      <td>0</td>\n",
       "      <td>0</td>\n",
       "      <td>0</td>\n",
       "      <td>0</td>\n",
       "      <td>0</td>\n",
       "      <td>0</td>\n",
       "      <td>0</td>\n",
       "      <td>0</td>\n",
       "      <td>0</td>\n",
       "      <td>0</td>\n",
       "      <td>0</td>\n",
       "      <td>1</td>\n",
       "      <td>0</td>\n",
       "      <td>0</td>\n",
       "      <td>0</td>\n",
       "      <td>0</td>\n",
       "      <td>0</td>\n",
       "      <td>0</td>\n",
       "      <td>0</td>\n",
       "      <td>0</td>\n",
       "      <td>0</td>\n",
       "      <td>0</td>\n",
       "      <td>0</td>\n",
       "      <td>0</td>\n",
       "      <td>0</td>\n",
       "      <td>0</td>\n",
       "      <td>0</td>\n",
       "      <td>0</td>\n",
       "      <td>0</td>\n",
       "      <td>1</td>\n",
       "      <td>0</td>\n",
       "      <td>0</td>\n",
       "      <td>0</td>\n",
       "      <td>0</td>\n",
       "    </tr>\n",
       "  </tbody>\n",
       "</table>\n",
       "</div>"
      ],
      "text/plain": [
       "                net_qty_bin_(0, 500]  net_qty_bin_(500, 1000]  \\\n",
       "article_number                                                  \n",
       "AB3889                             0                        0   \n",
       "AI5184                             1                        0   \n",
       "AI6706                             1                        0   \n",
       "AZ6375                             1                        0   \n",
       "AZ9709                             1                        0   \n",
       "\n",
       "                net_qty_bin_(1000, 1500]  net_qty_bin_(1500, 2000]  \\\n",
       "article_number                                                       \n",
       "AB3889                                 1                         0   \n",
       "AI5184                                 0                         0   \n",
       "AI6706                                 0                         0   \n",
       "AZ6375                                 0                         0   \n",
       "AZ9709                                 0                         0   \n",
       "\n",
       "                net_qty_bin_(2000, 3000]  net_qty_bin_(3000, 5000]  \\\n",
       "article_number                                                       \n",
       "AB3889                                 0                         0   \n",
       "AI5184                                 0                         0   \n",
       "AI6706                                 0                         0   \n",
       "AZ6375                                 0                         0   \n",
       "AZ9709                                 0                         0   \n",
       "\n",
       "                net_qty_bin_(5000, 10000]  net_qty_bin_(10000, 50000]  \\\n",
       "article_number                                                          \n",
       "AB3889                                  0                           0   \n",
       "AI5184                                  0                           0   \n",
       "AI6706                                  0                           0   \n",
       "AZ6375                                  0                           0   \n",
       "AZ9709                                  0                           0   \n",
       "\n",
       "                sports_cat_desc_FOOTBALL/SOCCER  sports_cat_desc_GOLF  \\\n",
       "article_number                                                          \n",
       "AB3889                                        0                     0   \n",
       "AI5184                                        1                     0   \n",
       "AI6706                                        1                     0   \n",
       "AZ6375                                        0                     0   \n",
       "AZ9709                                        1                     0   \n",
       "\n",
       "                sports_cat_desc_NOT SPORTS SPECIFIC  \\\n",
       "article_number                                        \n",
       "AB3889                                            0   \n",
       "AI5184                                            0   \n",
       "AI6706                                            0   \n",
       "AZ6375                                            0   \n",
       "AZ9709                                            0   \n",
       "\n",
       "                sports_cat_desc_ORIGINALS  sports_cat_desc_RUNNING  \\\n",
       "article_number                                                       \n",
       "AB3889                                  1                        0   \n",
       "AI5184                                  0                        0   \n",
       "AI6706                                  0                        0   \n",
       "AZ6375                                  0                        0   \n",
       "AZ9709                                  0                        0   \n",
       "\n",
       "                sports_cat_desc_SKATEBOARDING  sports_cat_desc_STUDIO  \\\n",
       "article_number                                                          \n",
       "AB3889                                      0                       0   \n",
       "AI5184                                      0                       0   \n",
       "AI6706                                      0                       0   \n",
       "AZ6375                                      0                       0   \n",
       "AZ9709                                      0                       0   \n",
       "\n",
       "                sports_cat_desc_SWIM  sports_cat_desc_TENNIS  \\\n",
       "article_number                                                 \n",
       "AB3889                             0                       0   \n",
       "AI5184                             0                       0   \n",
       "AI6706                             0                       0   \n",
       "AZ6375                             0                       0   \n",
       "AZ9709                             0                       0   \n",
       "\n",
       "                sports_cat_desc_TRAINING  rmh_cat_desc_ACTION SPORTS  \\\n",
       "article_number                                                         \n",
       "AB3889                                 0                           0   \n",
       "AI5184                                 0                           0   \n",
       "AI6706                                 0                           0   \n",
       "AZ6375                                 1                           0   \n",
       "AZ9709                                 0                           0   \n",
       "\n",
       "                rmh_cat_desc_CLASSICS  rmh_cat_desc_CORE SPORTS  \\\n",
       "article_number                                                    \n",
       "AB3889                              0                         0   \n",
       "AI5184                              0                         0   \n",
       "AI6706                              0                         0   \n",
       "AZ6375                              0                         0   \n",
       "AZ9709                              0                         0   \n",
       "\n",
       "                rmh_cat_desc_CORE SPORTS INSPIRED  \\\n",
       "article_number                                      \n",
       "AB3889                                          0   \n",
       "AI5184                                          0   \n",
       "AI6706                                          0   \n",
       "AZ6375                                          0   \n",
       "AZ9709                                          0   \n",
       "\n",
       "                rmh_cat_desc_FOOTBALL GENERIC  rmh_cat_desc_FOOTBALL LICENSED  \\\n",
       "article_number                                                                  \n",
       "AB3889                                      0                               0   \n",
       "AI5184                                      0                               1   \n",
       "AI6706                                      0                               1   \n",
       "AZ6375                                      0                               0   \n",
       "AZ9709                                      1                               0   \n",
       "\n",
       "                rmh_cat_desc_GOLF  rmh_cat_desc_ORIGINALS  \\\n",
       "article_number                                              \n",
       "AB3889                          0                       1   \n",
       "AI5184                          0                       0   \n",
       "AI6706                          0                       0   \n",
       "AZ6375                          0                       0   \n",
       "AZ9709                          0                       0   \n",
       "\n",
       "                rmh_cat_desc_RUNNING  rmh_cat_desc_SLIDE  rmh_cat_desc_SWIM  \\\n",
       "article_number                                                                \n",
       "AB3889                             0                   0                  0   \n",
       "AI5184                             0                   0                  0   \n",
       "AI6706                             0                   0                  0   \n",
       "AZ6375                             0                   0                  0   \n",
       "AZ9709                             0                   0                  0   \n",
       "\n",
       "                rmh_cat_desc_TENNIS  rmh_cat_desc_TRAINING  \\\n",
       "article_number                                               \n",
       "AB3889                            0                      0   \n",
       "AI5184                            0                      0   \n",
       "AI6706                            0                      0   \n",
       "AZ6375                            0                      1   \n",
       "AZ9709                            0                      0   \n",
       "\n",
       "                franchise_BARRICADE  franchise_CLUB C  franchise_KRAFT SHORT  \\\n",
       "article_number                                                                 \n",
       "AB3889                            0                 0                      0   \n",
       "AI5184                            0                 0                      0   \n",
       "AI6706                            0                 0                      0   \n",
       "AZ6375                            0                 0                      0   \n",
       "AZ9709                            0                 0                      0   \n",
       "\n",
       "                franchise_NOT APPLICABLE  franchise_SAMBA  \\\n",
       "article_number                                              \n",
       "AB3889                                 1                0   \n",
       "AI5184                                 1                0   \n",
       "AI6706                                 1                0   \n",
       "AZ6375                                 1                0   \n",
       "AZ9709                                 1                0   \n",
       "\n",
       "                franchise_STAN SMITH  franchise_SUPERSTAR  franchise_X  \\\n",
       "article_number                                                           \n",
       "AB3889                             0                    0            0   \n",
       "AI5184                             0                    0            0   \n",
       "AI6706                             0                    0            0   \n",
       "AZ6375                             0                    0            0   \n",
       "AZ9709                             0                    0            0   \n",
       "\n",
       "                gender_desc_MEN  gender_desc_UNISEX  gender_desc_WOMEN  \\\n",
       "article_number                                                           \n",
       "AB3889                        0                   1                  0   \n",
       "AI5184                        1                   0                  0   \n",
       "AI6706                        1                   0                  0   \n",
       "AZ6375                        0                   0                  1   \n",
       "AZ9709                        1                   0                  0   \n",
       "\n",
       "                age_group_desc_ADULT  age_group_desc_INFANT  \\\n",
       "article_number                                                \n",
       "AB3889                             1                      0   \n",
       "AI5184                             1                      0   \n",
       "AI6706                             1                      0   \n",
       "AZ6375                             1                      0   \n",
       "AZ9709                             1                      0   \n",
       "\n",
       "                age_group_desc_JUNIOR  age_group_desc_KIDS  \\\n",
       "article_number                                               \n",
       "AB3889                              0                    0   \n",
       "AI5184                              0                    0   \n",
       "AI6706                              0                    0   \n",
       "AZ6375                              0                    0   \n",
       "AZ9709                              0                    0   \n",
       "\n",
       "                prod_grp_desc_APPAREL ACCESSORIES  prod_grp_desc_BAGS  \\\n",
       "article_number                                                          \n",
       "AB3889                                          0                   0   \n",
       "AI5184                                          0                   0   \n",
       "AI6706                                          0                   0   \n",
       "AZ6375                                          0                   0   \n",
       "AZ9709                                          0                   0   \n",
       "\n",
       "                prod_grp_desc_JERSEYS  prod_grp_desc_PANTS  \\\n",
       "article_number                                               \n",
       "AB3889                              0                    0   \n",
       "AI5184                              1                    0   \n",
       "AI6706                              0                    0   \n",
       "AZ6375                              0                    0   \n",
       "AZ9709                              0                    1   \n",
       "\n",
       "                prod_grp_desc_SANDALS/SLIPPERS  prod_grp_desc_SHOES  \\\n",
       "article_number                                                        \n",
       "AB3889                                       0                    0   \n",
       "AI5184                                       0                    0   \n",
       "AI6706                                       0                    0   \n",
       "AZ6375                                       0                    0   \n",
       "AZ9709                                       0                    0   \n",
       "\n",
       "                prod_grp_desc_SHORTS  prod_grp_desc_SOCKS  \\\n",
       "article_number                                              \n",
       "AB3889                             0                    1   \n",
       "AI5184                             0                    0   \n",
       "AI6706                             0                    1   \n",
       "AZ6375                             0                    1   \n",
       "AZ9709                             0                    0   \n",
       "\n",
       "                prod_grp_desc_SUITS  prod_grp_desc_SWEATSHIRTS  \\\n",
       "article_number                                                   \n",
       "AB3889                            0                          0   \n",
       "AI5184                            0                          0   \n",
       "AI6706                            0                          0   \n",
       "AZ6375                            0                          0   \n",
       "AZ9709                            0                          0   \n",
       "\n",
       "                prod_grp_desc_SWIMWEAR  prod_grp_desc_T-SHIRTS  \\\n",
       "article_number                                                   \n",
       "AB3889                               0                       0   \n",
       "AI5184                               0                       0   \n",
       "AI6706                               0                       0   \n",
       "AZ6375                               0                       0   \n",
       "AZ9709                               0                       0   \n",
       "\n",
       "                prod_grp_desc_TIGHTS  prod_grp_desc_TOPS  \\\n",
       "article_number                                             \n",
       "AB3889                             0                   0   \n",
       "AI5184                             0                   0   \n",
       "AI6706                             0                   0   \n",
       "AZ6375                             0                   0   \n",
       "AZ9709                             0                   0   \n",
       "\n",
       "                prod_grp_desc_TRACK TOPS  prod_type_desc_BACKPACK  \\\n",
       "article_number                                                      \n",
       "AB3889                                 0                        0   \n",
       "AI5184                                 0                        0   \n",
       "AI6706                                 0                        0   \n",
       "AZ6375                                 0                        0   \n",
       "AZ9709                                 0                        0   \n",
       "\n",
       "                prod_type_desc_CRIB SHOES  prod_type_desc_DUFFEL  \\\n",
       "article_number                                                     \n",
       "AB3889                                  0                      0   \n",
       "AI5184                                  0                      0   \n",
       "AI6706                                  0                      0   \n",
       "AZ6375                                  0                      0   \n",
       "AZ9709                                  0                      0   \n",
       "\n",
       "                prod_type_desc_FOOTBALL SHOES (ARTIFICIAL GRASS)  \\\n",
       "article_number                                                     \n",
       "AB3889                                                         0   \n",
       "AI5184                                                         0   \n",
       "AI6706                                                         0   \n",
       "AZ6375                                                         0   \n",
       "AZ9709                                                         0   \n",
       "\n",
       "                prod_type_desc_GRAPHIC TEE (LONG SLEEVE)  \\\n",
       "article_number                                             \n",
       "AB3889                                                 0   \n",
       "AI5184                                                 0   \n",
       "AI6706                                                 0   \n",
       "AZ6375                                                 0   \n",
       "AZ9709                                                 0   \n",
       "\n",
       "                prod_type_desc_GRAPHIC TEE (SHORT SLEEVE)  \\\n",
       "article_number                                              \n",
       "AB3889                                                  0   \n",
       "AI5184                                                  0   \n",
       "AI6706                                                  0   \n",
       "AZ6375                                                  0   \n",
       "AZ9709                                                  0   \n",
       "\n",
       "                prod_type_desc_HOODED TRACK TOP  \\\n",
       "article_number                                    \n",
       "AB3889                                        0   \n",
       "AI5184                                        0   \n",
       "AI6706                                        0   \n",
       "AZ6375                                        0   \n",
       "AZ9709                                        0   \n",
       "\n",
       "                prod_type_desc_JERSEY (LONG SLEEVE)  \\\n",
       "article_number                                        \n",
       "AB3889                                            0   \n",
       "AI5184                                            1   \n",
       "AI6706                                            0   \n",
       "AZ6375                                            0   \n",
       "AZ9709                                            0   \n",
       "\n",
       "                prod_type_desc_JERSEY (SHORT SLEEVE)  \\\n",
       "article_number                                         \n",
       "AB3889                                             0   \n",
       "AI5184                                             0   \n",
       "AI6706                                             0   \n",
       "AZ6375                                             0   \n",
       "AZ9709                                             0   \n",
       "\n",
       "                prod_type_desc_KNEE SOCKS  prod_type_desc_NO SHOW SOCKS  \\\n",
       "article_number                                                            \n",
       "AB3889                                  0                             1   \n",
       "AI5184                                  0                             0   \n",
       "AI6706                                  1                             0   \n",
       "AZ6375                                  1                             0   \n",
       "AZ9709                                  0                             0   \n",
       "\n",
       "                prod_type_desc_PANTS (1/1)  \\\n",
       "article_number                               \n",
       "AB3889                                   0   \n",
       "AI5184                                   0   \n",
       "AI6706                                   0   \n",
       "AZ6375                                   0   \n",
       "AZ9709                                   1   \n",
       "\n",
       "                prod_type_desc_SHOES - LOW (NON FOOTBALL)  \\\n",
       "article_number                                              \n",
       "AB3889                                                  0   \n",
       "AI5184                                                  0   \n",
       "AI6706                                                  0   \n",
       "AZ6375                                                  0   \n",
       "AZ9709                                                  0   \n",
       "\n",
       "                prod_type_desc_SHORTS (1/2)  prod_type_desc_SHORTS (1/4)  \\\n",
       "article_number                                                             \n",
       "AB3889                                    0                            0   \n",
       "AI5184                                    0                            0   \n",
       "AI6706                                    0                            0   \n",
       "AZ6375                                    0                            0   \n",
       "AZ9709                                    0                            0   \n",
       "\n",
       "                prod_type_desc_SHOULDER BAG  prod_type_desc_SLIDES  \\\n",
       "article_number                                                       \n",
       "AB3889                                    0                      0   \n",
       "AI5184                                    0                      0   \n",
       "AI6706                                    0                      0   \n",
       "AZ6375                                    0                      0   \n",
       "AZ9709                                    0                      0   \n",
       "\n",
       "                prod_type_desc_SWEATSHIRT (LONG SLEEVE)  \\\n",
       "article_number                                            \n",
       "AB3889                                                0   \n",
       "AI5184                                                0   \n",
       "AI6706                                                0   \n",
       "AZ6375                                                0   \n",
       "AZ9709                                                0   \n",
       "\n",
       "                prod_type_desc_SWIM SHORTS  prod_type_desc_SWIMSUIT  \\\n",
       "article_number                                                        \n",
       "AB3889                                   0                        0   \n",
       "AI5184                                   0                        0   \n",
       "AI6706                                   0                        0   \n",
       "AZ6375                                   0                        0   \n",
       "AZ9709                                   0                        0   \n",
       "\n",
       "                prod_type_desc_T-SHIRT (SLEEVELESS)  prod_type_desc_TANK  \\\n",
       "article_number                                                             \n",
       "AB3889                                            0                    0   \n",
       "AI5184                                            0                    0   \n",
       "AI6706                                            0                    0   \n",
       "AZ6375                                            0                    0   \n",
       "AZ9709                                            0                    0   \n",
       "\n",
       "                prod_type_desc_TIGHTS (1/1)  prod_type_desc_TRACKSUIT  \\\n",
       "article_number                                                          \n",
       "AB3889                                    0                         0   \n",
       "AI5184                                    0                         0   \n",
       "AI6706                                    0                         0   \n",
       "AZ6375                                    0                         0   \n",
       "AZ9709                                    0                         0   \n",
       "\n",
       "                prod_type_desc_TRACKSUIT JACKET  \\\n",
       "article_number                                    \n",
       "AB3889                                        0   \n",
       "AI5184                                        0   \n",
       "AI6706                                        0   \n",
       "AZ6375                                        0   \n",
       "AZ9709                                        0   \n",
       "\n",
       "                prod_type_desc_VULCANIZED SHOES LOW  \\\n",
       "article_number                                        \n",
       "AB3889                                            0   \n",
       "AI5184                                            0   \n",
       "AI6706                                            0   \n",
       "AZ6375                                            0   \n",
       "AZ9709                                            0   \n",
       "\n",
       "                prod_type_desc_WORKOUT BRA - LIGHT SUPPORT  \\\n",
       "article_number                                               \n",
       "AB3889                                                   0   \n",
       "AI5184                                                   0   \n",
       "AI6706                                                   0   \n",
       "AZ6375                                                   0   \n",
       "AZ9709                                                   0   \n",
       "\n",
       "                prod_type_desc_WRISTBAND  price_bin_(0, 50]  \\\n",
       "article_number                                                \n",
       "AB3889                                 0                  1   \n",
       "AI5184                                 0                  0   \n",
       "AI6706                                 0                  1   \n",
       "AZ6375                                 0                  1   \n",
       "AZ9709                                 0                  0   \n",
       "\n",
       "                price_bin_(50, 100]  price_bin_(100, 150]  \\\n",
       "article_number                                              \n",
       "AB3889                            0                     0   \n",
       "AI5184                            1                     0   \n",
       "AI6706                            0                     0   \n",
       "AZ6375                            0                     0   \n",
       "AZ9709                            1                     0   \n",
       "\n",
       "                price_bin_(150, 200]  price_bin_(200, 300]  \\\n",
       "article_number                                               \n",
       "AB3889                             0                     0   \n",
       "AI5184                             0                     0   \n",
       "AI6706                             0                     0   \n",
       "AZ6375                             0                     0   \n",
       "AZ9709                             0                     0   \n",
       "\n",
       "                price_bin_(300, 1000]  \n",
       "article_number                         \n",
       "AB3889                              0  \n",
       "AI5184                              0  \n",
       "AI6706                              0  \n",
       "AZ6375                              0  \n",
       "AZ9709                              0  "
      ]
     },
     "execution_count": 37,
     "metadata": {},
     "output_type": "execute_result"
    }
   ],
   "source": [
    "# for c in dat_mini.columns:\n",
    "#     print(dat_mini[c].value_counts())\n",
    "\n",
    "dat_mini.head()\n",
    "dat_mini_dummies.head()"
   ]
  },
  {
   "cell_type": "code",
   "execution_count": 33,
   "metadata": {
    "ExecuteTime": {
     "end_time": "2019-10-30T14:47:53.674643Z",
     "start_time": "2019-10-30T14:47:53.658178Z"
    },
    "hideCode": false,
    "hidePrompt": false
   },
   "outputs": [],
   "source": [
    "b = np.array([0, 500, 1000, 1500, 2000, 3000, 5000, 10000, 50000])\n",
    "dat_mini.loc[:,'net_qty_bin'] = pd.cut(dat_mini.season_net_qty, bins = b)\n",
    "\n",
    "p = np.array([0, 50, 100, 150, 200, 300, 1000])\n",
    "dat_mini.loc[:,'price_bin'] = pd.cut(dat_mini.price, bins = p)\n",
    "\n",
    "dat_mini = dat_mini[['net_qty_bin', 'sports_cat_desc',\n",
    "       'rmh_cat_desc', 'franchise', 'gender_desc', 'age_group_desc',\n",
    "       'prod_grp_desc', 'prod_type_desc', 'price_bin']]"
   ]
  },
  {
   "cell_type": "code",
   "execution_count": 35,
   "metadata": {
    "ExecuteTime": {
     "end_time": "2019-10-30T14:48:05.133818Z",
     "start_time": "2019-10-30T14:48:05.113748Z"
    },
    "hideCode": false,
    "hidePrompt": false
   },
   "outputs": [],
   "source": [
    "dat_mini_dummies = pd.get_dummies(dat_mini)"
   ]
  },
  {
   "cell_type": "code",
   "execution_count": 42,
   "metadata": {
    "ExecuteTime": {
     "end_time": "2019-10-30T14:50:44.365586Z",
     "start_time": "2019-10-30T14:50:44.361583Z"
    },
    "hideCode": false,
    "hidePrompt": false
   },
   "outputs": [],
   "source": [
    "X_train, X_test, y_train, y_test = train_test_split(\n",
    "    dat_mini_dummies.values, dat_mini['net_qty_bin'], random_state=42)\n"
   ]
  },
  {
   "cell_type": "code",
   "execution_count": null,
   "metadata": {
    "ExecuteTime": {
     "end_time": "2019-10-24T13:57:26.393801Z",
     "start_time": "2019-10-24T13:57:26.380363Z"
    },
    "hideCode": false,
    "hidePrompt": false
   },
   "outputs": [],
   "source": [
    "type(dat_mini_dummies)\n",
    "type(dat_mini_dummies.values)\n",
    "type(X_train)\n",
    "\n",
    "print()\n",
    "\n",
    "type(dat_mini.net_qty_bin)\n",
    "type(dat_mini['net_qty_bin'])\n",
    "type(dat_mini['net_qty_bin'].values)\n",
    "type(y_train)"
   ]
  },
  {
   "cell_type": "code",
   "execution_count": null,
   "metadata": {
    "ExecuteTime": {
     "end_time": "2019-10-24T13:57:27.291172Z",
     "start_time": "2019-10-24T13:57:27.288828Z"
    },
    "hideCode": false,
    "hidePrompt": false
   },
   "outputs": [],
   "source": [
    "tree = DecisionTreeClassifier(random_state=0)"
   ]
  },
  {
   "cell_type": "code",
   "execution_count": null,
   "metadata": {
    "ExecuteTime": {
     "end_time": "2019-10-24T13:57:27.906894Z",
     "start_time": "2019-10-24T13:57:27.893885Z"
    },
    "hideCode": false,
    "hidePrompt": false
   },
   "outputs": [],
   "source": [
    "tree.fit(X_train, y_train)"
   ]
  },
  {
   "cell_type": "code",
   "execution_count": null,
   "metadata": {
    "ExecuteTime": {
     "end_time": "2019-10-24T13:30:37.622453Z",
     "start_time": "2019-10-24T13:30:37.599400Z"
    },
    "hideCode": false,
    "hidePrompt": false
   },
   "outputs": [],
   "source": [
    "print(\"Accuracy on training set: {:.3f}\".format(tree.score(X_train, y_train))) \n",
    "print(\"Accuracy on test set: {:.3f}\".format(tree.score(X_test, y_test)))"
   ]
  },
  {
   "cell_type": "markdown",
   "metadata": {
    "ExecuteTime": {
     "end_time": "2019-09-11T12:57:41.084348Z",
     "start_time": "2019-09-11T12:57:40.941795Z"
    },
    "heading_collapsed": true,
    "hideCode": false,
    "hidePrompt": false
   },
   "source": [
    "# Optimal Buy"
   ]
  },
  {
   "cell_type": "code",
   "execution_count": null,
   "metadata": {
    "ExecuteTime": {
     "end_time": "2019-10-08T11:06:12.348050Z",
     "start_time": "2019-10-08T11:06:12.077536Z"
    },
    "hidden": true,
    "hideCode": false,
    "hidePrompt": false,
    "scrolled": true
   },
   "outputs": [],
   "source": [
    "# ---- Plot -----\n",
    "# a = np.random.choice(preds.article_number.unique(), size = 1, replace = False)[0]\n",
    "aoi = 'G26535'\n",
    "a = aoi\n",
    "\n",
    "dat_a = preds[preds.article_number == a][['week', 'net_qty', 'corrected', 'y_hat']]\n",
    "        \n",
    "\n",
    "plt.rcParams[\"figure.figsize\"] = [10,7]\n",
    "dat_a.sort_values('week').set_index('week').plot(linewidth = 3)\n",
    "dat_a.sort_values('week').set_index('week').round()\n",
    "\n",
    "dat_a[['net_qty', 'corrected', 'y_hat']].apply(np.sum).round()\n",
    "\n",
    "preds_season.reset_index()[preds_season.index == a]\n",
    "\n",
    "dat_aoi = dat0[dat0.article_number == aoi].copy()\n",
    "\n",
    "dat_aoi = pd.merge(\n",
    "    pd.DataFrame(dat_aoi.groupby(['year', 'week'])['net_qty'].sum()).reset_index(),\n",
    "    dat_aoi[['year', 'week']].drop_duplicates()\n",
    ")\n",
    "\n",
    "dat_aoi.year = [str(x) for x in dat_aoi.year]\n",
    "dat_aoi.week = [str(x) for x in dat_aoi.week]\n",
    "dat_aoi['date'] = [dt.datetime.strptime(x[0] + '-' + x[1] + '-1', \"%Y-%W-%w\") for x in zip(dat_aoi.year, dat_aoi.week)]\n",
    "\n",
    "plt.rcParams[\"figure.figsize\"] = [10,7]\n",
    "dat_aoi[['date', 'net_qty']].set_index('date').plot(linewidth = 4)\n",
    "\n",
    "# dat_aoi"
   ]
  },
  {
   "cell_type": "code",
   "execution_count": null,
   "metadata": {
    "ExecuteTime": {
     "end_time": "2019-10-21T13:31:14.727324Z",
     "start_time": "2019-10-21T13:31:10.341247Z"
    },
    "hidden": true,
    "hideCode": false,
    "hidePrompt": false,
    "scrolled": true
   },
   "outputs": [],
   "source": [
    "dat[dat.index == art[0]][['season', 'season_net_qty', 'sports_cat_desc', 'rmh_cat_desc', 'franchise', 'price', 'margin', 'cost']]\n",
    "\n",
    "minimize_EL(net_qtys, dat.loc[a, 'margin'], dat.loc[a, 'cost'])\n",
    "net_qtys.describe()\n"
   ]
  },
  {
   "cell_type": "code",
   "execution_count": null,
   "metadata": {
    "ExecuteTime": {
     "end_time": "2019-10-18T12:49:10.530147Z",
     "start_time": "2019-10-18T12:49:10.527307Z"
    },
    "hidden": true,
    "hideCode": false,
    "hidePrompt": false,
    "scrolled": true
   },
   "outputs": [],
   "source": [
    "from functools import partial\n",
    "from scipy import optimize\n",
    "from scipy import integrate\n",
    "import scipy.stats as stats"
   ]
  },
  {
   "cell_type": "code",
   "execution_count": null,
   "metadata": {
    "ExecuteTime": {
     "end_time": "2019-10-21T12:34:58.348197Z",
     "start_time": "2019-10-21T12:34:58.342648Z"
    },
    "hidden": true,
    "hideCode": false,
    "hidePrompt": false,
    "scrolled": true
   },
   "outputs": [],
   "source": [
    "# Loss --- demand, buy, margin, cost\n",
    "def L(d, b, margin, cost):\n",
    "    if d > b:    # CANNOT satisfy demand\n",
    "        return (d - b)*margin\n",
    "    \n",
    "    elif d <= b: # CAN satisfy demand\n",
    "        return (b - d)*cost\n",
    "    \n",
    "    else:\n",
    "        print('Error')\n",
    "\n",
    "# E[L | buy, article_mean, article_sd, article_margin, article_cost]\n",
    "def EL(net_qtys, margin, cost, b):\n",
    "    return sum([L(x, b, margin, cost) for x in net_qtys])/len(net_qtys)\n",
    "\n",
    "def minimize_EL(net_qtys, margin, cost):\n",
    "    p = partial(EL, net_qtys, margin, cost) # Make EL function of only one var\n",
    "    mu = np.mean(net_qtys)\n",
    "    buy_opt = optimize.minimize_scalar(p, bounds = (mu, mu + 2*np.std(net_qtys)))\n",
    "    return int(buy_opt['x']) # optimal buy quantity"
   ]
  },
  {
   "cell_type": "code",
   "execution_count": null,
   "metadata": {
    "ExecuteTime": {
     "end_time": "2019-10-21T12:34:58.680023Z",
     "start_time": "2019-10-21T12:34:58.674169Z"
    },
    "hidden": true,
    "hideCode": false,
    "hidePrompt": false,
    "scrolled": true
   },
   "outputs": [],
   "source": [
    "# Profit\n",
    "def P(d, margin, cost, b):\n",
    "    if d > b:    # CANNOT satisfy demand\n",
    "        return b*margin\n",
    "    \n",
    "    elif d <= b: # CAN satisfy demand\n",
    "        return d*margin - (b - d)*cost\n",
    "    \n",
    "    else:\n",
    "        print('Error')\n",
    "\n",
    "def EP(net_qtys, margin, cost, b):\n",
    "    return -sum([P(x, margin, cost, b) for x in net_qtys])Yeah /len(net_qtys) # integral--by rectangle method, each w/ 1/n height\n",
    "\n",
    "def maximize_EP(net_qtys, margin, cost):\n",
    "    p = partial(EP, net_qtys, margin, cost) # Make EL function of only one var\n",
    "    mu = np.mean(net_qtys)\n",
    "    buy_opt = optimize.minimize_scalar(p, bounds = (mu, mu + 2*np.std(net_qtys)))\n",
    "    return int(buy_opt['x']) # optimal buy quantity"
   ]
  },
  {
   "cell_type": "code",
   "execution_count": null,
   "metadata": {
    "ExecuteTime": {
     "end_time": "2019-10-21T13:21:49.823150Z",
     "start_time": "2019-10-21T13:21:49.537691Z"
    },
    "hidden": true,
    "hideCode": false,
    "hidePrompt": false,
    "scrolled": true
   },
   "outputs": [],
   "source": [
    "# one offs\n",
    "\n",
    "# # Minimize Loss\n",
    "# l = partial(EL, net_qtys, 63, 30) # Make EL function of only one var\n",
    "# [print(x, ':', round(l(x))) for x in range(0, 600, 50)]\n",
    "\n",
    "# # Maximize Profit\n",
    "# p = partial(EP, net_qtys, 63, 30)\n",
    "# [print(x, ':', round(p(x))) for x in range(0, 600, 50)]\n",
    "\n",
    "\n",
    "minimize_EL(net_qtys, 6, 2)\n",
    "                          \n",
    "maximize_EP(net_qtys, 6, 2)\n",
    "\n",
    "# HUZZAH!!!!!\n"
   ]
  },
  {
   "cell_type": "code",
   "execution_count": null,
   "metadata": {
    "ExecuteTime": {
     "end_time": "2019-10-09T08:18:01.966364Z",
     "start_time": "2019-10-09T08:18:01.955797Z"
    },
    "hidden": true,
    "hideCode": false,
    "hidePrompt": false,
    "scrolled": true
   },
   "outputs": [],
   "source": [
    "\n",
    "\n",
    "# --- Overbuy statistics ---\n",
    "# preds_season['pct_overbuy'] = (preds_season.Opt_Ovb - preds_season.y_hat)/preds_season.y_hat*100\n",
    "# b = np.array([0, 1000, 2000, 5000, 10000, 50000])\n",
    "# preds_season['bins'] = pd.cut(preds_season.y_hat, bins = b)\n",
    "# preds_season.groupby('bins')['pct_overbuy'].describe().round()\n"
   ]
  },
  {
   "cell_type": "markdown",
   "metadata": {
    "heading_collapsed": true,
    "hideCode": false,
    "hidePrompt": false
   },
   "source": [
    "# Appendix"
   ]
  },
  {
   "cell_type": "code",
   "execution_count": null,
   "metadata": {
    "ExecuteTime": {
     "end_time": "2019-10-24T11:54:54.157177Z",
     "start_time": "2019-10-24T11:54:54.147475Z"
    },
    "hidden": true,
    "hideCode": false,
    "hidePrompt": false
   },
   "outputs": [],
   "source": [
    "dat_art5[dat_art5.pred_90 < dat_art5.season_net_qty].sum()\n",
    "\n",
    "# season_net_qty         227889.0\n",
    "# pred_80                129573.0\n",
    "# Ecom_FC_RMA            252412.0\n",
    "# DAA_profit_pred_80    4725638.0\n",
    "# eCom_profit           6433454.0\n",
    "# diff                  2266284.0\n",
    "# dtype: float64\n",
    "\n",
    "# Comments: \n",
    "    # when we under-forecast... we DRAMATICALLY under-forecast\n",
    "    # HUGE difference in profit\n",
    "\n",
    "dat_art5[dat_art5.pred_90 >= dat_art5.season_net_qty].sum()\n",
    "\n",
    "# season_net_qty         179877.0\n",
    "# pred_80                354269.0\n",
    "# Ecom_FC_RMA            310015.0\n",
    "# DAA_profit_pred_80    4232213.0\n",
    "# eCom_profit           4550809.0\n",
    "# diff                  2017816.0\n",
    "# dtype: float64\n",
    "\n",
    "# Comments: \n",
    "    # in sum, we just slightly over-forecast\n",
    "    # Tiny difference in profit\n",
    "    "
   ]
  },
  {
   "cell_type": "code",
   "execution_count": null,
   "metadata": {
    "hidden": true,
    "hideCode": false,
    "hidePrompt": false
   },
   "outputs": [],
   "source": [
    "## buy_availability correction\n",
    "\n",
    "dat_roll = dat0.copy()\n",
    "\n",
    "dat_roll = dat_roll[(dat_roll.net_qty > 0) & (dat_roll.season.isin(['SS17', 'SS18', 'SS19']))] # No buy_availability before '17\n",
    "\n",
    "\n",
    "dat_roll = dat_roll[['article_number', 'country', 'season', 'year', 'week', 'net_qty', 'season_net_qty', 'art_desc', 'sports_cat_desc',\n",
    "           'rmh_cat_desc', 'franchise', 'gender_desc', 'age_group_desc',\n",
    "           'prod_grp_desc', 'prod_type_desc', 'price', 'margin', 'cost', 'buy_availability']]\n",
    "\n",
    "dat_roll = dat_roll[dat_roll.season_net_qty > 200]\n",
    "\n",
    "# dat_roll[['price', 'margin', 'cost']] = dat_roll[['price', 'margin', 'cost']] # .fillna(0).astype('int')\n",
    "\n",
    "\n",
    "\n",
    "dat_roll = (\n",
    "    dat_roll[['article_number', 'country', 'season', 'year', 'week', 'net_qty', 'buy_availability']].\n",
    "    sort_values(['article_number', 'country', 'year', 'week'])\n",
    ") \n",
    "\n",
    "\n",
    "dat_roll['buy_availability2'] = dat_roll.buy_availability.fillna(1) # assume full availability\n",
    "dat_roll['buy_availability2'] = np.where(dat_roll.buy_availability2 == 0, 1, dat_roll.buy_availability2) # replace 0 \n",
    "\n",
    "pd.crosstab(index = [dat_roll.season, dat_roll.buy_availability2], columns = 'counts')\n",
    "\n",
    "rollers = np.random.choice(dat_roll.article_number, size = 5, replace = False)\n",
    "\n",
    "dat_roll2 = dat_roll[dat_roll.article_number.isin(rollers)].copy()\n",
    "dat_roll2 = dat_roll2.sort_values(['article_number', 'country', 'season', 'year', 'week'])\n",
    "\n",
    "dat_roll2\n",
    "\n",
    "# Smooth buy_availability\n",
    "\n",
    "# Function\n",
    "def roll(df):\n",
    "    return df.rolling(window = 5, min_periods = 1, center = True).mean()\n",
    "\n",
    "dat_roll2['buy_availability3'] = dat_roll2.groupby(['article_number', 'country'])['buy_availability2'].apply(roll)\n",
    "# dat_roll2['buy_availability3'] = np.where(dat_roll2.buy_availability3 > 0.15, dat_roll2.buy_availability3, 0.15)\n",
    "\n",
    "\n",
    "# Corrected net_qty\n",
    "dat_roll2['corr_net_qty'] = (dat_roll2.net_qty / dat_roll2.buy_availability3).round()\n"
   ]
  },
  {
   "cell_type": "code",
   "execution_count": null,
   "metadata": {
    "ExecuteTime": {
     "end_time": "2019-10-30T10:58:14.378782Z",
     "start_time": "2019-10-30T10:58:14.096829Z"
    },
    "hidden": true,
    "hideCode": false,
    "hidePrompt": false,
    "scrolled": true
   },
   "outputs": [],
   "source": [
    "# for pct in ['pred', 'pred_50', 'pred_60', 'pred_70', 'pred_75', 'pred_80', 'pred_90', 'pred_98']:\n",
    "#     col = 'DAA_profit' + '_' + pct\n",
    "#     dat_art4[col]  = dat_art4.apply(lambda row: P(row['season_net_qty'], row['margin'], row['cost'], row[pct]), axis=1)\n",
    "    \n",
    "                          "
   ]
  }
 ],
 "metadata": {
  "celltoolbar": "Hide code",
  "hide_code_all_hidden": false,
  "kernelspec": {
   "display_name": "Python 3",
   "language": "python",
   "name": "python3"
  },
  "language_info": {
   "codemirror_mode": {
    "name": "ipython",
    "version": 3
   },
   "file_extension": ".py",
   "mimetype": "text/x-python",
   "name": "python",
   "nbconvert_exporter": "python",
   "pygments_lexer": "ipython3",
   "version": "3.7.1"
  }
 },
 "nbformat": 4,
 "nbformat_minor": 2
}
