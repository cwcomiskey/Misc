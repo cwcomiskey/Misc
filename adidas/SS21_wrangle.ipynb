{
 "cells": [
  {
   "cell_type": "code",
   "execution_count": null,
   "metadata": {},
   "outputs": [],
   "source": [
    "import pathlib\n",
    "import os\n",
    "from pyxlsb import open_workbook as open_xlsb"
   ]
  },
  {
   "cell_type": "code",
   "execution_count": null,
   "metadata": {},
   "outputs": [],
   "source": [
    "# Grab all xlsb files\n",
    "\n",
    "p = pathlib.Path('../data/SS21/SS21 Europe Line Lists/')\n",
    "file_list = list(p.glob('**/*'))\n",
    "b_filenames = [f for f in file_list if (os.path.splitext(f)[1] == '.xlsb') & ('~' not in str(f)) ]\n",
    "ids = set()\n",
    "sheet_name = 'EuropeLineList'\n"
   ]
  },
  {
   "cell_type": "code",
   "execution_count": null,
   "metadata": {},
   "outputs": [],
   "source": [
    "for f in b_filenames:\n",
    "    df = []\n",
    "    with open_xlsb(f) as wb:\n",
    "        with wb.get_sheet(sheet_name) as sheet:\n",
    "            rows = sheet.rows()\n",
    "            row = next(rows)\n",
    "            while ‘Article Number’ not in [cell.v for cell in row]:\n",
    "                row = next(rows)\n",
    "            df.append([cell.v for cell in row])\n",
    "            for row in rows:\n",
    "                df.append([cell.v for cell in row])\n",
    "        df = pd.DataFrame(df[1:], columns=df[0])\n",
    "        ids = ids.union(set(df[‘Article Number’].values))\n",
    "        print(f”{len(df[‘Article Number’].values):06d} {len(ids):06d}“)\n",
    "        "
   ]
  },
  {
   "cell_type": "code",
   "execution_count": null,
   "metadata": {},
   "outputs": [],
   "source": [
    "# manually specify the few xlsx files\n",
    "df1 = pd.read_excel(‘../data/SS21/SS21 Europe Line Lists/Europe Line List SS21 SPSP BB.xlsx’, sheet_name = ‘EuropeLineList’)\n",
    "df2 = pd.read_excel(‘../data/SS21/SS21 Europe Line Lists/SS21_Europe linelist_CORE FTW_101219.xlsx’, sheet_name=‘Sheet1’, header = 4 )\n",
    "ids = ids.union(set(df1[‘Article Number’].values))\n",
    "ids = ids.union(set(df2[‘Article Number’].values))\n",
    "pd.DataFrame({‘Article Number’:list(ids)}).to_csv(‘./SS2021_articles.csv’)\n"
   ]
  }
 ],
 "metadata": {
  "kernelspec": {
   "display_name": "Python 3",
   "language": "python",
   "name": "python3"
  },
  "language_info": {
   "codemirror_mode": {
    "name": "ipython",
    "version": 3
   },
   "file_extension": ".py",
   "mimetype": "text/x-python",
   "name": "python",
   "nbconvert_exporter": "python",
   "pygments_lexer": "ipython3",
   "version": "3.7.5"
  }
 },
 "nbformat": 4,
 "nbformat_minor": 2
}
